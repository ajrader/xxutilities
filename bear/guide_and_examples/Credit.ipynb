{
 "cells": [
  {
   "cell_type": "markdown",
   "metadata": {},
   "source": [
    "#Kaggle. Give Me Some Credit"
   ]
  },
  {
   "cell_type": "code",
   "execution_count": 1,
   "metadata": {
    "collapsed": true
   },
   "outputs": [],
   "source": [
    "import numpy as np\n",
    "import pandas as pd\n",
    "raw = pd.read_csv('gimme//cs-training.csv')\n",
    "X = raw.ix[:,2:]\n",
    "X.index = list(raw.ix[:,0])\n",
    "y = raw['SeriousDlqin2yrs']\n",
    "y.index = X.index\n",
    "testraw = pd.read_csv('gimme//cs-test.csv')\n",
    "testX = testraw.ix[:,2:]\n",
    "testX.index = list(testraw.ix[:,0])"
   ]
  },
  {
   "cell_type": "code",
   "execution_count": 10,
   "metadata": {
    "collapsed": false
   },
   "outputs": [
    {
     "data": {
      "text/html": [
       "<div>\n",
       "<table border=\"1\" class=\"dataframe\">\n",
       "  <thead>\n",
       "    <tr style=\"text-align: right;\">\n",
       "      <th></th>\n",
       "      <th>RevolvingUtilizationOfUnsecuredLines</th>\n",
       "      <th>age</th>\n",
       "      <th>NumberOfTime30-59DaysPastDueNotWorse</th>\n",
       "      <th>DebtRatio</th>\n",
       "      <th>MonthlyIncome</th>\n",
       "      <th>NumberOfOpenCreditLinesAndLoans</th>\n",
       "      <th>NumberOfTimes90DaysLate</th>\n",
       "      <th>NumberRealEstateLoansOrLines</th>\n",
       "      <th>NumberOfTime60-89DaysPastDueNotWorse</th>\n",
       "      <th>NumberOfDependents</th>\n",
       "    </tr>\n",
       "  </thead>\n",
       "  <tbody>\n",
       "    <tr>\n",
       "      <th>1</th>\n",
       "      <td>0.766127</td>\n",
       "      <td>45</td>\n",
       "      <td>2</td>\n",
       "      <td>0.802982</td>\n",
       "      <td>9120</td>\n",
       "      <td>13</td>\n",
       "      <td>0</td>\n",
       "      <td>6</td>\n",
       "      <td>0</td>\n",
       "      <td>2</td>\n",
       "    </tr>\n",
       "    <tr>\n",
       "      <th>2</th>\n",
       "      <td>0.957151</td>\n",
       "      <td>40</td>\n",
       "      <td>0</td>\n",
       "      <td>0.121876</td>\n",
       "      <td>2600</td>\n",
       "      <td>4</td>\n",
       "      <td>0</td>\n",
       "      <td>0</td>\n",
       "      <td>0</td>\n",
       "      <td>1</td>\n",
       "    </tr>\n",
       "    <tr>\n",
       "      <th>3</th>\n",
       "      <td>0.658180</td>\n",
       "      <td>38</td>\n",
       "      <td>1</td>\n",
       "      <td>0.085113</td>\n",
       "      <td>3042</td>\n",
       "      <td>2</td>\n",
       "      <td>1</td>\n",
       "      <td>0</td>\n",
       "      <td>0</td>\n",
       "      <td>0</td>\n",
       "    </tr>\n",
       "    <tr>\n",
       "      <th>4</th>\n",
       "      <td>0.233810</td>\n",
       "      <td>30</td>\n",
       "      <td>0</td>\n",
       "      <td>0.036050</td>\n",
       "      <td>3300</td>\n",
       "      <td>5</td>\n",
       "      <td>0</td>\n",
       "      <td>0</td>\n",
       "      <td>0</td>\n",
       "      <td>0</td>\n",
       "    </tr>\n",
       "    <tr>\n",
       "      <th>5</th>\n",
       "      <td>0.907239</td>\n",
       "      <td>49</td>\n",
       "      <td>1</td>\n",
       "      <td>0.024926</td>\n",
       "      <td>63588</td>\n",
       "      <td>7</td>\n",
       "      <td>0</td>\n",
       "      <td>1</td>\n",
       "      <td>0</td>\n",
       "      <td>0</td>\n",
       "    </tr>\n",
       "    <tr>\n",
       "      <th>6</th>\n",
       "      <td>0.213179</td>\n",
       "      <td>74</td>\n",
       "      <td>0</td>\n",
       "      <td>0.375607</td>\n",
       "      <td>3500</td>\n",
       "      <td>3</td>\n",
       "      <td>0</td>\n",
       "      <td>1</td>\n",
       "      <td>0</td>\n",
       "      <td>1</td>\n",
       "    </tr>\n",
       "    <tr>\n",
       "      <th>7</th>\n",
       "      <td>0.305682</td>\n",
       "      <td>57</td>\n",
       "      <td>0</td>\n",
       "      <td>5710.000000</td>\n",
       "      <td>NaN</td>\n",
       "      <td>8</td>\n",
       "      <td>0</td>\n",
       "      <td>3</td>\n",
       "      <td>0</td>\n",
       "      <td>0</td>\n",
       "    </tr>\n",
       "    <tr>\n",
       "      <th>8</th>\n",
       "      <td>0.754464</td>\n",
       "      <td>39</td>\n",
       "      <td>0</td>\n",
       "      <td>0.209940</td>\n",
       "      <td>3500</td>\n",
       "      <td>8</td>\n",
       "      <td>0</td>\n",
       "      <td>0</td>\n",
       "      <td>0</td>\n",
       "      <td>0</td>\n",
       "    </tr>\n",
       "    <tr>\n",
       "      <th>9</th>\n",
       "      <td>0.116951</td>\n",
       "      <td>27</td>\n",
       "      <td>0</td>\n",
       "      <td>46.000000</td>\n",
       "      <td>NaN</td>\n",
       "      <td>2</td>\n",
       "      <td>0</td>\n",
       "      <td>0</td>\n",
       "      <td>0</td>\n",
       "      <td>NaN</td>\n",
       "    </tr>\n",
       "    <tr>\n",
       "      <th>10</th>\n",
       "      <td>0.189169</td>\n",
       "      <td>57</td>\n",
       "      <td>0</td>\n",
       "      <td>0.606291</td>\n",
       "      <td>23684</td>\n",
       "      <td>9</td>\n",
       "      <td>0</td>\n",
       "      <td>4</td>\n",
       "      <td>0</td>\n",
       "      <td>2</td>\n",
       "    </tr>\n",
       "  </tbody>\n",
       "</table>\n",
       "</div>"
      ],
      "text/plain": [
       "    RevolvingUtilizationOfUnsecuredLines  age  \\\n",
       "1                               0.766127   45   \n",
       "2                               0.957151   40   \n",
       "3                               0.658180   38   \n",
       "4                               0.233810   30   \n",
       "5                               0.907239   49   \n",
       "6                               0.213179   74   \n",
       "7                               0.305682   57   \n",
       "8                               0.754464   39   \n",
       "9                               0.116951   27   \n",
       "10                              0.189169   57   \n",
       "\n",
       "    NumberOfTime30-59DaysPastDueNotWorse    DebtRatio  MonthlyIncome  \\\n",
       "1                                      2     0.802982           9120   \n",
       "2                                      0     0.121876           2600   \n",
       "3                                      1     0.085113           3042   \n",
       "4                                      0     0.036050           3300   \n",
       "5                                      1     0.024926          63588   \n",
       "6                                      0     0.375607           3500   \n",
       "7                                      0  5710.000000            NaN   \n",
       "8                                      0     0.209940           3500   \n",
       "9                                      0    46.000000            NaN   \n",
       "10                                     0     0.606291          23684   \n",
       "\n",
       "    NumberOfOpenCreditLinesAndLoans  NumberOfTimes90DaysLate  \\\n",
       "1                                13                        0   \n",
       "2                                 4                        0   \n",
       "3                                 2                        1   \n",
       "4                                 5                        0   \n",
       "5                                 7                        0   \n",
       "6                                 3                        0   \n",
       "7                                 8                        0   \n",
       "8                                 8                        0   \n",
       "9                                 2                        0   \n",
       "10                                9                        0   \n",
       "\n",
       "    NumberRealEstateLoansOrLines  NumberOfTime60-89DaysPastDueNotWorse  \\\n",
       "1                              6                                     0   \n",
       "2                              0                                     0   \n",
       "3                              0                                     0   \n",
       "4                              0                                     0   \n",
       "5                              1                                     0   \n",
       "6                              1                                     0   \n",
       "7                              3                                     0   \n",
       "8                              0                                     0   \n",
       "9                              0                                     0   \n",
       "10                             4                                     0   \n",
       "\n",
       "    NumberOfDependents  \n",
       "1                    2  \n",
       "2                    1  \n",
       "3                    0  \n",
       "4                    0  \n",
       "5                    0  \n",
       "6                    1  \n",
       "7                    0  \n",
       "8                    0  \n",
       "9                  NaN  \n",
       "10                   2  "
      ]
     },
     "execution_count": 10,
     "metadata": {},
     "output_type": "execute_result"
    }
   ],
   "source": [
    "X[0:10]"
   ]
  },
  {
   "cell_type": "code",
   "execution_count": 11,
   "metadata": {
    "collapsed": false
   },
   "outputs": [
    {
     "data": {
      "text/plain": [
       "1     1\n",
       "2     0\n",
       "3     0\n",
       "4     0\n",
       "5     0\n",
       "6     0\n",
       "7     0\n",
       "8     0\n",
       "9     0\n",
       "10    0\n",
       "Name: SeriousDlqin2yrs, dtype: int64"
      ]
     },
     "execution_count": 11,
     "metadata": {},
     "output_type": "execute_result"
    }
   ],
   "source": [
    "y[0:10]"
   ]
  },
  {
   "cell_type": "code",
   "execution_count": 12,
   "metadata": {
    "collapsed": false
   },
   "outputs": [
    {
     "data": {
      "text/html": [
       "<div>\n",
       "<table border=\"1\" class=\"dataframe\">\n",
       "  <thead>\n",
       "    <tr style=\"text-align: right;\">\n",
       "      <th></th>\n",
       "      <th>RevolvingUtilizationOfUnsecuredLines</th>\n",
       "      <th>age</th>\n",
       "      <th>NumberOfTime30-59DaysPastDueNotWorse</th>\n",
       "      <th>DebtRatio</th>\n",
       "      <th>MonthlyIncome</th>\n",
       "      <th>NumberOfOpenCreditLinesAndLoans</th>\n",
       "      <th>NumberOfTimes90DaysLate</th>\n",
       "      <th>NumberRealEstateLoansOrLines</th>\n",
       "      <th>NumberOfTime60-89DaysPastDueNotWorse</th>\n",
       "      <th>NumberOfDependents</th>\n",
       "    </tr>\n",
       "  </thead>\n",
       "  <tbody>\n",
       "    <tr>\n",
       "      <th>1</th>\n",
       "      <td>0.885519</td>\n",
       "      <td>43</td>\n",
       "      <td>0</td>\n",
       "      <td>0.177513</td>\n",
       "      <td>5700</td>\n",
       "      <td>4</td>\n",
       "      <td>0</td>\n",
       "      <td>0</td>\n",
       "      <td>0</td>\n",
       "      <td>0</td>\n",
       "    </tr>\n",
       "    <tr>\n",
       "      <th>2</th>\n",
       "      <td>0.463295</td>\n",
       "      <td>57</td>\n",
       "      <td>0</td>\n",
       "      <td>0.527237</td>\n",
       "      <td>9141</td>\n",
       "      <td>15</td>\n",
       "      <td>0</td>\n",
       "      <td>4</td>\n",
       "      <td>0</td>\n",
       "      <td>2</td>\n",
       "    </tr>\n",
       "    <tr>\n",
       "      <th>3</th>\n",
       "      <td>0.043275</td>\n",
       "      <td>59</td>\n",
       "      <td>0</td>\n",
       "      <td>0.687648</td>\n",
       "      <td>5083</td>\n",
       "      <td>12</td>\n",
       "      <td>0</td>\n",
       "      <td>1</td>\n",
       "      <td>0</td>\n",
       "      <td>2</td>\n",
       "    </tr>\n",
       "    <tr>\n",
       "      <th>4</th>\n",
       "      <td>0.280308</td>\n",
       "      <td>38</td>\n",
       "      <td>1</td>\n",
       "      <td>0.925961</td>\n",
       "      <td>3200</td>\n",
       "      <td>7</td>\n",
       "      <td>0</td>\n",
       "      <td>2</td>\n",
       "      <td>0</td>\n",
       "      <td>0</td>\n",
       "    </tr>\n",
       "    <tr>\n",
       "      <th>5</th>\n",
       "      <td>1.000000</td>\n",
       "      <td>27</td>\n",
       "      <td>0</td>\n",
       "      <td>0.019917</td>\n",
       "      <td>3865</td>\n",
       "      <td>4</td>\n",
       "      <td>0</td>\n",
       "      <td>0</td>\n",
       "      <td>0</td>\n",
       "      <td>1</td>\n",
       "    </tr>\n",
       "    <tr>\n",
       "      <th>6</th>\n",
       "      <td>0.509791</td>\n",
       "      <td>63</td>\n",
       "      <td>0</td>\n",
       "      <td>0.342429</td>\n",
       "      <td>4140</td>\n",
       "      <td>4</td>\n",
       "      <td>0</td>\n",
       "      <td>0</td>\n",
       "      <td>0</td>\n",
       "      <td>1</td>\n",
       "    </tr>\n",
       "    <tr>\n",
       "      <th>7</th>\n",
       "      <td>0.587778</td>\n",
       "      <td>50</td>\n",
       "      <td>0</td>\n",
       "      <td>1048.000000</td>\n",
       "      <td>0</td>\n",
       "      <td>5</td>\n",
       "      <td>0</td>\n",
       "      <td>0</td>\n",
       "      <td>0</td>\n",
       "      <td>3</td>\n",
       "    </tr>\n",
       "    <tr>\n",
       "      <th>8</th>\n",
       "      <td>0.046149</td>\n",
       "      <td>79</td>\n",
       "      <td>1</td>\n",
       "      <td>0.369170</td>\n",
       "      <td>3301</td>\n",
       "      <td>8</td>\n",
       "      <td>0</td>\n",
       "      <td>1</td>\n",
       "      <td>0</td>\n",
       "      <td>1</td>\n",
       "    </tr>\n",
       "    <tr>\n",
       "      <th>9</th>\n",
       "      <td>0.013527</td>\n",
       "      <td>68</td>\n",
       "      <td>0</td>\n",
       "      <td>2024.000000</td>\n",
       "      <td>NaN</td>\n",
       "      <td>4</td>\n",
       "      <td>0</td>\n",
       "      <td>1</td>\n",
       "      <td>0</td>\n",
       "      <td>0</td>\n",
       "    </tr>\n",
       "    <tr>\n",
       "      <th>10</th>\n",
       "      <td>1.000000</td>\n",
       "      <td>23</td>\n",
       "      <td>98</td>\n",
       "      <td>0.000000</td>\n",
       "      <td>0</td>\n",
       "      <td>0</td>\n",
       "      <td>98</td>\n",
       "      <td>0</td>\n",
       "      <td>98</td>\n",
       "      <td>0</td>\n",
       "    </tr>\n",
       "  </tbody>\n",
       "</table>\n",
       "</div>"
      ],
      "text/plain": [
       "    RevolvingUtilizationOfUnsecuredLines  age  \\\n",
       "1                               0.885519   43   \n",
       "2                               0.463295   57   \n",
       "3                               0.043275   59   \n",
       "4                               0.280308   38   \n",
       "5                               1.000000   27   \n",
       "6                               0.509791   63   \n",
       "7                               0.587778   50   \n",
       "8                               0.046149   79   \n",
       "9                               0.013527   68   \n",
       "10                              1.000000   23   \n",
       "\n",
       "    NumberOfTime30-59DaysPastDueNotWorse    DebtRatio  MonthlyIncome  \\\n",
       "1                                      0     0.177513           5700   \n",
       "2                                      0     0.527237           9141   \n",
       "3                                      0     0.687648           5083   \n",
       "4                                      1     0.925961           3200   \n",
       "5                                      0     0.019917           3865   \n",
       "6                                      0     0.342429           4140   \n",
       "7                                      0  1048.000000              0   \n",
       "8                                      1     0.369170           3301   \n",
       "9                                      0  2024.000000            NaN   \n",
       "10                                    98     0.000000              0   \n",
       "\n",
       "    NumberOfOpenCreditLinesAndLoans  NumberOfTimes90DaysLate  \\\n",
       "1                                 4                        0   \n",
       "2                                15                        0   \n",
       "3                                12                        0   \n",
       "4                                 7                        0   \n",
       "5                                 4                        0   \n",
       "6                                 4                        0   \n",
       "7                                 5                        0   \n",
       "8                                 8                        0   \n",
       "9                                 4                        0   \n",
       "10                                0                       98   \n",
       "\n",
       "    NumberRealEstateLoansOrLines  NumberOfTime60-89DaysPastDueNotWorse  \\\n",
       "1                              0                                     0   \n",
       "2                              4                                     0   \n",
       "3                              1                                     0   \n",
       "4                              2                                     0   \n",
       "5                              0                                     0   \n",
       "6                              0                                     0   \n",
       "7                              0                                     0   \n",
       "8                              1                                     0   \n",
       "9                              1                                     0   \n",
       "10                             0                                    98   \n",
       "\n",
       "    NumberOfDependents  \n",
       "1                    0  \n",
       "2                    2  \n",
       "3                    2  \n",
       "4                    0  \n",
       "5                    1  \n",
       "6                    1  \n",
       "7                    3  \n",
       "8                    1  \n",
       "9                    0  \n",
       "10                   0  "
      ]
     },
     "execution_count": 12,
     "metadata": {},
     "output_type": "execute_result"
    }
   ],
   "source": [
    "testX[0:10]"
   ]
  },
  {
   "cell_type": "code",
   "execution_count": 13,
   "metadata": {
    "collapsed": false
   },
   "outputs": [
    {
     "data": {
      "text/plain": [
       "<module 'bear.bear' from 'bear\\bear.pyc'>"
      ]
     },
     "execution_count": 13,
     "metadata": {},
     "output_type": "execute_result"
    }
   ],
   "source": [
    "import bear.bear as br\n",
    "reload(br)"
   ]
  },
  {
   "cell_type": "code",
   "execution_count": 14,
   "metadata": {
    "collapsed": false,
    "scrolled": true
   },
   "outputs": [
    {
     "data": {
      "text/html": [
       "<h1>Initial Analysis</h1>"
      ],
      "text/plain": [
       "<IPython.core.display.HTML object>"
      ]
     },
     "metadata": {},
     "output_type": "display_data"
    },
    {
     "data": {
      "text/html": [
       "<h2>Training data</h2>"
      ],
      "text/plain": [
       "<IPython.core.display.HTML object>"
      ]
     },
     "metadata": {},
     "output_type": "display_data"
    },
    {
     "data": {
      "text/html": [
       "<br>Shape of the data: 150000 rows 10 columns</br>"
      ],
      "text/plain": [
       "<IPython.core.display.HTML object>"
      ]
     },
     "metadata": {},
     "output_type": "display_data"
    },
    {
     "data": {
      "text/html": [
       "<br>Rows to scan: 10000</br>"
      ],
      "text/plain": [
       "<IPython.core.display.HTML object>"
      ]
     },
     "metadata": {},
     "output_type": "display_data"
    },
    {
     "data": {
      "text/html": [
       "<h3>Percentage of missing values</h3>"
      ],
      "text/plain": [
       "<IPython.core.display.HTML object>"
      ]
     },
     "metadata": {},
     "output_type": "display_data"
    },
    {
     "data": {
      "text/html": [
       "<table border=\"1\" class=\"dataframe\">\n",
       "  <thead>\n",
       "    <tr style=\"text-align: right;\">\n",
       "      <th></th>\n",
       "      <th>Percentage</th>\n",
       "    </tr>\n",
       "  </thead>\n",
       "  <tbody>\n",
       "    <tr>\n",
       "      <th>MonthlyIncome</th>\n",
       "      <td>0.200</td>\n",
       "    </tr>\n",
       "    <tr>\n",
       "      <th>NumberOfDependents</th>\n",
       "      <td>0.024</td>\n",
       "    </tr>\n",
       "  </tbody>\n",
       "</table>"
      ],
      "text/plain": [
       "<IPython.core.display.HTML object>"
      ]
     },
     "metadata": {},
     "output_type": "display_data"
    },
    {
     "data": {
      "text/html": [
       "<h3>Description of numeric columns (10 columns in all)</h3>"
      ],
      "text/plain": [
       "<IPython.core.display.HTML object>"
      ]
     },
     "metadata": {},
     "output_type": "display_data"
    },
    {
     "data": {
      "text/html": [
       "<table border=\"1\" class=\"dataframe\">\n",
       "  <thead>\n",
       "    <tr style=\"text-align: right;\">\n",
       "      <th></th>\n",
       "      <th>RevolvingUtilizationOfUnsecuredLines</th>\n",
       "      <th>age</th>\n",
       "      <th>NumberOfTime30-59DaysPastDueNotWorse</th>\n",
       "      <th>DebtRatio</th>\n",
       "      <th>MonthlyIncome</th>\n",
       "      <th>NumberOfOpenCreditLinesAndLoans</th>\n",
       "      <th>NumberOfTimes90DaysLate</th>\n",
       "      <th>NumberRealEstateLoansOrLines</th>\n",
       "      <th>NumberOfTime60-89DaysPastDueNotWorse</th>\n",
       "      <th>NumberOfDependents</th>\n",
       "    </tr>\n",
       "  </thead>\n",
       "  <tbody>\n",
       "    <tr>\n",
       "      <th>count</th>\n",
       "      <td>10000.000000</td>\n",
       "      <td>10000.00000</td>\n",
       "      <td>10000.000000</td>\n",
       "      <td>10000.000000</td>\n",
       "      <td>8005.000000</td>\n",
       "      <td>10000.000000</td>\n",
       "      <td>10000.000000</td>\n",
       "      <td>10000.000000</td>\n",
       "      <td>10000.000000</td>\n",
       "      <td>9756.000000</td>\n",
       "    </tr>\n",
       "    <tr>\n",
       "      <th>mean</th>\n",
       "      <td>7.117125</td>\n",
       "      <td>52.28890</td>\n",
       "      <td>0.433300</td>\n",
       "      <td>350.641706</td>\n",
       "      <td>6754.215116</td>\n",
       "      <td>8.483200</td>\n",
       "      <td>0.285300</td>\n",
       "      <td>1.009100</td>\n",
       "      <td>0.262500</td>\n",
       "      <td>0.751538</td>\n",
       "    </tr>\n",
       "    <tr>\n",
       "      <th>std</th>\n",
       "      <td>271.283717</td>\n",
       "      <td>14.73085</td>\n",
       "      <td>4.414669</td>\n",
       "      <td>1526.097983</td>\n",
       "      <td>12520.948753</td>\n",
       "      <td>5.222954</td>\n",
       "      <td>4.396275</td>\n",
       "      <td>1.133643</td>\n",
       "      <td>4.383756</td>\n",
       "      <td>1.105771</td>\n",
       "    </tr>\n",
       "    <tr>\n",
       "      <th>min</th>\n",
       "      <td>0.000000</td>\n",
       "      <td>0.00000</td>\n",
       "      <td>0.000000</td>\n",
       "      <td>0.000000</td>\n",
       "      <td>0.000000</td>\n",
       "      <td>0.000000</td>\n",
       "      <td>0.000000</td>\n",
       "      <td>0.000000</td>\n",
       "      <td>0.000000</td>\n",
       "      <td>0.000000</td>\n",
       "    </tr>\n",
       "    <tr>\n",
       "      <th>25%</th>\n",
       "      <td>0.030418</td>\n",
       "      <td>41.00000</td>\n",
       "      <td>0.000000</td>\n",
       "      <td>0.173834</td>\n",
       "      <td>3400.000000</td>\n",
       "      <td>5.000000</td>\n",
       "      <td>0.000000</td>\n",
       "      <td>0.000000</td>\n",
       "      <td>0.000000</td>\n",
       "      <td>0.000000</td>\n",
       "    </tr>\n",
       "    <tr>\n",
       "      <th>50%</th>\n",
       "      <td>0.160685</td>\n",
       "      <td>52.00000</td>\n",
       "      <td>0.000000</td>\n",
       "      <td>0.359862</td>\n",
       "      <td>5439.000000</td>\n",
       "      <td>8.000000</td>\n",
       "      <td>0.000000</td>\n",
       "      <td>1.000000</td>\n",
       "      <td>0.000000</td>\n",
       "      <td>0.000000</td>\n",
       "    </tr>\n",
       "    <tr>\n",
       "      <th>75%</th>\n",
       "      <td>0.566368</td>\n",
       "      <td>62.25000</td>\n",
       "      <td>0.000000</td>\n",
       "      <td>0.865442</td>\n",
       "      <td>8166.000000</td>\n",
       "      <td>11.000000</td>\n",
       "      <td>0.000000</td>\n",
       "      <td>2.000000</td>\n",
       "      <td>0.000000</td>\n",
       "      <td>1.000000</td>\n",
       "    </tr>\n",
       "    <tr>\n",
       "      <th>max</th>\n",
       "      <td>22000.000000</td>\n",
       "      <td>101.00000</td>\n",
       "      <td>98.000000</td>\n",
       "      <td>101320.000000</td>\n",
       "      <td>835040.000000</td>\n",
       "      <td>50.000000</td>\n",
       "      <td>98.000000</td>\n",
       "      <td>29.000000</td>\n",
       "      <td>98.000000</td>\n",
       "      <td>9.000000</td>\n",
       "    </tr>\n",
       "  </tbody>\n",
       "</table>"
      ],
      "text/plain": [
       "<IPython.core.display.HTML object>"
      ]
     },
     "metadata": {},
     "output_type": "display_data"
    },
    {
     "name": "stdout",
     "output_type": "stream",
     "text": [
      "\n"
     ]
    },
    {
     "data": {
      "text/html": [
       "<h3>Description of categorical columns</h3>"
      ],
      "text/plain": [
       "<IPython.core.display.HTML object>"
      ]
     },
     "metadata": {},
     "output_type": "display_data"
    },
    {
     "data": {
      "text/html": [
       "<h2>Response (y)</h2>"
      ],
      "text/plain": [
       "<IPython.core.display.HTML object>"
      ]
     },
     "metadata": {},
     "output_type": "display_data"
    },
    {
     "data": {
      "text/html": [
       "<h3>Value counts of y</h3>"
      ],
      "text/plain": [
       "<IPython.core.display.HTML object>"
      ]
     },
     "metadata": {},
     "output_type": "display_data"
    },
    {
     "data": {
      "text/html": [
       "<table border=\"1\" class=\"dataframe\">\n",
       "  <thead>\n",
       "    <tr style=\"text-align: right;\">\n",
       "      <th></th>\n",
       "      <th>Counts</th>\n",
       "    </tr>\n",
       "  </thead>\n",
       "  <tbody>\n",
       "    <tr>\n",
       "      <th>0</th>\n",
       "      <td>9346</td>\n",
       "    </tr>\n",
       "    <tr>\n",
       "      <th>1</th>\n",
       "      <td>654</td>\n",
       "    </tr>\n",
       "  </tbody>\n",
       "</table>"
      ],
      "text/plain": [
       "<IPython.core.display.HTML object>"
      ]
     },
     "metadata": {},
     "output_type": "display_data"
    },
    {
     "data": {
      "text/html": [
       "<h3>Correlation coefficients with numeric columns</h3>"
      ],
      "text/plain": [
       "<IPython.core.display.HTML object>"
      ]
     },
     "metadata": {},
     "output_type": "display_data"
    },
    {
     "data": {
      "text/html": [
       "<table border=\"1\" class=\"dataframe\">\n",
       "  <thead>\n",
       "    <tr style=\"text-align: right;\">\n",
       "      <th></th>\n",
       "      <th>corr</th>\n",
       "      <th>p-value</th>\n",
       "    </tr>\n",
       "  </thead>\n",
       "  <tbody>\n",
       "    <tr>\n",
       "      <th>NumberOfTime30-59DaysPastDueNotWorse</th>\n",
       "      <td>0.127052</td>\n",
       "      <td>2.913163e-37</td>\n",
       "    </tr>\n",
       "    <tr>\n",
       "      <th>NumberOfTimes90DaysLate</th>\n",
       "      <td>0.117903</td>\n",
       "      <td>2.728273e-32</td>\n",
       "    </tr>\n",
       "    <tr>\n",
       "      <th>age</th>\n",
       "      <td>-0.108765</td>\n",
       "      <td>1.060832e-27</td>\n",
       "    </tr>\n",
       "    <tr>\n",
       "      <th>NumberOfTime60-89DaysPastDueNotWorse</th>\n",
       "      <td>0.106882</td>\n",
       "      <td>8.419343e-27</td>\n",
       "    </tr>\n",
       "    <tr>\n",
       "      <th>NumberOfDependents</th>\n",
       "      <td>0.050666</td>\n",
       "      <td>5.529360e-07</td>\n",
       "    </tr>\n",
       "    <tr>\n",
       "      <th>NumberOfOpenCreditLinesAndLoans</th>\n",
       "      <td>-0.019053</td>\n",
       "      <td>5.675064e-02</td>\n",
       "    </tr>\n",
       "    <tr>\n",
       "      <th>MonthlyIncome</th>\n",
       "      <td>-0.018037</td>\n",
       "      <td>1.066019e-01</td>\n",
       "    </tr>\n",
       "    <tr>\n",
       "      <th>DebtRatio</th>\n",
       "      <td>-0.016065</td>\n",
       "      <td>1.081888e-01</td>\n",
       "    </tr>\n",
       "    <tr>\n",
       "      <th>NumberRealEstateLoansOrLines</th>\n",
       "      <td>0.012863</td>\n",
       "      <td>1.983864e-01</td>\n",
       "    </tr>\n",
       "    <tr>\n",
       "      <th>RevolvingUtilizationOfUnsecuredLines</th>\n",
       "      <td>-0.006257</td>\n",
       "      <td>5.315387e-01</td>\n",
       "    </tr>\n",
       "  </tbody>\n",
       "</table>"
      ],
      "text/plain": [
       "<IPython.core.display.HTML object>"
      ]
     },
     "metadata": {},
     "output_type": "display_data"
    },
    {
     "data": {
      "text/html": [
       "<h3>Benchmark on a small sample (sample size: 3000)</h3>"
      ],
      "text/plain": [
       "<IPython.core.display.HTML object>"
      ]
     },
     "metadata": {},
     "output_type": "display_data"
    },
    {
     "data": {
      "text/html": [
       "<br>Problem type classification</br>"
      ],
      "text/plain": [
       "<IPython.core.display.HTML object>"
      ]
     },
     "metadata": {},
     "output_type": "display_data"
    },
    {
     "data": {
      "text/html": [
       "<br>C-stat of simple random forest: 0.804</br>"
      ],
      "text/plain": [
       "<IPython.core.display.HTML object>"
      ]
     },
     "metadata": {},
     "output_type": "display_data"
    },
    {
     "data": {
      "image/png": "[encoded data removed]",
      "text/plain": [
       "<matplotlib.figure.Figure at 0x1b0eac18>"
      ]
     },
     "metadata": {},
     "output_type": "display_data"
    },
    {
     "data": {
      "text/html": [
       "<h2>Testing data</h2>"
      ],
      "text/plain": [
       "<IPython.core.display.HTML object>"
      ]
     },
     "metadata": {},
     "output_type": "display_data"
    },
    {
     "data": {
      "text/html": [
       "<br>Shape of the data: 101503 rows 10 columns</br>"
      ],
      "text/plain": [
       "<IPython.core.display.HTML object>"
      ]
     },
     "metadata": {},
     "output_type": "display_data"
    },
    {
     "data": {
      "text/html": [
       "<br>Rows to scan: 10000</br>"
      ],
      "text/plain": [
       "<IPython.core.display.HTML object>"
      ]
     },
     "metadata": {},
     "output_type": "display_data"
    },
    {
     "data": {
      "text/html": [
       "<h3>Percentage of missing values</h3>"
      ],
      "text/plain": [
       "<IPython.core.display.HTML object>"
      ]
     },
     "metadata": {},
     "output_type": "display_data"
    },
    {
     "data": {
      "text/html": [
       "<table border=\"1\" class=\"dataframe\">\n",
       "  <thead>\n",
       "    <tr style=\"text-align: right;\">\n",
       "      <th></th>\n",
       "      <th>Percentage</th>\n",
       "    </tr>\n",
       "  </thead>\n",
       "  <tbody>\n",
       "    <tr>\n",
       "      <th>MonthlyIncome</th>\n",
       "      <td>0.199</td>\n",
       "    </tr>\n",
       "    <tr>\n",
       "      <th>NumberOfDependents</th>\n",
       "      <td>0.026</td>\n",
       "    </tr>\n",
       "  </tbody>\n",
       "</table>"
      ],
      "text/plain": [
       "<IPython.core.display.HTML object>"
      ]
     },
     "metadata": {},
     "output_type": "display_data"
    },
    {
     "data": {
      "text/html": [
       "<h3>Numeric columns</h3>"
      ],
      "text/plain": [
       "<IPython.core.display.HTML object>"
      ]
     },
     "metadata": {},
     "output_type": "display_data"
    },
    {
     "data": {
      "text/html": [
       "<br>Columns having different distribution in training and testing (at 0.05 critical value)</br>"
      ],
      "text/plain": [
       "<IPython.core.display.HTML object>"
      ]
     },
     "metadata": {},
     "output_type": "display_data"
    },
    {
     "name": "stdout",
     "output_type": "stream",
     "text": [
      "[]\n"
     ]
    },
    {
     "data": {
      "text/html": [
       "<h3>Categorical columns</h3>"
      ],
      "text/plain": [
       "<IPython.core.display.HTML object>"
      ]
     },
     "metadata": {},
     "output_type": "display_data"
    },
    {
     "data": {
      "text/html": [
       "<h2>Potential issues</h2>"
      ],
      "text/plain": [
       "<IPython.core.display.HTML object>"
      ]
     },
     "metadata": {},
     "output_type": "display_data"
    },
    {
     "data": {
      "text/html": [
       "<br>Columns with all missing values:</br>"
      ],
      "text/plain": [
       "<IPython.core.display.HTML object>"
      ]
     },
     "metadata": {},
     "output_type": "display_data"
    },
    {
     "name": "stdout",
     "output_type": "stream",
     "text": [
      "[]\n"
     ]
    },
    {
     "data": {
      "text/html": [
       "<br>Columns with only one value:</br>"
      ],
      "text/plain": [
       "<IPython.core.display.HTML object>"
      ]
     },
     "metadata": {},
     "output_type": "display_data"
    },
    {
     "name": "stdout",
     "output_type": "stream",
     "text": [
      "[]\n"
     ]
    },
    {
     "data": {
      "text/html": [
       "<br>Columns with perfect collinearity problem</br>"
      ],
      "text/plain": [
       "<IPython.core.display.HTML object>"
      ]
     },
     "metadata": {},
     "output_type": "display_data"
    },
    {
     "name": "stdout",
     "output_type": "stream",
     "text": [
      "[]\n"
     ]
    },
    {
     "data": {
      "text/html": [
       "<br>Columns having missing values in testing but having not in training</br>"
      ],
      "text/plain": [
       "<IPython.core.display.HTML object>"
      ]
     },
     "metadata": {},
     "output_type": "display_data"
    },
    {
     "name": "stdout",
     "output_type": "stream",
     "text": [
      "[]\n"
     ]
    },
    {
     "data": {
      "text/html": [
       "<br>Columns in training but not in testing</br>"
      ],
      "text/plain": [
       "<IPython.core.display.HTML object>"
      ]
     },
     "metadata": {},
     "output_type": "display_data"
    },
    {
     "name": "stdout",
     "output_type": "stream",
     "text": [
      "[]\n"
     ]
    },
    {
     "data": {
      "text/html": [
       "<br>Columns in testing but not in training</br>"
      ],
      "text/plain": [
       "<IPython.core.display.HTML object>"
      ]
     },
     "metadata": {},
     "output_type": "display_data"
    },
    {
     "name": "stdout",
     "output_type": "stream",
     "text": [
      "[]\n"
     ]
    }
   ],
   "source": [
    "%matplotlib inline\n",
    "br.get_initial_analysis(X, y, testX, random_state=42)"
   ]
  },
  {
   "cell_type": "code",
   "execution_count": 15,
   "metadata": {
    "collapsed": true
   },
   "outputs": [],
   "source": [
    "from sklearn.cross_validation import train_test_split\n",
    "X_train, X_val, y_train, y_val = train_test_split(X, y, test_size=0.33, random_state=42)"
   ]
  },
  {
   "cell_type": "code",
   "execution_count": 16,
   "metadata": {
    "collapsed": true
   },
   "outputs": [],
   "source": [
    "from sklearn.pipeline import Pipeline\n",
    "pipe = Pipeline([(\"imp\", br.ImputeData(rows_to_scan=0.3, columns_to_impute=['MonthlyIncome', 'NumberOfDependents'])),\n",
    "                 (\"log\", br.LogTrans()),\n",
    "                 (\"inter\", br.AddInteraction()),\n",
    "                 (\"modelpred\", br.ModelPredictor())])"
   ]
  },
  {
   "cell_type": "code",
   "execution_count": 17,
   "metadata": {
    "collapsed": true
   },
   "outputs": [],
   "source": [
    "from sklearn.grid_search import RandomizedSearchCV\n",
    "para_RF = {'n_estimators': [200], \"max_depth\": range(2,20), \"max_features\": np.arange(0.1,0.9,0.1), \"n_jobs\":[-1]}\n",
    "para_ExTree = {'n_estimators': [200], \"max_depth\": range(10,30), \"max_features\": np.arange(0.1,0.9,0.1), \"n_jobs\":[-1]}\n",
    "para_LR = {'penalty': ['l1', 'l2'], 'C':np.logspace(-2,0,20)}\n",
    "para_SVC = {'C': np.logspace(-2,0,20), 'probability': [True], 'kernel': ['linear']}\n",
    "para_KNN = {\"n_neighbors\": range(200,400,20), \"weights\" : ['uniform', 'distance']}\n",
    "para_BagTree = {'max_samples': [0.6, 0.7, 0.8, 0.9], 'n_estimators': [200]}\n",
    "para_GBC = {\"max_depth\": range(1,7),\n",
    "         \"min_samples_leaf\": range(2,11),\n",
    "         \"max_features\": np.arange(0.3,0.9,0.1),\n",
    "          'n_estimators': [200],\n",
    "            'loss' : ['deviance', 'exponential']}\n",
    "para_Cali_linear_SVC= {'C': np.logspace(-2,0,20)} \n",
    "\n",
    "rand_num = br.NumberGeneratorForModelPredictor(random_state=422)\n",
    "\n",
    "paras = {\n",
    "    'imp__method': ['mean', 'mode', 'max', 'median', 'knn'], #'linear_reg'],\n",
    "    'log__trans_flag': [True, False],\n",
    "    'inter__add_list': [[], ['RevolvingUtilizationOfUnsecuredLines','DebtRatio', 'MonthlyIncome','age','NumberOfOpenCreditLinesAndLoans']],\n",
    "    'inter__degree': [[2,3], [2]],\n",
    "    'modelpred__modelwithparams': [['RF', para_RF], ['LR', para_LR], \n",
    "                                 ['LDA', {}], ['Cali_linear_SVC', para_Cali_linear_SVC], #['SVC', para_SVC],\n",
    "                                 ['KNN', para_KNN], ['BagTree', para_BagTree],\n",
    "                                 ['ExTree', para_ExTree], ['GBC', para_GBC], ['GaussianNB', {}],  #['MultiNB', {}],\n",
    "                                 ['QDA', {}]],\n",
    "    'modelpred__random_number': rand_num\n",
    "}\n",
    "search = RandomizedSearchCV(pipe, param_distributions=paras, n_iter=50, \n",
    "                            random_state=42, cv=5,scoring='roc_auc', verbose=2)"
   ]
  },
  {
   "cell_type": "code",
   "execution_count": 18,
   "metadata": {
    "collapsed": false
   },
   "outputs": [
    {
     "name": "stdout",
     "output_type": "stream",
     "text": [
      "Fitting 5 folds for each of 50 candidates, totalling 250 fits\n",
      "[CV] modelpred__modelwithparams=['GBC', {'max_features': array([ 0.3,  0.4,  0.5,  0.6,  0.7,  0.8,  0.9]), 'n_estimators': [200], 'loss': ['deviance', 'exponential'], 'max_depth': [1, 2, 3, 4, 5, 6], 'min_samples_leaf': [2, 3, 4, 5, 6, 7, 8, 9, 10]}], inter__add_list=[], imp__method=median, modelpred__random_number=0.247257756749, log__trans_flag=True, inter__degree=[2, 3] \n",
      "[CV]  modelpred__modelwithparams=['GBC', {'max_features': array([ 0.3,  0.4,  0.5,  0.6,  0.7,  0.8,  0.9]), 'n_estimators': [200], 'loss': ['deviance', 'exponential'], 'max_depth': [1, 2, 3, 4, 5, 6], 'min_samples_leaf': [2, 3, 4, 5, 6, 7, 8, 9, 10]}], inter__add_list=[], imp__method=median, modelpred__random_number=0.247257756749, log__trans_flag=True, inter__degree=[2, 3] -  11.9s\n",
      "[CV] modelpred__modelwithparams=['GBC', {'max_features': array([ 0.3,  0.4,  0.5,  0.6,  0.7,  0.8,  0.9]), 'n_estimators': [200], 'loss': ['deviance', 'exponential'], 'max_depth': [1, 2, 3, 4, 5, 6], 'min_samples_leaf': [2, 3, 4, 5, 6, 7, 8, 9, 10]}], inter__add_list=[], imp__method=median, modelpred__random_number=0.247257756749, log__trans_flag=True, inter__degree=[2, 3] \n",
      "[CV]  modelpred__modelwithparams=['GBC', {'max_features': array([ 0.3,  0.4,  0.5,  0.6,  0.7,  0.8,  0.9]), 'n_estimators': [200], 'loss': ['deviance', 'exponential'], 'max_depth': [1, 2, 3, 4, 5, 6], 'min_samples_leaf': [2, 3, 4, 5, 6, 7, 8, 9, 10]}], inter__add_list=[], imp__method=median, modelpred__random_number=0.247257756749, log__trans_flag=True, inter__degree=[2, 3] -  12.0s\n",
      "[CV] modelpred__modelwithparams=['GBC', {'max_features': array([ 0.3,  0.4,  0.5,  0.6,  0.7,  0.8,  0.9]), 'n_estimators': [200], 'loss': ['deviance', 'exponential'], 'max_depth': [1, 2, 3, 4, 5, 6], 'min_samples_leaf': [2, 3, 4, 5, 6, 7, 8, 9, 10]}], inter__add_list=[], imp__method=median, modelpred__random_number=0.247257756749, log__trans_flag=True, inter__degree=[2, 3] \n",
      "[CV]  modelpred__modelwithparams=['GBC', {'max_features': array([ 0.3,  0.4,  0.5,  0.6,  0.7,  0.8,  0.9]), 'n_estimators': [200], 'loss': ['deviance', 'exponential'], 'max_depth': [1, 2, 3, 4, 5, 6], 'min_samples_leaf': [2, 3, 4, 5, 6, 7, 8, 9, 10]}], inter__add_list=[], imp__method=median, modelpred__random_number=0.247257756749, log__trans_flag=True, inter__degree=[2, 3] -   7.8s\n",
      "[CV] modelpred__modelwithparams=['GBC', {'max_features': array([ 0.3,  0.4,  0.5,  0.6,  0.7,  0.8,  0.9]), 'n_estimators': [200], 'loss': ['deviance', 'exponential'], 'max_depth': [1, 2, 3, 4, 5, 6], 'min_samples_leaf': [2, 3, 4, 5, 6, 7, 8, 9, 10]}], inter__add_list=[], imp__method=median, modelpred__random_number=0.247257756749, log__trans_flag=True, inter__degree=[2, 3] \n",
      "[CV]  modelpred__modelwithparams=['GBC', {'max_features': array([ 0.3,  0.4,  0.5,  0.6,  0.7,  0.8,  0.9]), 'n_estimators': [200], 'loss': ['deviance', 'exponential'], 'max_depth': [1, 2, 3, 4, 5, 6], 'min_samples_leaf': [2, 3, 4, 5, 6, 7, 8, 9, 10]}], inter__add_list=[], imp__method=median, modelpred__random_number=0.247257756749, log__trans_flag=True, inter__degree=[2, 3] -   7.7s\n",
      "[CV] modelpred__modelwithparams=['GBC', {'max_features': array([ 0.3,  0.4,  0.5,  0.6,  0.7,  0.8,  0.9]), 'n_estimators': [200], 'loss': ['deviance', 'exponential'], 'max_depth': [1, 2, 3, 4, 5, 6], 'min_samples_leaf': [2, 3, 4, 5, 6, 7, 8, 9, 10]}], inter__add_list=[], imp__method=median, modelpred__random_number=0.247257756749, log__trans_flag=True, inter__degree=[2, 3] \n",
      "[CV]  modelpred__modelwithparams=['GBC', {'max_features': array([ 0.3,  0.4,  0.5,  0.6,  0.7,  0.8,  0.9]), 'n_estimators': [200], 'loss': ['deviance', 'exponential'], 'max_depth': [1, 2, 3, 4, 5, 6], 'min_samples_leaf': [2, 3, 4, 5, 6, 7, 8, 9, 10]}], inter__add_list=[], imp__method=median, modelpred__random_number=0.247257756749, log__trans_flag=True, inter__degree=[2, 3] -   7.6s\n",
      "[CV] modelpred__modelwithparams=['LDA', {}], inter__add_list=[], imp__method=knn, modelpred__random_number=0.369347946117, log__trans_flag=False, inter__degree=[2, 3] \n",
      "[CV]  modelpred__modelwithparams=['LDA', {}], inter__add_list=[], imp__method=knn, modelpred__random_number=0.369347946117, log__trans_flag=False, inter__degree=[2, 3] -   0.6s\n",
      "[CV] modelpred__modelwithparams=['LDA', {}], inter__add_list=[], imp__method=knn, modelpred__random_number=0.369347946117, log__trans_flag=False, inter__degree=[2, 3] \n",
      "[CV]  modelpred__modelwithparams=['LDA', {}], inter__add_list=[], imp__method=knn, modelpred__random_number=0.369347946117, log__trans_flag=False, inter__degree=[2, 3] -   1.0s\n",
      "[CV] modelpred__modelwithparams=['LDA', {}], inter__add_list=[], imp__method=knn, modelpred__random_number=0.369347946117, log__trans_flag=False, inter__degree=[2, 3] \n",
      "[CV]  modelpred__modelwithparams=['LDA', {}], inter__add_list=[], imp__method=knn, modelpred__random_number=0.369347946117, log__trans_flag=False, inter__degree=[2, 3] -   1.0s\n",
      "[CV] modelpred__modelwithparams=['LDA', {}], inter__add_list=[], imp__method=knn, modelpred__random_number=0.369347946117, log__trans_flag=False, inter__degree=[2, 3] \n",
      "[CV]  modelpred__modelwithparams=['LDA', {}], inter__add_list=[], imp__method=knn, modelpred__random_number=0.369347946117, log__trans_flag=False, inter__degree=[2, 3] -   0.9s\n",
      "[CV] modelpred__modelwithparams=['LDA', {}], inter__add_list=[], imp__method=knn, modelpred__random_number=0.369347946117, log__trans_flag=False, inter__degree=[2, 3] \n",
      "[CV]  modelpred__modelwithparams=['LDA', {}], inter__add_list=[], imp__method=knn, modelpred__random_number=0.369347946117, log__trans_flag=False, inter__degree=[2, 3] -   0.9s\n",
      "[CV] modelpred__modelwithparams=['Cali_linear_SVC', {'C': array([ 0.01      ,  0.01274275,  0.01623777,  0.02069138,  0.02636651,\n",
      "        0.03359818,  0.04281332,  0.05455595,  0.06951928,  0.08858668,\n",
      "        0.11288379,  0.14384499,  0.18329807,  0.23357215,  0.29763514,\n",
      "        0.37926902,  0.48329302,  0.61584821,  0.78475997,  1.        ])}], inter__add_list=[], imp__method=max, modelpred__random_number=0.175963226796, log__trans_flag=True, inter__degree=[2] \n",
      "[CV]  modelpred__modelwithparams=['Cali_linear_SVC', {'C': array([ 0.01      ,  0.01274275,  0.01623777,  0.02069138,  0.02636651,\n",
      "        0.03359818,  0.04281332,  0.05455595,  0.06951928,  0.08858668,\n",
      "        0.11288379,  0.14384499,  0.18329807,  0.23357215,  0.29763514,\n",
      "        0.37926902,  0.48329302,  0.61584821,  0.78475997,  1.        ])}], inter__add_list=[], imp__method=max, modelpred__random_number=0.175963226796, log__trans_flag=True, inter__degree=[2] -  11.1s\n",
      "[CV] modelpred__modelwithparams=['Cali_linear_SVC', {'C': array([ 0.01      ,  0.01274275,  0.01623777,  0.02069138,  0.02636651,\n",
      "        0.03359818,  0.04281332,  0.05455595,  0.06951928,  0.08858668,\n",
      "        0.11288379,  0.14384499,  0.18329807,  0.23357215,  0.29763514,\n",
      "        0.37926902,  0.48329302,  0.61584821,  0.78475997,  1.        ])}], inter__add_list=[], imp__method=max, modelpred__random_number=0.175963226796, log__trans_flag=True, inter__degree=[2] \n",
      "[CV]  modelpred__modelwithparams=['Cali_linear_SVC', {'C': array([ 0.01      ,  0.01274275,  0.01623777,  0.02069138,  0.02636651,\n",
      "        0.03359818,  0.04281332,  0.05455595,  0.06951928,  0.08858668,\n",
      "        0.11288379,  0.14384499,  0.18329807,  0.23357215,  0.29763514,\n",
      "        0.37926902,  0.48329302,  0.61584821,  0.78475997,  1.        ])}], inter__add_list=[], imp__method=max, modelpred__random_number=0.175963226796, log__trans_flag=True, inter__degree=[2] -  11.7s\n",
      "[CV] modelpred__modelwithparams=['Cali_linear_SVC', {'C': array([ 0.01      ,  0.01274275,  0.01623777,  0.02069138,  0.02636651,\n",
      "        0.03359818,  0.04281332,  0.05455595,  0.06951928,  0.08858668,\n",
      "        0.11288379,  0.14384499,  0.18329807,  0.23357215,  0.29763514,\n",
      "        0.37926902,  0.48329302,  0.61584821,  0.78475997,  1.        ])}], inter__add_list=[], imp__method=max, modelpred__random_number=0.175963226796, log__trans_flag=True, inter__degree=[2] \n",
      "[CV]  modelpred__modelwithparams=['Cali_linear_SVC', {'C': array([ 0.01      ,  0.01274275,  0.01623777,  0.02069138,  0.02636651,\n",
      "        0.03359818,  0.04281332,  0.05455595,  0.06951928,  0.08858668,\n",
      "        0.11288379,  0.14384499,  0.18329807,  0.23357215,  0.29763514,\n",
      "        0.37926902,  0.48329302,  0.61584821,  0.78475997,  1.        ])}], inter__add_list=[], imp__method=max, modelpred__random_number=0.175963226796, log__trans_flag=True, inter__degree=[2] -  11.0s\n",
      "[CV] modelpred__modelwithparams=['Cali_linear_SVC', {'C': array([ 0.01      ,  0.01274275,  0.01623777,  0.02069138,  0.02636651,\n",
      "        0.03359818,  0.04281332,  0.05455595,  0.06951928,  0.08858668,\n",
      "        0.11288379,  0.14384499,  0.18329807,  0.23357215,  0.29763514,\n",
      "        0.37926902,  0.48329302,  0.61584821,  0.78475997,  1.        ])}], inter__add_list=[], imp__method=max, modelpred__random_number=0.175963226796, log__trans_flag=True, inter__degree=[2] \n",
      "[CV]  modelpred__modelwithparams=['Cali_linear_SVC', {'C': array([ 0.01      ,  0.01274275,  0.01623777,  0.02069138,  0.02636651,\n",
      "        0.03359818,  0.04281332,  0.05455595,  0.06951928,  0.08858668,\n",
      "        0.11288379,  0.14384499,  0.18329807,  0.23357215,  0.29763514,\n",
      "        0.37926902,  0.48329302,  0.61584821,  0.78475997,  1.        ])}], inter__add_list=[], imp__method=max, modelpred__random_number=0.175963226796, log__trans_flag=True, inter__degree=[2] -  12.2s\n",
      "[CV] modelpred__modelwithparams=['Cali_linear_SVC', {'C': array([ 0.01      ,  0.01274275,  0.01623777,  0.02069138,  0.02636651,\n",
      "        0.03359818,  0.04281332,  0.05455595,  0.06951928,  0.08858668,\n",
      "        0.11288379,  0.14384499,  0.18329807,  0.23357215,  0.29763514,\n",
      "        0.37926902,  0.48329302,  0.61584821,  0.78475997,  1.        ])}], inter__add_list=[], imp__method=max, modelpred__random_number=0.175963226796, log__trans_flag=True, inter__degree=[2] \n",
      "[CV]  modelpred__modelwithparams=['Cali_linear_SVC', {'C': array([ 0.01      ,  0.01274275,  0.01623777,  0.02069138,  0.02636651,\n",
      "        0.03359818,  0.04281332,  0.05455595,  0.06951928,  0.08858668,\n",
      "        0.11288379,  0.14384499,  0.18329807,  0.23357215,  0.29763514,\n",
      "        0.37926902,  0.48329302,  0.61584821,  0.78475997,  1.        ])}], inter__add_list=[], imp__method=max, modelpred__random_number=0.175963226796, log__trans_flag=True, inter__degree=[2] -  12.3s\n",
      "[CV] modelpred__modelwithparams=['GBC', {'max_features': array([ 0.3,  0.4,  0.5,  0.6,  0.7,  0.8,  0.9]), 'n_estimators': [200], 'loss': ['deviance', 'exponential'], 'max_depth': [1, 2, 3, 4, 5, 6], 'min_samples_leaf': [2, 3, 4, 5, 6, 7, 8, 9, 10]}], inter__add_list=['RevolvingUtilizationOfUnsecuredLines', 'DebtRatio', 'MonthlyIncome', 'age', 'NumberOfOpenCreditLinesAndLoans'], imp__method=max, modelpred__random_number=0.732003497563, log__trans_flag=False, inter__degree=[2, 3] \n",
      "[CV]  modelpred__modelwithparams=['GBC', {'max_features': array([ 0.3,  0.4,  0.5,  0.6,  0.7,  0.8,  0.9]), 'n_estimators': [200], 'loss': ['deviance', 'exponential'], 'max_depth': [1, 2, 3, 4, 5, 6], 'min_samples_leaf': [2, 3, 4, 5, 6, 7, 8, 9, 10]}], inter__add_list=['RevolvingUtilizationOfUnsecuredLines', 'DebtRatio', 'MonthlyIncome', 'age', 'NumberOfOpenCreditLinesAndLoans'], imp__method=max, modelpred__random_number=0.732003497563, log__trans_flag=False, inter__degree=[2, 3] -  34.8s\n",
      "[CV] modelpred__modelwithparams=['GBC', {'max_features': array([ 0.3,  0.4,  0.5,  0.6,  0.7,  0.8,  0.9]), 'n_estimators': [200], 'loss': ['deviance', 'exponential'], 'max_depth': [1, 2, 3, 4, 5, 6], 'min_samples_leaf': [2, 3, 4, 5, 6, 7, 8, 9, 10]}], inter__add_list=['RevolvingUtilizationOfUnsecuredLines', 'DebtRatio', 'MonthlyIncome', 'age', 'NumberOfOpenCreditLinesAndLoans'], imp__method=max, modelpred__random_number=0.732003497563, log__trans_flag=False, inter__degree=[2, 3] \n",
      "[CV]  modelpred__modelwithparams=['GBC', {'max_features': array([ 0.3,  0.4,  0.5,  0.6,  0.7,  0.8,  0.9]), 'n_estimators': [200], 'loss': ['deviance', 'exponential'], 'max_depth': [1, 2, 3, 4, 5, 6], 'min_samples_leaf': [2, 3, 4, 5, 6, 7, 8, 9, 10]}], inter__add_list=['RevolvingUtilizationOfUnsecuredLines', 'DebtRatio', 'MonthlyIncome', 'age', 'NumberOfOpenCreditLinesAndLoans'], imp__method=max, modelpred__random_number=0.732003497563, log__trans_flag=False, inter__degree=[2, 3] -  34.8s\n",
      "[CV] modelpred__modelwithparams=['GBC', {'max_features': array([ 0.3,  0.4,  0.5,  0.6,  0.7,  0.8,  0.9]), 'n_estimators': [200], 'loss': ['deviance', 'exponential'], 'max_depth': [1, 2, 3, 4, 5, 6], 'min_samples_leaf': [2, 3, 4, 5, 6, 7, 8, 9, 10]}], inter__add_list=['RevolvingUtilizationOfUnsecuredLines', 'DebtRatio', 'MonthlyIncome', 'age', 'NumberOfOpenCreditLinesAndLoans'], imp__method=max, modelpred__random_number=0.732003497563, log__trans_flag=False, inter__degree=[2, 3] \n",
      "[CV]  modelpred__modelwithparams=['GBC', {'max_features': array([ 0.3,  0.4,  0.5,  0.6,  0.7,  0.8,  0.9]), 'n_estimators': [200], 'loss': ['deviance', 'exponential'], 'max_depth': [1, 2, 3, 4, 5, 6], 'min_samples_leaf': [2, 3, 4, 5, 6, 7, 8, 9, 10]}], inter__add_list=['RevolvingUtilizationOfUnsecuredLines', 'DebtRatio', 'MonthlyIncome', 'age', 'NumberOfOpenCreditLinesAndLoans'], imp__method=max, modelpred__random_number=0.732003497563, log__trans_flag=False, inter__degree=[2, 3] -  38.0s\n",
      "[CV] modelpred__modelwithparams=['GBC', {'max_features': array([ 0.3,  0.4,  0.5,  0.6,  0.7,  0.8,  0.9]), 'n_estimators': [200], 'loss': ['deviance', 'exponential'], 'max_depth': [1, 2, 3, 4, 5, 6], 'min_samples_leaf': [2, 3, 4, 5, 6, 7, 8, 9, 10]}], inter__add_list=['RevolvingUtilizationOfUnsecuredLines', 'DebtRatio', 'MonthlyIncome', 'age', 'NumberOfOpenCreditLinesAndLoans'], imp__method=max, modelpred__random_number=0.732003497563, log__trans_flag=False, inter__degree=[2, 3] \n",
      "[CV]  modelpred__modelwithparams=['GBC', {'max_features': array([ 0.3,  0.4,  0.5,  0.6,  0.7,  0.8,  0.9]), 'n_estimators': [200], 'loss': ['deviance', 'exponential'], 'max_depth': [1, 2, 3, 4, 5, 6], 'min_samples_leaf': [2, 3, 4, 5, 6, 7, 8, 9, 10]}], inter__add_list=['RevolvingUtilizationOfUnsecuredLines', 'DebtRatio', 'MonthlyIncome', 'age', 'NumberOfOpenCreditLinesAndLoans'], imp__method=max, modelpred__random_number=0.732003497563, log__trans_flag=False, inter__degree=[2, 3] -  38.8s\n",
      "[CV] modelpred__modelwithparams=['GBC', {'max_features': array([ 0.3,  0.4,  0.5,  0.6,  0.7,  0.8,  0.9]), 'n_estimators': [200], 'loss': ['deviance', 'exponential'], 'max_depth': [1, 2, 3, 4, 5, 6], 'min_samples_leaf': [2, 3, 4, 5, 6, 7, 8, 9, 10]}], inter__add_list=['RevolvingUtilizationOfUnsecuredLines', 'DebtRatio', 'MonthlyIncome', 'age', 'NumberOfOpenCreditLinesAndLoans'], imp__method=max, modelpred__random_number=0.732003497563, log__trans_flag=False, inter__degree=[2, 3] \n",
      "[CV]  modelpred__modelwithparams=['GBC', {'max_features': array([ 0.3,  0.4,  0.5,  0.6,  0.7,  0.8,  0.9]), 'n_estimators': [200], 'loss': ['deviance', 'exponential'], 'max_depth': [1, 2, 3, 4, 5, 6], 'min_samples_leaf': [2, 3, 4, 5, 6, 7, 8, 9, 10]}], inter__add_list=['RevolvingUtilizationOfUnsecuredLines', 'DebtRatio', 'MonthlyIncome', 'age', 'NumberOfOpenCreditLinesAndLoans'], imp__method=max, modelpred__random_number=0.732003497563, log__trans_flag=False, inter__degree=[2, 3] -  34.4s\n",
      "[CV] modelpred__modelwithparams=['KNN', {'n_neighbors': [200, 220, 240, 260, 280, 300, 320, 340, 360, 380], 'weights': ['uniform', 'distance']}], inter__add_list=['RevolvingUtilizationOfUnsecuredLines', 'DebtRatio', 'MonthlyIncome', 'age', 'NumberOfOpenCreditLinesAndLoans'], imp__method=median, modelpred__random_number=0.964827691526, log__trans_flag=False, inter__degree=[2] \n",
      "[CV]  modelpred__modelwithparams=['KNN', {'n_neighbors': [200, 220, 240, 260, 280, 300, 320, 340, 360, 380], 'weights': ['uniform', 'distance']}], inter__add_list=['RevolvingUtilizationOfUnsecuredLines', 'DebtRatio', 'MonthlyIncome', 'age', 'NumberOfOpenCreditLinesAndLoans'], imp__method=median, modelpred__random_number=0.964827691526, log__trans_flag=False, inter__degree=[2] -  14.8s\n",
      "[CV] modelpred__modelwithparams=['KNN', {'n_neighbors': [200, 220, 240, 260, 280, 300, 320, 340, 360, 380], 'weights': ['uniform', 'distance']}], inter__add_list=['RevolvingUtilizationOfUnsecuredLines', 'DebtRatio', 'MonthlyIncome', 'age', 'NumberOfOpenCreditLinesAndLoans'], imp__method=median, modelpred__random_number=0.964827691526, log__trans_flag=False, inter__degree=[2] \n",
      "[CV]  modelpred__modelwithparams=['KNN', {'n_neighbors': [200, 220, 240, 260, 280, 300, 320, 340, 360, 380], 'weights': ['uniform', 'distance']}], inter__add_list=['RevolvingUtilizationOfUnsecuredLines', 'DebtRatio', 'MonthlyIncome', 'age', 'NumberOfOpenCreditLinesAndLoans'], imp__method=median, modelpred__random_number=0.964827691526, log__trans_flag=False, inter__degree=[2] -  15.9s\n",
      "[CV] modelpred__modelwithparams=['KNN', {'n_neighbors': [200, 220, 240, 260, 280, 300, 320, 340, 360, 380], 'weights': ['uniform', 'distance']}], inter__add_list=['RevolvingUtilizationOfUnsecuredLines', 'DebtRatio', 'MonthlyIncome', 'age', 'NumberOfOpenCreditLinesAndLoans'], imp__method=median, modelpred__random_number=0.964827691526, log__trans_flag=False, inter__degree=[2] \n",
      "[CV]  modelpred__modelwithparams=['KNN', {'n_neighbors': [200, 220, 240, 260, 280, 300, 320, 340, 360, 380], 'weights': ['uniform', 'distance']}], inter__add_list=['RevolvingUtilizationOfUnsecuredLines', 'DebtRatio', 'MonthlyIncome', 'age', 'NumberOfOpenCreditLinesAndLoans'], imp__method=median, modelpred__random_number=0.964827691526, log__trans_flag=False, inter__degree=[2] -  14.4s\n",
      "[CV] modelpred__modelwithparams=['KNN', {'n_neighbors': [200, 220, 240, 260, 280, 300, 320, 340, 360, 380], 'weights': ['uniform', 'distance']}], inter__add_list=['RevolvingUtilizationOfUnsecuredLines', 'DebtRatio', 'MonthlyIncome', 'age', 'NumberOfOpenCreditLinesAndLoans'], imp__method=median, modelpred__random_number=0.964827691526, log__trans_flag=False, inter__degree=[2] \n",
      "[CV]  modelpred__modelwithparams=['KNN', {'n_neighbors': [200, 220, 240, 260, 280, 300, 320, 340, 360, 380], 'weights': ['uniform', 'distance']}], inter__add_list=['RevolvingUtilizationOfUnsecuredLines', 'DebtRatio', 'MonthlyIncome', 'age', 'NumberOfOpenCreditLinesAndLoans'], imp__method=median, modelpred__random_number=0.964827691526, log__trans_flag=False, inter__degree=[2] -  15.0s\n",
      "[CV] modelpred__modelwithparams=['KNN', {'n_neighbors': [200, 220, 240, 260, 280, 300, 320, 340, 360, 380], 'weights': ['uniform', 'distance']}], inter__add_list=['RevolvingUtilizationOfUnsecuredLines', 'DebtRatio', 'MonthlyIncome', 'age', 'NumberOfOpenCreditLinesAndLoans'], imp__method=median, modelpred__random_number=0.964827691526, log__trans_flag=False, inter__degree=[2] \n",
      "[CV]  modelpred__modelwithparams=['KNN', {'n_neighbors': [200, 220, 240, 260, 280, 300, 320, 340, 360, 380], 'weights': ['uniform', 'distance']}], inter__add_list=['RevolvingUtilizationOfUnsecuredLines', 'DebtRatio', 'MonthlyIncome', 'age', 'NumberOfOpenCreditLinesAndLoans'], imp__method=median, modelpred__random_number=0.964827691526, log__trans_flag=False, inter__degree=[2] -  14.3s\n",
      "[CV] modelpred__modelwithparams=['GaussianNB', {}], inter__add_list=['RevolvingUtilizationOfUnsecuredLines', 'DebtRatio', 'MonthlyIncome', 'age', 'NumberOfOpenCreditLinesAndLoans'], imp__method=mean, modelpred__random_number=0.560370969671, log__trans_flag=False, inter__degree=[2] \n",
      "[CV]  modelpred__modelwithparams=['GaussianNB', {}], inter__add_list=['RevolvingUtilizationOfUnsecuredLines', 'DebtRatio', 'MonthlyIncome', 'age', 'NumberOfOpenCreditLinesAndLoans'], imp__method=mean, modelpred__random_number=0.560370969671, log__trans_flag=False, inter__degree=[2] -   0.2s\n",
      "[CV] modelpred__modelwithparams=['GaussianNB', {}], inter__add_list=['RevolvingUtilizationOfUnsecuredLines', 'DebtRatio', 'MonthlyIncome', 'age', 'NumberOfOpenCreditLinesAndLoans'], imp__method=mean, modelpred__random_number=0.560370969671, log__trans_flag=False, inter__degree=[2] \n",
      "[CV]  modelpred__modelwithparams=['GaussianNB', {}], inter__add_list=['RevolvingUtilizationOfUnsecuredLines', 'DebtRatio', 'MonthlyIncome', 'age', 'NumberOfOpenCreditLinesAndLoans'], imp__method=mean, modelpred__random_number=0.560370969671, log__trans_flag=False, inter__degree=[2] -   0.2s\n",
      "[CV] modelpred__modelwithparams=['GaussianNB', {}], inter__add_list=['RevolvingUtilizationOfUnsecuredLines', 'DebtRatio', 'MonthlyIncome', 'age', 'NumberOfOpenCreditLinesAndLoans'], imp__method=mean, modelpred__random_number=0.560370969671, log__trans_flag=False, inter__degree=[2] \n",
      "[CV]  modelpred__modelwithparams=['GaussianNB', {}], inter__add_list=['RevolvingUtilizationOfUnsecuredLines', 'DebtRatio', 'MonthlyIncome', 'age', 'NumberOfOpenCreditLinesAndLoans'], imp__method=mean, modelpred__random_number=0.560370969671, log__trans_flag=False, inter__degree=[2] -   0.2s\n",
      "[CV] modelpred__modelwithparams=['GaussianNB', {}], inter__add_list=['RevolvingUtilizationOfUnsecuredLines', 'DebtRatio', 'MonthlyIncome', 'age', 'NumberOfOpenCreditLinesAndLoans'], imp__method=mean, modelpred__random_number=0.560370969671, log__trans_flag=False, inter__degree=[2] \n",
      "[CV]  modelpred__modelwithparams=['GaussianNB', {}], inter__add_list=['RevolvingUtilizationOfUnsecuredLines', 'DebtRatio', 'MonthlyIncome', 'age', 'NumberOfOpenCreditLinesAndLoans'], imp__method=mean, modelpred__random_number=0.560370969671, log__trans_flag=False, inter__degree=[2] -   0.2s\n",
      "[CV] modelpred__modelwithparams=['GaussianNB', {}], inter__add_list=['RevolvingUtilizationOfUnsecuredLines', 'DebtRatio', 'MonthlyIncome', 'age', 'NumberOfOpenCreditLinesAndLoans'], imp__method=mean, modelpred__random_number=0.560370969671, log__trans_flag=False, inter__degree=[2] \n",
      "[CV]  modelpred__modelwithparams=['GaussianNB', {}], inter__add_list=['RevolvingUtilizationOfUnsecuredLines', 'DebtRatio', 'MonthlyIncome', 'age', 'NumberOfOpenCreditLinesAndLoans'], imp__method=mean, modelpred__random_number=0.560370969671, log__trans_flag=False, inter__degree=[2] -   0.2s\n",
      "[CV] modelpred__modelwithparams=['QDA', {}], inter__add_list=[], imp__method=mean, modelpred__random_number=0.877535067962, log__trans_flag=True, inter__degree=[2, 3] \n",
      "[CV]  modelpred__modelwithparams=['QDA', {}], inter__add_list=[], imp__method=mean, modelpred__random_number=0.877535067962, log__trans_flag=True, inter__degree=[2, 3] -   0.2s\n",
      "[CV] modelpred__modelwithparams=['QDA', {}], inter__add_list=[], imp__method=mean, modelpred__random_number=0.877535067962, log__trans_flag=True, inter__degree=[2, 3] \n",
      "[CV]  modelpred__modelwithparams=['QDA', {}], inter__add_list=[], imp__method=mean, modelpred__random_number=0.877535067962, log__trans_flag=True, inter__degree=[2, 3] -   0.2s\n",
      "[CV] modelpred__modelwithparams=['QDA', {}], inter__add_list=[], imp__method=mean, modelpred__random_number=0.877535067962, log__trans_flag=True, inter__degree=[2, 3] \n",
      "[CV]  modelpred__modelwithparams=['QDA', {}], inter__add_list=[], imp__method=mean, modelpred__random_number=0.877535067962, log__trans_flag=True, inter__degree=[2, 3] -   0.2s\n",
      "[CV] modelpred__modelwithparams=['QDA', {}], inter__add_list=[], imp__method=mean, modelpred__random_number=0.877535067962, log__trans_flag=True, inter__degree=[2, 3] \n",
      "[CV]  modelpred__modelwithparams=['QDA', {}], inter__add_list=[], imp__method=mean, modelpred__random_number=0.877535067962, log__trans_flag=True, inter__degree=[2, 3] -   0.2s\n",
      "[CV] modelpred__modelwithparams=['QDA', {}], inter__add_list=[], imp__method=mean, modelpred__random_number=0.877535067962, log__trans_flag=True, inter__degree=[2, 3] \n",
      "[CV]  modelpred__modelwithparams=['QDA', {}], inter__add_list=[], imp__method=mean, modelpred__random_number=0.877535067962, log__trans_flag=True, inter__degree=[2, 3] -   0.2s\n",
      "[CV] modelpred__modelwithparams=['LDA', {}], inter__add_list=['RevolvingUtilizationOfUnsecuredLines', 'DebtRatio', 'MonthlyIncome', 'age', 'NumberOfOpenCreditLinesAndLoans'], imp__method=median, modelpred__random_number=0.732233437522, log__trans_flag=True, inter__degree=[2] \n",
      "[CV]  modelpred__modelwithparams=['LDA', {}], inter__add_list=['RevolvingUtilizationOfUnsecuredLines', 'DebtRatio', 'MonthlyIncome', 'age', 'NumberOfOpenCreditLinesAndLoans'], imp__method=median, modelpred__random_number=0.732233437522, log__trans_flag=True, inter__degree=[2] -   0.4s\n",
      "[CV] modelpred__modelwithparams=['LDA', {}], inter__add_list=['RevolvingUtilizationOfUnsecuredLines', 'DebtRatio', 'MonthlyIncome', 'age', 'NumberOfOpenCreditLinesAndLoans'], imp__method=median, modelpred__random_number=0.732233437522, log__trans_flag=True, inter__degree=[2] \n",
      "[CV]  modelpred__modelwithparams=['LDA', {}], inter__add_list=['RevolvingUtilizationOfUnsecuredLines', 'DebtRatio', 'MonthlyIncome', 'age', 'NumberOfOpenCreditLinesAndLoans'], imp__method=median, modelpred__random_number=0.732233437522, log__trans_flag=True, inter__degree=[2] -   0.4s\n",
      "[CV] modelpred__modelwithparams=['LDA', {}], inter__add_list=['RevolvingUtilizationOfUnsecuredLines', 'DebtRatio', 'MonthlyIncome', 'age', 'NumberOfOpenCreditLinesAndLoans'], imp__method=median, modelpred__random_number=0.732233437522, log__trans_flag=True, inter__degree=[2] \n",
      "[CV]  modelpred__modelwithparams=['LDA', {}], inter__add_list=['RevolvingUtilizationOfUnsecuredLines', 'DebtRatio', 'MonthlyIncome', 'age', 'NumberOfOpenCreditLinesAndLoans'], imp__method=median, modelpred__random_number=0.732233437522, log__trans_flag=True, inter__degree=[2] -   0.4s\n",
      "[CV] modelpred__modelwithparams=['LDA', {}], inter__add_list=['RevolvingUtilizationOfUnsecuredLines', 'DebtRatio', 'MonthlyIncome', 'age', 'NumberOfOpenCreditLinesAndLoans'], imp__method=median, modelpred__random_number=0.732233437522, log__trans_flag=True, inter__degree=[2] \n",
      "[CV]  modelpred__modelwithparams=['LDA', {}], inter__add_list=['RevolvingUtilizationOfUnsecuredLines', 'DebtRatio', 'MonthlyIncome', 'age', 'NumberOfOpenCreditLinesAndLoans'], imp__method=median, modelpred__random_number=0.732233437522, log__trans_flag=True, inter__degree=[2] -   0.4s\n",
      "[CV] modelpred__modelwithparams=['LDA', {}], inter__add_list=['RevolvingUtilizationOfUnsecuredLines', 'DebtRatio', 'MonthlyIncome', 'age', 'NumberOfOpenCreditLinesAndLoans'], imp__method=median, modelpred__random_number=0.732233437522, log__trans_flag=True, inter__degree=[2] \n",
      "[CV]  modelpred__modelwithparams=['LDA', {}], inter__add_list=['RevolvingUtilizationOfUnsecuredLines', 'DebtRatio', 'MonthlyIncome', 'age', 'NumberOfOpenCreditLinesAndLoans'], imp__method=median, modelpred__random_number=0.732233437522, log__trans_flag=True, inter__degree=[2] -   0.4s\n",
      "[CV] modelpred__modelwithparams=['GaussianNB', {}], inter__add_list=[], imp__method=median, modelpred__random_number=0.776115459829, log__trans_flag=False, inter__degree=[2] \n",
      "[CV]  modelpred__modelwithparams=['GaussianNB', {}], inter__add_list=[], imp__method=median, modelpred__random_number=0.776115459829, log__trans_flag=False, inter__degree=[2] -   0.1s"
     ]
    },
    {
     "name": "stderr",
     "output_type": "stream",
     "text": [
      "[Parallel(n_jobs=1)]: Done   1 jobs       | elapsed:   11.9s\n",
      "[Parallel(n_jobs=1)]: Done  41 jobs       | elapsed:  6.2min\n"
     ]
    },
    {
     "name": "stdout",
     "output_type": "stream",
     "text": [
      "\n",
      "[CV] modelpred__modelwithparams=['GaussianNB', {}], inter__add_list=[], imp__method=median, modelpred__random_number=0.776115459829, log__trans_flag=False, inter__degree=[2] \n",
      "[CV]  modelpred__modelwithparams=['GaussianNB', {}], inter__add_list=[], imp__method=median, modelpred__random_number=0.776115459829, log__trans_flag=False, inter__degree=[2] -   0.1s\n",
      "[CV] modelpred__modelwithparams=['GaussianNB', {}], inter__add_list=[], imp__method=median, modelpred__random_number=0.776115459829, log__trans_flag=False, inter__degree=[2] \n",
      "[CV]  modelpred__modelwithparams=['GaussianNB', {}], inter__add_list=[], imp__method=median, modelpred__random_number=0.776115459829, log__trans_flag=False, inter__degree=[2] -   0.1s\n",
      "[CV] modelpred__modelwithparams=['GaussianNB', {}], inter__add_list=[], imp__method=median, modelpred__random_number=0.776115459829, log__trans_flag=False, inter__degree=[2] \n",
      "[CV]  modelpred__modelwithparams=['GaussianNB', {}], inter__add_list=[], imp__method=median, modelpred__random_number=0.776115459829, log__trans_flag=False, inter__degree=[2] -   0.1s\n",
      "[CV] modelpred__modelwithparams=['GaussianNB', {}], inter__add_list=[], imp__method=median, modelpred__random_number=0.776115459829, log__trans_flag=False, inter__degree=[2] \n",
      "[CV]  modelpred__modelwithparams=['GaussianNB', {}], inter__add_list=[], imp__method=median, modelpred__random_number=0.776115459829, log__trans_flag=False, inter__degree=[2] -   0.1s\n",
      "[CV] modelpred__modelwithparams=['KNN', {'n_neighbors': [200, 220, 240, 260, 280, 300, 320, 340, 360, 380], 'weights': ['uniform', 'distance']}], inter__add_list=[], imp__method=max, modelpred__random_number=0.662983008353, log__trans_flag=True, inter__degree=[2, 3] \n",
      "[CV]  modelpred__modelwithparams=['KNN', {'n_neighbors': [200, 220, 240, 260, 280, 300, 320, 340, 360, 380], 'weights': ['uniform', 'distance']}], inter__add_list=[], imp__method=max, modelpred__random_number=0.662983008353, log__trans_flag=True, inter__degree=[2, 3] -  21.4s\n",
      "[CV] modelpred__modelwithparams=['KNN', {'n_neighbors': [200, 220, 240, 260, 280, 300, 320, 340, 360, 380], 'weights': ['uniform', 'distance']}], inter__add_list=[], imp__method=max, modelpred__random_number=0.662983008353, log__trans_flag=True, inter__degree=[2, 3] \n",
      "[CV]  modelpred__modelwithparams=['KNN', {'n_neighbors': [200, 220, 240, 260, 280, 300, 320, 340, 360, 380], 'weights': ['uniform', 'distance']}], inter__add_list=[], imp__method=max, modelpred__random_number=0.662983008353, log__trans_flag=True, inter__degree=[2, 3] -  21.9s\n",
      "[CV] modelpred__modelwithparams=['KNN', {'n_neighbors': [200, 220, 240, 260, 280, 300, 320, 340, 360, 380], 'weights': ['uniform', 'distance']}], inter__add_list=[], imp__method=max, modelpred__random_number=0.662983008353, log__trans_flag=True, inter__degree=[2, 3] \n",
      "[CV]  modelpred__modelwithparams=['KNN', {'n_neighbors': [200, 220, 240, 260, 280, 300, 320, 340, 360, 380], 'weights': ['uniform', 'distance']}], inter__add_list=[], imp__method=max, modelpred__random_number=0.662983008353, log__trans_flag=True, inter__degree=[2, 3] -  21.6s\n",
      "[CV] modelpred__modelwithparams=['KNN', {'n_neighbors': [200, 220, 240, 260, 280, 300, 320, 340, 360, 380], 'weights': ['uniform', 'distance']}], inter__add_list=[], imp__method=max, modelpred__random_number=0.662983008353, log__trans_flag=True, inter__degree=[2, 3] \n",
      "[CV]  modelpred__modelwithparams=['KNN', {'n_neighbors': [200, 220, 240, 260, 280, 300, 320, 340, 360, 380], 'weights': ['uniform', 'distance']}], inter__add_list=[], imp__method=max, modelpred__random_number=0.662983008353, log__trans_flag=True, inter__degree=[2, 3] -  21.5s\n",
      "[CV] modelpred__modelwithparams=['KNN', {'n_neighbors': [200, 220, 240, 260, 280, 300, 320, 340, 360, 380], 'weights': ['uniform', 'distance']}], inter__add_list=[], imp__method=max, modelpred__random_number=0.662983008353, log__trans_flag=True, inter__degree=[2, 3] \n",
      "[CV]  modelpred__modelwithparams=['KNN', {'n_neighbors': [200, 220, 240, 260, 280, 300, 320, 340, 360, 380], 'weights': ['uniform', 'distance']}], inter__add_list=[], imp__method=max, modelpred__random_number=0.662983008353, log__trans_flag=True, inter__degree=[2, 3] -  22.1s\n",
      "[CV] modelpred__modelwithparams=['GaussianNB', {}], inter__add_list=[], imp__method=mean, modelpred__random_number=0.601226180032, log__trans_flag=False, inter__degree=[2] \n",
      "[CV]  modelpred__modelwithparams=['GaussianNB', {}], inter__add_list=[], imp__method=mean, modelpred__random_number=0.601226180032, log__trans_flag=False, inter__degree=[2] -   0.1s\n",
      "[CV] modelpred__modelwithparams=['GaussianNB', {}], inter__add_list=[], imp__method=mean, modelpred__random_number=0.601226180032, log__trans_flag=False, inter__degree=[2] \n",
      "[CV]  modelpred__modelwithparams=['GaussianNB', {}], inter__add_list=[], imp__method=mean, modelpred__random_number=0.601226180032, log__trans_flag=False, inter__degree=[2] -   0.1s\n",
      "[CV] modelpred__modelwithparams=['GaussianNB', {}], inter__add_list=[], imp__method=mean, modelpred__random_number=0.601226180032, log__trans_flag=False, inter__degree=[2] \n",
      "[CV]  modelpred__modelwithparams=['GaussianNB', {}], inter__add_list=[], imp__method=mean, modelpred__random_number=0.601226180032, log__trans_flag=False, inter__degree=[2] -   0.1s\n",
      "[CV] modelpred__modelwithparams=['GaussianNB', {}], inter__add_list=[], imp__method=mean, modelpred__random_number=0.601226180032, log__trans_flag=False, inter__degree=[2] \n",
      "[CV]  modelpred__modelwithparams=['GaussianNB', {}], inter__add_list=[], imp__method=mean, modelpred__random_number=0.601226180032, log__trans_flag=False, inter__degree=[2] -   0.1s\n",
      "[CV] modelpred__modelwithparams=['GaussianNB', {}], inter__add_list=[], imp__method=mean, modelpred__random_number=0.601226180032, log__trans_flag=False, inter__degree=[2] \n",
      "[CV]  modelpred__modelwithparams=['GaussianNB', {}], inter__add_list=[], imp__method=mean, modelpred__random_number=0.601226180032, log__trans_flag=False, inter__degree=[2] -   0.1s\n",
      "[CV] modelpred__modelwithparams=['GaussianNB', {}], inter__add_list=['RevolvingUtilizationOfUnsecuredLines', 'DebtRatio', 'MonthlyIncome', 'age', 'NumberOfOpenCreditLinesAndLoans'], imp__method=median, modelpred__random_number=0.046212578192, log__trans_flag=False, inter__degree=[2] \n",
      "[CV]  modelpred__modelwithparams=['GaussianNB', {}], inter__add_list=['RevolvingUtilizationOfUnsecuredLines', 'DebtRatio', 'MonthlyIncome', 'age', 'NumberOfOpenCreditLinesAndLoans'], imp__method=median, modelpred__random_number=0.046212578192, log__trans_flag=False, inter__degree=[2] -   0.2s\n",
      "[CV] modelpred__modelwithparams=['GaussianNB', {}], inter__add_list=['RevolvingUtilizationOfUnsecuredLines', 'DebtRatio', 'MonthlyIncome', 'age', 'NumberOfOpenCreditLinesAndLoans'], imp__method=median, modelpred__random_number=0.046212578192, log__trans_flag=False, inter__degree=[2] \n",
      "[CV]  modelpred__modelwithparams=['GaussianNB', {}], inter__add_list=['RevolvingUtilizationOfUnsecuredLines', 'DebtRatio', 'MonthlyIncome', 'age', 'NumberOfOpenCreditLinesAndLoans'], imp__method=median, modelpred__random_number=0.046212578192, log__trans_flag=False, inter__degree=[2] -   0.2s\n",
      "[CV] modelpred__modelwithparams=['GaussianNB', {}], inter__add_list=['RevolvingUtilizationOfUnsecuredLines', 'DebtRatio', 'MonthlyIncome', 'age', 'NumberOfOpenCreditLinesAndLoans'], imp__method=median, modelpred__random_number=0.046212578192, log__trans_flag=False, inter__degree=[2] \n",
      "[CV]  modelpred__modelwithparams=['GaussianNB', {}], inter__add_list=['RevolvingUtilizationOfUnsecuredLines', 'DebtRatio', 'MonthlyIncome', 'age', 'NumberOfOpenCreditLinesAndLoans'], imp__method=median, modelpred__random_number=0.046212578192, log__trans_flag=False, inter__degree=[2] -   0.2s\n",
      "[CV] modelpred__modelwithparams=['GaussianNB', {}], inter__add_list=['RevolvingUtilizationOfUnsecuredLines', 'DebtRatio', 'MonthlyIncome', 'age', 'NumberOfOpenCreditLinesAndLoans'], imp__method=median, modelpred__random_number=0.046212578192, log__trans_flag=False, inter__degree=[2] \n",
      "[CV]  modelpred__modelwithparams=['GaussianNB', {}], inter__add_list=['RevolvingUtilizationOfUnsecuredLines', 'DebtRatio', 'MonthlyIncome', 'age', 'NumberOfOpenCreditLinesAndLoans'], imp__method=median, modelpred__random_number=0.046212578192, log__trans_flag=False, inter__degree=[2] -   0.2s\n",
      "[CV] modelpred__modelwithparams=['GaussianNB', {}], inter__add_list=['RevolvingUtilizationOfUnsecuredLines', 'DebtRatio', 'MonthlyIncome', 'age', 'NumberOfOpenCreditLinesAndLoans'], imp__method=median, modelpred__random_number=0.046212578192, log__trans_flag=False, inter__degree=[2] \n",
      "[CV]  modelpred__modelwithparams=['GaussianNB', {}], inter__add_list=['RevolvingUtilizationOfUnsecuredLines', 'DebtRatio', 'MonthlyIncome', 'age', 'NumberOfOpenCreditLinesAndLoans'], imp__method=median, modelpred__random_number=0.046212578192, log__trans_flag=False, inter__degree=[2] -   0.2s\n",
      "[CV] modelpred__modelwithparams=['ExTree', {'n_estimators': [200], 'max_features': array([ 0.1,  0.2,  0.3,  0.4,  0.5,  0.6,  0.7,  0.8]), 'n_jobs': [-1], 'max_depth': [10, 11, 12, 13, 14, 15, 16, 17, 18, 19, 20, 21, 22, 23, 24, 25, 26, 27, 28, 29]}], inter__add_list=[], imp__method=mode, modelpred__random_number=0.68505985686, log__trans_flag=False, inter__degree=[2] \n",
      "[CV]  modelpred__modelwithparams=['ExTree', {'n_estimators': [200], 'max_features': array([ 0.1,  0.2,  0.3,  0.4,  0.5,  0.6,  0.7,  0.8]), 'n_jobs': [-1], 'max_depth': [10, 11, 12, 13, 14, 15, 16, 17, 18, 19, 20, 21, 22, 23, 24, 25, 26, 27, 28, 29]}], inter__add_list=[], imp__method=mode, modelpred__random_number=0.68505985686, log__trans_flag=False, inter__degree=[2] -  15.0s\n",
      "[CV] modelpred__modelwithparams=['ExTree', {'n_estimators': [200], 'max_features': array([ 0.1,  0.2,  0.3,  0.4,  0.5,  0.6,  0.7,  0.8]), 'n_jobs': [-1], 'max_depth': [10, 11, 12, 13, 14, 15, 16, 17, 18, 19, 20, 21, 22, 23, 24, 25, 26, 27, 28, 29]}], inter__add_list=[], imp__method=mode, modelpred__random_number=0.68505985686, log__trans_flag=False, inter__degree=[2] \n",
      "[CV]  modelpred__modelwithparams=['ExTree', {'n_estimators': [200], 'max_features': array([ 0.1,  0.2,  0.3,  0.4,  0.5,  0.6,  0.7,  0.8]), 'n_jobs': [-1], 'max_depth': [10, 11, 12, 13, 14, 15, 16, 17, 18, 19, 20, 21, 22, 23, 24, 25, 26, 27, 28, 29]}], inter__add_list=[], imp__method=mode, modelpred__random_number=0.68505985686, log__trans_flag=False, inter__degree=[2] -  15.4s\n",
      "[CV] modelpred__modelwithparams=['ExTree', {'n_estimators': [200], 'max_features': array([ 0.1,  0.2,  0.3,  0.4,  0.5,  0.6,  0.7,  0.8]), 'n_jobs': [-1], 'max_depth': [10, 11, 12, 13, 14, 15, 16, 17, 18, 19, 20, 21, 22, 23, 24, 25, 26, 27, 28, 29]}], inter__add_list=[], imp__method=mode, modelpred__random_number=0.68505985686, log__trans_flag=False, inter__degree=[2] \n",
      "[CV]  modelpred__modelwithparams=['ExTree', {'n_estimators': [200], 'max_features': array([ 0.1,  0.2,  0.3,  0.4,  0.5,  0.6,  0.7,  0.8]), 'n_jobs': [-1], 'max_depth': [10, 11, 12, 13, 14, 15, 16, 17, 18, 19, 20, 21, 22, 23, 24, 25, 26, 27, 28, 29]}], inter__add_list=[], imp__method=mode, modelpred__random_number=0.68505985686, log__trans_flag=False, inter__degree=[2] -  15.1s\n",
      "[CV] modelpred__modelwithparams=['ExTree', {'n_estimators': [200], 'max_features': array([ 0.1,  0.2,  0.3,  0.4,  0.5,  0.6,  0.7,  0.8]), 'n_jobs': [-1], 'max_depth': [10, 11, 12, 13, 14, 15, 16, 17, 18, 19, 20, 21, 22, 23, 24, 25, 26, 27, 28, 29]}], inter__add_list=[], imp__method=mode, modelpred__random_number=0.68505985686, log__trans_flag=False, inter__degree=[2] \n",
      "[CV]  modelpred__modelwithparams=['ExTree', {'n_estimators': [200], 'max_features': array([ 0.1,  0.2,  0.3,  0.4,  0.5,  0.6,  0.7,  0.8]), 'n_jobs': [-1], 'max_depth': [10, 11, 12, 13, 14, 15, 16, 17, 18, 19, 20, 21, 22, 23, 24, 25, 26, 27, 28, 29]}], inter__add_list=[], imp__method=mode, modelpred__random_number=0.68505985686, log__trans_flag=False, inter__degree=[2] -  15.6s\n",
      "[CV] modelpred__modelwithparams=['ExTree', {'n_estimators': [200], 'max_features': array([ 0.1,  0.2,  0.3,  0.4,  0.5,  0.6,  0.7,  0.8]), 'n_jobs': [-1], 'max_depth': [10, 11, 12, 13, 14, 15, 16, 17, 18, 19, 20, 21, 22, 23, 24, 25, 26, 27, 28, 29]}], inter__add_list=[], imp__method=mode, modelpred__random_number=0.68505985686, log__trans_flag=False, inter__degree=[2] \n",
      "[CV]  modelpred__modelwithparams=['ExTree', {'n_estimators': [200], 'max_features': array([ 0.1,  0.2,  0.3,  0.4,  0.5,  0.6,  0.7,  0.8]), 'n_jobs': [-1], 'max_depth': [10, 11, 12, 13, 14, 15, 16, 17, 18, 19, 20, 21, 22, 23, 24, 25, 26, 27, 28, 29]}], inter__add_list=[], imp__method=mode, modelpred__random_number=0.68505985686, log__trans_flag=False, inter__degree=[2] -  15.2s\n",
      "[CV] modelpred__modelwithparams=['LDA', {}], inter__add_list=[], imp__method=median, modelpred__random_number=0.432606964153, log__trans_flag=True, inter__degree=[2] \n",
      "[CV]  modelpred__modelwithparams=['LDA', {}], inter__add_list=[], imp__method=median, modelpred__random_number=0.432606964153, log__trans_flag=True, inter__degree=[2] -   0.2s\n",
      "[CV] modelpred__modelwithparams=['LDA', {}], inter__add_list=[], imp__method=median, modelpred__random_number=0.432606964153, log__trans_flag=True, inter__degree=[2] \n",
      "[CV]  modelpred__modelwithparams=['LDA', {}], inter__add_list=[], imp__method=median, modelpred__random_number=0.432606964153, log__trans_flag=True, inter__degree=[2] -   0.2s\n",
      "[CV] modelpred__modelwithparams=['LDA', {}], inter__add_list=[], imp__method=median, modelpred__random_number=0.432606964153, log__trans_flag=True, inter__degree=[2] \n",
      "[CV]  modelpred__modelwithparams=['LDA', {}], inter__add_list=[], imp__method=median, modelpred__random_number=0.432606964153, log__trans_flag=True, inter__degree=[2] -   0.2s\n",
      "[CV] modelpred__modelwithparams=['LDA', {}], inter__add_list=[], imp__method=median, modelpred__random_number=0.432606964153, log__trans_flag=True, inter__degree=[2] \n",
      "[CV]  modelpred__modelwithparams=['LDA', {}], inter__add_list=[], imp__method=median, modelpred__random_number=0.432606964153, log__trans_flag=True, inter__degree=[2] -   0.3s\n",
      "[CV] modelpred__modelwithparams=['LDA', {}], inter__add_list=[], imp__method=median, modelpred__random_number=0.432606964153, log__trans_flag=True, inter__degree=[2] \n",
      "[CV]  modelpred__modelwithparams=['LDA', {}], inter__add_list=[], imp__method=median, modelpred__random_number=0.432606964153, log__trans_flag=True, inter__degree=[2] -   0.2s\n",
      "[CV] modelpred__modelwithparams=['Cali_linear_SVC', {'C': array([ 0.01      ,  0.01274275,  0.01623777,  0.02069138,  0.02636651,\n",
      "        0.03359818,  0.04281332,  0.05455595,  0.06951928,  0.08858668,\n",
      "        0.11288379,  0.14384499,  0.18329807,  0.23357215,  0.29763514,\n",
      "        0.37926902,  0.48329302,  0.61584821,  0.78475997,  1.        ])}], inter__add_list=['RevolvingUtilizationOfUnsecuredLines', 'DebtRatio', 'MonthlyIncome', 'age', 'NumberOfOpenCreditLinesAndLoans'], imp__method=mean, modelpred__random_number=0.462628498638, log__trans_flag=False, inter__degree=[2] \n",
      "[CV]  modelpred__modelwithparams=['Cali_linear_SVC', {'C': array([ 0.01      ,  0.01274275,  0.01623777,  0.02069138,  0.02636651,\n",
      "        0.03359818,  0.04281332,  0.05455595,  0.06951928,  0.08858668,\n",
      "        0.11288379,  0.14384499,  0.18329807,  0.23357215,  0.29763514,\n",
      "        0.37926902,  0.48329302,  0.61584821,  0.78475997,  1.        ])}], inter__add_list=['RevolvingUtilizationOfUnsecuredLines', 'DebtRatio', 'MonthlyIncome', 'age', 'NumberOfOpenCreditLinesAndLoans'], imp__method=mean, modelpred__random_number=0.462628498638, log__trans_flag=False, inter__degree=[2] - 1.5min\n",
      "[CV] modelpred__modelwithparams=['Cali_linear_SVC', {'C': array([ 0.01      ,  0.01274275,  0.01623777,  0.02069138,  0.02636651,\n",
      "        0.03359818,  0.04281332,  0.05455595,  0.06951928,  0.08858668,\n",
      "        0.11288379,  0.14384499,  0.18329807,  0.23357215,  0.29763514,\n",
      "        0.37926902,  0.48329302,  0.61584821,  0.78475997,  1.        ])}], inter__add_list=['RevolvingUtilizationOfUnsecuredLines', 'DebtRatio', 'MonthlyIncome', 'age', 'NumberOfOpenCreditLinesAndLoans'], imp__method=mean, modelpred__random_number=0.462628498638, log__trans_flag=False, inter__degree=[2] \n",
      "[CV]  modelpred__modelwithparams=['Cali_linear_SVC', {'C': array([ 0.01      ,  0.01274275,  0.01623777,  0.02069138,  0.02636651,\n",
      "        0.03359818,  0.04281332,  0.05455595,  0.06951928,  0.08858668,\n",
      "        0.11288379,  0.14384499,  0.18329807,  0.23357215,  0.29763514,\n",
      "        0.37926902,  0.48329302,  0.61584821,  0.78475997,  1.        ])}], inter__add_list=['RevolvingUtilizationOfUnsecuredLines', 'DebtRatio', 'MonthlyIncome', 'age', 'NumberOfOpenCreditLinesAndLoans'], imp__method=mean, modelpred__random_number=0.462628498638, log__trans_flag=False, inter__degree=[2] - 1.4min\n",
      "[CV] modelpred__modelwithparams=['Cali_linear_SVC', {'C': array([ 0.01      ,  0.01274275,  0.01623777,  0.02069138,  0.02636651,\n",
      "        0.03359818,  0.04281332,  0.05455595,  0.06951928,  0.08858668,\n",
      "        0.11288379,  0.14384499,  0.18329807,  0.23357215,  0.29763514,\n",
      "        0.37926902,  0.48329302,  0.61584821,  0.78475997,  1.        ])}], inter__add_list=['RevolvingUtilizationOfUnsecuredLines', 'DebtRatio', 'MonthlyIncome', 'age', 'NumberOfOpenCreditLinesAndLoans'], imp__method=mean, modelpred__random_number=0.462628498638, log__trans_flag=False, inter__degree=[2] \n",
      "[CV]  modelpred__modelwithparams=['Cali_linear_SVC', {'C': array([ 0.01      ,  0.01274275,  0.01623777,  0.02069138,  0.02636651,\n",
      "        0.03359818,  0.04281332,  0.05455595,  0.06951928,  0.08858668,\n",
      "        0.11288379,  0.14384499,  0.18329807,  0.23357215,  0.29763514,\n",
      "        0.37926902,  0.48329302,  0.61584821,  0.78475997,  1.        ])}], inter__add_list=['RevolvingUtilizationOfUnsecuredLines', 'DebtRatio', 'MonthlyIncome', 'age', 'NumberOfOpenCreditLinesAndLoans'], imp__method=mean, modelpred__random_number=0.462628498638, log__trans_flag=False, inter__degree=[2] - 1.4min\n",
      "[CV] modelpred__modelwithparams=['Cali_linear_SVC', {'C': array([ 0.01      ,  0.01274275,  0.01623777,  0.02069138,  0.02636651,\n",
      "        0.03359818,  0.04281332,  0.05455595,  0.06951928,  0.08858668,\n",
      "        0.11288379,  0.14384499,  0.18329807,  0.23357215,  0.29763514,\n",
      "        0.37926902,  0.48329302,  0.61584821,  0.78475997,  1.        ])}], inter__add_list=['RevolvingUtilizationOfUnsecuredLines', 'DebtRatio', 'MonthlyIncome', 'age', 'NumberOfOpenCreditLinesAndLoans'], imp__method=mean, modelpred__random_number=0.462628498638, log__trans_flag=False, inter__degree=[2] \n",
      "[CV]  modelpred__modelwithparams=['Cali_linear_SVC', {'C': array([ 0.01      ,  0.01274275,  0.01623777,  0.02069138,  0.02636651,\n",
      "        0.03359818,  0.04281332,  0.05455595,  0.06951928,  0.08858668,\n",
      "        0.11288379,  0.14384499,  0.18329807,  0.23357215,  0.29763514,\n",
      "        0.37926902,  0.48329302,  0.61584821,  0.78475997,  1.        ])}], inter__add_list=['RevolvingUtilizationOfUnsecuredLines', 'DebtRatio', 'MonthlyIncome', 'age', 'NumberOfOpenCreditLinesAndLoans'], imp__method=mean, modelpred__random_number=0.462628498638, log__trans_flag=False, inter__degree=[2] - 1.4min\n",
      "[CV] modelpred__modelwithparams=['Cali_linear_SVC', {'C': array([ 0.01      ,  0.01274275,  0.01623777,  0.02069138,  0.02636651,\n",
      "        0.03359818,  0.04281332,  0.05455595,  0.06951928,  0.08858668,\n",
      "        0.11288379,  0.14384499,  0.18329807,  0.23357215,  0.29763514,\n",
      "        0.37926902,  0.48329302,  0.61584821,  0.78475997,  1.        ])}], inter__add_list=['RevolvingUtilizationOfUnsecuredLines', 'DebtRatio', 'MonthlyIncome', 'age', 'NumberOfOpenCreditLinesAndLoans'], imp__method=mean, modelpred__random_number=0.462628498638, log__trans_flag=False, inter__degree=[2] \n",
      "[CV]  modelpred__modelwithparams=['Cali_linear_SVC', {'C': array([ 0.01      ,  0.01274275,  0.01623777,  0.02069138,  0.02636651,\n",
      "        0.03359818,  0.04281332,  0.05455595,  0.06951928,  0.08858668,\n",
      "        0.11288379,  0.14384499,  0.18329807,  0.23357215,  0.29763514,\n",
      "        0.37926902,  0.48329302,  0.61584821,  0.78475997,  1.        ])}], inter__add_list=['RevolvingUtilizationOfUnsecuredLines', 'DebtRatio', 'MonthlyIncome', 'age', 'NumberOfOpenCreditLinesAndLoans'], imp__method=mean, modelpred__random_number=0.462628498638, log__trans_flag=False, inter__degree=[2] - 1.5min\n",
      "[CV] modelpred__modelwithparams=['QDA', {}], inter__add_list=['RevolvingUtilizationOfUnsecuredLines', 'DebtRatio', 'MonthlyIncome', 'age', 'NumberOfOpenCreditLinesAndLoans'], imp__method=mode, modelpred__random_number=0.481084686549, log__trans_flag=False, inter__degree=[2] \n",
      "[CV]  modelpred__modelwithparams=['QDA', {}], inter__add_list=['RevolvingUtilizationOfUnsecuredLines', 'DebtRatio', 'MonthlyIncome', 'age', 'NumberOfOpenCreditLinesAndLoans'], imp__method=mode, modelpred__random_number=0.481084686549, log__trans_flag=False, inter__degree=[2] -   0.3s\n",
      "[CV] modelpred__modelwithparams=['QDA', {}], inter__add_list=['RevolvingUtilizationOfUnsecuredLines', 'DebtRatio', 'MonthlyIncome', 'age', 'NumberOfOpenCreditLinesAndLoans'], imp__method=mode, modelpred__random_number=0.481084686549, log__trans_flag=False, inter__degree=[2] \n",
      "[CV]  modelpred__modelwithparams=['QDA', {}], inter__add_list=['RevolvingUtilizationOfUnsecuredLines', 'DebtRatio', 'MonthlyIncome', 'age', 'NumberOfOpenCreditLinesAndLoans'], imp__method=mode, modelpred__random_number=0.481084686549, log__trans_flag=False, inter__degree=[2] -   0.3s\n",
      "[CV] modelpred__modelwithparams=['QDA', {}], inter__add_list=['RevolvingUtilizationOfUnsecuredLines', 'DebtRatio', 'MonthlyIncome', 'age', 'NumberOfOpenCreditLinesAndLoans'], imp__method=mode, modelpred__random_number=0.481084686549, log__trans_flag=False, inter__degree=[2] \n",
      "[CV]  modelpred__modelwithparams=['QDA', {}], inter__add_list=['RevolvingUtilizationOfUnsecuredLines', 'DebtRatio', 'MonthlyIncome', 'age', 'NumberOfOpenCreditLinesAndLoans'], imp__method=mode, modelpred__random_number=0.481084686549, log__trans_flag=False, inter__degree=[2] -   0.3s\n",
      "[CV] modelpred__modelwithparams=['QDA', {}], inter__add_list=['RevolvingUtilizationOfUnsecuredLines', 'DebtRatio', 'MonthlyIncome', 'age', 'NumberOfOpenCreditLinesAndLoans'], imp__method=mode, modelpred__random_number=0.481084686549, log__trans_flag=False, inter__degree=[2] \n",
      "[CV]  modelpred__modelwithparams=['QDA', {}], inter__add_list=['RevolvingUtilizationOfUnsecuredLines', 'DebtRatio', 'MonthlyIncome', 'age', 'NumberOfOpenCreditLinesAndLoans'], imp__method=mode, modelpred__random_number=0.481084686549, log__trans_flag=False, inter__degree=[2] -   0.4s\n",
      "[CV] modelpred__modelwithparams=['QDA', {}], inter__add_list=['RevolvingUtilizationOfUnsecuredLines', 'DebtRatio', 'MonthlyIncome', 'age', 'NumberOfOpenCreditLinesAndLoans'], imp__method=mode, modelpred__random_number=0.481084686549, log__trans_flag=False, inter__degree=[2] \n",
      "[CV]  modelpred__modelwithparams=['QDA', {}], inter__add_list=['RevolvingUtilizationOfUnsecuredLines', 'DebtRatio', 'MonthlyIncome', 'age', 'NumberOfOpenCreditLinesAndLoans'], imp__method=mode, modelpred__random_number=0.481084686549, log__trans_flag=False, inter__degree=[2] -   0.3s\n",
      "[CV] modelpred__modelwithparams=['LR', {'penalty': ['l1', 'l2'], 'C': array([ 0.01      ,  0.01274275,  0.01623777,  0.02069138,  0.02636651,\n",
      "        0.03359818,  0.04281332,  0.05455595,  0.06951928,  0.08858668,\n",
      "        0.11288379,  0.14384499,  0.18329807,  0.23357215,  0.29763514,\n",
      "        0.37926902,  0.48329302,  0.61584821,  0.78475997,  1.        ])}], inter__add_list=['RevolvingUtilizationOfUnsecuredLines', 'DebtRatio', 'MonthlyIncome', 'age', 'NumberOfOpenCreditLinesAndLoans'], imp__method=median, modelpred__random_number=0.909915449705, log__trans_flag=True, inter__degree=[2, 3] \n",
      "[CV]  modelpred__modelwithparams=['LR', {'penalty': ['l1', 'l2'], 'C': array([ 0.01      ,  0.01274275,  0.01623777,  0.02069138,  0.02636651,\n",
      "        0.03359818,  0.04281332,  0.05455595,  0.06951928,  0.08858668,\n",
      "        0.11288379,  0.14384499,  0.18329807,  0.23357215,  0.29763514,\n",
      "        0.37926902,  0.48329302,  0.61584821,  0.78475997,  1.        ])}], inter__add_list=['RevolvingUtilizationOfUnsecuredLines', 'DebtRatio', 'MonthlyIncome', 'age', 'NumberOfOpenCreditLinesAndLoans'], imp__method=median, modelpred__random_number=0.909915449705, log__trans_flag=True, inter__degree=[2, 3] -   5.6s\n",
      "[CV] modelpred__modelwithparams=['LR', {'penalty': ['l1', 'l2'], 'C': array([ 0.01      ,  0.01274275,  0.01623777,  0.02069138,  0.02636651,\n",
      "        0.03359818,  0.04281332,  0.05455595,  0.06951928,  0.08858668,\n",
      "        0.11288379,  0.14384499,  0.18329807,  0.23357215,  0.29763514,\n",
      "        0.37926902,  0.48329302,  0.61584821,  0.78475997,  1.        ])}], inter__add_list=['RevolvingUtilizationOfUnsecuredLines', 'DebtRatio', 'MonthlyIncome', 'age', 'NumberOfOpenCreditLinesAndLoans'], imp__method=median, modelpred__random_number=0.909915449705, log__trans_flag=True, inter__degree=[2, 3] \n",
      "[CV]  modelpred__modelwithparams=['LR', {'penalty': ['l1', 'l2'], 'C': array([ 0.01      ,  0.01274275,  0.01623777,  0.02069138,  0.02636651,\n",
      "        0.03359818,  0.04281332,  0.05455595,  0.06951928,  0.08858668,\n",
      "        0.11288379,  0.14384499,  0.18329807,  0.23357215,  0.29763514,\n",
      "        0.37926902,  0.48329302,  0.61584821,  0.78475997,  1.        ])}], inter__add_list=['RevolvingUtilizationOfUnsecuredLines', 'DebtRatio', 'MonthlyIncome', 'age', 'NumberOfOpenCreditLinesAndLoans'], imp__method=median, modelpred__random_number=0.909915449705, log__trans_flag=True, inter__degree=[2, 3] -   4.6s\n",
      "[CV] modelpred__modelwithparams=['LR', {'penalty': ['l1', 'l2'], 'C': array([ 0.01      ,  0.01274275,  0.01623777,  0.02069138,  0.02636651,\n",
      "        0.03359818,  0.04281332,  0.05455595,  0.06951928,  0.08858668,\n",
      "        0.11288379,  0.14384499,  0.18329807,  0.23357215,  0.29763514,\n",
      "        0.37926902,  0.48329302,  0.61584821,  0.78475997,  1.        ])}], inter__add_list=['RevolvingUtilizationOfUnsecuredLines', 'DebtRatio', 'MonthlyIncome', 'age', 'NumberOfOpenCreditLinesAndLoans'], imp__method=median, modelpred__random_number=0.909915449705, log__trans_flag=True, inter__degree=[2, 3] \n",
      "[CV]  modelpred__modelwithparams=['LR', {'penalty': ['l1', 'l2'], 'C': array([ 0.01      ,  0.01274275,  0.01623777,  0.02069138,  0.02636651,\n",
      "        0.03359818,  0.04281332,  0.05455595,  0.06951928,  0.08858668,\n",
      "        0.11288379,  0.14384499,  0.18329807,  0.23357215,  0.29763514,\n",
      "        0.37926902,  0.48329302,  0.61584821,  0.78475997,  1.        ])}], inter__add_list=['RevolvingUtilizationOfUnsecuredLines', 'DebtRatio', 'MonthlyIncome', 'age', 'NumberOfOpenCreditLinesAndLoans'], imp__method=median, modelpred__random_number=0.909915449705, log__trans_flag=True, inter__degree=[2, 3] -   3.8s\n",
      "[CV] modelpred__modelwithparams=['LR', {'penalty': ['l1', 'l2'], 'C': array([ 0.01      ,  0.01274275,  0.01623777,  0.02069138,  0.02636651,\n",
      "        0.03359818,  0.04281332,  0.05455595,  0.06951928,  0.08858668,\n",
      "        0.11288379,  0.14384499,  0.18329807,  0.23357215,  0.29763514,\n",
      "        0.37926902,  0.48329302,  0.61584821,  0.78475997,  1.        ])}], inter__add_list=['RevolvingUtilizationOfUnsecuredLines', 'DebtRatio', 'MonthlyIncome', 'age', 'NumberOfOpenCreditLinesAndLoans'], imp__method=median, modelpred__random_number=0.909915449705, log__trans_flag=True, inter__degree=[2, 3] \n",
      "[CV]  modelpred__modelwithparams=['LR', {'penalty': ['l1', 'l2'], 'C': array([ 0.01      ,  0.01274275,  0.01623777,  0.02069138,  0.02636651,\n",
      "        0.03359818,  0.04281332,  0.05455595,  0.06951928,  0.08858668,\n",
      "        0.11288379,  0.14384499,  0.18329807,  0.23357215,  0.29763514,\n",
      "        0.37926902,  0.48329302,  0.61584821,  0.78475997,  1.        ])}], inter__add_list=['RevolvingUtilizationOfUnsecuredLines', 'DebtRatio', 'MonthlyIncome', 'age', 'NumberOfOpenCreditLinesAndLoans'], imp__method=median, modelpred__random_number=0.909915449705, log__trans_flag=True, inter__degree=[2, 3] -   5.6s\n",
      "[CV] modelpred__modelwithparams=['LR', {'penalty': ['l1', 'l2'], 'C': array([ 0.01      ,  0.01274275,  0.01623777,  0.02069138,  0.02636651,\n",
      "        0.03359818,  0.04281332,  0.05455595,  0.06951928,  0.08858668,\n",
      "        0.11288379,  0.14384499,  0.18329807,  0.23357215,  0.29763514,\n",
      "        0.37926902,  0.48329302,  0.61584821,  0.78475997,  1.        ])}], inter__add_list=['RevolvingUtilizationOfUnsecuredLines', 'DebtRatio', 'MonthlyIncome', 'age', 'NumberOfOpenCreditLinesAndLoans'], imp__method=median, modelpred__random_number=0.909915449705, log__trans_flag=True, inter__degree=[2, 3] \n",
      "[CV]  modelpred__modelwithparams=['LR', {'penalty': ['l1', 'l2'], 'C': array([ 0.01      ,  0.01274275,  0.01623777,  0.02069138,  0.02636651,\n",
      "        0.03359818,  0.04281332,  0.05455595,  0.06951928,  0.08858668,\n",
      "        0.11288379,  0.14384499,  0.18329807,  0.23357215,  0.29763514,\n",
      "        0.37926902,  0.48329302,  0.61584821,  0.78475997,  1.        ])}], inter__add_list=['RevolvingUtilizationOfUnsecuredLines', 'DebtRatio', 'MonthlyIncome', 'age', 'NumberOfOpenCreditLinesAndLoans'], imp__method=median, modelpred__random_number=0.909915449705, log__trans_flag=True, inter__degree=[2, 3] -   7.9s\n",
      "[CV] modelpred__modelwithparams=['Cali_linear_SVC', {'C': array([ 0.01      ,  0.01274275,  0.01623777,  0.02069138,  0.02636651,\n",
      "        0.03359818,  0.04281332,  0.05455595,  0.06951928,  0.08858668,\n",
      "        0.11288379,  0.14384499,  0.18329807,  0.23357215,  0.29763514,\n",
      "        0.37926902,  0.48329302,  0.61584821,  0.78475997,  1.        ])}], inter__add_list=['RevolvingUtilizationOfUnsecuredLines', 'DebtRatio', 'MonthlyIncome', 'age', 'NumberOfOpenCreditLinesAndLoans'], imp__method=mode, modelpred__random_number=0.0349743840994, log__trans_flag=False, inter__degree=[2] \n",
      "[CV]  modelpred__modelwithparams=['Cali_linear_SVC', {'C': array([ 0.01      ,  0.01274275,  0.01623777,  0.02069138,  0.02636651,\n",
      "        0.03359818,  0.04281332,  0.05455595,  0.06951928,  0.08858668,\n",
      "        0.11288379,  0.14384499,  0.18329807,  0.23357215,  0.29763514,\n",
      "        0.37926902,  0.48329302,  0.61584821,  0.78475997,  1.        ])}], inter__add_list=['RevolvingUtilizationOfUnsecuredLines', 'DebtRatio', 'MonthlyIncome', 'age', 'NumberOfOpenCreditLinesAndLoans'], imp__method=mode, modelpred__random_number=0.0349743840994, log__trans_flag=False, inter__degree=[2] - 1.4min\n",
      "[CV] modelpred__modelwithparams=['Cali_linear_SVC', {'C': array([ 0.01      ,  0.01274275,  0.01623777,  0.02069138,  0.02636651,\n",
      "        0.03359818,  0.04281332,  0.05455595,  0.06951928,  0.08858668,\n",
      "        0.11288379,  0.14384499,  0.18329807,  0.23357215,  0.29763514,\n",
      "        0.37926902,  0.48329302,  0.61584821,  0.78475997,  1.        ])}], inter__add_list=['RevolvingUtilizationOfUnsecuredLines', 'DebtRatio', 'MonthlyIncome', 'age', 'NumberOfOpenCreditLinesAndLoans'], imp__method=mode, modelpred__random_number=0.0349743840994, log__trans_flag=False, inter__degree=[2] \n",
      "[CV]  modelpred__modelwithparams=['Cali_linear_SVC', {'C': array([ 0.01      ,  0.01274275,  0.01623777,  0.02069138,  0.02636651,\n",
      "        0.03359818,  0.04281332,  0.05455595,  0.06951928,  0.08858668,\n",
      "        0.11288379,  0.14384499,  0.18329807,  0.23357215,  0.29763514,\n",
      "        0.37926902,  0.48329302,  0.61584821,  0.78475997,  1.        ])}], inter__add_list=['RevolvingUtilizationOfUnsecuredLines', 'DebtRatio', 'MonthlyIncome', 'age', 'NumberOfOpenCreditLinesAndLoans'], imp__method=mode, modelpred__random_number=0.0349743840994, log__trans_flag=False, inter__degree=[2] - 1.4min\n",
      "[CV] modelpred__modelwithparams=['Cali_linear_SVC', {'C': array([ 0.01      ,  0.01274275,  0.01623777,  0.02069138,  0.02636651,\n",
      "        0.03359818,  0.04281332,  0.05455595,  0.06951928,  0.08858668,\n",
      "        0.11288379,  0.14384499,  0.18329807,  0.23357215,  0.29763514,\n",
      "        0.37926902,  0.48329302,  0.61584821,  0.78475997,  1.        ])}], inter__add_list=['RevolvingUtilizationOfUnsecuredLines', 'DebtRatio', 'MonthlyIncome', 'age', 'NumberOfOpenCreditLinesAndLoans'], imp__method=mode, modelpred__random_number=0.0349743840994, log__trans_flag=False, inter__degree=[2] \n",
      "[CV]  modelpred__modelwithparams=['Cali_linear_SVC', {'C': array([ 0.01      ,  0.01274275,  0.01623777,  0.02069138,  0.02636651,\n",
      "        0.03359818,  0.04281332,  0.05455595,  0.06951928,  0.08858668,\n",
      "        0.11288379,  0.14384499,  0.18329807,  0.23357215,  0.29763514,\n",
      "        0.37926902,  0.48329302,  0.61584821,  0.78475997,  1.        ])}], inter__add_list=['RevolvingUtilizationOfUnsecuredLines', 'DebtRatio', 'MonthlyIncome', 'age', 'NumberOfOpenCreditLinesAndLoans'], imp__method=mode, modelpred__random_number=0.0349743840994, log__trans_flag=False, inter__degree=[2] - 1.4min\n",
      "[CV] modelpred__modelwithparams=['Cali_linear_SVC', {'C': array([ 0.01      ,  0.01274275,  0.01623777,  0.02069138,  0.02636651,\n",
      "        0.03359818,  0.04281332,  0.05455595,  0.06951928,  0.08858668,\n",
      "        0.11288379,  0.14384499,  0.18329807,  0.23357215,  0.29763514,\n",
      "        0.37926902,  0.48329302,  0.61584821,  0.78475997,  1.        ])}], inter__add_list=['RevolvingUtilizationOfUnsecuredLines', 'DebtRatio', 'MonthlyIncome', 'age', 'NumberOfOpenCreditLinesAndLoans'], imp__method=mode, modelpred__random_number=0.0349743840994, log__trans_flag=False, inter__degree=[2] \n",
      "[CV]  modelpred__modelwithparams=['Cali_linear_SVC', {'C': array([ 0.01      ,  0.01274275,  0.01623777,  0.02069138,  0.02636651,\n",
      "        0.03359818,  0.04281332,  0.05455595,  0.06951928,  0.08858668,\n",
      "        0.11288379,  0.14384499,  0.18329807,  0.23357215,  0.29763514,\n",
      "        0.37926902,  0.48329302,  0.61584821,  0.78475997,  1.        ])}], inter__add_list=['RevolvingUtilizationOfUnsecuredLines', 'DebtRatio', 'MonthlyIncome', 'age', 'NumberOfOpenCreditLinesAndLoans'], imp__method=mode, modelpred__random_number=0.0349743840994, log__trans_flag=False, inter__degree=[2] - 1.4min\n",
      "[CV] modelpred__modelwithparams=['Cali_linear_SVC', {'C': array([ 0.01      ,  0.01274275,  0.01623777,  0.02069138,  0.02636651,\n",
      "        0.03359818,  0.04281332,  0.05455595,  0.06951928,  0.08858668,\n",
      "        0.11288379,  0.14384499,  0.18329807,  0.23357215,  0.29763514,\n",
      "        0.37926902,  0.48329302,  0.61584821,  0.78475997,  1.        ])}], inter__add_list=['RevolvingUtilizationOfUnsecuredLines', 'DebtRatio', 'MonthlyIncome', 'age', 'NumberOfOpenCreditLinesAndLoans'], imp__method=mode, modelpred__random_number=0.0349743840994, log__trans_flag=False, inter__degree=[2] \n",
      "[CV]  modelpred__modelwithparams=['Cali_linear_SVC', {'C': array([ 0.01      ,  0.01274275,  0.01623777,  0.02069138,  0.02636651,\n",
      "        0.03359818,  0.04281332,  0.05455595,  0.06951928,  0.08858668,\n",
      "        0.11288379,  0.14384499,  0.18329807,  0.23357215,  0.29763514,\n",
      "        0.37926902,  0.48329302,  0.61584821,  0.78475997,  1.        ])}], inter__add_list=['RevolvingUtilizationOfUnsecuredLines', 'DebtRatio', 'MonthlyIncome', 'age', 'NumberOfOpenCreditLinesAndLoans'], imp__method=mode, modelpred__random_number=0.0349743840994, log__trans_flag=False, inter__degree=[2] - 1.5min\n",
      "[CV] modelpred__modelwithparams=['KNN', {'n_neighbors': [200, 220, 240, 260, 280, 300, 320, 340, 360, 380], 'weights': ['uniform', 'distance']}], inter__add_list=[], imp__method=median, modelpred__random_number=0.286493815831, log__trans_flag=False, inter__degree=[2] \n",
      "[CV]  modelpred__modelwithparams=['KNN', {'n_neighbors': [200, 220, 240, 260, 280, 300, 320, 340, 360, 380], 'weights': ['uniform', 'distance']}], inter__add_list=[], imp__method=median, modelpred__random_number=0.286493815831, log__trans_flag=False, inter__degree=[2] -   5.0s\n",
      "[CV] modelpred__modelwithparams=['KNN', {'n_neighbors': [200, 220, 240, 260, 280, 300, 320, 340, 360, 380], 'weights': ['uniform', 'distance']}], inter__add_list=[], imp__method=median, modelpred__random_number=0.286493815831, log__trans_flag=False, inter__degree=[2] \n",
      "[CV]  modelpred__modelwithparams=['KNN', {'n_neighbors': [200, 220, 240, 260, 280, 300, 320, 340, 360, 380], 'weights': ['uniform', 'distance']}], inter__add_list=[], imp__method=median, modelpred__random_number=0.286493815831, log__trans_flag=False, inter__degree=[2] -   4.9s\n",
      "[CV] modelpred__modelwithparams=['KNN', {'n_neighbors': [200, 220, 240, 260, 280, 300, 320, 340, 360, 380], 'weights': ['uniform', 'distance']}], inter__add_list=[], imp__method=median, modelpred__random_number=0.286493815831, log__trans_flag=False, inter__degree=[2] \n",
      "[CV]  modelpred__modelwithparams=['KNN', {'n_neighbors': [200, 220, 240, 260, 280, 300, 320, 340, 360, 380], 'weights': ['uniform', 'distance']}], inter__add_list=[], imp__method=median, modelpred__random_number=0.286493815831, log__trans_flag=False, inter__degree=[2] -   5.0s\n",
      "[CV] modelpred__modelwithparams=['KNN', {'n_neighbors': [200, 220, 240, 260, 280, 300, 320, 340, 360, 380], 'weights': ['uniform', 'distance']}], inter__add_list=[], imp__method=median, modelpred__random_number=0.286493815831, log__trans_flag=False, inter__degree=[2] \n",
      "[CV]  modelpred__modelwithparams=['KNN', {'n_neighbors': [200, 220, 240, 260, 280, 300, 320, 340, 360, 380], 'weights': ['uniform', 'distance']}], inter__add_list=[], imp__method=median, modelpred__random_number=0.286493815831, log__trans_flag=False, inter__degree=[2] -   4.9s\n",
      "[CV] modelpred__modelwithparams=['KNN', {'n_neighbors': [200, 220, 240, 260, 280, 300, 320, 340, 360, 380], 'weights': ['uniform', 'distance']}], inter__add_list=[], imp__method=median, modelpred__random_number=0.286493815831, log__trans_flag=False, inter__degree=[2] \n",
      "[CV]  modelpred__modelwithparams=['KNN', {'n_neighbors': [200, 220, 240, 260, 280, 300, 320, 340, 360, 380], 'weights': ['uniform', 'distance']}], inter__add_list=[], imp__method=median, modelpred__random_number=0.286493815831, log__trans_flag=False, inter__degree=[2] -   5.1s\n",
      "[CV] modelpred__modelwithparams=['GBC', {'max_features': array([ 0.3,  0.4,  0.5,  0.6,  0.7,  0.8,  0.9]), 'n_estimators': [200], 'loss': ['deviance', 'exponential'], 'max_depth': [1, 2, 3, 4, 5, 6], 'min_samples_leaf': [2, 3, 4, 5, 6, 7, 8, 9, 10]}], inter__add_list=['RevolvingUtilizationOfUnsecuredLines', 'DebtRatio', 'MonthlyIncome', 'age', 'NumberOfOpenCreditLinesAndLoans'], imp__method=knn, modelpred__random_number=0.176286300629, log__trans_flag=True, inter__degree=[2, 3] \n",
      "[CV]  modelpred__modelwithparams=['GBC', {'max_features': array([ 0.3,  0.4,  0.5,  0.6,  0.7,  0.8,  0.9]), 'n_estimators': [200], 'loss': ['deviance', 'exponential'], 'max_depth': [1, 2, 3, 4, 5, 6], 'min_samples_leaf': [2, 3, 4, 5, 6, 7, 8, 9, 10]}], inter__add_list=['RevolvingUtilizationOfUnsecuredLines', 'DebtRatio', 'MonthlyIncome', 'age', 'NumberOfOpenCreditLinesAndLoans'], imp__method=knn, modelpred__random_number=0.176286300629, log__trans_flag=True, inter__degree=[2, 3] -  27.2s\n",
      "[CV] modelpred__modelwithparams=['GBC', {'max_features': array([ 0.3,  0.4,  0.5,  0.6,  0.7,  0.8,  0.9]), 'n_estimators': [200], 'loss': ['deviance', 'exponential'], 'max_depth': [1, 2, 3, 4, 5, 6], 'min_samples_leaf': [2, 3, 4, 5, 6, 7, 8, 9, 10]}], inter__add_list=['RevolvingUtilizationOfUnsecuredLines', 'DebtRatio', 'MonthlyIncome', 'age', 'NumberOfOpenCreditLinesAndLoans'], imp__method=knn, modelpred__random_number=0.176286300629, log__trans_flag=True, inter__degree=[2, 3] \n",
      "[CV]  modelpred__modelwithparams=['GBC', {'max_features': array([ 0.3,  0.4,  0.5,  0.6,  0.7,  0.8,  0.9]), 'n_estimators': [200], 'loss': ['deviance', 'exponential'], 'max_depth': [1, 2, 3, 4, 5, 6], 'min_samples_leaf': [2, 3, 4, 5, 6, 7, 8, 9, 10]}], inter__add_list=['RevolvingUtilizationOfUnsecuredLines', 'DebtRatio', 'MonthlyIncome', 'age', 'NumberOfOpenCreditLinesAndLoans'], imp__method=knn, modelpred__random_number=0.176286300629, log__trans_flag=True, inter__degree=[2, 3] -  27.9s\n",
      "[CV] modelpred__modelwithparams=['GBC', {'max_features': array([ 0.3,  0.4,  0.5,  0.6,  0.7,  0.8,  0.9]), 'n_estimators': [200], 'loss': ['deviance', 'exponential'], 'max_depth': [1, 2, 3, 4, 5, 6], 'min_samples_leaf': [2, 3, 4, 5, 6, 7, 8, 9, 10]}], inter__add_list=['RevolvingUtilizationOfUnsecuredLines', 'DebtRatio', 'MonthlyIncome', 'age', 'NumberOfOpenCreditLinesAndLoans'], imp__method=knn, modelpred__random_number=0.176286300629, log__trans_flag=True, inter__degree=[2, 3] \n",
      "[CV]  modelpred__modelwithparams=['GBC', {'max_features': array([ 0.3,  0.4,  0.5,  0.6,  0.7,  0.8,  0.9]), 'n_estimators': [200], 'loss': ['deviance', 'exponential'], 'max_depth': [1, 2, 3, 4, 5, 6], 'min_samples_leaf': [2, 3, 4, 5, 6, 7, 8, 9, 10]}], inter__add_list=['RevolvingUtilizationOfUnsecuredLines', 'DebtRatio', 'MonthlyIncome', 'age', 'NumberOfOpenCreditLinesAndLoans'], imp__method=knn, modelpred__random_number=0.176286300629, log__trans_flag=True, inter__degree=[2, 3] -  28.3s\n",
      "[CV] modelpred__modelwithparams=['GBC', {'max_features': array([ 0.3,  0.4,  0.5,  0.6,  0.7,  0.8,  0.9]), 'n_estimators': [200], 'loss': ['deviance', 'exponential'], 'max_depth': [1, 2, 3, 4, 5, 6], 'min_samples_leaf': [2, 3, 4, 5, 6, 7, 8, 9, 10]}], inter__add_list=['RevolvingUtilizationOfUnsecuredLines', 'DebtRatio', 'MonthlyIncome', 'age', 'NumberOfOpenCreditLinesAndLoans'], imp__method=knn, modelpred__random_number=0.176286300629, log__trans_flag=True, inter__degree=[2, 3] \n",
      "[CV]  modelpred__modelwithparams=['GBC', {'max_features': array([ 0.3,  0.4,  0.5,  0.6,  0.7,  0.8,  0.9]), 'n_estimators': [200], 'loss': ['deviance', 'exponential'], 'max_depth': [1, 2, 3, 4, 5, 6], 'min_samples_leaf': [2, 3, 4, 5, 6, 7, 8, 9, 10]}], inter__add_list=['RevolvingUtilizationOfUnsecuredLines', 'DebtRatio', 'MonthlyIncome', 'age', 'NumberOfOpenCreditLinesAndLoans'], imp__method=knn, modelpred__random_number=0.176286300629, log__trans_flag=True, inter__degree=[2, 3] -  29.5s\n",
      "[CV] modelpred__modelwithparams=['GBC', {'max_features': array([ 0.3,  0.4,  0.5,  0.6,  0.7,  0.8,  0.9]), 'n_estimators': [200], 'loss': ['deviance', 'exponential'], 'max_depth': [1, 2, 3, 4, 5, 6], 'min_samples_leaf': [2, 3, 4, 5, 6, 7, 8, 9, 10]}], inter__add_list=['RevolvingUtilizationOfUnsecuredLines', 'DebtRatio', 'MonthlyIncome', 'age', 'NumberOfOpenCreditLinesAndLoans'], imp__method=knn, modelpred__random_number=0.176286300629, log__trans_flag=True, inter__degree=[2, 3] \n",
      "[CV]  modelpred__modelwithparams=['GBC', {'max_features': array([ 0.3,  0.4,  0.5,  0.6,  0.7,  0.8,  0.9]), 'n_estimators': [200], 'loss': ['deviance', 'exponential'], 'max_depth': [1, 2, 3, 4, 5, 6], 'min_samples_leaf': [2, 3, 4, 5, 6, 7, 8, 9, 10]}], inter__add_list=['RevolvingUtilizationOfUnsecuredLines', 'DebtRatio', 'MonthlyIncome', 'age', 'NumberOfOpenCreditLinesAndLoans'], imp__method=knn, modelpred__random_number=0.176286300629, log__trans_flag=True, inter__degree=[2, 3] -  27.9s\n",
      "[CV] modelpred__modelwithparams=['GaussianNB', {}], inter__add_list=[], imp__method=mode, modelpred__random_number=0.158691697306, log__trans_flag=False, inter__degree=[2] \n",
      "[CV]  modelpred__modelwithparams=['GaussianNB', {}], inter__add_list=[], imp__method=mode, modelpred__random_number=0.158691697306, log__trans_flag=False, inter__degree=[2] -   0.1s\n",
      "[CV] modelpred__modelwithparams=['GaussianNB', {}], inter__add_list=[], imp__method=mode, modelpred__random_number=0.158691697306, log__trans_flag=False, inter__degree=[2] \n",
      "[CV]  modelpred__modelwithparams=['GaussianNB', {}], inter__add_list=[], imp__method=mode, modelpred__random_number=0.158691697306, log__trans_flag=False, inter__degree=[2] -   0.1s\n",
      "[CV] modelpred__modelwithparams=['GaussianNB', {}], inter__add_list=[], imp__method=mode, modelpred__random_number=0.158691697306, log__trans_flag=False, inter__degree=[2] \n",
      "[CV]  modelpred__modelwithparams=['GaussianNB', {}], inter__add_list=[], imp__method=mode, modelpred__random_number=0.158691697306, log__trans_flag=False, inter__degree=[2] -   0.1s\n",
      "[CV] modelpred__modelwithparams=['GaussianNB', {}], inter__add_list=[], imp__method=mode, modelpred__random_number=0.158691697306, log__trans_flag=False, inter__degree=[2] \n",
      "[CV]  modelpred__modelwithparams=['GaussianNB', {}], inter__add_list=[], imp__method=mode, modelpred__random_number=0.158691697306, log__trans_flag=False, inter__degree=[2] -   0.1s\n",
      "[CV] modelpred__modelwithparams=['GaussianNB', {}], inter__add_list=[], imp__method=mode, modelpred__random_number=0.158691697306, log__trans_flag=False, inter__degree=[2] \n",
      "[CV]  modelpred__modelwithparams=['GaussianNB', {}], inter__add_list=[], imp__method=mode, modelpred__random_number=0.158691697306, log__trans_flag=False, inter__degree=[2] -   0.1s\n",
      "[CV] modelpred__modelwithparams=['GaussianNB', {}], inter__add_list=[], imp__method=knn, modelpred__random_number=0.92984916713, log__trans_flag=True, inter__degree=[2, 3] \n",
      "[CV]  modelpred__modelwithparams=['GaussianNB', {}], inter__add_list=[], imp__method=knn, modelpred__random_number=0.92984916713, log__trans_flag=True, inter__degree=[2, 3] -   0.5s\n",
      "[CV] modelpred__modelwithparams=['GaussianNB', {}], inter__add_list=[], imp__method=knn, modelpred__random_number=0.92984916713, log__trans_flag=True, inter__degree=[2, 3] \n",
      "[CV]  modelpred__modelwithparams=['GaussianNB', {}], inter__add_list=[], imp__method=knn, modelpred__random_number=0.92984916713, log__trans_flag=True, inter__degree=[2, 3] -   0.8s\n",
      "[CV] modelpred__modelwithparams=['GaussianNB', {}], inter__add_list=[], imp__method=knn, modelpred__random_number=0.92984916713, log__trans_flag=True, inter__degree=[2, 3] \n",
      "[CV]  modelpred__modelwithparams=['GaussianNB', {}], inter__add_list=[], imp__method=knn, modelpred__random_number=0.92984916713, log__trans_flag=True, inter__degree=[2, 3] -   0.8s\n",
      "[CV] modelpred__modelwithparams=['GaussianNB', {}], inter__add_list=[], imp__method=knn, modelpred__random_number=0.92984916713, log__trans_flag=True, inter__degree=[2, 3] \n",
      "[CV]  modelpred__modelwithparams=['GaussianNB', {}], inter__add_list=[], imp__method=knn, modelpred__random_number=0.92984916713, log__trans_flag=True, inter__degree=[2, 3] -   0.8s\n",
      "[CV] modelpred__modelwithparams=['GaussianNB', {}], inter__add_list=[], imp__method=knn, modelpred__random_number=0.92984916713, log__trans_flag=True, inter__degree=[2, 3] \n",
      "[CV]  modelpred__modelwithparams=['GaussianNB', {}], inter__add_list=[], imp__method=knn, modelpred__random_number=0.92984916713, log__trans_flag=True, inter__degree=[2, 3] -   0.8s\n",
      "[CV] modelpred__modelwithparams=['GBC', {'max_features': array([ 0.3,  0.4,  0.5,  0.6,  0.7,  0.8,  0.9]), 'n_estimators': [200], 'loss': ['deviance', 'exponential'], 'max_depth': [1, 2, 3, 4, 5, 6], 'min_samples_leaf': [2, 3, 4, 5, 6, 7, 8, 9, 10]}], inter__add_list=['RevolvingUtilizationOfUnsecuredLines', 'DebtRatio', 'MonthlyIncome', 'age', 'NumberOfOpenCreditLinesAndLoans'], imp__method=mean, modelpred__random_number=0.302960007453, log__trans_flag=False, inter__degree=[2, 3] \n",
      "[CV]  modelpred__modelwithparams=['GBC', {'max_features': array([ 0.3,  0.4,  0.5,  0.6,  0.7,  0.8,  0.9]), 'n_estimators': [200], 'loss': ['deviance', 'exponential'], 'max_depth': [1, 2, 3, 4, 5, 6], 'min_samples_leaf': [2, 3, 4, 5, 6, 7, 8, 9, 10]}], inter__add_list=['RevolvingUtilizationOfUnsecuredLines', 'DebtRatio', 'MonthlyIncome', 'age', 'NumberOfOpenCreditLinesAndLoans'], imp__method=mean, modelpred__random_number=0.302960007453, log__trans_flag=False, inter__degree=[2, 3] -  24.1s\n",
      "[CV] modelpred__modelwithparams=['GBC', {'max_features': array([ 0.3,  0.4,  0.5,  0.6,  0.7,  0.8,  0.9]), 'n_estimators': [200], 'loss': ['deviance', 'exponential'], 'max_depth': [1, 2, 3, 4, 5, 6], 'min_samples_leaf': [2, 3, 4, 5, 6, 7, 8, 9, 10]}], inter__add_list=['RevolvingUtilizationOfUnsecuredLines', 'DebtRatio', 'MonthlyIncome', 'age', 'NumberOfOpenCreditLinesAndLoans'], imp__method=mean, modelpred__random_number=0.302960007453, log__trans_flag=False, inter__degree=[2, 3] \n",
      "[CV]  modelpred__modelwithparams=['GBC', {'max_features': array([ 0.3,  0.4,  0.5,  0.6,  0.7,  0.8,  0.9]), 'n_estimators': [200], 'loss': ['deviance', 'exponential'], 'max_depth': [1, 2, 3, 4, 5, 6], 'min_samples_leaf': [2, 3, 4, 5, 6, 7, 8, 9, 10]}], inter__add_list=['RevolvingUtilizationOfUnsecuredLines', 'DebtRatio', 'MonthlyIncome', 'age', 'NumberOfOpenCreditLinesAndLoans'], imp__method=mean, modelpred__random_number=0.302960007453, log__trans_flag=False, inter__degree=[2, 3] -  23.9s\n",
      "[CV] modelpred__modelwithparams=['GBC', {'max_features': array([ 0.3,  0.4,  0.5,  0.6,  0.7,  0.8,  0.9]), 'n_estimators': [200], 'loss': ['deviance', 'exponential'], 'max_depth': [1, 2, 3, 4, 5, 6], 'min_samples_leaf': [2, 3, 4, 5, 6, 7, 8, 9, 10]}], inter__add_list=['RevolvingUtilizationOfUnsecuredLines', 'DebtRatio', 'MonthlyIncome', 'age', 'NumberOfOpenCreditLinesAndLoans'], imp__method=mean, modelpred__random_number=0.302960007453, log__trans_flag=False, inter__degree=[2, 3] \n",
      "[CV]  modelpred__modelwithparams=['GBC', {'max_features': array([ 0.3,  0.4,  0.5,  0.6,  0.7,  0.8,  0.9]), 'n_estimators': [200], 'loss': ['deviance', 'exponential'], 'max_depth': [1, 2, 3, 4, 5, 6], 'min_samples_leaf': [2, 3, 4, 5, 6, 7, 8, 9, 10]}], inter__add_list=['RevolvingUtilizationOfUnsecuredLines', 'DebtRatio', 'MonthlyIncome', 'age', 'NumberOfOpenCreditLinesAndLoans'], imp__method=mean, modelpred__random_number=0.302960007453, log__trans_flag=False, inter__degree=[2, 3] -  23.2s\n",
      "[CV] modelpred__modelwithparams=['GBC', {'max_features': array([ 0.3,  0.4,  0.5,  0.6,  0.7,  0.8,  0.9]), 'n_estimators': [200], 'loss': ['deviance', 'exponential'], 'max_depth': [1, 2, 3, 4, 5, 6], 'min_samples_leaf': [2, 3, 4, 5, 6, 7, 8, 9, 10]}], inter__add_list=['RevolvingUtilizationOfUnsecuredLines', 'DebtRatio', 'MonthlyIncome', 'age', 'NumberOfOpenCreditLinesAndLoans'], imp__method=mean, modelpred__random_number=0.302960007453, log__trans_flag=False, inter__degree=[2, 3] \n",
      "[CV]  modelpred__modelwithparams=['GBC', {'max_features': array([ 0.3,  0.4,  0.5,  0.6,  0.7,  0.8,  0.9]), 'n_estimators': [200], 'loss': ['deviance', 'exponential'], 'max_depth': [1, 2, 3, 4, 5, 6], 'min_samples_leaf': [2, 3, 4, 5, 6, 7, 8, 9, 10]}], inter__add_list=['RevolvingUtilizationOfUnsecuredLines', 'DebtRatio', 'MonthlyIncome', 'age', 'NumberOfOpenCreditLinesAndLoans'], imp__method=mean, modelpred__random_number=0.302960007453, log__trans_flag=False, inter__degree=[2, 3] -  23.2s\n",
      "[CV] modelpred__modelwithparams=['GBC', {'max_features': array([ 0.3,  0.4,  0.5,  0.6,  0.7,  0.8,  0.9]), 'n_estimators': [200], 'loss': ['deviance', 'exponential'], 'max_depth': [1, 2, 3, 4, 5, 6], 'min_samples_leaf': [2, 3, 4, 5, 6, 7, 8, 9, 10]}], inter__add_list=['RevolvingUtilizationOfUnsecuredLines', 'DebtRatio', 'MonthlyIncome', 'age', 'NumberOfOpenCreditLinesAndLoans'], imp__method=mean, modelpred__random_number=0.302960007453, log__trans_flag=False, inter__degree=[2, 3] \n",
      "[CV]  modelpred__modelwithparams=['GBC', {'max_features': array([ 0.3,  0.4,  0.5,  0.6,  0.7,  0.8,  0.9]), 'n_estimators': [200], 'loss': ['deviance', 'exponential'], 'max_depth': [1, 2, 3, 4, 5, 6], 'min_samples_leaf': [2, 3, 4, 5, 6, 7, 8, 9, 10]}], inter__add_list=['RevolvingUtilizationOfUnsecuredLines', 'DebtRatio', 'MonthlyIncome', 'age', 'NumberOfOpenCreditLinesAndLoans'], imp__method=mean, modelpred__random_number=0.302960007453, log__trans_flag=False, inter__degree=[2, 3] -  23.7s\n",
      "[CV] modelpred__modelwithparams=['LDA', {}], inter__add_list=[], imp__method=max, modelpred__random_number=0.689822342872, log__trans_flag=False, inter__degree=[2, 3] \n",
      "[CV]  modelpred__modelwithparams=['LDA', {}], inter__add_list=[], imp__method=max, modelpred__random_number=0.689822342872, log__trans_flag=False, inter__degree=[2, 3] -   0.2s\n",
      "[CV] modelpred__modelwithparams=['LDA', {}], inter__add_list=[], imp__method=max, modelpred__random_number=0.689822342872, log__trans_flag=False, inter__degree=[2, 3] \n",
      "[CV]  modelpred__modelwithparams=['LDA', {}], inter__add_list=[], imp__method=max, modelpred__random_number=0.689822342872, log__trans_flag=False, inter__degree=[2, 3] -   0.2s\n",
      "[CV] modelpred__modelwithparams=['LDA', {}], inter__add_list=[], imp__method=max, modelpred__random_number=0.689822342872, log__trans_flag=False, inter__degree=[2, 3] \n",
      "[CV]  modelpred__modelwithparams=['LDA', {}], inter__add_list=[], imp__method=max, modelpred__random_number=0.689822342872, log__trans_flag=False, inter__degree=[2, 3] -   0.2s\n",
      "[CV] modelpred__modelwithparams=['LDA', {}], inter__add_list=[], imp__method=max, modelpred__random_number=0.689822342872, log__trans_flag=False, inter__degree=[2, 3] \n",
      "[CV]  modelpred__modelwithparams=['LDA', {}], inter__add_list=[], imp__method=max, modelpred__random_number=0.689822342872, log__trans_flag=False, inter__degree=[2, 3] -   0.2s\n",
      "[CV] modelpred__modelwithparams=['LDA', {}], inter__add_list=[], imp__method=max, modelpred__random_number=0.689822342872, log__trans_flag=False, inter__degree=[2, 3] \n",
      "[CV]  modelpred__modelwithparams=['LDA', {}], inter__add_list=[], imp__method=max, modelpred__random_number=0.689822342872, log__trans_flag=False, inter__degree=[2, 3] -   0.2s\n",
      "[CV] modelpred__modelwithparams=['QDA', {}], inter__add_list=[], imp__method=max, modelpred__random_number=0.0755117843134, log__trans_flag=True, inter__degree=[2, 3] \n",
      "[CV]  modelpred__modelwithparams=['QDA', {}], inter__add_list=[], imp__method=max, modelpred__random_number=0.0755117843134, log__trans_flag=True, inter__degree=[2, 3] -   0.2s\n",
      "[CV] modelpred__modelwithparams=['QDA', {}], inter__add_list=[], imp__method=max, modelpred__random_number=0.0755117843134, log__trans_flag=True, inter__degree=[2, 3] \n",
      "[CV]  modelpred__modelwithparams=['QDA', {}], inter__add_list=[], imp__method=max, modelpred__random_number=0.0755117843134, log__trans_flag=True, inter__degree=[2, 3] -   0.2s\n",
      "[CV] modelpred__modelwithparams=['QDA', {}], inter__add_list=[], imp__method=max, modelpred__random_number=0.0755117843134, log__trans_flag=True, inter__degree=[2, 3] \n",
      "[CV]  modelpred__modelwithparams=['QDA', {}], inter__add_list=[], imp__method=max, modelpred__random_number=0.0755117843134, log__trans_flag=True, inter__degree=[2, 3] -   0.2s\n",
      "[CV] modelpred__modelwithparams=['QDA', {}], inter__add_list=[], imp__method=max, modelpred__random_number=0.0755117843134, log__trans_flag=True, inter__degree=[2, 3] \n",
      "[CV]  modelpred__modelwithparams=['QDA', {}], inter__add_list=[], imp__method=max, modelpred__random_number=0.0755117843134, log__trans_flag=True, inter__degree=[2, 3] -   0.2s\n",
      "[CV] modelpred__modelwithparams=['QDA', {}], inter__add_list=[], imp__method=max, modelpred__random_number=0.0755117843134, log__trans_flag=True, inter__degree=[2, 3] \n",
      "[CV]  modelpred__modelwithparams=['QDA', {}], inter__add_list=[], imp__method=max, modelpred__random_number=0.0755117843134, log__trans_flag=True, inter__degree=[2, 3] -   0.2s\n",
      "[CV] modelpred__modelwithparams=['GaussianNB', {}], inter__add_list=[], imp__method=mode, modelpred__random_number=0.969491065647, log__trans_flag=True, inter__degree=[2] \n",
      "[CV]  modelpred__modelwithparams=['GaussianNB', {}], inter__add_list=[], imp__method=mode, modelpred__random_number=0.969491065647, log__trans_flag=True, inter__degree=[2] -   0.2s\n",
      "[CV] modelpred__modelwithparams=['GaussianNB', {}], inter__add_list=[], imp__method=mode, modelpred__random_number=0.969491065647, log__trans_flag=True, inter__degree=[2] \n",
      "[CV]  modelpred__modelwithparams=['GaussianNB', {}], inter__add_list=[], imp__method=mode, modelpred__random_number=0.969491065647, log__trans_flag=True, inter__degree=[2] -   0.1s\n",
      "[CV] modelpred__modelwithparams=['GaussianNB', {}], inter__add_list=[], imp__method=mode, modelpred__random_number=0.969491065647, log__trans_flag=True, inter__degree=[2] \n",
      "[CV]  modelpred__modelwithparams=['GaussianNB', {}], inter__add_list=[], imp__method=mode, modelpred__random_number=0.969491065647, log__trans_flag=True, inter__degree=[2] -   0.1s\n",
      "[CV] modelpred__modelwithparams=['GaussianNB', {}], inter__add_list=[], imp__method=mode, modelpred__random_number=0.969491065647, log__trans_flag=True, inter__degree=[2] \n",
      "[CV]  modelpred__modelwithparams=['GaussianNB', {}], inter__add_list=[], imp__method=mode, modelpred__random_number=0.969491065647, log__trans_flag=True, inter__degree=[2] -   0.1s\n",
      "[CV] modelpred__modelwithparams=['GaussianNB', {}], inter__add_list=[], imp__method=mode, modelpred__random_number=0.969491065647, log__trans_flag=True, inter__degree=[2] \n",
      "[CV]  modelpred__modelwithparams=['GaussianNB', {}], inter__add_list=[], imp__method=mode, modelpred__random_number=0.969491065647, log__trans_flag=True, inter__degree=[2] -   0.1s\n",
      "[CV] modelpred__modelwithparams=['ExTree', {'n_estimators': [200], 'max_features': array([ 0.1,  0.2,  0.3,  0.4,  0.5,  0.6,  0.7,  0.8]), 'n_jobs': [-1], 'max_depth': [10, 11, 12, 13, 14, 15, 16, 17, 18, 19, 20, 21, 22, 23, 24, 25, 26, 27, 28, 29]}], inter__add_list=['RevolvingUtilizationOfUnsecuredLines', 'DebtRatio', 'MonthlyIncome', 'age', 'NumberOfOpenCreditLinesAndLoans'], imp__method=median, modelpred__random_number=0.319553418481, log__trans_flag=False, inter__degree=[2, 3] \n",
      "[CV]  modelpred__modelwithparams=['ExTree', {'n_estimators': [200], 'max_features': array([ 0.1,  0.2,  0.3,  0.4,  0.5,  0.6,  0.7,  0.8]), 'n_jobs': [-1], 'max_depth': [10, 11, 12, 13, 14, 15, 16, 17, 18, 19, 20, 21, 22, 23, 24, 25, 26, 27, 28, 29]}], inter__add_list=['RevolvingUtilizationOfUnsecuredLines', 'DebtRatio', 'MonthlyIncome', 'age', 'NumberOfOpenCreditLinesAndLoans'], imp__method=median, modelpred__random_number=0.319553418481, log__trans_flag=False, inter__degree=[2, 3] -  24.6s\n",
      "[CV] modelpred__modelwithparams=['ExTree', {'n_estimators': [200], 'max_features': array([ 0.1,  0.2,  0.3,  0.4,  0.5,  0.6,  0.7,  0.8]), 'n_jobs': [-1], 'max_depth': [10, 11, 12, 13, 14, 15, 16, 17, 18, 19, 20, 21, 22, 23, 24, 25, 26, 27, 28, 29]}], inter__add_list=['RevolvingUtilizationOfUnsecuredLines', 'DebtRatio', 'MonthlyIncome', 'age', 'NumberOfOpenCreditLinesAndLoans'], imp__method=median, modelpred__random_number=0.319553418481, log__trans_flag=False, inter__degree=[2, 3] \n",
      "[CV]  modelpred__modelwithparams=['ExTree', {'n_estimators': [200], 'max_features': array([ 0.1,  0.2,  0.3,  0.4,  0.5,  0.6,  0.7,  0.8]), 'n_jobs': [-1], 'max_depth': [10, 11, 12, 13, 14, 15, 16, 17, 18, 19, 20, 21, 22, 23, 24, 25, 26, 27, 28, 29]}], inter__add_list=['RevolvingUtilizationOfUnsecuredLines', 'DebtRatio', 'MonthlyIncome', 'age', 'NumberOfOpenCreditLinesAndLoans'], imp__method=median, modelpred__random_number=0.319553418481, log__trans_flag=False, inter__degree=[2, 3] -  24.6s\n",
      "[CV] modelpred__modelwithparams=['ExTree', {'n_estimators': [200], 'max_features': array([ 0.1,  0.2,  0.3,  0.4,  0.5,  0.6,  0.7,  0.8]), 'n_jobs': [-1], 'max_depth': [10, 11, 12, 13, 14, 15, 16, 17, 18, 19, 20, 21, 22, 23, 24, 25, 26, 27, 28, 29]}], inter__add_list=['RevolvingUtilizationOfUnsecuredLines', 'DebtRatio', 'MonthlyIncome', 'age', 'NumberOfOpenCreditLinesAndLoans'], imp__method=median, modelpred__random_number=0.319553418481, log__trans_flag=False, inter__degree=[2, 3] \n",
      "[CV]  modelpred__modelwithparams=['ExTree', {'n_estimators': [200], 'max_features': array([ 0.1,  0.2,  0.3,  0.4,  0.5,  0.6,  0.7,  0.8]), 'n_jobs': [-1], 'max_depth': [10, 11, 12, 13, 14, 15, 16, 17, 18, 19, 20, 21, 22, 23, 24, 25, 26, 27, 28, 29]}], inter__add_list=['RevolvingUtilizationOfUnsecuredLines', 'DebtRatio', 'MonthlyIncome', 'age', 'NumberOfOpenCreditLinesAndLoans'], imp__method=median, modelpred__random_number=0.319553418481, log__trans_flag=False, inter__degree=[2, 3] -  24.7s\n",
      "[CV] modelpred__modelwithparams=['ExTree', {'n_estimators': [200], 'max_features': array([ 0.1,  0.2,  0.3,  0.4,  0.5,  0.6,  0.7,  0.8]), 'n_jobs': [-1], 'max_depth': [10, 11, 12, 13, 14, 15, 16, 17, 18, 19, 20, 21, 22, 23, 24, 25, 26, 27, 28, 29]}], inter__add_list=['RevolvingUtilizationOfUnsecuredLines', 'DebtRatio', 'MonthlyIncome', 'age', 'NumberOfOpenCreditLinesAndLoans'], imp__method=median, modelpred__random_number=0.319553418481, log__trans_flag=False, inter__degree=[2, 3] \n",
      "[CV]  modelpred__modelwithparams=['ExTree', {'n_estimators': [200], 'max_features': array([ 0.1,  0.2,  0.3,  0.4,  0.5,  0.6,  0.7,  0.8]), 'n_jobs': [-1], 'max_depth': [10, 11, 12, 13, 14, 15, 16, 17, 18, 19, 20, 21, 22, 23, 24, 25, 26, 27, 28, 29]}], inter__add_list=['RevolvingUtilizationOfUnsecuredLines', 'DebtRatio', 'MonthlyIncome', 'age', 'NumberOfOpenCreditLinesAndLoans'], imp__method=median, modelpred__random_number=0.319553418481, log__trans_flag=False, inter__degree=[2, 3] -  24.8s\n",
      "[CV] modelpred__modelwithparams=['ExTree', {'n_estimators': [200], 'max_features': array([ 0.1,  0.2,  0.3,  0.4,  0.5,  0.6,  0.7,  0.8]), 'n_jobs': [-1], 'max_depth': [10, 11, 12, 13, 14, 15, 16, 17, 18, 19, 20, 21, 22, 23, 24, 25, 26, 27, 28, 29]}], inter__add_list=['RevolvingUtilizationOfUnsecuredLines', 'DebtRatio', 'MonthlyIncome', 'age', 'NumberOfOpenCreditLinesAndLoans'], imp__method=median, modelpred__random_number=0.319553418481, log__trans_flag=False, inter__degree=[2, 3] \n",
      "[CV]  modelpred__modelwithparams=['ExTree', {'n_estimators': [200], 'max_features': array([ 0.1,  0.2,  0.3,  0.4,  0.5,  0.6,  0.7,  0.8]), 'n_jobs': [-1], 'max_depth': [10, 11, 12, 13, 14, 15, 16, 17, 18, 19, 20, 21, 22, 23, 24, 25, 26, 27, 28, 29]}], inter__add_list=['RevolvingUtilizationOfUnsecuredLines', 'DebtRatio', 'MonthlyIncome', 'age', 'NumberOfOpenCreditLinesAndLoans'], imp__method=median, modelpred__random_number=0.319553418481, log__trans_flag=False, inter__degree=[2, 3] -  24.5s\n",
      "[CV] modelpred__modelwithparams=['BagTree', {'n_estimators': [200], 'max_samples': [0.6, 0.7, 0.8, 0.9]}], inter__add_list=[], imp__method=knn, modelpred__random_number=0.528970527914, log__trans_flag=False, inter__degree=[2] \n",
      "[CV]  modelpred__modelwithparams=['BagTree', {'n_estimators': [200], 'max_samples': [0.6, 0.7, 0.8, 0.9]}], inter__add_list=[], imp__method=knn, modelpred__random_number=0.528970527914, log__trans_flag=False, inter__degree=[2] - 1.3min\n",
      "[CV] modelpred__modelwithparams=['BagTree', {'n_estimators': [200], 'max_samples': [0.6, 0.7, 0.8, 0.9]}], inter__add_list=[], imp__method=knn, modelpred__random_number=0.528970527914, log__trans_flag=False, inter__degree=[2] \n",
      "[CV]  modelpred__modelwithparams=['BagTree', {'n_estimators': [200], 'max_samples': [0.6, 0.7, 0.8, 0.9]}], inter__add_list=[], imp__method=knn, modelpred__random_number=0.528970527914, log__trans_flag=False, inter__degree=[2] - 1.3min\n",
      "[CV] modelpred__modelwithparams=['BagTree', {'n_estimators': [200], 'max_samples': [0.6, 0.7, 0.8, 0.9]}], inter__add_list=[], imp__method=knn, modelpred__random_number=0.528970527914, log__trans_flag=False, inter__degree=[2] \n",
      "[CV]  modelpred__modelwithparams=['BagTree', {'n_estimators': [200], 'max_samples': [0.6, 0.7, 0.8, 0.9]}], inter__add_list=[], imp__method=knn, modelpred__random_number=0.528970527914, log__trans_flag=False, inter__degree=[2] - 1.4min\n",
      "[CV] modelpred__modelwithparams=['BagTree', {'n_estimators': [200], 'max_samples': [0.6, 0.7, 0.8, 0.9]}], inter__add_list=[], imp__method=knn, modelpred__random_number=0.528970527914, log__trans_flag=False, inter__degree=[2] \n",
      "[CV]  modelpred__modelwithparams=['BagTree', {'n_estimators': [200], 'max_samples': [0.6, 0.7, 0.8, 0.9]}], inter__add_list=[], imp__method=knn, modelpred__random_number=0.528970527914, log__trans_flag=False, inter__degree=[2] - 1.3min\n",
      "[CV] modelpred__modelwithparams=['BagTree', {'n_estimators': [200], 'max_samples': [0.6, 0.7, 0.8, 0.9]}], inter__add_list=[], imp__method=knn, modelpred__random_number=0.528970527914, log__trans_flag=False, inter__degree=[2] \n",
      "[CV]  modelpred__modelwithparams=['BagTree', {'n_estimators': [200], 'max_samples': [0.6, 0.7, 0.8, 0.9]}], inter__add_list=[], imp__method=knn, modelpred__random_number=0.528970527914, log__trans_flag=False, inter__degree=[2] - 1.3min\n",
      "[CV] modelpred__modelwithparams=['KNN', {'n_neighbors': [200, 220, 240, 260, 280, 300, 320, 340, 360, 380], 'weights': ['uniform', 'distance']}], inter__add_list=[], imp__method=max, modelpred__random_number=0.445307746031, log__trans_flag=True, inter__degree=[2, 3] \n",
      "[CV]  modelpred__modelwithparams=['KNN', {'n_neighbors': [200, 220, 240, 260, 280, 300, 320, 340, 360, 380], 'weights': ['uniform', 'distance']}], inter__add_list=[], imp__method=max, modelpred__random_number=0.445307746031, log__trans_flag=True, inter__degree=[2, 3] -  20.6s\n",
      "[CV] modelpred__modelwithparams=['KNN', {'n_neighbors': [200, 220, 240, 260, 280, 300, 320, 340, 360, 380], 'weights': ['uniform', 'distance']}], inter__add_list=[], imp__method=max, modelpred__random_number=0.445307746031, log__trans_flag=True, inter__degree=[2, 3] \n",
      "[CV]  modelpred__modelwithparams=['KNN', {'n_neighbors': [200, 220, 240, 260, 280, 300, 320, 340, 360, 380], 'weights': ['uniform', 'distance']}], inter__add_list=[], imp__method=max, modelpred__random_number=0.445307746031, log__trans_flag=True, inter__degree=[2, 3] -  20.2s\n",
      "[CV] modelpred__modelwithparams=['KNN', {'n_neighbors': [200, 220, 240, 260, 280, 300, 320, 340, 360, 380], 'weights': ['uniform', 'distance']}], inter__add_list=[], imp__method=max, modelpred__random_number=0.445307746031, log__trans_flag=True, inter__degree=[2, 3] \n",
      "[CV]  modelpred__modelwithparams=['KNN', {'n_neighbors': [200, 220, 240, 260, 280, 300, 320, 340, 360, 380], 'weights': ['uniform', 'distance']}], inter__add_list=[], imp__method=max, modelpred__random_number=0.445307746031, log__trans_flag=True, inter__degree=[2, 3] -  20.7s\n",
      "[CV] modelpred__modelwithparams=['KNN', {'n_neighbors': [200, 220, 240, 260, 280, 300, 320, 340, 360, 380], 'weights': ['uniform', 'distance']}], inter__add_list=[], imp__method=max, modelpred__random_number=0.445307746031, log__trans_flag=True, inter__degree=[2, 3] \n",
      "[CV]  modelpred__modelwithparams=['KNN', {'n_neighbors': [200, 220, 240, 260, 280, 300, 320, 340, 360, 380], 'weights': ['uniform', 'distance']}], inter__add_list=[], imp__method=max, modelpred__random_number=0.445307746031, log__trans_flag=True, inter__degree=[2, 3] -  20.3s\n",
      "[CV] modelpred__modelwithparams=['KNN', {'n_neighbors': [200, 220, 240, 260, 280, 300, 320, 340, 360, 380], 'weights': ['uniform', 'distance']}], inter__add_list=[], imp__method=max, modelpred__random_number=0.445307746031, log__trans_flag=True, inter__degree=[2, 3] \n",
      "[CV]  modelpred__modelwithparams=['KNN', {'n_neighbors': [200, 220, 240, 260, 280, 300, 320, 340, 360, 380], 'weights': ['uniform', 'distance']}], inter__add_list=[], imp__method=max, modelpred__random_number=0.445307746031, log__trans_flag=True, inter__degree=[2, 3] -  20.4s\n",
      "[CV] modelpred__modelwithparams=['ExTree', {'n_estimators': [200], 'max_features': array([ 0.1,  0.2,  0.3,  0.4,  0.5,  0.6,  0.7,  0.8]), 'n_jobs': [-1], 'max_depth': [10, 11, 12, 13, 14, 15, 16, 17, 18, 19, 20, 21, 22, 23, 24, 25, 26, 27, 28, 29]}], inter__add_list=[], imp__method=max, modelpred__random_number=0.510151716594, log__trans_flag=False, inter__degree=[2, 3] \n",
      "[CV]  modelpred__modelwithparams=['ExTree', {'n_estimators': [200], 'max_features': array([ 0.1,  0.2,  0.3,  0.4,  0.5,  0.6,  0.7,  0.8]), 'n_jobs': [-1], 'max_depth': [10, 11, 12, 13, 14, 15, 16, 17, 18, 19, 20, 21, 22, 23, 24, 25, 26, 27, 28, 29]}], inter__add_list=[], imp__method=max, modelpred__random_number=0.510151716594, log__trans_flag=False, inter__degree=[2, 3] -   8.6s\n",
      "[CV] modelpred__modelwithparams=['ExTree', {'n_estimators': [200], 'max_features': array([ 0.1,  0.2,  0.3,  0.4,  0.5,  0.6,  0.7,  0.8]), 'n_jobs': [-1], 'max_depth': [10, 11, 12, 13, 14, 15, 16, 17, 18, 19, 20, 21, 22, 23, 24, 25, 26, 27, 28, 29]}], inter__add_list=[], imp__method=max, modelpred__random_number=0.510151716594, log__trans_flag=False, inter__degree=[2, 3] \n",
      "[CV]  modelpred__modelwithparams=['ExTree', {'n_estimators': [200], 'max_features': array([ 0.1,  0.2,  0.3,  0.4,  0.5,  0.6,  0.7,  0.8]), 'n_jobs': [-1], 'max_depth': [10, 11, 12, 13, 14, 15, 16, 17, 18, 19, 20, 21, 22, 23, 24, 25, 26, 27, 28, 29]}], inter__add_list=[], imp__method=max, modelpred__random_number=0.510151716594, log__trans_flag=False, inter__degree=[2, 3] -   8.5s\n",
      "[CV] modelpred__modelwithparams=['ExTree', {'n_estimators': [200], 'max_features': array([ 0.1,  0.2,  0.3,  0.4,  0.5,  0.6,  0.7,  0.8]), 'n_jobs': [-1], 'max_depth': [10, 11, 12, 13, 14, 15, 16, 17, 18, 19, 20, 21, 22, 23, 24, 25, 26, 27, 28, 29]}], inter__add_list=[], imp__method=max, modelpred__random_number=0.510151716594, log__trans_flag=False, inter__degree=[2, 3] \n",
      "[CV]  modelpred__modelwithparams=['ExTree', {'n_estimators': [200], 'max_features': array([ 0.1,  0.2,  0.3,  0.4,  0.5,  0.6,  0.7,  0.8]), 'n_jobs': [-1], 'max_depth': [10, 11, 12, 13, 14, 15, 16, 17, 18, 19, 20, 21, 22, 23, 24, 25, 26, 27, 28, 29]}], inter__add_list=[], imp__method=max, modelpred__random_number=0.510151716594, log__trans_flag=False, inter__degree=[2, 3] -   8.7s\n",
      "[CV] modelpred__modelwithparams=['ExTree', {'n_estimators': [200], 'max_features': array([ 0.1,  0.2,  0.3,  0.4,  0.5,  0.6,  0.7,  0.8]), 'n_jobs': [-1], 'max_depth': [10, 11, 12, 13, 14, 15, 16, 17, 18, 19, 20, 21, 22, 23, 24, 25, 26, 27, 28, 29]}], inter__add_list=[], imp__method=max, modelpred__random_number=0.510151716594, log__trans_flag=False, inter__degree=[2, 3] \n",
      "[CV]  modelpred__modelwithparams=['ExTree', {'n_estimators': [200], 'max_features': array([ 0.1,  0.2,  0.3,  0.4,  0.5,  0.6,  0.7,  0.8]), 'n_jobs': [-1], 'max_depth': [10, 11, 12, 13, 14, 15, 16, 17, 18, 19, 20, 21, 22, 23, 24, 25, 26, 27, 28, 29]}], inter__add_list=[], imp__method=max, modelpred__random_number=0.510151716594, log__trans_flag=False, inter__degree=[2, 3] -   8.6s\n",
      "[CV] modelpred__modelwithparams=['ExTree', {'n_estimators': [200], 'max_features': array([ 0.1,  0.2,  0.3,  0.4,  0.5,  0.6,  0.7,  0.8]), 'n_jobs': [-1], 'max_depth': [10, 11, 12, 13, 14, 15, 16, 17, 18, 19, 20, 21, 22, 23, 24, 25, 26, 27, 28, 29]}], inter__add_list=[], imp__method=max, modelpred__random_number=0.510151716594, log__trans_flag=False, inter__degree=[2, 3] \n",
      "[CV]  modelpred__modelwithparams=['ExTree', {'n_estimators': [200], 'max_features': array([ 0.1,  0.2,  0.3,  0.4,  0.5,  0.6,  0.7,  0.8]), 'n_jobs': [-1], 'max_depth': [10, 11, 12, 13, 14, 15, 16, 17, 18, 19, 20, 21, 22, 23, 24, 25, 26, 27, 28, 29]}], inter__add_list=[], imp__method=max, modelpred__random_number=0.510151716594, log__trans_flag=False, inter__degree=[2, 3] -   8.8s\n",
      "[CV] modelpred__modelwithparams=['QDA', {}], inter__add_list=[], imp__method=max, modelpred__random_number=0.321520006331, log__trans_flag=True, inter__degree=[2, 3] \n",
      "[CV]  modelpred__modelwithparams=['QDA', {}], inter__add_list=[], imp__method=max, modelpred__random_number=0.321520006331, log__trans_flag=True, inter__degree=[2, 3] -   0.2s\n",
      "[CV] modelpred__modelwithparams=['QDA', {}], inter__add_list=[], imp__method=max, modelpred__random_number=0.321520006331, log__trans_flag=True, inter__degree=[2, 3] \n",
      "[CV]  modelpred__modelwithparams=['QDA', {}], inter__add_list=[], imp__method=max, modelpred__random_number=0.321520006331, log__trans_flag=True, inter__degree=[2, 3] -   0.2s\n",
      "[CV] modelpred__modelwithparams=['QDA', {}], inter__add_list=[], imp__method=max, modelpred__random_number=0.321520006331, log__trans_flag=True, inter__degree=[2, 3] \n",
      "[CV]  modelpred__modelwithparams=['QDA', {}], inter__add_list=[], imp__method=max, modelpred__random_number=0.321520006331, log__trans_flag=True, inter__degree=[2, 3] -   0.2s\n",
      "[CV] modelpred__modelwithparams=['QDA', {}], inter__add_list=[], imp__method=max, modelpred__random_number=0.321520006331, log__trans_flag=True, inter__degree=[2, 3] \n",
      "[CV]  modelpred__modelwithparams=['QDA', {}], inter__add_list=[], imp__method=max, modelpred__random_number=0.321520006331, log__trans_flag=True, inter__degree=[2, 3] -   0.3s\n",
      "[CV] modelpred__modelwithparams=['QDA', {}], inter__add_list=[], imp__method=max, modelpred__random_number=0.321520006331, log__trans_flag=True, inter__degree=[2, 3] \n",
      "[CV]  modelpred__modelwithparams=['QDA', {}], inter__add_list=[], imp__method=max, modelpred__random_number=0.321520006331, log__trans_flag=True, inter__degree=[2, 3] -   0.2s\n",
      "[CV] modelpred__modelwithparams=['ExTree', {'n_estimators': [200], 'max_features': array([ 0.1,  0.2,  0.3,  0.4,  0.5,  0.6,  0.7,  0.8]), 'n_jobs': [-1], 'max_depth': [10, 11, 12, 13, 14, 15, 16, 17, 18, 19, 20, 21, 22, 23, 24, 25, 26, 27, 28, 29]}], inter__add_list=['RevolvingUtilizationOfUnsecuredLines', 'DebtRatio', 'MonthlyIncome', 'age', 'NumberOfOpenCreditLinesAndLoans'], imp__method=mode, modelpred__random_number=0.636477662691, log__trans_flag=True, inter__degree=[2, 3] \n",
      "[CV]  modelpred__modelwithparams=['ExTree', {'n_estimators': [200], 'max_features': array([ 0.1,  0.2,  0.3,  0.4,  0.5,  0.6,  0.7,  0.8]), 'n_jobs': [-1], 'max_depth': [10, 11, 12, 13, 14, 15, 16, 17, 18, 19, 20, 21, 22, 23, 24, 25, 26, 27, 28, 29]}], inter__add_list=['RevolvingUtilizationOfUnsecuredLines', 'DebtRatio', 'MonthlyIncome', 'age', 'NumberOfOpenCreditLinesAndLoans'], imp__method=mode, modelpred__random_number=0.636477662691, log__trans_flag=True, inter__degree=[2, 3] -  30.3s\n",
      "[CV] modelpred__modelwithparams=['ExTree', {'n_estimators': [200], 'max_features': array([ 0.1,  0.2,  0.3,  0.4,  0.5,  0.6,  0.7,  0.8]), 'n_jobs': [-1], 'max_depth': [10, 11, 12, 13, 14, 15, 16, 17, 18, 19, 20, 21, 22, 23, 24, 25, 26, 27, 28, 29]}], inter__add_list=['RevolvingUtilizationOfUnsecuredLines', 'DebtRatio', 'MonthlyIncome', 'age', 'NumberOfOpenCreditLinesAndLoans'], imp__method=mode, modelpred__random_number=0.636477662691, log__trans_flag=True, inter__degree=[2, 3] \n",
      "[CV]  modelpred__modelwithparams=['ExTree', {'n_estimators': [200], 'max_features': array([ 0.1,  0.2,  0.3,  0.4,  0.5,  0.6,  0.7,  0.8]), 'n_jobs': [-1], 'max_depth': [10, 11, 12, 13, 14, 15, 16, 17, 18, 19, 20, 21, 22, 23, 24, 25, 26, 27, 28, 29]}], inter__add_list=['RevolvingUtilizationOfUnsecuredLines', 'DebtRatio', 'MonthlyIncome', 'age', 'NumberOfOpenCreditLinesAndLoans'], imp__method=mode, modelpred__random_number=0.636477662691, log__trans_flag=True, inter__degree=[2, 3] -  29.9s\n",
      "[CV] modelpred__modelwithparams=['ExTree', {'n_estimators': [200], 'max_features': array([ 0.1,  0.2,  0.3,  0.4,  0.5,  0.6,  0.7,  0.8]), 'n_jobs': [-1], 'max_depth': [10, 11, 12, 13, 14, 15, 16, 17, 18, 19, 20, 21, 22, 23, 24, 25, 26, 27, 28, 29]}], inter__add_list=['RevolvingUtilizationOfUnsecuredLines', 'DebtRatio', 'MonthlyIncome', 'age', 'NumberOfOpenCreditLinesAndLoans'], imp__method=mode, modelpred__random_number=0.636477662691, log__trans_flag=True, inter__degree=[2, 3] \n",
      "[CV]  modelpred__modelwithparams=['ExTree', {'n_estimators': [200], 'max_features': array([ 0.1,  0.2,  0.3,  0.4,  0.5,  0.6,  0.7,  0.8]), 'n_jobs': [-1], 'max_depth': [10, 11, 12, 13, 14, 15, 16, 17, 18, 19, 20, 21, 22, 23, 24, 25, 26, 27, 28, 29]}], inter__add_list=['RevolvingUtilizationOfUnsecuredLines', 'DebtRatio', 'MonthlyIncome', 'age', 'NumberOfOpenCreditLinesAndLoans'], imp__method=mode, modelpred__random_number=0.636477662691, log__trans_flag=True, inter__degree=[2, 3] -  29.8s\n",
      "[CV] modelpred__modelwithparams=['ExTree', {'n_estimators': [200], 'max_features': array([ 0.1,  0.2,  0.3,  0.4,  0.5,  0.6,  0.7,  0.8]), 'n_jobs': [-1], 'max_depth': [10, 11, 12, 13, 14, 15, 16, 17, 18, 19, 20, 21, 22, 23, 24, 25, 26, 27, 28, 29]}], inter__add_list=['RevolvingUtilizationOfUnsecuredLines', 'DebtRatio', 'MonthlyIncome', 'age', 'NumberOfOpenCreditLinesAndLoans'], imp__method=mode, modelpred__random_number=0.636477662691, log__trans_flag=True, inter__degree=[2, 3] \n",
      "[CV]  modelpred__modelwithparams=['ExTree', {'n_estimators': [200], 'max_features': array([ 0.1,  0.2,  0.3,  0.4,  0.5,  0.6,  0.7,  0.8]), 'n_jobs': [-1], 'max_depth': [10, 11, 12, 13, 14, 15, 16, 17, 18, 19, 20, 21, 22, 23, 24, 25, 26, 27, 28, 29]}], inter__add_list=['RevolvingUtilizationOfUnsecuredLines', 'DebtRatio', 'MonthlyIncome', 'age', 'NumberOfOpenCreditLinesAndLoans'], imp__method=mode, modelpred__random_number=0.636477662691, log__trans_flag=True, inter__degree=[2, 3] -  29.7s\n",
      "[CV] modelpred__modelwithparams=['ExTree', {'n_estimators': [200], 'max_features': array([ 0.1,  0.2,  0.3,  0.4,  0.5,  0.6,  0.7,  0.8]), 'n_jobs': [-1], 'max_depth': [10, 11, 12, 13, 14, 15, 16, 17, 18, 19, 20, 21, 22, 23, 24, 25, 26, 27, 28, 29]}], inter__add_list=['RevolvingUtilizationOfUnsecuredLines', 'DebtRatio', 'MonthlyIncome', 'age', 'NumberOfOpenCreditLinesAndLoans'], imp__method=mode, modelpred__random_number=0.636477662691, log__trans_flag=True, inter__degree=[2, 3] \n",
      "[CV]  modelpred__modelwithparams=['ExTree', {'n_estimators': [200], 'max_features': array([ 0.1,  0.2,  0.3,  0.4,  0.5,  0.6,  0.7,  0.8]), 'n_jobs': [-1], 'max_depth': [10, 11, 12, 13, 14, 15, 16, 17, 18, 19, 20, 21, 22, 23, 24, 25, 26, 27, 28, 29]}], inter__add_list=['RevolvingUtilizationOfUnsecuredLines', 'DebtRatio', 'MonthlyIncome', 'age', 'NumberOfOpenCreditLinesAndLoans'], imp__method=mode, modelpred__random_number=0.636477662691, log__trans_flag=True, inter__degree=[2, 3] -  29.9s\n",
      "[CV] modelpred__modelwithparams=['Cali_linear_SVC', {'C': array([ 0.01      ,  0.01274275,  0.01623777,  0.02069138,  0.02636651,\n",
      "        0.03359818,  0.04281332,  0.05455595,  0.06951928,  0.08858668,\n",
      "        0.11288379,  0.14384499,  0.18329807,  0.23357215,  0.29763514,\n",
      "        0.37926902,  0.48329302,  0.61584821,  0.78475997,  1.        ])}], inter__add_list=['RevolvingUtilizationOfUnsecuredLines', 'DebtRatio', 'MonthlyIncome', 'age', 'NumberOfOpenCreditLinesAndLoans'], imp__method=mean, modelpred__random_number=0.776110399037, log__trans_flag=False, inter__degree=[2, 3] \n",
      "[CV]  modelpred__modelwithparams=['Cali_linear_SVC', {'C': array([ 0.01      ,  0.01274275,  0.01623777,  0.02069138,  0.02636651,\n",
      "        0.03359818,  0.04281332,  0.05455595,  0.06951928,  0.08858668,\n",
      "        0.11288379,  0.14384499,  0.18329807,  0.23357215,  0.29763514,\n",
      "        0.37926902,  0.48329302,  0.61584821,  0.78475997,  1.        ])}], inter__add_list=['RevolvingUtilizationOfUnsecuredLines', 'DebtRatio', 'MonthlyIncome', 'age', 'NumberOfOpenCreditLinesAndLoans'], imp__method=mean, modelpred__random_number=0.776110399037, log__trans_flag=False, inter__degree=[2, 3] - 1.8min\n",
      "[CV] modelpred__modelwithparams=['Cali_linear_SVC', {'C': array([ 0.01      ,  0.01274275,  0.01623777,  0.02069138,  0.02636651,\n",
      "        0.03359818,  0.04281332,  0.05455595,  0.06951928,  0.08858668,\n",
      "        0.11288379,  0.14384499,  0.18329807,  0.23357215,  0.29763514,\n",
      "        0.37926902,  0.48329302,  0.61584821,  0.78475997,  1.        ])}], inter__add_list=['RevolvingUtilizationOfUnsecuredLines', 'DebtRatio', 'MonthlyIncome', 'age', 'NumberOfOpenCreditLinesAndLoans'], imp__method=mean, modelpred__random_number=0.776110399037, log__trans_flag=False, inter__degree=[2, 3] \n",
      "[CV]  modelpred__modelwithparams=['Cali_linear_SVC', {'C': array([ 0.01      ,  0.01274275,  0.01623777,  0.02069138,  0.02636651,\n",
      "        0.03359818,  0.04281332,  0.05455595,  0.06951928,  0.08858668,\n",
      "        0.11288379,  0.14384499,  0.18329807,  0.23357215,  0.29763514,\n",
      "        0.37926902,  0.48329302,  0.61584821,  0.78475997,  1.        ])}], inter__add_list=['RevolvingUtilizationOfUnsecuredLines', 'DebtRatio', 'MonthlyIncome', 'age', 'NumberOfOpenCreditLinesAndLoans'], imp__method=mean, modelpred__random_number=0.776110399037, log__trans_flag=False, inter__degree=[2, 3] - 1.7min\n",
      "[CV] modelpred__modelwithparams=['Cali_linear_SVC', {'C': array([ 0.01      ,  0.01274275,  0.01623777,  0.02069138,  0.02636651,\n",
      "        0.03359818,  0.04281332,  0.05455595,  0.06951928,  0.08858668,\n",
      "        0.11288379,  0.14384499,  0.18329807,  0.23357215,  0.29763514,\n",
      "        0.37926902,  0.48329302,  0.61584821,  0.78475997,  1.        ])}], inter__add_list=['RevolvingUtilizationOfUnsecuredLines', 'DebtRatio', 'MonthlyIncome', 'age', 'NumberOfOpenCreditLinesAndLoans'], imp__method=mean, modelpred__random_number=0.776110399037, log__trans_flag=False, inter__degree=[2, 3] \n",
      "[CV]  modelpred__modelwithparams=['Cali_linear_SVC', {'C': array([ 0.01      ,  0.01274275,  0.01623777,  0.02069138,  0.02636651,\n",
      "        0.03359818,  0.04281332,  0.05455595,  0.06951928,  0.08858668,\n",
      "        0.11288379,  0.14384499,  0.18329807,  0.23357215,  0.29763514,\n",
      "        0.37926902,  0.48329302,  0.61584821,  0.78475997,  1.        ])}], inter__add_list=['RevolvingUtilizationOfUnsecuredLines', 'DebtRatio', 'MonthlyIncome', 'age', 'NumberOfOpenCreditLinesAndLoans'], imp__method=mean, modelpred__random_number=0.776110399037, log__trans_flag=False, inter__degree=[2, 3] - 1.7min\n",
      "[CV] modelpred__modelwithparams=['Cali_linear_SVC', {'C': array([ 0.01      ,  0.01274275,  0.01623777,  0.02069138,  0.02636651,\n",
      "        0.03359818,  0.04281332,  0.05455595,  0.06951928,  0.08858668,\n",
      "        0.11288379,  0.14384499,  0.18329807,  0.23357215,  0.29763514,\n",
      "        0.37926902,  0.48329302,  0.61584821,  0.78475997,  1.        ])}], inter__add_list=['RevolvingUtilizationOfUnsecuredLines', 'DebtRatio', 'MonthlyIncome', 'age', 'NumberOfOpenCreditLinesAndLoans'], imp__method=mean, modelpred__random_number=0.776110399037, log__trans_flag=False, inter__degree=[2, 3] \n",
      "[CV]  modelpred__modelwithparams=['Cali_linear_SVC', {'C': array([ 0.01      ,  0.01274275,  0.01623777,  0.02069138,  0.02636651,\n",
      "        0.03359818,  0.04281332,  0.05455595,  0.06951928,  0.08858668,\n",
      "        0.11288379,  0.14384499,  0.18329807,  0.23357215,  0.29763514,\n",
      "        0.37926902,  0.48329302,  0.61584821,  0.78475997,  1.        ])}], inter__add_list=['RevolvingUtilizationOfUnsecuredLines', 'DebtRatio', 'MonthlyIncome', 'age', 'NumberOfOpenCreditLinesAndLoans'], imp__method=mean, modelpred__random_number=0.776110399037, log__trans_flag=False, inter__degree=[2, 3] - 1.7min\n",
      "[CV] modelpred__modelwithparams=['Cali_linear_SVC', {'C': array([ 0.01      ,  0.01274275,  0.01623777,  0.02069138,  0.02636651,\n",
      "        0.03359818,  0.04281332,  0.05455595,  0.06951928,  0.08858668,\n",
      "        0.11288379,  0.14384499,  0.18329807,  0.23357215,  0.29763514,\n",
      "        0.37926902,  0.48329302,  0.61584821,  0.78475997,  1.        ])}], inter__add_list=['RevolvingUtilizationOfUnsecuredLines', 'DebtRatio', 'MonthlyIncome', 'age', 'NumberOfOpenCreditLinesAndLoans'], imp__method=mean, modelpred__random_number=0.776110399037, log__trans_flag=False, inter__degree=[2, 3] \n",
      "[CV]  modelpred__modelwithparams=['Cali_linear_SVC', {'C': array([ 0.01      ,  0.01274275,  0.01623777,  0.02069138,  0.02636651,\n",
      "        0.03359818,  0.04281332,  0.05455595,  0.06951928,  0.08858668,\n",
      "        0.11288379,  0.14384499,  0.18329807,  0.23357215,  0.29763514,\n",
      "        0.37926902,  0.48329302,  0.61584821,  0.78475997,  1.        ])}], inter__add_list=['RevolvingUtilizationOfUnsecuredLines', 'DebtRatio', 'MonthlyIncome', 'age', 'NumberOfOpenCreditLinesAndLoans'], imp__method=mean, modelpred__random_number=0.776110399037, log__trans_flag=False, inter__degree=[2, 3] - 1.7min\n",
      "[CV] modelpred__modelwithparams=['Cali_linear_SVC', {'C': array([ 0.01      ,  0.01274275,  0.01623777,  0.02069138,  0.02636651,\n",
      "        0.03359818,  0.04281332,  0.05455595,  0.06951928,  0.08858668,\n",
      "        0.11288379,  0.14384499,  0.18329807,  0.23357215,  0.29763514,\n",
      "        0.37926902,  0.48329302,  0.61584821,  0.78475997,  1.        ])}], inter__add_list=[], imp__method=knn, modelpred__random_number=0.419172075376, log__trans_flag=True, inter__degree=[2, 3] \n",
      "[CV]  modelpred__modelwithparams=['Cali_linear_SVC', {'C': array([ 0.01      ,  0.01274275,  0.01623777,  0.02069138,  0.02636651,\n",
      "        0.03359818,  0.04281332,  0.05455595,  0.06951928,  0.08858668,\n",
      "        0.11288379,  0.14384499,  0.18329807,  0.23357215,  0.29763514,\n",
      "        0.37926902,  0.48329302,  0.61584821,  0.78475997,  1.        ])}], inter__add_list=[], imp__method=knn, modelpred__random_number=0.419172075376, log__trans_flag=True, inter__degree=[2, 3] -  23.0s\n",
      "[CV] modelpred__modelwithparams=['Cali_linear_SVC', {'C': array([ 0.01      ,  0.01274275,  0.01623777,  0.02069138,  0.02636651,\n",
      "        0.03359818,  0.04281332,  0.05455595,  0.06951928,  0.08858668,\n",
      "        0.11288379,  0.14384499,  0.18329807,  0.23357215,  0.29763514,\n",
      "        0.37926902,  0.48329302,  0.61584821,  0.78475997,  1.        ])}], inter__add_list=[], imp__method=knn, modelpred__random_number=0.419172075376, log__trans_flag=True, inter__degree=[2, 3] \n",
      "[CV]  modelpred__modelwithparams=['Cali_linear_SVC', {'C': array([ 0.01      ,  0.01274275,  0.01623777,  0.02069138,  0.02636651,\n",
      "        0.03359818,  0.04281332,  0.05455595,  0.06951928,  0.08858668,\n",
      "        0.11288379,  0.14384499,  0.18329807,  0.23357215,  0.29763514,\n",
      "        0.37926902,  0.48329302,  0.61584821,  0.78475997,  1.        ])}], inter__add_list=[], imp__method=knn, modelpred__random_number=0.419172075376, log__trans_flag=True, inter__degree=[2, 3] -  26.7s\n",
      "[CV] modelpred__modelwithparams=['Cali_linear_SVC', {'C': array([ 0.01      ,  0.01274275,  0.01623777,  0.02069138,  0.02636651,\n",
      "        0.03359818,  0.04281332,  0.05455595,  0.06951928,  0.08858668,\n",
      "        0.11288379,  0.14384499,  0.18329807,  0.23357215,  0.29763514,\n",
      "        0.37926902,  0.48329302,  0.61584821,  0.78475997,  1.        ])}], inter__add_list=[], imp__method=knn, modelpred__random_number=0.419172075376, log__trans_flag=True, inter__degree=[2, 3] \n",
      "[CV]  modelpred__modelwithparams=['Cali_linear_SVC', {'C': array([ 0.01      ,  0.01274275,  0.01623777,  0.02069138,  0.02636651,\n",
      "        0.03359818,  0.04281332,  0.05455595,  0.06951928,  0.08858668,\n",
      "        0.11288379,  0.14384499,  0.18329807,  0.23357215,  0.29763514,\n",
      "        0.37926902,  0.48329302,  0.61584821,  0.78475997,  1.        ])}], inter__add_list=[], imp__method=knn, modelpred__random_number=0.419172075376, log__trans_flag=True, inter__degree=[2, 3] -  25.3s\n",
      "[CV] modelpred__modelwithparams=['Cali_linear_SVC', {'C': array([ 0.01      ,  0.01274275,  0.01623777,  0.02069138,  0.02636651,\n",
      "        0.03359818,  0.04281332,  0.05455595,  0.06951928,  0.08858668,\n",
      "        0.11288379,  0.14384499,  0.18329807,  0.23357215,  0.29763514,\n",
      "        0.37926902,  0.48329302,  0.61584821,  0.78475997,  1.        ])}], inter__add_list=[], imp__method=knn, modelpred__random_number=0.419172075376, log__trans_flag=True, inter__degree=[2, 3] \n",
      "[CV]  modelpred__modelwithparams=['Cali_linear_SVC', {'C': array([ 0.01      ,  0.01274275,  0.01623777,  0.02069138,  0.02636651,\n",
      "        0.03359818,  0.04281332,  0.05455595,  0.06951928,  0.08858668,\n",
      "        0.11288379,  0.14384499,  0.18329807,  0.23357215,  0.29763514,\n",
      "        0.37926902,  0.48329302,  0.61584821,  0.78475997,  1.        ])}], inter__add_list=[], imp__method=knn, modelpred__random_number=0.419172075376, log__trans_flag=True, inter__degree=[2, 3] -  24.5s\n",
      "[CV] modelpred__modelwithparams=['Cali_linear_SVC', {'C': array([ 0.01      ,  0.01274275,  0.01623777,  0.02069138,  0.02636651,\n",
      "        0.03359818,  0.04281332,  0.05455595,  0.06951928,  0.08858668,\n",
      "        0.11288379,  0.14384499,  0.18329807,  0.23357215,  0.29763514,\n",
      "        0.37926902,  0.48329302,  0.61584821,  0.78475997,  1.        ])}], inter__add_list=[], imp__method=knn, modelpred__random_number=0.419172075376, log__trans_flag=True, inter__degree=[2, 3] \n",
      "[CV]  modelpred__modelwithparams=['Cali_linear_SVC', {'C': array([ 0.01      ,  0.01274275,  0.01623777,  0.02069138,  0.02636651,\n",
      "        0.03359818,  0.04281332,  0.05455595,  0.06951928,  0.08858668,\n",
      "        0.11288379,  0.14384499,  0.18329807,  0.23357215,  0.29763514,\n",
      "        0.37926902,  0.48329302,  0.61584821,  0.78475997,  1.        ])}], inter__add_list=[], imp__method=knn, modelpred__random_number=0.419172075376, log__trans_flag=True, inter__degree=[2, 3] -  27.6s\n",
      "[CV] modelpred__modelwithparams=['LDA', {}], inter__add_list=['RevolvingUtilizationOfUnsecuredLines', 'DebtRatio', 'MonthlyIncome', 'age', 'NumberOfOpenCreditLinesAndLoans'], imp__method=knn, modelpred__random_number=0.712847207444, log__trans_flag=True, inter__degree=[2, 3] \n",
      "[CV]  modelpred__modelwithparams=['LDA', {}], inter__add_list=['RevolvingUtilizationOfUnsecuredLines', 'DebtRatio', 'MonthlyIncome', 'age', 'NumberOfOpenCreditLinesAndLoans'], imp__method=knn, modelpred__random_number=0.712847207444, log__trans_flag=True, inter__degree=[2, 3] -   0.9s\n",
      "[CV] modelpred__modelwithparams=['LDA', {}], inter__add_list=['RevolvingUtilizationOfUnsecuredLines', 'DebtRatio', 'MonthlyIncome', 'age', 'NumberOfOpenCreditLinesAndLoans'], imp__method=knn, modelpred__random_number=0.712847207444, log__trans_flag=True, inter__degree=[2, 3] \n",
      "[CV]  modelpred__modelwithparams=['LDA', {}], inter__add_list=['RevolvingUtilizationOfUnsecuredLines', 'DebtRatio', 'MonthlyIncome', 'age', 'NumberOfOpenCreditLinesAndLoans'], imp__method=knn, modelpred__random_number=0.712847207444, log__trans_flag=True, inter__degree=[2, 3] -   1.3s\n",
      "[CV] modelpred__modelwithparams=['LDA', {}], inter__add_list=['RevolvingUtilizationOfUnsecuredLines', 'DebtRatio', 'MonthlyIncome', 'age', 'NumberOfOpenCreditLinesAndLoans'], imp__method=knn, modelpred__random_number=0.712847207444, log__trans_flag=True, inter__degree=[2, 3] \n",
      "[CV]  modelpred__modelwithparams=['LDA', {}], inter__add_list=['RevolvingUtilizationOfUnsecuredLines', 'DebtRatio', 'MonthlyIncome', 'age', 'NumberOfOpenCreditLinesAndLoans'], imp__method=knn, modelpred__random_number=0.712847207444, log__trans_flag=True, inter__degree=[2, 3] -   1.3s\n",
      "[CV] modelpred__modelwithparams=['LDA', {}], inter__add_list=['RevolvingUtilizationOfUnsecuredLines', 'DebtRatio', 'MonthlyIncome', 'age', 'NumberOfOpenCreditLinesAndLoans'], imp__method=knn, modelpred__random_number=0.712847207444, log__trans_flag=True, inter__degree=[2, 3] \n",
      "[CV]  modelpred__modelwithparams=['LDA', {}], inter__add_list=['RevolvingUtilizationOfUnsecuredLines', 'DebtRatio', 'MonthlyIncome', 'age', 'NumberOfOpenCreditLinesAndLoans'], imp__method=knn, modelpred__random_number=0.712847207444, log__trans_flag=True, inter__degree=[2, 3] -   1.3s\n",
      "[CV] modelpred__modelwithparams=['LDA', {}], inter__add_list=['RevolvingUtilizationOfUnsecuredLines', 'DebtRatio', 'MonthlyIncome', 'age', 'NumberOfOpenCreditLinesAndLoans'], imp__method=knn, modelpred__random_number=0.712847207444, log__trans_flag=True, inter__degree=[2, 3] \n",
      "[CV]  modelpred__modelwithparams=['LDA', {}], inter__add_list=['RevolvingUtilizationOfUnsecuredLines', 'DebtRatio', 'MonthlyIncome', 'age', 'NumberOfOpenCreditLinesAndLoans'], imp__method=knn, modelpred__random_number=0.712847207444, log__trans_flag=True, inter__degree=[2, 3] -   1.7s\n",
      "[CV] modelpred__modelwithparams=['GaussianNB', {}], inter__add_list=['RevolvingUtilizationOfUnsecuredLines', 'DebtRatio', 'MonthlyIncome', 'age', 'NumberOfOpenCreditLinesAndLoans'], imp__method=median, modelpred__random_number=0.300113370509, log__trans_flag=True, inter__degree=[2] \n",
      "[CV]  modelpred__modelwithparams=['GaussianNB', {}], inter__add_list=['RevolvingUtilizationOfUnsecuredLines', 'DebtRatio', 'MonthlyIncome', 'age', 'NumberOfOpenCreditLinesAndLoans'], imp__method=median, modelpred__random_number=0.300113370509, log__trans_flag=True, inter__degree=[2] -   0.3s\n",
      "[CV] modelpred__modelwithparams=['GaussianNB', {}], inter__add_list=['RevolvingUtilizationOfUnsecuredLines', 'DebtRatio', 'MonthlyIncome', 'age', 'NumberOfOpenCreditLinesAndLoans'], imp__method=median, modelpred__random_number=0.300113370509, log__trans_flag=True, inter__degree=[2] \n",
      "[CV]  modelpred__modelwithparams=['GaussianNB', {}], inter__add_list=['RevolvingUtilizationOfUnsecuredLines', 'DebtRatio', 'MonthlyIncome', 'age', 'NumberOfOpenCreditLinesAndLoans'], imp__method=median, modelpred__random_number=0.300113370509, log__trans_flag=True, inter__degree=[2] -   0.2s\n",
      "[CV] modelpred__modelwithparams=['GaussianNB', {}], inter__add_list=['RevolvingUtilizationOfUnsecuredLines', 'DebtRatio', 'MonthlyIncome', 'age', 'NumberOfOpenCreditLinesAndLoans'], imp__method=median, modelpred__random_number=0.300113370509, log__trans_flag=True, inter__degree=[2] \n",
      "[CV]  modelpred__modelwithparams=['GaussianNB', {}], inter__add_list=['RevolvingUtilizationOfUnsecuredLines', 'DebtRatio', 'MonthlyIncome', 'age', 'NumberOfOpenCreditLinesAndLoans'], imp__method=median, modelpred__random_number=0.300113370509, log__trans_flag=True, inter__degree=[2] -   0.2s\n",
      "[CV] modelpred__modelwithparams=['GaussianNB', {}], inter__add_list=['RevolvingUtilizationOfUnsecuredLines', 'DebtRatio', 'MonthlyIncome', 'age', 'NumberOfOpenCreditLinesAndLoans'], imp__method=median, modelpred__random_number=0.300113370509, log__trans_flag=True, inter__degree=[2] \n",
      "[CV]  modelpred__modelwithparams=['GaussianNB', {}], inter__add_list=['RevolvingUtilizationOfUnsecuredLines', 'DebtRatio', 'MonthlyIncome', 'age', 'NumberOfOpenCreditLinesAndLoans'], imp__method=median, modelpred__random_number=0.300113370509, log__trans_flag=True, inter__degree=[2] -   0.2s\n",
      "[CV] modelpred__modelwithparams=['GaussianNB', {}], inter__add_list=['RevolvingUtilizationOfUnsecuredLines', 'DebtRatio', 'MonthlyIncome', 'age', 'NumberOfOpenCreditLinesAndLoans'], imp__method=median, modelpred__random_number=0.300113370509, log__trans_flag=True, inter__degree=[2] \n",
      "[CV]  modelpred__modelwithparams=['GaussianNB', {}], inter__add_list=['RevolvingUtilizationOfUnsecuredLines', 'DebtRatio', 'MonthlyIncome', 'age', 'NumberOfOpenCreditLinesAndLoans'], imp__method=median, modelpred__random_number=0.300113370509, log__trans_flag=True, inter__degree=[2] -   0.2s\n",
      "[CV] modelpred__modelwithparams=['Cali_linear_SVC', {'C': array([ 0.01      ,  0.01274275,  0.01623777,  0.02069138,  0.02636651,\n",
      "        0.03359818,  0.04281332,  0.05455595,  0.06951928,  0.08858668,\n",
      "        0.11288379,  0.14384499,  0.18329807,  0.23357215,  0.29763514,\n",
      "        0.37926902,  0.48329302,  0.61584821,  0.78475997,  1.        ])}], inter__add_list=['RevolvingUtilizationOfUnsecuredLines', 'DebtRatio', 'MonthlyIncome', 'age', 'NumberOfOpenCreditLinesAndLoans'], imp__method=knn, modelpred__random_number=0.914360906953, log__trans_flag=False, inter__degree=[2] \n",
      "[CV]  modelpred__modelwithparams=['Cali_linear_SVC', {'C': array([ 0.01      ,  0.01274275,  0.01623777,  0.02069138,  0.02636651,\n",
      "        0.03359818,  0.04281332,  0.05455595,  0.06951928,  0.08858668,\n",
      "        0.11288379,  0.14384499,  0.18329807,  0.23357215,  0.29763514,\n",
      "        0.37926902,  0.48329302,  0.61584821,  0.78475997,  1.        ])}], inter__add_list=['RevolvingUtilizationOfUnsecuredLines', 'DebtRatio', 'MonthlyIncome', 'age', 'NumberOfOpenCreditLinesAndLoans'], imp__method=knn, modelpred__random_number=0.914360906953, log__trans_flag=False, inter__degree=[2] - 1.4min\n",
      "[CV] modelpred__modelwithparams=['Cali_linear_SVC', {'C': array([ 0.01      ,  0.01274275,  0.01623777,  0.02069138,  0.02636651,\n",
      "        0.03359818,  0.04281332,  0.05455595,  0.06951928,  0.08858668,\n",
      "        0.11288379,  0.14384499,  0.18329807,  0.23357215,  0.29763514,\n",
      "        0.37926902,  0.48329302,  0.61584821,  0.78475997,  1.        ])}], inter__add_list=['RevolvingUtilizationOfUnsecuredLines', 'DebtRatio', 'MonthlyIncome', 'age', 'NumberOfOpenCreditLinesAndLoans'], imp__method=knn, modelpred__random_number=0.914360906953, log__trans_flag=False, inter__degree=[2] \n",
      "[CV]  modelpred__modelwithparams=['Cali_linear_SVC', {'C': array([ 0.01      ,  0.01274275,  0.01623777,  0.02069138,  0.02636651,\n",
      "        0.03359818,  0.04281332,  0.05455595,  0.06951928,  0.08858668,\n",
      "        0.11288379,  0.14384499,  0.18329807,  0.23357215,  0.29763514,\n",
      "        0.37926902,  0.48329302,  0.61584821,  0.78475997,  1.        ])}], inter__add_list=['RevolvingUtilizationOfUnsecuredLines', 'DebtRatio', 'MonthlyIncome', 'age', 'NumberOfOpenCreditLinesAndLoans'], imp__method=knn, modelpred__random_number=0.914360906953, log__trans_flag=False, inter__degree=[2] - 1.4min\n",
      "[CV] modelpred__modelwithparams=['Cali_linear_SVC', {'C': array([ 0.01      ,  0.01274275,  0.01623777,  0.02069138,  0.02636651,\n",
      "        0.03359818,  0.04281332,  0.05455595,  0.06951928,  0.08858668,\n",
      "        0.11288379,  0.14384499,  0.18329807,  0.23357215,  0.29763514,\n",
      "        0.37926902,  0.48329302,  0.61584821,  0.78475997,  1.        ])}], inter__add_list=['RevolvingUtilizationOfUnsecuredLines', 'DebtRatio', 'MonthlyIncome', 'age', 'NumberOfOpenCreditLinesAndLoans'], imp__method=knn, modelpred__random_number=0.914360906953, log__trans_flag=False, inter__degree=[2] \n",
      "[CV]  modelpred__modelwithparams=['Cali_linear_SVC', {'C': array([ 0.01      ,  0.01274275,  0.01623777,  0.02069138,  0.02636651,\n",
      "        0.03359818,  0.04281332,  0.05455595,  0.06951928,  0.08858668,\n",
      "        0.11288379,  0.14384499,  0.18329807,  0.23357215,  0.29763514,\n",
      "        0.37926902,  0.48329302,  0.61584821,  0.78475997,  1.        ])}], inter__add_list=['RevolvingUtilizationOfUnsecuredLines', 'DebtRatio', 'MonthlyIncome', 'age', 'NumberOfOpenCreditLinesAndLoans'], imp__method=knn, modelpred__random_number=0.914360906953, log__trans_flag=False, inter__degree=[2] - 1.4min\n",
      "[CV] modelpred__modelwithparams=['Cali_linear_SVC', {'C': array([ 0.01      ,  0.01274275,  0.01623777,  0.02069138,  0.02636651,\n",
      "        0.03359818,  0.04281332,  0.05455595,  0.06951928,  0.08858668,\n",
      "        0.11288379,  0.14384499,  0.18329807,  0.23357215,  0.29763514,\n",
      "        0.37926902,  0.48329302,  0.61584821,  0.78475997,  1.        ])}], inter__add_list=['RevolvingUtilizationOfUnsecuredLines', 'DebtRatio', 'MonthlyIncome', 'age', 'NumberOfOpenCreditLinesAndLoans'], imp__method=knn, modelpred__random_number=0.914360906953, log__trans_flag=False, inter__degree=[2] \n",
      "[CV]  modelpred__modelwithparams=['Cali_linear_SVC', {'C': array([ 0.01      ,  0.01274275,  0.01623777,  0.02069138,  0.02636651,\n",
      "        0.03359818,  0.04281332,  0.05455595,  0.06951928,  0.08858668,\n",
      "        0.11288379,  0.14384499,  0.18329807,  0.23357215,  0.29763514,\n",
      "        0.37926902,  0.48329302,  0.61584821,  0.78475997,  1.        ])}], inter__add_list=['RevolvingUtilizationOfUnsecuredLines', 'DebtRatio', 'MonthlyIncome', 'age', 'NumberOfOpenCreditLinesAndLoans'], imp__method=knn, modelpred__random_number=0.914360906953, log__trans_flag=False, inter__degree=[2] - 1.4min\n",
      "[CV] modelpred__modelwithparams=['Cali_linear_SVC', {'C': array([ 0.01      ,  0.01274275,  0.01623777,  0.02069138,  0.02636651,\n",
      "        0.03359818,  0.04281332,  0.05455595,  0.06951928,  0.08858668,\n",
      "        0.11288379,  0.14384499,  0.18329807,  0.23357215,  0.29763514,\n",
      "        0.37926902,  0.48329302,  0.61584821,  0.78475997,  1.        ])}], inter__add_list=['RevolvingUtilizationOfUnsecuredLines', 'DebtRatio', 'MonthlyIncome', 'age', 'NumberOfOpenCreditLinesAndLoans'], imp__method=knn, modelpred__random_number=0.914360906953, log__trans_flag=False, inter__degree=[2] \n",
      "[CV]  modelpred__modelwithparams=['Cali_linear_SVC', {'C': array([ 0.01      ,  0.01274275,  0.01623777,  0.02069138,  0.02636651,\n",
      "        0.03359818,  0.04281332,  0.05455595,  0.06951928,  0.08858668,\n",
      "        0.11288379,  0.14384499,  0.18329807,  0.23357215,  0.29763514,\n",
      "        0.37926902,  0.48329302,  0.61584821,  0.78475997,  1.        ])}], inter__add_list=['RevolvingUtilizationOfUnsecuredLines', 'DebtRatio', 'MonthlyIncome', 'age', 'NumberOfOpenCreditLinesAndLoans'], imp__method=knn, modelpred__random_number=0.914360906953, log__trans_flag=False, inter__degree=[2] - 1.4min\n",
      "[CV] modelpred__modelwithparams=['GaussianNB', {}], inter__add_list=['RevolvingUtilizationOfUnsecuredLines', 'DebtRatio', 'MonthlyIncome', 'age', 'NumberOfOpenCreditLinesAndLoans'], imp__method=max, modelpred__random_number=0.638573410156, log__trans_flag=True, inter__degree=[2] \n",
      "[CV]  modelpred__modelwithparams=['GaussianNB', {}], inter__add_list=['RevolvingUtilizationOfUnsecuredLines', 'DebtRatio', 'MonthlyIncome', 'age', 'NumberOfOpenCreditLinesAndLoans'], imp__method=max, modelpred__random_number=0.638573410156, log__trans_flag=True, inter__degree=[2] -   0.3s\n",
      "[CV] modelpred__modelwithparams=['GaussianNB', {}], inter__add_list=['RevolvingUtilizationOfUnsecuredLines', 'DebtRatio', 'MonthlyIncome', 'age', 'NumberOfOpenCreditLinesAndLoans'], imp__method=max, modelpred__random_number=0.638573410156, log__trans_flag=True, inter__degree=[2] \n",
      "[CV]  modelpred__modelwithparams=['GaussianNB', {}], inter__add_list=['RevolvingUtilizationOfUnsecuredLines', 'DebtRatio', 'MonthlyIncome', 'age', 'NumberOfOpenCreditLinesAndLoans'], imp__method=max, modelpred__random_number=0.638573410156, log__trans_flag=True, inter__degree=[2] -   0.2s\n",
      "[CV] modelpred__modelwithparams=['GaussianNB', {}], inter__add_list=['RevolvingUtilizationOfUnsecuredLines', 'DebtRatio', 'MonthlyIncome', 'age', 'NumberOfOpenCreditLinesAndLoans'], imp__method=max, modelpred__random_number=0.638573410156, log__trans_flag=True, inter__degree=[2] \n",
      "[CV]  modelpred__modelwithparams=['GaussianNB', {}], inter__add_list=['RevolvingUtilizationOfUnsecuredLines', 'DebtRatio', 'MonthlyIncome', 'age', 'NumberOfOpenCreditLinesAndLoans'], imp__method=max, modelpred__random_number=0.638573410156, log__trans_flag=True, inter__degree=[2] -   0.2s\n",
      "[CV] modelpred__modelwithparams=['GaussianNB', {}], inter__add_list=['RevolvingUtilizationOfUnsecuredLines', 'DebtRatio', 'MonthlyIncome', 'age', 'NumberOfOpenCreditLinesAndLoans'], imp__method=max, modelpred__random_number=0.638573410156, log__trans_flag=True, inter__degree=[2] \n",
      "[CV]  modelpred__modelwithparams=['GaussianNB', {}], inter__add_list=['RevolvingUtilizationOfUnsecuredLines', 'DebtRatio', 'MonthlyIncome', 'age', 'NumberOfOpenCreditLinesAndLoans'], imp__method=max, modelpred__random_number=0.638573410156, log__trans_flag=True, inter__degree=[2] -   0.2s\n",
      "[CV] modelpred__modelwithparams=['GaussianNB', {}], inter__add_list=['RevolvingUtilizationOfUnsecuredLines', 'DebtRatio', 'MonthlyIncome', 'age', 'NumberOfOpenCreditLinesAndLoans'], imp__method=max, modelpred__random_number=0.638573410156, log__trans_flag=True, inter__degree=[2] \n",
      "[CV]  modelpred__modelwithparams=['GaussianNB', {}], inter__add_list=['RevolvingUtilizationOfUnsecuredLines', 'DebtRatio', 'MonthlyIncome', 'age', 'NumberOfOpenCreditLinesAndLoans'], imp__method=max, modelpred__random_number=0.638573410156, log__trans_flag=True, inter__degree=[2] -   0.2s\n",
      "[CV] modelpred__modelwithparams=['GaussianNB', {}], inter__add_list=[], imp__method=mean, modelpred__random_number=0.365051207597, log__trans_flag=True, inter__degree=[2, 3] \n",
      "[CV]  modelpred__modelwithparams=['GaussianNB', {}], inter__add_list=[], imp__method=mean, modelpred__random_number=0.365051207597, log__trans_flag=True, inter__degree=[2, 3] -   0.2s\n",
      "[CV] modelpred__modelwithparams=['GaussianNB', {}], inter__add_list=[], imp__method=mean, modelpred__random_number=0.365051207597, log__trans_flag=True, inter__degree=[2, 3] \n",
      "[CV]  modelpred__modelwithparams=['GaussianNB', {}], inter__add_list=[], imp__method=mean, modelpred__random_number=0.365051207597, log__trans_flag=True, inter__degree=[2, 3] -   0.2s\n",
      "[CV] modelpred__modelwithparams=['GaussianNB', {}], inter__add_list=[], imp__method=mean, modelpred__random_number=0.365051207597, log__trans_flag=True, inter__degree=[2, 3] \n",
      "[CV]  modelpred__modelwithparams=['GaussianNB', {}], inter__add_list=[], imp__method=mean, modelpred__random_number=0.365051207597, log__trans_flag=True, inter__degree=[2, 3] -   0.2s\n",
      "[CV] modelpred__modelwithparams=['GaussianNB', {}], inter__add_list=[], imp__method=mean, modelpred__random_number=0.365051207597, log__trans_flag=True, inter__degree=[2, 3] \n",
      "[CV]  modelpred__modelwithparams=['GaussianNB', {}], inter__add_list=[], imp__method=mean, modelpred__random_number=0.365051207597, log__trans_flag=True, inter__degree=[2, 3] -   0.1s\n",
      "[CV] modelpred__modelwithparams=['GaussianNB', {}], inter__add_list=[], imp__method=mean, modelpred__random_number=0.365051207597, log__trans_flag=True, inter__degree=[2, 3] \n",
      "[CV]  modelpred__modelwithparams=['GaussianNB', {}], inter__add_list=[], imp__method=mean, modelpred__random_number=0.365051207597, log__trans_flag=True, inter__degree=[2, 3] -   0.1s\n",
      "[CV] modelpred__modelwithparams=['ExTree', {'n_estimators': [200], 'max_features': array([ 0.1,  0.2,  0.3,  0.4,  0.5,  0.6,  0.7,  0.8]), 'n_jobs': [-1], 'max_depth': [10, 11, 12, 13, 14, 15, 16, 17, 18, 19, 20, 21, 22, 23, 24, 25, 26, 27, 28, 29]}], inter__add_list=[], imp__method=median, modelpred__random_number=0.542196475872, log__trans_flag=True, inter__degree=[2, 3] \n",
      "[CV]  modelpred__modelwithparams=['ExTree', {'n_estimators': [200], 'max_features': array([ 0.1,  0.2,  0.3,  0.4,  0.5,  0.6,  0.7,  0.8]), 'n_jobs': [-1], 'max_depth': [10, 11, 12, 13, 14, 15, 16, 17, 18, 19, 20, 21, 22, 23, 24, 25, 26, 27, 28, 29]}], inter__add_list=[], imp__method=median, modelpred__random_number=0.542196475872, log__trans_flag=True, inter__degree=[2, 3] -  11.7s\n",
      "[CV] modelpred__modelwithparams=['ExTree', {'n_estimators': [200], 'max_features': array([ 0.1,  0.2,  0.3,  0.4,  0.5,  0.6,  0.7,  0.8]), 'n_jobs': [-1], 'max_depth': [10, 11, 12, 13, 14, 15, 16, 17, 18, 19, 20, 21, 22, 23, 24, 25, 26, 27, 28, 29]}], inter__add_list=[], imp__method=median, modelpred__random_number=0.542196475872, log__trans_flag=True, inter__degree=[2, 3] \n",
      "[CV]  modelpred__modelwithparams=['ExTree', {'n_estimators': [200], 'max_features': array([ 0.1,  0.2,  0.3,  0.4,  0.5,  0.6,  0.7,  0.8]), 'n_jobs': [-1], 'max_depth': [10, 11, 12, 13, 14, 15, 16, 17, 18, 19, 20, 21, 22, 23, 24, 25, 26, 27, 28, 29]}], inter__add_list=[], imp__method=median, modelpred__random_number=0.542196475872, log__trans_flag=True, inter__degree=[2, 3] -  11.7s\n",
      "[CV] modelpred__modelwithparams=['ExTree', {'n_estimators': [200], 'max_features': array([ 0.1,  0.2,  0.3,  0.4,  0.5,  0.6,  0.7,  0.8]), 'n_jobs': [-1], 'max_depth': [10, 11, 12, 13, 14, 15, 16, 17, 18, 19, 20, 21, 22, 23, 24, 25, 26, 27, 28, 29]}], inter__add_list=[], imp__method=median, modelpred__random_number=0.542196475872, log__trans_flag=True, inter__degree=[2, 3] \n",
      "[CV]  modelpred__modelwithparams=['ExTree', {'n_estimators': [200], 'max_features': array([ 0.1,  0.2,  0.3,  0.4,  0.5,  0.6,  0.7,  0.8]), 'n_jobs': [-1], 'max_depth': [10, 11, 12, 13, 14, 15, 16, 17, 18, 19, 20, 21, 22, 23, 24, 25, 26, 27, 28, 29]}], inter__add_list=[], imp__method=median, modelpred__random_number=0.542196475872, log__trans_flag=True, inter__degree=[2, 3] -  11.6s\n",
      "[CV] modelpred__modelwithparams=['ExTree', {'n_estimators': [200], 'max_features': array([ 0.1,  0.2,  0.3,  0.4,  0.5,  0.6,  0.7,  0.8]), 'n_jobs': [-1], 'max_depth': [10, 11, 12, 13, 14, 15, 16, 17, 18, 19, 20, 21, 22, 23, 24, 25, 26, 27, 28, 29]}], inter__add_list=[], imp__method=median, modelpred__random_number=0.542196475872, log__trans_flag=True, inter__degree=[2, 3] \n",
      "[CV]  modelpred__modelwithparams=['ExTree', {'n_estimators': [200], 'max_features': array([ 0.1,  0.2,  0.3,  0.4,  0.5,  0.6,  0.7,  0.8]), 'n_jobs': [-1], 'max_depth': [10, 11, 12, 13, 14, 15, 16, 17, 18, 19, 20, 21, 22, 23, 24, 25, 26, 27, 28, 29]}], inter__add_list=[], imp__method=median, modelpred__random_number=0.542196475872, log__trans_flag=True, inter__degree=[2, 3] -  11.6s\n",
      "[CV] modelpred__modelwithparams=['ExTree', {'n_estimators': [200], 'max_features': array([ 0.1,  0.2,  0.3,  0.4,  0.5,  0.6,  0.7,  0.8]), 'n_jobs': [-1], 'max_depth': [10, 11, 12, 13, 14, 15, 16, 17, 18, 19, 20, 21, 22, 23, 24, 25, 26, 27, 28, 29]}], inter__add_list=[], imp__method=median, modelpred__random_number=0.542196475872, log__trans_flag=True, inter__degree=[2, 3] \n",
      "[CV]  modelpred__modelwithparams=['ExTree', {'n_estimators': [200], 'max_features': array([ 0.1,  0.2,  0.3,  0.4,  0.5,  0.6,  0.7,  0.8]), 'n_jobs': [-1], 'max_depth': [10, 11, 12, 13, 14, 15, 16, 17, 18, 19, 20, 21, 22, 23, 24, 25, 26, 27, 28, 29]}], inter__add_list=[], imp__method=median, modelpred__random_number=0.542196475872, log__trans_flag=True, inter__degree=[2, 3] -  11.6s\n",
      "[CV] modelpred__modelwithparams=['RF', {'n_estimators': [200], 'max_features': array([ 0.1,  0.2,  0.3,  0.4,  0.5,  0.6,  0.7,  0.8]), 'n_jobs': [-1], 'max_depth': [2, 3, 4, 5, 6, 7, 8, 9, 10, 11, 12, 13, 14, 15, 16, 17, 18, 19]}], inter__add_list=[], imp__method=max, modelpred__random_number=0.793880286354, log__trans_flag=True, inter__degree=[2] \n",
      "[CV]  modelpred__modelwithparams=['RF', {'n_estimators': [200], 'max_features': array([ 0.1,  0.2,  0.3,  0.4,  0.5,  0.6,  0.7,  0.8]), 'n_jobs': [-1], 'max_depth': [2, 3, 4, 5, 6, 7, 8, 9, 10, 11, 12, 13, 14, 15, 16, 17, 18, 19]}], inter__add_list=[], imp__method=max, modelpred__random_number=0.793880286354, log__trans_flag=True, inter__degree=[2] -  16.8s\n",
      "[CV] modelpred__modelwithparams=['RF', {'n_estimators': [200], 'max_features': array([ 0.1,  0.2,  0.3,  0.4,  0.5,  0.6,  0.7,  0.8]), 'n_jobs': [-1], 'max_depth': [2, 3, 4, 5, 6, 7, 8, 9, 10, 11, 12, 13, 14, 15, 16, 17, 18, 19]}], inter__add_list=[], imp__method=max, modelpred__random_number=0.793880286354, log__trans_flag=True, inter__degree=[2] \n",
      "[CV]  modelpred__modelwithparams=['RF', {'n_estimators': [200], 'max_features': array([ 0.1,  0.2,  0.3,  0.4,  0.5,  0.6,  0.7,  0.8]), 'n_jobs': [-1], 'max_depth': [2, 3, 4, 5, 6, 7, 8, 9, 10, 11, 12, 13, 14, 15, 16, 17, 18, 19]}], inter__add_list=[], imp__method=max, modelpred__random_number=0.793880286354, log__trans_flag=True, inter__degree=[2] -  16.9s\n",
      "[CV] modelpred__modelwithparams=['RF', {'n_estimators': [200], 'max_features': array([ 0.1,  0.2,  0.3,  0.4,  0.5,  0.6,  0.7,  0.8]), 'n_jobs': [-1], 'max_depth': [2, 3, 4, 5, 6, 7, 8, 9, 10, 11, 12, 13, 14, 15, 16, 17, 18, 19]}], inter__add_list=[], imp__method=max, modelpred__random_number=0.793880286354, log__trans_flag=True, inter__degree=[2] \n",
      "[CV]  modelpred__modelwithparams=['RF', {'n_estimators': [200], 'max_features': array([ 0.1,  0.2,  0.3,  0.4,  0.5,  0.6,  0.7,  0.8]), 'n_jobs': [-1], 'max_depth': [2, 3, 4, 5, 6, 7, 8, 9, 10, 11, 12, 13, 14, 15, 16, 17, 18, 19]}], inter__add_list=[], imp__method=max, modelpred__random_number=0.793880286354, log__trans_flag=True, inter__degree=[2] -  16.8s\n",
      "[CV] modelpred__modelwithparams=['RF', {'n_estimators': [200], 'max_features': array([ 0.1,  0.2,  0.3,  0.4,  0.5,  0.6,  0.7,  0.8]), 'n_jobs': [-1], 'max_depth': [2, 3, 4, 5, 6, 7, 8, 9, 10, 11, 12, 13, 14, 15, 16, 17, 18, 19]}], inter__add_list=[], imp__method=max, modelpred__random_number=0.793880286354, log__trans_flag=True, inter__degree=[2] \n",
      "[CV]  modelpred__modelwithparams=['RF', {'n_estimators': [200], 'max_features': array([ 0.1,  0.2,  0.3,  0.4,  0.5,  0.6,  0.7,  0.8]), 'n_jobs': [-1], 'max_depth': [2, 3, 4, 5, 6, 7, 8, 9, 10, 11, 12, 13, 14, 15, 16, 17, 18, 19]}], inter__add_list=[], imp__method=max, modelpred__random_number=0.793880286354, log__trans_flag=True, inter__degree=[2] -  17.0s\n",
      "[CV] modelpred__modelwithparams=['RF', {'n_estimators': [200], 'max_features': array([ 0.1,  0.2,  0.3,  0.4,  0.5,  0.6,  0.7,  0.8]), 'n_jobs': [-1], 'max_depth': [2, 3, 4, 5, 6, 7, 8, 9, 10, 11, 12, 13, 14, 15, 16, 17, 18, 19]}], inter__add_list=[], imp__method=max, modelpred__random_number=0.793880286354, log__trans_flag=True, inter__degree=[2] \n",
      "[CV]  modelpred__modelwithparams=['RF', {'n_estimators': [200], 'max_features': array([ 0.1,  0.2,  0.3,  0.4,  0.5,  0.6,  0.7,  0.8]), 'n_jobs': [-1], 'max_depth': [2, 3, 4, 5, 6, 7, 8, 9, 10, 11, 12, 13, 14, 15, 16, 17, 18, 19]}], inter__add_list=[], imp__method=max, modelpred__random_number=0.793880286354, log__trans_flag=True, inter__degree=[2] -  17.0s\n",
      "[CV] modelpred__modelwithparams=['BagTree', {'n_estimators': [200], 'max_samples': [0.6, 0.7, 0.8, 0.9]}], inter__add_list=['RevolvingUtilizationOfUnsecuredLines', 'DebtRatio', 'MonthlyIncome', 'age', 'NumberOfOpenCreditLinesAndLoans'], imp__method=max, modelpred__random_number=0.3355931257, log__trans_flag=False, inter__degree=[2] \n",
      "[CV]  modelpred__modelwithparams=['BagTree', {'n_estimators': [200], 'max_samples': [0.6, 0.7, 0.8, 0.9]}], inter__add_list=['RevolvingUtilizationOfUnsecuredLines', 'DebtRatio', 'MonthlyIncome', 'age', 'NumberOfOpenCreditLinesAndLoans'], imp__method=max, modelpred__random_number=0.3355931257, log__trans_flag=False, inter__degree=[2] - 4.2min\n",
      "[CV] modelpred__modelwithparams=['BagTree', {'n_estimators': [200], 'max_samples': [0.6, 0.7, 0.8, 0.9]}], inter__add_list=['RevolvingUtilizationOfUnsecuredLines', 'DebtRatio', 'MonthlyIncome', 'age', 'NumberOfOpenCreditLinesAndLoans'], imp__method=max, modelpred__random_number=0.3355931257, log__trans_flag=False, inter__degree=[2] \n",
      "[CV]  modelpred__modelwithparams=['BagTree', {'n_estimators': [200], 'max_samples': [0.6, 0.7, 0.8, 0.9]}], inter__add_list=['RevolvingUtilizationOfUnsecuredLines', 'DebtRatio', 'MonthlyIncome', 'age', 'NumberOfOpenCreditLinesAndLoans'], imp__method=max, modelpred__random_number=0.3355931257, log__trans_flag=False, inter__degree=[2] - 4.2min\n",
      "[CV] modelpred__modelwithparams=['BagTree', {'n_estimators': [200], 'max_samples': [0.6, 0.7, 0.8, 0.9]}], inter__add_list=['RevolvingUtilizationOfUnsecuredLines', 'DebtRatio', 'MonthlyIncome', 'age', 'NumberOfOpenCreditLinesAndLoans'], imp__method=max, modelpred__random_number=0.3355931257, log__trans_flag=False, inter__degree=[2] \n",
      "[CV]  modelpred__modelwithparams=['BagTree', {'n_estimators': [200], 'max_samples': [0.6, 0.7, 0.8, 0.9]}], inter__add_list=['RevolvingUtilizationOfUnsecuredLines', 'DebtRatio', 'MonthlyIncome', 'age', 'NumberOfOpenCreditLinesAndLoans'], imp__method=max, modelpred__random_number=0.3355931257, log__trans_flag=False, inter__degree=[2] - 4.3min\n",
      "[CV] modelpred__modelwithparams=['BagTree', {'n_estimators': [200], 'max_samples': [0.6, 0.7, 0.8, 0.9]}], inter__add_list=['RevolvingUtilizationOfUnsecuredLines', 'DebtRatio', 'MonthlyIncome', 'age', 'NumberOfOpenCreditLinesAndLoans'], imp__method=max, modelpred__random_number=0.3355931257, log__trans_flag=False, inter__degree=[2] \n",
      "[CV]  modelpred__modelwithparams=['BagTree', {'n_estimators': [200], 'max_samples': [0.6, 0.7, 0.8, 0.9]}], inter__add_list=['RevolvingUtilizationOfUnsecuredLines', 'DebtRatio', 'MonthlyIncome', 'age', 'NumberOfOpenCreditLinesAndLoans'], imp__method=max, modelpred__random_number=0.3355931257, log__trans_flag=False, inter__degree=[2] - 4.3min\n",
      "[CV] modelpred__modelwithparams=['BagTree', {'n_estimators': [200], 'max_samples': [0.6, 0.7, 0.8, 0.9]}], inter__add_list=['RevolvingUtilizationOfUnsecuredLines', 'DebtRatio', 'MonthlyIncome', 'age', 'NumberOfOpenCreditLinesAndLoans'], imp__method=max, modelpred__random_number=0.3355931257, log__trans_flag=False, inter__degree=[2] \n",
      "[CV]  modelpred__modelwithparams=['BagTree', {'n_estimators': [200], 'max_samples': [0.6, 0.7, 0.8, 0.9]}], inter__add_list=['RevolvingUtilizationOfUnsecuredLines', 'DebtRatio', 'MonthlyIncome', 'age', 'NumberOfOpenCreditLinesAndLoans'], imp__method=max, modelpred__random_number=0.3355931257, log__trans_flag=False, inter__degree=[2] - 4.4min\n",
      "[CV] modelpred__modelwithparams=['RF', {'n_estimators': [200], 'max_features': array([ 0.1,  0.2,  0.3,  0.4,  0.5,  0.6,  0.7,  0.8]), 'n_jobs': [-1], 'max_depth': [2, 3, 4, 5, 6, 7, 8, 9, 10, 11, 12, 13, 14, 15, 16, 17, 18, 19]}], inter__add_list=['RevolvingUtilizationOfUnsecuredLines', 'DebtRatio', 'MonthlyIncome', 'age', 'NumberOfOpenCreditLinesAndLoans'], imp__method=mean, modelpred__random_number=0.661473469676, log__trans_flag=False, inter__degree=[2, 3] \n",
      "[CV]  modelpred__modelwithparams=['RF', {'n_estimators': [200], 'max_features': array([ 0.1,  0.2,  0.3,  0.4,  0.5,  0.6,  0.7,  0.8]), 'n_jobs': [-1], 'max_depth': [2, 3, 4, 5, 6, 7, 8, 9, 10, 11, 12, 13, 14, 15, 16, 17, 18, 19]}], inter__add_list=['RevolvingUtilizationOfUnsecuredLines', 'DebtRatio', 'MonthlyIncome', 'age', 'NumberOfOpenCreditLinesAndLoans'], imp__method=mean, modelpred__random_number=0.661473469676, log__trans_flag=False, inter__degree=[2, 3] - 1.1min\n",
      "[CV] modelpred__modelwithparams=['RF', {'n_estimators': [200], 'max_features': array([ 0.1,  0.2,  0.3,  0.4,  0.5,  0.6,  0.7,  0.8]), 'n_jobs': [-1], 'max_depth': [2, 3, 4, 5, 6, 7, 8, 9, 10, 11, 12, 13, 14, 15, 16, 17, 18, 19]}], inter__add_list=['RevolvingUtilizationOfUnsecuredLines', 'DebtRatio', 'MonthlyIncome', 'age', 'NumberOfOpenCreditLinesAndLoans'], imp__method=mean, modelpred__random_number=0.661473469676, log__trans_flag=False, inter__degree=[2, 3] \n",
      "[CV]  modelpred__modelwithparams=['RF', {'n_estimators': [200], 'max_features': array([ 0.1,  0.2,  0.3,  0.4,  0.5,  0.6,  0.7,  0.8]), 'n_jobs': [-1], 'max_depth': [2, 3, 4, 5, 6, 7, 8, 9, 10, 11, 12, 13, 14, 15, 16, 17, 18, 19]}], inter__add_list=['RevolvingUtilizationOfUnsecuredLines', 'DebtRatio', 'MonthlyIncome', 'age', 'NumberOfOpenCreditLinesAndLoans'], imp__method=mean, modelpred__random_number=0.661473469676, log__trans_flag=False, inter__degree=[2, 3] - 1.0min\n",
      "[CV] modelpred__modelwithparams=['RF', {'n_estimators': [200], 'max_features': array([ 0.1,  0.2,  0.3,  0.4,  0.5,  0.6,  0.7,  0.8]), 'n_jobs': [-1], 'max_depth': [2, 3, 4, 5, 6, 7, 8, 9, 10, 11, 12, 13, 14, 15, 16, 17, 18, 19]}], inter__add_list=['RevolvingUtilizationOfUnsecuredLines', 'DebtRatio', 'MonthlyIncome', 'age', 'NumberOfOpenCreditLinesAndLoans'], imp__method=mean, modelpred__random_number=0.661473469676, log__trans_flag=False, inter__degree=[2, 3] \n",
      "[CV]  modelpred__modelwithparams=['RF', {'n_estimators': [200], 'max_features': array([ 0.1,  0.2,  0.3,  0.4,  0.5,  0.6,  0.7,  0.8]), 'n_jobs': [-1], 'max_depth': [2, 3, 4, 5, 6, 7, 8, 9, 10, 11, 12, 13, 14, 15, 16, 17, 18, 19]}], inter__add_list=['RevolvingUtilizationOfUnsecuredLines', 'DebtRatio', 'MonthlyIncome', 'age', 'NumberOfOpenCreditLinesAndLoans'], imp__method=mean, modelpred__random_number=0.661473469676, log__trans_flag=False, inter__degree=[2, 3] - 1.0min\n",
      "[CV] modelpred__modelwithparams=['RF', {'n_estimators': [200], 'max_features': array([ 0.1,  0.2,  0.3,  0.4,  0.5,  0.6,  0.7,  0.8]), 'n_jobs': [-1], 'max_depth': [2, 3, 4, 5, 6, 7, 8, 9, 10, 11, 12, 13, 14, 15, 16, 17, 18, 19]}], inter__add_list=['RevolvingUtilizationOfUnsecuredLines', 'DebtRatio', 'MonthlyIncome', 'age', 'NumberOfOpenCreditLinesAndLoans'], imp__method=mean, modelpred__random_number=0.661473469676, log__trans_flag=False, inter__degree=[2, 3] \n",
      "[CV]  modelpred__modelwithparams=['RF', {'n_estimators': [200], 'max_features': array([ 0.1,  0.2,  0.3,  0.4,  0.5,  0.6,  0.7,  0.8]), 'n_jobs': [-1], 'max_depth': [2, 3, 4, 5, 6, 7, 8, 9, 10, 11, 12, 13, 14, 15, 16, 17, 18, 19]}], inter__add_list=['RevolvingUtilizationOfUnsecuredLines', 'DebtRatio', 'MonthlyIncome', 'age', 'NumberOfOpenCreditLinesAndLoans'], imp__method=mean, modelpred__random_number=0.661473469676, log__trans_flag=False, inter__degree=[2, 3] - 1.0min\n",
      "[CV] modelpred__modelwithparams=['RF', {'n_estimators': [200], 'max_features': array([ 0.1,  0.2,  0.3,  0.4,  0.5,  0.6,  0.7,  0.8]), 'n_jobs': [-1], 'max_depth': [2, 3, 4, 5, 6, 7, 8, 9, 10, 11, 12, 13, 14, 15, 16, 17, 18, 19]}], inter__add_list=['RevolvingUtilizationOfUnsecuredLines', 'DebtRatio', 'MonthlyIncome', 'age', 'NumberOfOpenCreditLinesAndLoans'], imp__method=mean, modelpred__random_number=0.661473469676, log__trans_flag=False, inter__degree=[2, 3] \n",
      "[CV]  modelpred__modelwithparams=['RF', {'n_estimators': [200], 'max_features': array([ 0.1,  0.2,  0.3,  0.4,  0.5,  0.6,  0.7,  0.8]), 'n_jobs': [-1], 'max_depth': [2, 3, 4, 5, 6, 7, 8, 9, 10, 11, 12, 13, 14, 15, 16, 17, 18, 19]}], inter__add_list=['RevolvingUtilizationOfUnsecuredLines', 'DebtRatio', 'MonthlyIncome', 'age', 'NumberOfOpenCreditLinesAndLoans'], imp__method=mean, modelpred__random_number=0.661473469676, log__trans_flag=False, inter__degree=[2, 3] - 1.0min\n",
      "[CV] modelpred__modelwithparams=['ExTree', {'n_estimators': [200], 'max_features': array([ 0.1,  0.2,  0.3,  0.4,  0.5,  0.6,  0.7,  0.8]), 'n_jobs': [-1], 'max_depth': [10, 11, 12, 13, 14, 15, 16, 17, 18, 19, 20, 21, 22, 23, 24, 25, 26, 27, 28, 29]}], inter__add_list=['RevolvingUtilizationOfUnsecuredLines', 'DebtRatio', 'MonthlyIncome', 'age', 'NumberOfOpenCreditLinesAndLoans'], imp__method=mode, modelpred__random_number=0.0261835444369, log__trans_flag=False, inter__degree=[2] \n",
      "[CV]  modelpred__modelwithparams=['ExTree', {'n_estimators': [200], 'max_features': array([ 0.1,  0.2,  0.3,  0.4,  0.5,  0.6,  0.7,  0.8]), 'n_jobs': [-1], 'max_depth': [10, 11, 12, 13, 14, 15, 16, 17, 18, 19, 20, 21, 22, 23, 24, 25, 26, 27, 28, 29]}], inter__add_list=['RevolvingUtilizationOfUnsecuredLines', 'DebtRatio', 'MonthlyIncome', 'age', 'NumberOfOpenCreditLinesAndLoans'], imp__method=mode, modelpred__random_number=0.0261835444369, log__trans_flag=False, inter__degree=[2] -   4.1s\n",
      "[CV] modelpred__modelwithparams=['ExTree', {'n_estimators': [200], 'max_features': array([ 0.1,  0.2,  0.3,  0.4,  0.5,  0.6,  0.7,  0.8]), 'n_jobs': [-1], 'max_depth': [10, 11, 12, 13, 14, 15, 16, 17, 18, 19, 20, 21, 22, 23, 24, 25, 26, 27, 28, 29]}], inter__add_list=['RevolvingUtilizationOfUnsecuredLines', 'DebtRatio', 'MonthlyIncome', 'age', 'NumberOfOpenCreditLinesAndLoans'], imp__method=mode, modelpred__random_number=0.0261835444369, log__trans_flag=False, inter__degree=[2] \n",
      "[CV]  modelpred__modelwithparams=['ExTree', {'n_estimators': [200], 'max_features': array([ 0.1,  0.2,  0.3,  0.4,  0.5,  0.6,  0.7,  0.8]), 'n_jobs': [-1], 'max_depth': [10, 11, 12, 13, 14, 15, 16, 17, 18, 19, 20, 21, 22, 23, 24, 25, 26, 27, 28, 29]}], inter__add_list=['RevolvingUtilizationOfUnsecuredLines', 'DebtRatio', 'MonthlyIncome', 'age', 'NumberOfOpenCreditLinesAndLoans'], imp__method=mode, modelpred__random_number=0.0261835444369, log__trans_flag=False, inter__degree=[2] -   4.2s\n",
      "[CV] modelpred__modelwithparams=['ExTree', {'n_estimators': [200], 'max_features': array([ 0.1,  0.2,  0.3,  0.4,  0.5,  0.6,  0.7,  0.8]), 'n_jobs': [-1], 'max_depth': [10, 11, 12, 13, 14, 15, 16, 17, 18, 19, 20, 21, 22, 23, 24, 25, 26, 27, 28, 29]}], inter__add_list=['RevolvingUtilizationOfUnsecuredLines', 'DebtRatio', 'MonthlyIncome', 'age', 'NumberOfOpenCreditLinesAndLoans'], imp__method=mode, modelpred__random_number=0.0261835444369, log__trans_flag=False, inter__degree=[2] \n",
      "[CV]  modelpred__modelwithparams=['ExTree', {'n_estimators': [200], 'max_features': array([ 0.1,  0.2,  0.3,  0.4,  0.5,  0.6,  0.7,  0.8]), 'n_jobs': [-1], 'max_depth': [10, 11, 12, 13, 14, 15, 16, 17, 18, 19, 20, 21, 22, 23, 24, 25, 26, 27, 28, 29]}], inter__add_list=['RevolvingUtilizationOfUnsecuredLines', 'DebtRatio', 'MonthlyIncome', 'age', 'NumberOfOpenCreditLinesAndLoans'], imp__method=mode, modelpred__random_number=0.0261835444369, log__trans_flag=False, inter__degree=[2] -   4.1s\n",
      "[CV] modelpred__modelwithparams=['ExTree', {'n_estimators': [200], 'max_features': array([ 0.1,  0.2,  0.3,  0.4,  0.5,  0.6,  0.7,  0.8]), 'n_jobs': [-1], 'max_depth': [10, 11, 12, 13, 14, 15, 16, 17, 18, 19, 20, 21, 22, 23, 24, 25, 26, 27, 28, 29]}], inter__add_list=['RevolvingUtilizationOfUnsecuredLines', 'DebtRatio', 'MonthlyIncome', 'age', 'NumberOfOpenCreditLinesAndLoans'], imp__method=mode, modelpred__random_number=0.0261835444369, log__trans_flag=False, inter__degree=[2] \n",
      "[CV]  modelpred__modelwithparams=['ExTree', {'n_estimators': [200], 'max_features': array([ 0.1,  0.2,  0.3,  0.4,  0.5,  0.6,  0.7,  0.8]), 'n_jobs': [-1], 'max_depth': [10, 11, 12, 13, 14, 15, 16, 17, 18, 19, 20, 21, 22, 23, 24, 25, 26, 27, 28, 29]}], inter__add_list=['RevolvingUtilizationOfUnsecuredLines', 'DebtRatio', 'MonthlyIncome', 'age', 'NumberOfOpenCreditLinesAndLoans'], imp__method=mode, modelpred__random_number=0.0261835444369, log__trans_flag=False, inter__degree=[2] -   4.2s\n",
      "[CV] modelpred__modelwithparams=['ExTree', {'n_estimators': [200], 'max_features': array([ 0.1,  0.2,  0.3,  0.4,  0.5,  0.6,  0.7,  0.8]), 'n_jobs': [-1], 'max_depth': [10, 11, 12, 13, 14, 15, 16, 17, 18, 19, 20, 21, 22, 23, 24, 25, 26, 27, 28, 29]}], inter__add_list=['RevolvingUtilizationOfUnsecuredLines', 'DebtRatio', 'MonthlyIncome', 'age', 'NumberOfOpenCreditLinesAndLoans'], imp__method=mode, modelpred__random_number=0.0261835444369, log__trans_flag=False, inter__degree=[2] \n",
      "[CV]  modelpred__modelwithparams=['ExTree', {'n_estimators': [200], 'max_features': array([ 0.1,  0.2,  0.3,  0.4,  0.5,  0.6,  0.7,  0.8]), 'n_jobs': [-1], 'max_depth': [10, 11, 12, 13, 14, 15, 16, 17, 18, 19, 20, 21, 22, 23, 24, 25, 26, 27, 28, 29]}], inter__add_list=['RevolvingUtilizationOfUnsecuredLines', 'DebtRatio', 'MonthlyIncome', 'age', 'NumberOfOpenCreditLinesAndLoans'], imp__method=mode, modelpred__random_number=0.0261835444369, log__trans_flag=False, inter__degree=[2] -   4.0s\n",
      "[CV] modelpred__modelwithparams=['RF', {'n_estimators': [200], 'max_features': array([ 0.1,  0.2,  0.3,  0.4,  0.5,  0.6,  0.7,  0.8]), 'n_jobs': [-1], 'max_depth': [2, 3, 4, 5, 6, 7, 8, 9, 10, 11, 12, 13, 14, 15, 16, 17, 18, 19]}], inter__add_list=[], imp__method=mode, modelpred__random_number=0.842628308389, log__trans_flag=True, inter__degree=[2, 3] \n",
      "[CV]  modelpred__modelwithparams=['RF', {'n_estimators': [200], 'max_features': array([ 0.1,  0.2,  0.3,  0.4,  0.5,  0.6,  0.7,  0.8]), 'n_jobs': [-1], 'max_depth': [2, 3, 4, 5, 6, 7, 8, 9, 10, 11, 12, 13, 14, 15, 16, 17, 18, 19]}], inter__add_list=[], imp__method=mode, modelpred__random_number=0.842628308389, log__trans_flag=True, inter__degree=[2, 3] -  26.1s\n",
      "[CV] modelpred__modelwithparams=['RF', {'n_estimators': [200], 'max_features': array([ 0.1,  0.2,  0.3,  0.4,  0.5,  0.6,  0.7,  0.8]), 'n_jobs': [-1], 'max_depth': [2, 3, 4, 5, 6, 7, 8, 9, 10, 11, 12, 13, 14, 15, 16, 17, 18, 19]}], inter__add_list=[], imp__method=mode, modelpred__random_number=0.842628308389, log__trans_flag=True, inter__degree=[2, 3] \n",
      "[CV]  modelpred__modelwithparams=['RF', {'n_estimators': [200], 'max_features': array([ 0.1,  0.2,  0.3,  0.4,  0.5,  0.6,  0.7,  0.8]), 'n_jobs': [-1], 'max_depth': [2, 3, 4, 5, 6, 7, 8, 9, 10, 11, 12, 13, 14, 15, 16, 17, 18, 19]}], inter__add_list=[], imp__method=mode, modelpred__random_number=0.842628308389, log__trans_flag=True, inter__degree=[2, 3] -  26.7s\n",
      "[CV] modelpred__modelwithparams=['RF', {'n_estimators': [200], 'max_features': array([ 0.1,  0.2,  0.3,  0.4,  0.5,  0.6,  0.7,  0.8]), 'n_jobs': [-1], 'max_depth': [2, 3, 4, 5, 6, 7, 8, 9, 10, 11, 12, 13, 14, 15, 16, 17, 18, 19]}], inter__add_list=[], imp__method=mode, modelpred__random_number=0.842628308389, log__trans_flag=True, inter__degree=[2, 3] \n",
      "[CV]  modelpred__modelwithparams=['RF', {'n_estimators': [200], 'max_features': array([ 0.1,  0.2,  0.3,  0.4,  0.5,  0.6,  0.7,  0.8]), 'n_jobs': [-1], 'max_depth': [2, 3, 4, 5, 6, 7, 8, 9, 10, 11, 12, 13, 14, 15, 16, 17, 18, 19]}], inter__add_list=[], imp__method=mode, modelpred__random_number=0.842628308389, log__trans_flag=True, inter__degree=[2, 3] -  26.7s\n",
      "[CV] modelpred__modelwithparams=['RF', {'n_estimators': [200], 'max_features': array([ 0.1,  0.2,  0.3,  0.4,  0.5,  0.6,  0.7,  0.8]), 'n_jobs': [-1], 'max_depth': [2, 3, 4, 5, 6, 7, 8, 9, 10, 11, 12, 13, 14, 15, 16, 17, 18, 19]}], inter__add_list=[], imp__method=mode, modelpred__random_number=0.842628308389, log__trans_flag=True, inter__degree=[2, 3] \n",
      "[CV]  modelpred__modelwithparams=['RF', {'n_estimators': [200], 'max_features': array([ 0.1,  0.2,  0.3,  0.4,  0.5,  0.6,  0.7,  0.8]), 'n_jobs': [-1], 'max_depth': [2, 3, 4, 5, 6, 7, 8, 9, 10, 11, 12, 13, 14, 15, 16, 17, 18, 19]}], inter__add_list=[], imp__method=mode, modelpred__random_number=0.842628308389, log__trans_flag=True, inter__degree=[2, 3] -  29.6s\n",
      "[CV] modelpred__modelwithparams=['RF', {'n_estimators': [200], 'max_features': array([ 0.1,  0.2,  0.3,  0.4,  0.5,  0.6,  0.7,  0.8]), 'n_jobs': [-1], 'max_depth': [2, 3, 4, 5, 6, 7, 8, 9, 10, 11, 12, 13, 14, 15, 16, 17, 18, 19]}], inter__add_list=[], imp__method=mode, modelpred__random_number=0.842628308389, log__trans_flag=True, inter__degree=[2, 3] \n",
      "[CV]  modelpred__modelwithparams=['RF', {'n_estimators': [200], 'max_features': array([ 0.1,  0.2,  0.3,  0.4,  0.5,  0.6,  0.7,  0.8]), 'n_jobs': [-1], 'max_depth': [2, 3, 4, 5, 6, 7, 8, 9, 10, 11, 12, 13, 14, 15, 16, 17, 18, 19]}], inter__add_list=[], imp__method=mode, modelpred__random_number=0.842628308389, log__trans_flag=True, inter__degree=[2, 3] -  27.5s\n",
      "[CV] modelpred__modelwithparams=['LR', {'penalty': ['l1', 'l2'], 'C': array([ 0.01      ,  0.01274275,  0.01623777,  0.02069138,  0.02636651,\n",
      "        0.03359818,  0.04281332,  0.05455595,  0.06951928,  0.08858668,\n",
      "        0.11288379,  0.14384499,  0.18329807,  0.23357215,  0.29763514,\n",
      "        0.37926902,  0.48329302,  0.61584821,  0.78475997,  1.        ])}], inter__add_list=[], imp__method=mean, modelpred__random_number=0.0334346054588, log__trans_flag=False, inter__degree=[2, 3] \n",
      "[CV]  modelpred__modelwithparams=['LR', {'penalty': ['l1', 'l2'], 'C': array([ 0.01      ,  0.01274275,  0.01623777,  0.02069138,  0.02636651,\n",
      "        0.03359818,  0.04281332,  0.05455595,  0.06951928,  0.08858668,\n",
      "        0.11288379,  0.14384499,  0.18329807,  0.23357215,  0.29763514,\n",
      "        0.37926902,  0.48329302,  0.61584821,  0.78475997,  1.        ])}], inter__add_list=[], imp__method=mean, modelpred__random_number=0.0334346054588, log__trans_flag=False, inter__degree=[2, 3] -   1.4s\n",
      "[CV] modelpred__modelwithparams=['LR', {'penalty': ['l1', 'l2'], 'C': array([ 0.01      ,  0.01274275,  0.01623777,  0.02069138,  0.02636651,\n",
      "        0.03359818,  0.04281332,  0.05455595,  0.06951928,  0.08858668,\n",
      "        0.11288379,  0.14384499,  0.18329807,  0.23357215,  0.29763514,\n",
      "        0.37926902,  0.48329302,  0.61584821,  0.78475997,  1.        ])}], inter__add_list=[], imp__method=mean, modelpred__random_number=0.0334346054588, log__trans_flag=False, inter__degree=[2, 3] \n",
      "[CV]  modelpred__modelwithparams=['LR', {'penalty': ['l1', 'l2'], 'C': array([ 0.01      ,  0.01274275,  0.01623777,  0.02069138,  0.02636651,\n",
      "        0.03359818,  0.04281332,  0.05455595,  0.06951928,  0.08858668,\n",
      "        0.11288379,  0.14384499,  0.18329807,  0.23357215,  0.29763514,\n",
      "        0.37926902,  0.48329302,  0.61584821,  0.78475997,  1.        ])}], inter__add_list=[], imp__method=mean, modelpred__random_number=0.0334346054588, log__trans_flag=False, inter__degree=[2, 3] -   1.6s\n",
      "[CV] modelpred__modelwithparams=['LR', {'penalty': ['l1', 'l2'], 'C': array([ 0.01      ,  0.01274275,  0.01623777,  0.02069138,  0.02636651,\n",
      "        0.03359818,  0.04281332,  0.05455595,  0.06951928,  0.08858668,\n",
      "        0.11288379,  0.14384499,  0.18329807,  0.23357215,  0.29763514,\n",
      "        0.37926902,  0.48329302,  0.61584821,  0.78475997,  1.        ])}], inter__add_list=[], imp__method=mean, modelpred__random_number=0.0334346054588, log__trans_flag=False, inter__degree=[2, 3] \n",
      "[CV]  modelpred__modelwithparams=['LR', {'penalty': ['l1', 'l2'], 'C': array([ 0.01      ,  0.01274275,  0.01623777,  0.02069138,  0.02636651,\n",
      "        0.03359818,  0.04281332,  0.05455595,  0.06951928,  0.08858668,\n",
      "        0.11288379,  0.14384499,  0.18329807,  0.23357215,  0.29763514,\n",
      "        0.37926902,  0.48329302,  0.61584821,  0.78475997,  1.        ])}], inter__add_list=[], imp__method=mean, modelpred__random_number=0.0334346054588, log__trans_flag=False, inter__degree=[2, 3] -   1.4s\n",
      "[CV] modelpred__modelwithparams=['LR', {'penalty': ['l1', 'l2'], 'C': array([ 0.01      ,  0.01274275,  0.01623777,  0.02069138,  0.02636651,\n",
      "        0.03359818,  0.04281332,  0.05455595,  0.06951928,  0.08858668,\n",
      "        0.11288379,  0.14384499,  0.18329807,  0.23357215,  0.29763514,\n",
      "        0.37926902,  0.48329302,  0.61584821,  0.78475997,  1.        ])}], inter__add_list=[], imp__method=mean, modelpred__random_number=0.0334346054588, log__trans_flag=False, inter__degree=[2, 3] \n",
      "[CV]  modelpred__modelwithparams=['LR', {'penalty': ['l1', 'l2'], 'C': array([ 0.01      ,  0.01274275,  0.01623777,  0.02069138,  0.02636651,\n",
      "        0.03359818,  0.04281332,  0.05455595,  0.06951928,  0.08858668,\n",
      "        0.11288379,  0.14384499,  0.18329807,  0.23357215,  0.29763514,\n",
      "        0.37926902,  0.48329302,  0.61584821,  0.78475997,  1.        ])}], inter__add_list=[], imp__method=mean, modelpred__random_number=0.0334346054588, log__trans_flag=False, inter__degree=[2, 3] -   1.4s\n",
      "[CV] modelpred__modelwithparams=['LR', {'penalty': ['l1', 'l2'], 'C': array([ 0.01      ,  0.01274275,  0.01623777,  0.02069138,  0.02636651,\n",
      "        0.03359818,  0.04281332,  0.05455595,  0.06951928,  0.08858668,\n",
      "        0.11288379,  0.14384499,  0.18329807,  0.23357215,  0.29763514,\n",
      "        0.37926902,  0.48329302,  0.61584821,  0.78475997,  1.        ])}], inter__add_list=[], imp__method=mean, modelpred__random_number=0.0334346054588, log__trans_flag=False, inter__degree=[2, 3] \n",
      "[CV]  modelpred__modelwithparams=['LR', {'penalty': ['l1', 'l2'], 'C': array([ 0.01      ,  0.01274275,  0.01623777,  0.02069138,  0.02636651,\n",
      "        0.03359818,  0.04281332,  0.05455595,  0.06951928,  0.08858668,\n",
      "        0.11288379,  0.14384499,  0.18329807,  0.23357215,  0.29763514,\n",
      "        0.37926902,  0.48329302,  0.61584821,  0.78475997,  1.        ])}], inter__add_list=[], imp__method=mean, modelpred__random_number=0.0334346054588, log__trans_flag=False, inter__degree=[2, 3] -   1.0s\n",
      "[CV] modelpred__modelwithparams=['RF', {'n_estimators': [200], 'max_features': array([ 0.1,  0.2,  0.3,  0.4,  0.5,  0.6,  0.7,  0.8]), 'n_jobs': [-1], 'max_depth': [2, 3, 4, 5, 6, 7, 8, 9, 10, 11, 12, 13, 14, 15, 16, 17, 18, 19]}], inter__add_list=['RevolvingUtilizationOfUnsecuredLines', 'DebtRatio', 'MonthlyIncome', 'age', 'NumberOfOpenCreditLinesAndLoans'], imp__method=median, modelpred__random_number=0.279644480914, log__trans_flag=True, inter__degree=[2, 3] \n",
      "[CV]  modelpred__modelwithparams=['RF', {'n_estimators': [200], 'max_features': array([ 0.1,  0.2,  0.3,  0.4,  0.5,  0.6,  0.7,  0.8]), 'n_jobs': [-1], 'max_depth': [2, 3, 4, 5, 6, 7, 8, 9, 10, 11, 12, 13, 14, 15, 16, 17, 18, 19]}], inter__add_list=['RevolvingUtilizationOfUnsecuredLines', 'DebtRatio', 'MonthlyIncome', 'age', 'NumberOfOpenCreditLinesAndLoans'], imp__method=median, modelpred__random_number=0.279644480914, log__trans_flag=True, inter__degree=[2, 3] -  27.7s\n",
      "[CV] modelpred__modelwithparams=['RF', {'n_estimators': [200], 'max_features': array([ 0.1,  0.2,  0.3,  0.4,  0.5,  0.6,  0.7,  0.8]), 'n_jobs': [-1], 'max_depth': [2, 3, 4, 5, 6, 7, 8, 9, 10, 11, 12, 13, 14, 15, 16, 17, 18, 19]}], inter__add_list=['RevolvingUtilizationOfUnsecuredLines', 'DebtRatio', 'MonthlyIncome', 'age', 'NumberOfOpenCreditLinesAndLoans'], imp__method=median, modelpred__random_number=0.279644480914, log__trans_flag=True, inter__degree=[2, 3] \n",
      "[CV]  modelpred__modelwithparams=['RF', {'n_estimators': [200], 'max_features': array([ 0.1,  0.2,  0.3,  0.4,  0.5,  0.6,  0.7,  0.8]), 'n_jobs': [-1], 'max_depth': [2, 3, 4, 5, 6, 7, 8, 9, 10, 11, 12, 13, 14, 15, 16, 17, 18, 19]}], inter__add_list=['RevolvingUtilizationOfUnsecuredLines', 'DebtRatio', 'MonthlyIncome', 'age', 'NumberOfOpenCreditLinesAndLoans'], imp__method=median, modelpred__random_number=0.279644480914, log__trans_flag=True, inter__degree=[2, 3] -  29.4s\n",
      "[CV] modelpred__modelwithparams=['RF', {'n_estimators': [200], 'max_features': array([ 0.1,  0.2,  0.3,  0.4,  0.5,  0.6,  0.7,  0.8]), 'n_jobs': [-1], 'max_depth': [2, 3, 4, 5, 6, 7, 8, 9, 10, 11, 12, 13, 14, 15, 16, 17, 18, 19]}], inter__add_list=['RevolvingUtilizationOfUnsecuredLines', 'DebtRatio', 'MonthlyIncome', 'age', 'NumberOfOpenCreditLinesAndLoans'], imp__method=median, modelpred__random_number=0.279644480914, log__trans_flag=True, inter__degree=[2, 3] \n",
      "[CV]  modelpred__modelwithparams=['RF', {'n_estimators': [200], 'max_features': array([ 0.1,  0.2,  0.3,  0.4,  0.5,  0.6,  0.7,  0.8]), 'n_jobs': [-1], 'max_depth': [2, 3, 4, 5, 6, 7, 8, 9, 10, 11, 12, 13, 14, 15, 16, 17, 18, 19]}], inter__add_list=['RevolvingUtilizationOfUnsecuredLines', 'DebtRatio', 'MonthlyIncome', 'age', 'NumberOfOpenCreditLinesAndLoans'], imp__method=median, modelpred__random_number=0.279644480914, log__trans_flag=True, inter__degree=[2, 3] -  29.0s\n",
      "[CV] modelpred__modelwithparams=['RF', {'n_estimators': [200], 'max_features': array([ 0.1,  0.2,  0.3,  0.4,  0.5,  0.6,  0.7,  0.8]), 'n_jobs': [-1], 'max_depth': [2, 3, 4, 5, 6, 7, 8, 9, 10, 11, 12, 13, 14, 15, 16, 17, 18, 19]}], inter__add_list=['RevolvingUtilizationOfUnsecuredLines', 'DebtRatio', 'MonthlyIncome', 'age', 'NumberOfOpenCreditLinesAndLoans'], imp__method=median, modelpred__random_number=0.279644480914, log__trans_flag=True, inter__degree=[2, 3] \n",
      "[CV]  modelpred__modelwithparams=['RF', {'n_estimators': [200], 'max_features': array([ 0.1,  0.2,  0.3,  0.4,  0.5,  0.6,  0.7,  0.8]), 'n_jobs': [-1], 'max_depth': [2, 3, 4, 5, 6, 7, 8, 9, 10, 11, 12, 13, 14, 15, 16, 17, 18, 19]}], inter__add_list=['RevolvingUtilizationOfUnsecuredLines', 'DebtRatio', 'MonthlyIncome', 'age', 'NumberOfOpenCreditLinesAndLoans'], imp__method=median, modelpred__random_number=0.279644480914, log__trans_flag=True, inter__degree=[2, 3] -  28.6s\n",
      "[CV] modelpred__modelwithparams=['RF', {'n_estimators': [200], 'max_features': array([ 0.1,  0.2,  0.3,  0.4,  0.5,  0.6,  0.7,  0.8]), 'n_jobs': [-1], 'max_depth': [2, 3, 4, 5, 6, 7, 8, 9, 10, 11, 12, 13, 14, 15, 16, 17, 18, 19]}], inter__add_list=['RevolvingUtilizationOfUnsecuredLines', 'DebtRatio', 'MonthlyIncome', 'age', 'NumberOfOpenCreditLinesAndLoans'], imp__method=median, modelpred__random_number=0.279644480914, log__trans_flag=True, inter__degree=[2, 3] \n",
      "[CV]  modelpred__modelwithparams=['RF', {'n_estimators': [200], 'max_features': array([ 0.1,  0.2,  0.3,  0.4,  0.5,  0.6,  0.7,  0.8]), 'n_jobs': [-1], 'max_depth': [2, 3, 4, 5, 6, 7, 8, 9, 10, 11, 12, 13, 14, 15, 16, 17, 18, 19]}], inter__add_list=['RevolvingUtilizationOfUnsecuredLines', 'DebtRatio', 'MonthlyIncome', 'age', 'NumberOfOpenCreditLinesAndLoans'], imp__method=median, modelpred__random_number=0.279644480914, log__trans_flag=True, inter__degree=[2, 3] -  30.1s\n",
      "[CV] modelpred__modelwithparams=['KNN', {'n_neighbors': [200, 220, 240, 260, 280, 300, 320, 340, 360, 380], 'weights': ['uniform', 'distance']}], inter__add_list=[], imp__method=mean, modelpred__random_number=0.535674792837, log__trans_flag=False, inter__degree=[2] \n",
      "[CV]  modelpred__modelwithparams=['KNN', {'n_neighbors': [200, 220, 240, 260, 280, 300, 320, 340, 360, 380], 'weights': ['uniform', 'distance']}], inter__add_list=[], imp__method=mean, modelpred__random_number=0.535674792837, log__trans_flag=False, inter__degree=[2] -   6.9s\n",
      "[CV] modelpred__modelwithparams=['KNN', {'n_neighbors': [200, 220, 240, 260, 280, 300, 320, 340, 360, 380], 'weights': ['uniform', 'distance']}], inter__add_list=[], imp__method=mean, modelpred__random_number=0.535674792837, log__trans_flag=False, inter__degree=[2] \n",
      "[CV]  modelpred__modelwithparams=['KNN', {'n_neighbors': [200, 220, 240, 260, 280, 300, 320, 340, 360, 380], 'weights': ['uniform', 'distance']}], inter__add_list=[], imp__method=mean, modelpred__random_number=0.535674792837, log__trans_flag=False, inter__degree=[2] -   7.1s\n",
      "[CV] modelpred__modelwithparams=['KNN', {'n_neighbors': [200, 220, 240, 260, 280, 300, 320, 340, 360, 380], 'weights': ['uniform', 'distance']}], inter__add_list=[], imp__method=mean, modelpred__random_number=0.535674792837, log__trans_flag=False, inter__degree=[2] \n",
      "[CV]  modelpred__modelwithparams=['KNN', {'n_neighbors': [200, 220, 240, 260, 280, 300, 320, 340, 360, 380], 'weights': ['uniform', 'distance']}], inter__add_list=[], imp__method=mean, modelpred__random_number=0.535674792837, log__trans_flag=False, inter__degree=[2] -   8.1s\n",
      "[CV] modelpred__modelwithparams=['KNN', {'n_neighbors': [200, 220, 240, 260, 280, 300, 320, 340, 360, 380], 'weights': ['uniform', 'distance']}], inter__add_list=[], imp__method=mean, modelpred__random_number=0.535674792837, log__trans_flag=False, inter__degree=[2] \n",
      "[CV]  modelpred__modelwithparams=['KNN', {'n_neighbors': [200, 220, 240, 260, 280, 300, 320, 340, 360, 380], 'weights': ['uniform', 'distance']}], inter__add_list=[], imp__method=mean, modelpred__random_number=0.535674792837, log__trans_flag=False, inter__degree=[2] -   6.7s\n",
      "[CV] modelpred__modelwithparams=['KNN', {'n_neighbors': [200, 220, 240, 260, 280, 300, 320, 340, 360, 380], 'weights': ['uniform', 'distance']}], inter__add_list=[], imp__method=mean, modelpred__random_number=0.535674792837, log__trans_flag=False, inter__degree=[2] \n",
      "[CV]  modelpred__modelwithparams=['KNN', {'n_neighbors': [200, 220, 240, 260, 280, 300, 320, 340, 360, 380], 'weights': ['uniform', 'distance']}], inter__add_list=[], imp__method=mean, modelpred__random_number=0.535674792837, log__trans_flag=False, inter__degree=[2] -   6.8s\n",
      "[CV] modelpred__modelwithparams=['ExTree', {'n_estimators': [200], 'max_features': array([ 0.1,  0.2,  0.3,  0.4,  0.5,  0.6,  0.7,  0.8]), 'n_jobs': [-1], 'max_depth': [10, 11, 12, 13, 14, 15, 16, 17, 18, 19, 20, 21, 22, 23, 24, 25, 26, 27, 28, 29]}], inter__add_list=['RevolvingUtilizationOfUnsecuredLines', 'DebtRatio', 'MonthlyIncome', 'age', 'NumberOfOpenCreditLinesAndLoans'], imp__method=median, modelpred__random_number=0.7449936076, log__trans_flag=False, inter__degree=[2] \n",
      "[CV]  modelpred__modelwithparams=['ExTree', {'n_estimators': [200], 'max_features': array([ 0.1,  0.2,  0.3,  0.4,  0.5,  0.6,  0.7,  0.8]), 'n_jobs': [-1], 'max_depth': [10, 11, 12, 13, 14, 15, 16, 17, 18, 19, 20, 21, 22, 23, 24, 25, 26, 27, 28, 29]}], inter__add_list=['RevolvingUtilizationOfUnsecuredLines', 'DebtRatio', 'MonthlyIncome', 'age', 'NumberOfOpenCreditLinesAndLoans'], imp__method=median, modelpred__random_number=0.7449936076, log__trans_flag=False, inter__degree=[2] -  38.2s\n",
      "[CV] modelpred__modelwithparams=['ExTree', {'n_estimators': [200], 'max_features': array([ 0.1,  0.2,  0.3,  0.4,  0.5,  0.6,  0.7,  0.8]), 'n_jobs': [-1], 'max_depth': [10, 11, 12, 13, 14, 15, 16, 17, 18, 19, 20, 21, 22, 23, 24, 25, 26, 27, 28, 29]}], inter__add_list=['RevolvingUtilizationOfUnsecuredLines', 'DebtRatio', 'MonthlyIncome', 'age', 'NumberOfOpenCreditLinesAndLoans'], imp__method=median, modelpred__random_number=0.7449936076, log__trans_flag=False, inter__degree=[2] \n",
      "[CV]  modelpred__modelwithparams=['ExTree', {'n_estimators': [200], 'max_features': array([ 0.1,  0.2,  0.3,  0.4,  0.5,  0.6,  0.7,  0.8]), 'n_jobs': [-1], 'max_depth': [10, 11, 12, 13, 14, 15, 16, 17, 18, 19, 20, 21, 22, 23, 24, 25, 26, 27, 28, 29]}], inter__add_list=['RevolvingUtilizationOfUnsecuredLines', 'DebtRatio', 'MonthlyIncome', 'age', 'NumberOfOpenCreditLinesAndLoans'], imp__method=median, modelpred__random_number=0.7449936076, log__trans_flag=False, inter__degree=[2] -  41.5s\n",
      "[CV] modelpred__modelwithparams=['ExTree', {'n_estimators': [200], 'max_features': array([ 0.1,  0.2,  0.3,  0.4,  0.5,  0.6,  0.7,  0.8]), 'n_jobs': [-1], 'max_depth': [10, 11, 12, 13, 14, 15, 16, 17, 18, 19, 20, 21, 22, 23, 24, 25, 26, 27, 28, 29]}], inter__add_list=['RevolvingUtilizationOfUnsecuredLines', 'DebtRatio', 'MonthlyIncome', 'age', 'NumberOfOpenCreditLinesAndLoans'], imp__method=median, modelpred__random_number=0.7449936076, log__trans_flag=False, inter__degree=[2] \n",
      "[CV]  modelpred__modelwithparams=['ExTree', {'n_estimators': [200], 'max_features': array([ 0.1,  0.2,  0.3,  0.4,  0.5,  0.6,  0.7,  0.8]), 'n_jobs': [-1], 'max_depth': [10, 11, 12, 13, 14, 15, 16, 17, 18, 19, 20, 21, 22, 23, 24, 25, 26, 27, 28, 29]}], inter__add_list=['RevolvingUtilizationOfUnsecuredLines', 'DebtRatio', 'MonthlyIncome', 'age', 'NumberOfOpenCreditLinesAndLoans'], imp__method=median, modelpred__random_number=0.7449936076, log__trans_flag=False, inter__degree=[2] -  37.6s\n",
      "[CV] modelpred__modelwithparams=['ExTree', {'n_estimators': [200], 'max_features': array([ 0.1,  0.2,  0.3,  0.4,  0.5,  0.6,  0.7,  0.8]), 'n_jobs': [-1], 'max_depth': [10, 11, 12, 13, 14, 15, 16, 17, 18, 19, 20, 21, 22, 23, 24, 25, 26, 27, 28, 29]}], inter__add_list=['RevolvingUtilizationOfUnsecuredLines', 'DebtRatio', 'MonthlyIncome', 'age', 'NumberOfOpenCreditLinesAndLoans'], imp__method=median, modelpred__random_number=0.7449936076, log__trans_flag=False, inter__degree=[2] \n",
      "[CV]  modelpred__modelwithparams=['ExTree', {'n_estimators': [200], 'max_features': array([ 0.1,  0.2,  0.3,  0.4,  0.5,  0.6,  0.7,  0.8]), 'n_jobs': [-1], 'max_depth': [10, 11, 12, 13, 14, 15, 16, 17, 18, 19, 20, 21, 22, 23, 24, 25, 26, 27, 28, 29]}], inter__add_list=['RevolvingUtilizationOfUnsecuredLines', 'DebtRatio', 'MonthlyIncome', 'age', 'NumberOfOpenCreditLinesAndLoans'], imp__method=median, modelpred__random_number=0.7449936076, log__trans_flag=False, inter__degree=[2] -  37.9s\n",
      "[CV] modelpred__modelwithparams=['ExTree', {'n_estimators': [200], 'max_features': array([ 0.1,  0.2,  0.3,  0.4,  0.5,  0.6,  0.7,  0.8]), 'n_jobs': [-1], 'max_depth': [10, 11, 12, 13, 14, 15, 16, 17, 18, 19, 20, 21, 22, 23, 24, 25, 26, 27, 28, 29]}], inter__add_list=['RevolvingUtilizationOfUnsecuredLines', 'DebtRatio', 'MonthlyIncome', 'age', 'NumberOfOpenCreditLinesAndLoans'], imp__method=median, modelpred__random_number=0.7449936076, log__trans_flag=False, inter__degree=[2] \n",
      "[CV]  modelpred__modelwithparams=['ExTree', {'n_estimators': [200], 'max_features': array([ 0.1,  0.2,  0.3,  0.4,  0.5,  0.6,  0.7,  0.8]), 'n_jobs': [-1], 'max_depth': [10, 11, 12, 13, 14, 15, 16, 17, 18, 19, 20, 21, 22, 23, 24, 25, 26, 27, 28, 29]}], inter__add_list=['RevolvingUtilizationOfUnsecuredLines', 'DebtRatio', 'MonthlyIncome', 'age', 'NumberOfOpenCreditLinesAndLoans'], imp__method=median, modelpred__random_number=0.7449936076, log__trans_flag=False, inter__degree=[2] -  37.6s\n",
      "[CV] modelpred__modelwithparams=['RF', {'n_estimators': [200], 'max_features': array([ 0.1,  0.2,  0.3,  0.4,  0.5,  0.6,  0.7,  0.8]), 'n_jobs': [-1], 'max_depth': [2, 3, 4, 5, 6, 7, 8, 9, 10, 11, 12, 13, 14, 15, 16, 17, 18, 19]}], inter__add_list=[], imp__method=median, modelpred__random_number=0.198390474649, log__trans_flag=False, inter__degree=[2, 3] \n",
      "[CV]  modelpred__modelwithparams=['RF', {'n_estimators': [200], 'max_features': array([ 0.1,  0.2,  0.3,  0.4,  0.5,  0.6,  0.7,  0.8]), 'n_jobs': [-1], 'max_depth': [2, 3, 4, 5, 6, 7, 8, 9, 10, 11, 12, 13, 14, 15, 16, 17, 18, 19]}], inter__add_list=[], imp__method=median, modelpred__random_number=0.198390474649, log__trans_flag=False, inter__degree=[2, 3] -   8.0s\n",
      "[CV] modelpred__modelwithparams=['RF', {'n_estimators': [200], 'max_features': array([ 0.1,  0.2,  0.3,  0.4,  0.5,  0.6,  0.7,  0.8]), 'n_jobs': [-1], 'max_depth': [2, 3, 4, 5, 6, 7, 8, 9, 10, 11, 12, 13, 14, 15, 16, 17, 18, 19]}], inter__add_list=[], imp__method=median, modelpred__random_number=0.198390474649, log__trans_flag=False, inter__degree=[2, 3] \n",
      "[CV]  modelpred__modelwithparams=['RF', {'n_estimators': [200], 'max_features': array([ 0.1,  0.2,  0.3,  0.4,  0.5,  0.6,  0.7,  0.8]), 'n_jobs': [-1], 'max_depth': [2, 3, 4, 5, 6, 7, 8, 9, 10, 11, 12, 13, 14, 15, 16, 17, 18, 19]}], inter__add_list=[], imp__method=median, modelpred__random_number=0.198390474649, log__trans_flag=False, inter__degree=[2, 3] -   7.8s\n",
      "[CV] modelpred__modelwithparams=['RF', {'n_estimators': [200], 'max_features': array([ 0.1,  0.2,  0.3,  0.4,  0.5,  0.6,  0.7,  0.8]), 'n_jobs': [-1], 'max_depth': [2, 3, 4, 5, 6, 7, 8, 9, 10, 11, 12, 13, 14, 15, 16, 17, 18, 19]}], inter__add_list=[], imp__method=median, modelpred__random_number=0.198390474649, log__trans_flag=False, inter__degree=[2, 3] \n",
      "[CV]  modelpred__modelwithparams=['RF', {'n_estimators': [200], 'max_features': array([ 0.1,  0.2,  0.3,  0.4,  0.5,  0.6,  0.7,  0.8]), 'n_jobs': [-1], 'max_depth': [2, 3, 4, 5, 6, 7, 8, 9, 10, 11, 12, 13, 14, 15, 16, 17, 18, 19]}], inter__add_list=[], imp__method=median, modelpred__random_number=0.198390474649, log__trans_flag=False, inter__degree=[2, 3] -   8.1s\n",
      "[CV] modelpred__modelwithparams=['RF', {'n_estimators': [200], 'max_features': array([ 0.1,  0.2,  0.3,  0.4,  0.5,  0.6,  0.7,  0.8]), 'n_jobs': [-1], 'max_depth': [2, 3, 4, 5, 6, 7, 8, 9, 10, 11, 12, 13, 14, 15, 16, 17, 18, 19]}], inter__add_list=[], imp__method=median, modelpred__random_number=0.198390474649, log__trans_flag=False, inter__degree=[2, 3] \n",
      "[CV]  modelpred__modelwithparams=['RF', {'n_estimators': [200], 'max_features': array([ 0.1,  0.2,  0.3,  0.4,  0.5,  0.6,  0.7,  0.8]), 'n_jobs': [-1], 'max_depth': [2, 3, 4, 5, 6, 7, 8, 9, 10, 11, 12, 13, 14, 15, 16, 17, 18, 19]}], inter__add_list=[], imp__method=median, modelpred__random_number=0.198390474649, log__trans_flag=False, inter__degree=[2, 3] -   7.8s\n",
      "[CV] modelpred__modelwithparams=['RF', {'n_estimators': [200], 'max_features': array([ 0.1,  0.2,  0.3,  0.4,  0.5,  0.6,  0.7,  0.8]), 'n_jobs': [-1], 'max_depth': [2, 3, 4, 5, 6, 7, 8, 9, 10, 11, 12, 13, 14, 15, 16, 17, 18, 19]}], inter__add_list=[], imp__method=median, modelpred__random_number=0.198390474649, log__trans_flag=False, inter__degree=[2, 3] \n",
      "[CV]  modelpred__modelwithparams=['RF', {'n_estimators': [200], 'max_features': array([ 0.1,  0.2,  0.3,  0.4,  0.5,  0.6,  0.7,  0.8]), 'n_jobs': [-1], 'max_depth': [2, 3, 4, 5, 6, 7, 8, 9, 10, 11, 12, 13, 14, 15, 16, 17, 18, 19]}], inter__add_list=[], imp__method=median, modelpred__random_number=0.198390474649, log__trans_flag=False, inter__degree=[2, 3] -   8.0s"
     ]
    },
    {
     "name": "stderr",
     "output_type": "stream",
     "text": [
      "[Parallel(n_jobs=1)]: Done 162 jobs       | elapsed: 46.3min\n",
      "[Parallel(n_jobs=1)]: Done 250 out of 250 | elapsed: 99.5min finished\n"
     ]
    },
    {
     "name": "stdout",
     "output_type": "stream",
     "text": [
      "\n"
     ]
    },
    {
     "data": {
      "text/plain": [
       "RandomizedSearchCV(cv=5, error_score='raise',\n",
       "          estimator=Pipeline(steps=[('imp', ImputeData(columns_to_impute=['MonthlyIncome', 'NumberOfDependents'],\n",
       "      impute_inf=True, keep_dummies=True, method='mean', rows_to_scan=0.3)), ('log', LogTrans(columns_to_trans='all', trans_flag=True)), ('inter', AddInteraction(add_list=None, degree=2)), ('modelpred', ModelPredictor(modelwithparams=None, problem_type='infer', random_number=-1))]),\n",
       "          fit_params={}, iid=True, n_iter=50, n_jobs=1,\n",
       "          param_distributions={'modelpred__modelwithparams': [['RF', {'n_estimators': [200], 'max_features': array([ 0.1,  0.2,  0.3,  0.4,  0.5,  0.6,  0.7,  0.8]), 'n_jobs': [-1], 'max_depth': [2, 3, 4, 5, 6, 7, 8, 9, 10, 11, 12, 13, 14, 15, 16, 17, 18, 19]}], ['LR', {'penalty': ['l1', 'l2'], 'C': array([ 0...r instance at 0x000000001F1B2BC8>, 'log__trans_flag': [True, False], 'inter__degree': [[2, 3], [2]]},\n",
       "          pre_dispatch='2*n_jobs', random_state=42, refit=True,\n",
       "          scoring='roc_auc', verbose=2)"
      ]
     },
     "execution_count": 18,
     "metadata": {},
     "output_type": "execute_result"
    }
   ],
   "source": [
    "search.fit(X_train, y_train)"
   ]
  },
  {
   "cell_type": "code",
   "execution_count": 19,
   "metadata": {
    "collapsed": false
   },
   "outputs": [
    {
     "name": "stdout",
     "output_type": "stream",
     "text": [
      "Model with rank: 1\n",
      "Mean validation score: 0.864 (std: 0.007)\n",
      "Parameters: {'modelpred__modelwithparams': ['GBC', {'max_features': array([ 0.3,  0.4,  0.5,  0.6,  0.7,  0.8,  0.9]), 'n_estimators': [200], 'loss': ['deviance', 'exponential'], 'max_depth': [1, 2, 3, 4, 5, 6], 'min_samples_leaf': [2, 3, 4, 5, 6, 7, 8, 9, 10]}], 'inter__add_list': [], 'imp__method': 'median', 'modelpred__random_number': 0.24725775674949546, 'log__trans_flag': True, 'inter__degree': [2, 3]}\n",
      "Parameters of the model:  {'max_features': 0.40000000000000002, 'n_estimators': 200, 'min_samples_leaf': 8, 'max_depth': 3, 'loss': 'exponential'}\n",
      "\n",
      "Model with rank: 2\n",
      "Mean validation score: 0.863 (std: 0.006)\n",
      "Parameters: {'modelpred__modelwithparams': ['RF', {'n_estimators': [200], 'max_features': array([ 0.1,  0.2,  0.3,  0.4,  0.5,  0.6,  0.7,  0.8]), 'n_jobs': [-1], 'max_depth': [2, 3, 4, 5, 6, 7, 8, 9, 10, 11, 12, 13, 14, 15, 16, 17, 18, 19]}], 'inter__add_list': [], 'imp__method': 'median', 'modelpred__random_number': 0.1983904746488776, 'log__trans_flag': False, 'inter__degree': [2, 3]}\n",
      "Parameters of the model:  {'n_estimators': 200, 'max_features': 0.20000000000000001, 'n_jobs': -1, 'max_depth': 12}\n",
      "\n",
      "Model with rank: 3\n",
      "Mean validation score: 0.863 (std: 0.007)\n",
      "Parameters: {'modelpred__modelwithparams': ['GBC', {'max_features': array([ 0.3,  0.4,  0.5,  0.6,  0.7,  0.8,  0.9]), 'n_estimators': [200], 'loss': ['deviance', 'exponential'], 'max_depth': [1, 2, 3, 4, 5, 6], 'min_samples_leaf': [2, 3, 4, 5, 6, 7, 8, 9, 10]}], 'inter__add_list': ['RevolvingUtilizationOfUnsecuredLines', 'DebtRatio', 'MonthlyIncome', 'age', 'NumberOfOpenCreditLinesAndLoans'], 'imp__method': 'max', 'modelpred__random_number': 0.7320034975631738, 'log__trans_flag': False, 'inter__degree': [2, 3]}\n",
      "Parameters of the model:  {'max_features': 0.80000000000000027, 'n_estimators': 200, 'min_samples_leaf': 6, 'max_depth': 2, 'loss': 'deviance'}\n",
      "\n",
      "Model with rank: 4\n",
      "Mean validation score: 0.863 (std: 0.007)\n",
      "Parameters: {'modelpred__modelwithparams': ['GBC', {'max_features': array([ 0.3,  0.4,  0.5,  0.6,  0.7,  0.8,  0.9]), 'n_estimators': [200], 'loss': ['deviance', 'exponential'], 'max_depth': [1, 2, 3, 4, 5, 6], 'min_samples_leaf': [2, 3, 4, 5, 6, 7, 8, 9, 10]}], 'inter__add_list': ['RevolvingUtilizationOfUnsecuredLines', 'DebtRatio', 'MonthlyIncome', 'age', 'NumberOfOpenCreditLinesAndLoans'], 'imp__method': 'knn', 'modelpred__random_number': 0.17628630062869732, 'log__trans_flag': True, 'inter__degree': [2, 3]}\n",
      "Parameters of the model:  {'max_features': 0.40000000000000002, 'n_estimators': 200, 'min_samples_leaf': 9, 'max_depth': 3, 'loss': 'deviance'}\n",
      "\n",
      "Model with rank: 5\n",
      "Mean validation score: 0.862 (std: 0.007)\n",
      "Parameters: {'modelpred__modelwithparams': ['GBC', {'max_features': array([ 0.3,  0.4,  0.5,  0.6,  0.7,  0.8,  0.9]), 'n_estimators': [200], 'loss': ['deviance', 'exponential'], 'max_depth': [1, 2, 3, 4, 5, 6], 'min_samples_leaf': [2, 3, 4, 5, 6, 7, 8, 9, 10]}], 'inter__add_list': ['RevolvingUtilizationOfUnsecuredLines', 'DebtRatio', 'MonthlyIncome', 'age', 'NumberOfOpenCreditLinesAndLoans'], 'imp__method': 'mean', 'modelpred__random_number': 0.30296000745328466, 'log__trans_flag': False, 'inter__degree': [2, 3]}\n",
      "Parameters of the model:  {'max_features': 0.5, 'n_estimators': 200, 'min_samples_leaf': 6, 'max_depth': 2, 'loss': 'deviance'}\n",
      "\n",
      "Model with rank: 6\n",
      "Mean validation score: 0.862 (std: 0.006)\n",
      "Parameters: {'modelpred__modelwithparams': ['ExTree', {'n_estimators': [200], 'max_features': array([ 0.1,  0.2,  0.3,  0.4,  0.5,  0.6,  0.7,  0.8]), 'n_jobs': [-1], 'max_depth': [10, 11, 12, 13, 14, 15, 16, 17, 18, 19, 20, 21, 22, 23, 24, 25, 26, 27, 28, 29]}], 'inter__add_list': ['RevolvingUtilizationOfUnsecuredLines', 'DebtRatio', 'MonthlyIncome', 'age', 'NumberOfOpenCreditLinesAndLoans'], 'imp__method': 'mode', 'modelpred__random_number': 0.6364776626914925, 'log__trans_flag': True, 'inter__degree': [2, 3]}\n",
      "Parameters of the model:  {'n_estimators': 200, 'max_features': 0.59999999999999998, 'n_jobs': -1, 'max_depth': 11}\n",
      "\n",
      "Model with rank: 7\n",
      "Mean validation score: 0.861 (std: 0.007)\n",
      "Parameters: {'modelpred__modelwithparams': ['RF', {'n_estimators': [200], 'max_features': array([ 0.1,  0.2,  0.3,  0.4,  0.5,  0.6,  0.7,  0.8]), 'n_jobs': [-1], 'max_depth': [2, 3, 4, 5, 6, 7, 8, 9, 10, 11, 12, 13, 14, 15, 16, 17, 18, 19]}], 'inter__add_list': [], 'imp__method': 'max', 'modelpred__random_number': 0.7938802863536761, 'log__trans_flag': True, 'inter__degree': [2]}\n",
      "Parameters of the model:  {'n_estimators': 200, 'max_features': 0.70000000000000007, 'n_jobs': -1, 'max_depth': 8}\n",
      "\n",
      "Model with rank: 8\n",
      "Mean validation score: 0.860 (std: 0.007)\n",
      "Parameters: {'modelpred__modelwithparams': ['RF', {'n_estimators': [200], 'max_features': array([ 0.1,  0.2,  0.3,  0.4,  0.5,  0.6,  0.7,  0.8]), 'n_jobs': [-1], 'max_depth': [2, 3, 4, 5, 6, 7, 8, 9, 10, 11, 12, 13, 14, 15, 16, 17, 18, 19]}], 'inter__add_list': ['RevolvingUtilizationOfUnsecuredLines', 'DebtRatio', 'MonthlyIncome', 'age', 'NumberOfOpenCreditLinesAndLoans'], 'imp__method': 'mean', 'modelpred__random_number': 0.6614734696757664, 'log__trans_flag': False, 'inter__degree': [2, 3]}\n",
      "Parameters of the model:  {'n_estimators': 200, 'max_features': 0.59999999999999998, 'n_jobs': -1, 'max_depth': 7}\n",
      "\n",
      "Model with rank: 9\n",
      "Mean validation score: 0.858 (std: 0.006)\n",
      "Parameters: {'modelpred__modelwithparams': ['RF', {'n_estimators': [200], 'max_features': array([ 0.1,  0.2,  0.3,  0.4,  0.5,  0.6,  0.7,  0.8]), 'n_jobs': [-1], 'max_depth': [2, 3, 4, 5, 6, 7, 8, 9, 10, 11, 12, 13, 14, 15, 16, 17, 18, 19]}], 'inter__add_list': ['RevolvingUtilizationOfUnsecuredLines', 'DebtRatio', 'MonthlyIncome', 'age', 'NumberOfOpenCreditLinesAndLoans'], 'imp__method': 'median', 'modelpred__random_number': 0.2796444809137235, 'log__trans_flag': True, 'inter__degree': [2, 3]}\n",
      "Parameters of the model:  {'n_estimators': 200, 'max_features': 0.30000000000000004, 'n_jobs': -1, 'max_depth': 6}\n",
      "\n",
      "Model with rank: 10\n",
      "Mean validation score: 0.858 (std: 0.006)\n",
      "Parameters: {'modelpred__modelwithparams': ['ExTree', {'n_estimators': [200], 'max_features': array([ 0.1,  0.2,  0.3,  0.4,  0.5,  0.6,  0.7,  0.8]), 'n_jobs': [-1], 'max_depth': [10, 11, 12, 13, 14, 15, 16, 17, 18, 19, 20, 21, 22, 23, 24, 25, 26, 27, 28, 29]}], 'inter__add_list': [], 'imp__method': 'median', 'modelpred__random_number': 0.5421964758718678, 'log__trans_flag': True, 'inter__degree': [2, 3]}\n",
      "Parameters of the model:  {'n_estimators': 200, 'max_features': 0.5, 'n_jobs': -1, 'max_depth': 16}\n",
      "\n",
      "Model with rank: 11\n",
      "Mean validation score: 0.857 (std: 0.008)\n",
      "Parameters: {'modelpred__modelwithparams': ['RF', {'n_estimators': [200], 'max_features': array([ 0.1,  0.2,  0.3,  0.4,  0.5,  0.6,  0.7,  0.8]), 'n_jobs': [-1], 'max_depth': [2, 3, 4, 5, 6, 7, 8, 9, 10, 11, 12, 13, 14, 15, 16, 17, 18, 19]}], 'inter__add_list': [], 'imp__method': 'mode', 'modelpred__random_number': 0.8426283083894964, 'log__trans_flag': True, 'inter__degree': [2, 3]}\n",
      "Parameters of the model:  {'n_estimators': 200, 'max_features': 0.70000000000000007, 'n_jobs': -1, 'max_depth': 15}\n",
      "\n",
      "Model with rank: 12\n",
      "Mean validation score: 0.852 (std: 0.006)\n",
      "Parameters: {'modelpred__modelwithparams': ['ExTree', {'n_estimators': [200], 'max_features': array([ 0.1,  0.2,  0.3,  0.4,  0.5,  0.6,  0.7,  0.8]), 'n_jobs': [-1], 'max_depth': [10, 11, 12, 13, 14, 15, 16, 17, 18, 19, 20, 21, 22, 23, 24, 25, 26, 27, 28, 29]}], 'inter__add_list': ['RevolvingUtilizationOfUnsecuredLines', 'DebtRatio', 'MonthlyIncome', 'age', 'NumberOfOpenCreditLinesAndLoans'], 'imp__method': 'median', 'modelpred__random_number': 0.3195534184808144, 'log__trans_flag': False, 'inter__degree': [2, 3]}\n",
      "Parameters of the model:  {'n_estimators': 200, 'max_features': 0.30000000000000004, 'n_jobs': -1, 'max_depth': 21}\n",
      "\n",
      "Model with rank: 13\n",
      "Mean validation score: 0.847 (std: 0.008)\n",
      "Parameters: {'modelpred__modelwithparams': ['Cali_linear_SVC', {'C': array([ 0.01      ,  0.01274275,  0.01623777,  0.02069138,  0.02636651,\n",
      "        0.03359818,  0.04281332,  0.05455595,  0.06951928,  0.08858668,\n",
      "        0.11288379,  0.14384499,  0.18329807,  0.23357215,  0.29763514,\n",
      "        0.37926902,  0.48329302,  0.61584821,  0.78475997,  1.        ])}], 'inter__add_list': [], 'imp__method': 'knn', 'modelpred__random_number': 0.4191720753760235, 'log__trans_flag': True, 'inter__degree': [2, 3]}\n",
      "Parameters of the model:  {'C': 0.069519279617756058}\n",
      "\n",
      "Model with rank: 14\n",
      "Mean validation score: 0.846 (std: 0.007)\n",
      "Parameters: {'modelpred__modelwithparams': ['KNN', {'n_neighbors': [200, 220, 240, 260, 280, 300, 320, 340, 360, 380], 'weights': ['uniform', 'distance']}], 'inter__add_list': [], 'imp__method': 'max', 'modelpred__random_number': 0.44530774603054335, 'log__trans_flag': True, 'inter__degree': [2, 3]}\n",
      "Parameters of the model:  {'n_neighbors': 280, 'weights': 'uniform'}\n",
      "\n",
      "Model with rank: 15\n",
      "Mean validation score: 0.846 (std: 0.008)\n",
      "Parameters: {'modelpred__modelwithparams': ['Cali_linear_SVC', {'C': array([ 0.01      ,  0.01274275,  0.01623777,  0.02069138,  0.02636651,\n",
      "        0.03359818,  0.04281332,  0.05455595,  0.06951928,  0.08858668,\n",
      "        0.11288379,  0.14384499,  0.18329807,  0.23357215,  0.29763514,\n",
      "        0.37926902,  0.48329302,  0.61584821,  0.78475997,  1.        ])}], 'inter__add_list': [], 'imp__method': 'max', 'modelpred__random_number': 0.17596322679615206, 'log__trans_flag': True, 'inter__degree': [2]}\n",
      "Parameters of the model:  {'C': 0.020691380811147901}\n",
      "\n",
      "Model with rank: 16\n",
      "Mean validation score: 0.846 (std: 0.007)\n",
      "Parameters: {'modelpred__modelwithparams': ['KNN', {'n_neighbors': [200, 220, 240, 260, 280, 300, 320, 340, 360, 380], 'weights': ['uniform', 'distance']}], 'inter__add_list': [], 'imp__method': 'max', 'modelpred__random_number': 0.6629830083531058, 'log__trans_flag': True, 'inter__degree': [2, 3]}\n",
      "Parameters of the model:  {'n_neighbors': 320, 'weights': 'distance'}\n",
      "\n",
      "Model with rank: 17\n",
      "Mean validation score: 0.844 (std: 0.007)\n",
      "Parameters: {'modelpred__modelwithparams': ['LDA', {}], 'inter__add_list': ['RevolvingUtilizationOfUnsecuredLines', 'DebtRatio', 'MonthlyIncome', 'age', 'NumberOfOpenCreditLinesAndLoans'], 'imp__method': 'knn', 'modelpred__random_number': 0.7128472074437848, 'log__trans_flag': True, 'inter__degree': [2, 3]}\n",
      "Parameters of the model:  {}\n",
      "\n",
      "Model with rank: 18\n",
      "Mean validation score: 0.844 (std: 0.004)\n",
      "Parameters: {'modelpred__modelwithparams': ['BagTree', {'n_estimators': [200], 'max_samples': [0.6, 0.7, 0.8, 0.9]}], 'inter__add_list': ['RevolvingUtilizationOfUnsecuredLines', 'DebtRatio', 'MonthlyIncome', 'age', 'NumberOfOpenCreditLinesAndLoans'], 'imp__method': 'max', 'modelpred__random_number': 0.3355931257000685, 'log__trans_flag': False, 'inter__degree': [2]}\n",
      "Parameters of the model:  {'n_estimators': 200, 'max_samples': 0.7}\n",
      "\n",
      "Model with rank: 19\n",
      "Mean validation score: 0.843 (std: 0.006)\n",
      "Parameters: {'modelpred__modelwithparams': ['ExTree', {'n_estimators': [200], 'max_features': array([ 0.1,  0.2,  0.3,  0.4,  0.5,  0.6,  0.7,  0.8]), 'n_jobs': [-1], 'max_depth': [10, 11, 12, 13, 14, 15, 16, 17, 18, 19, 20, 21, 22, 23, 24, 25, 26, 27, 28, 29]}], 'inter__add_list': [], 'imp__method': 'mode', 'modelpred__random_number': 0.6850598568598252, 'log__trans_flag': False, 'inter__degree': [2]}\n",
      "Parameters of the model:  {'n_estimators': 200, 'max_features': 0.59999999999999998, 'n_jobs': -1, 'max_depth': 19}\n",
      "\n",
      "Model with rank: 20\n",
      "Mean validation score: 0.843 (std: 0.008)\n",
      "Parameters: {'modelpred__modelwithparams': ['LDA', {}], 'inter__add_list': [], 'imp__method': 'median', 'modelpred__random_number': 0.4326069641529716, 'log__trans_flag': True, 'inter__degree': [2]}\n",
      "Parameters of the model:  {}\n",
      "\n",
      "Model with rank: 21\n",
      "Mean validation score: 0.840 (std: 0.008)\n",
      "Parameters: {'modelpred__modelwithparams': ['LDA', {}], 'inter__add_list': ['RevolvingUtilizationOfUnsecuredLines', 'DebtRatio', 'MonthlyIncome', 'age', 'NumberOfOpenCreditLinesAndLoans'], 'imp__method': 'median', 'modelpred__random_number': 0.7322334375219033, 'log__trans_flag': True, 'inter__degree': [2]}\n",
      "Parameters of the model:  {}\n",
      "\n",
      "Model with rank: 22\n",
      "Mean validation score: 0.839 (std: 0.005)\n",
      "Parameters: {'modelpred__modelwithparams': ['ExTree', {'n_estimators': [200], 'max_features': array([ 0.1,  0.2,  0.3,  0.4,  0.5,  0.6,  0.7,  0.8]), 'n_jobs': [-1], 'max_depth': [10, 11, 12, 13, 14, 15, 16, 17, 18, 19, 20, 21, 22, 23, 24, 25, 26, 27, 28, 29]}], 'inter__add_list': ['RevolvingUtilizationOfUnsecuredLines', 'DebtRatio', 'MonthlyIncome', 'age', 'NumberOfOpenCreditLinesAndLoans'], 'imp__method': 'median', 'modelpred__random_number': 0.7449936076000059, 'log__trans_flag': False, 'inter__degree': [2]}\n",
      "Parameters of the model:  {'n_estimators': 200, 'max_features': 0.59999999999999998, 'n_jobs': -1, 'max_depth': 29}\n",
      "\n",
      "Model with rank: 23\n",
      "Mean validation score: 0.839 (std: 0.007)\n",
      "Parameters: {'modelpred__modelwithparams': ['BagTree', {'n_estimators': [200], 'max_samples': [0.6, 0.7, 0.8, 0.9]}], 'inter__add_list': [], 'imp__method': 'knn', 'modelpred__random_number': 0.5289705279139838, 'log__trans_flag': False, 'inter__degree': [2]}\n",
      "Parameters of the model:  {'n_estimators': 200, 'max_samples': 0.8}\n",
      "\n",
      "Model with rank: 24\n",
      "Mean validation score: 0.837 (std: 0.006)\n",
      "Parameters: {'modelpred__modelwithparams': ['GaussianNB', {}], 'inter__add_list': ['RevolvingUtilizationOfUnsecuredLines', 'DebtRatio', 'MonthlyIncome', 'age', 'NumberOfOpenCreditLinesAndLoans'], 'imp__method': 'median', 'modelpred__random_number': 0.30011337050876286, 'log__trans_flag': True, 'inter__degree': [2]}\n",
      "Parameters of the model:  {}\n",
      "\n",
      "Model with rank: 25\n",
      "Mean validation score: 0.836 (std: 0.008)\n",
      "Parameters: {'modelpred__modelwithparams': ['QDA', {}], 'inter__add_list': [], 'imp__method': 'mean', 'modelpred__random_number': 0.8775350679619242, 'log__trans_flag': True, 'inter__degree': [2, 3]}\n",
      "Parameters of the model:  {}\n",
      "\n",
      "Model with rank: 26\n",
      "Mean validation score: 0.836 (std: 0.008)\n",
      "Parameters: {'modelpred__modelwithparams': ['QDA', {}], 'inter__add_list': [], 'imp__method': 'max', 'modelpred__random_number': 0.07551178431341887, 'log__trans_flag': True, 'inter__degree': [2, 3]}\n",
      "Parameters of the model:  {}\n",
      "\n",
      "Model with rank: 27\n",
      "Mean validation score: 0.836 (std: 0.008)\n",
      "Parameters: {'modelpred__modelwithparams': ['QDA', {}], 'inter__add_list': [], 'imp__method': 'max', 'modelpred__random_number': 0.32152000633095545, 'log__trans_flag': True, 'inter__degree': [2, 3]}\n",
      "Parameters of the model:  {}\n",
      "\n",
      "Model with rank: 28\n",
      "Mean validation score: 0.836 (std: 0.007)\n",
      "Parameters: {'modelpred__modelwithparams': ['GaussianNB', {}], 'inter__add_list': ['RevolvingUtilizationOfUnsecuredLines', 'DebtRatio', 'MonthlyIncome', 'age', 'NumberOfOpenCreditLinesAndLoans'], 'imp__method': 'max', 'modelpred__random_number': 0.6385734101560863, 'log__trans_flag': True, 'inter__degree': [2]}\n",
      "Parameters of the model:  {}\n",
      "\n",
      "Model with rank: 29\n",
      "Mean validation score: 0.835 (std: 0.008)\n",
      "Parameters: {'modelpred__modelwithparams': ['LR', {'penalty': ['l1', 'l2'], 'C': array([ 0.01      ,  0.01274275,  0.01623777,  0.02069138,  0.02636651,\n",
      "        0.03359818,  0.04281332,  0.05455595,  0.06951928,  0.08858668,\n",
      "        0.11288379,  0.14384499,  0.18329807,  0.23357215,  0.29763514,\n",
      "        0.37926902,  0.48329302,  0.61584821,  0.78475997,  1.        ])}], 'inter__add_list': ['RevolvingUtilizationOfUnsecuredLines', 'DebtRatio', 'MonthlyIncome', 'age', 'NumberOfOpenCreditLinesAndLoans'], 'imp__method': 'median', 'modelpred__random_number': 0.9099154497052352, 'log__trans_flag': True, 'inter__degree': [2, 3]}\n",
      "Parameters of the model:  {'penalty': 'l2', 'C': 0.48329302385717521}\n",
      "\n",
      "Model with rank: 30\n",
      "Mean validation score: 0.834 (std: 0.007)\n",
      "Parameters: {'modelpred__modelwithparams': ['GaussianNB', {}], 'inter__add_list': [], 'imp__method': 'mean', 'modelpred__random_number': 0.3650512075965736, 'log__trans_flag': True, 'inter__degree': [2, 3]}\n",
      "Parameters of the model:  {}\n",
      "\n"
     ]
    }
   ],
   "source": [
    "br.report_grid_score_with_params(search.grid_scores_, 30, model_key='modelpred__modelwithparams', \n",
    "                                 random_number_key='modelpred__random_number')"
   ]
  },
  {
   "cell_type": "code",
   "execution_count": 20,
   "metadata": {
    "collapsed": false
   },
   "outputs": [
    {
     "data": {
      "text/plain": [
       "0.86739566081540631"
      ]
     },
     "execution_count": 20,
     "metadata": {},
     "output_type": "execute_result"
    }
   ],
   "source": [
    "from sklearn.metrics import roc_auc_score\n",
    "pred = search.predict_proba(X_val)[:, 1]\n",
    "roc_auc_score(y_val, pred)"
   ]
  },
  {
   "cell_type": "code",
   "execution_count": 21,
   "metadata": {
    "collapsed": true
   },
   "outputs": [],
   "source": [
    "pipe2 = Pipeline([(\"imp\", br.ImputeData(columns_to_impute=['MonthlyIncome', 'NumberOfDependents'])),\n",
    "                 (\"log\", br.LogTrans()),\n",
    "                 (\"inter\", br.AddInteraction()),\n",
    "                 (\"modelpred\", br.ModelPredictor())])"
   ]
  },
  {
   "cell_type": "code",
   "execution_count": 22,
   "metadata": {
    "collapsed": false
   },
   "outputs": [
    {
     "name": "stdout",
     "output_type": "stream",
     "text": [
      "Processing Model 1 of 20\n",
      "Processing Model 2 of 20\n",
      "Processing Model 3 of 20\n",
      "Processing Model 4 of 20\n",
      "Processing Model 5 of 20\n",
      "Processing Model 6 of 20\n",
      "Processing Model 7 of 20\n",
      "Processing Model 8 of 20\n",
      "Processing Model 9 of 20\n",
      "Processing Model 10 of 20\n",
      "Processing Model 11 of 20\n",
      "Processing Model 12 of 20\n",
      "Processing Model 13 of 20\n",
      "Processing Model 14 of 20\n",
      "Processing Model 15 of 20\n",
      "Processing Model 16 of 20\n",
      "Processing Model 17 of 20\n",
      "Processing Model 18 of 20\n",
      "Processing Model 19 of 20\n",
      "Processing Model 20 of 20\n"
     ]
    }
   ],
   "source": [
    "prob1, prob2 = br.get_prediction_from_models(search.grid_scores_, pipe2, range(1,21), \n",
    "                                             X_train, y_train, X_val, cv=5, n_class=2, print_process=True)"
   ]
  },
  {
   "cell_type": "code",
   "execution_count": 23,
   "metadata": {
    "collapsed": true
   },
   "outputs": [],
   "source": [
    "from sklearn.ensemble import RandomForestClassifier\n",
    "para_RF = { \"max_depth\": range(2,20), \"max_features\": np.arange(0.4,0.9,0.1)}\n",
    "search2 = RandomizedSearchCV(RandomForestClassifier(n_jobs=-1, n_estimators=200), param_distributions=para_RF, n_iter=10, \n",
    "                            random_state=42, cv=5,scoring='roc_auc', verbose=2)"
   ]
  },
  {
   "cell_type": "code",
   "execution_count": 24,
   "metadata": {
    "collapsed": false,
    "scrolled": true
   },
   "outputs": [
    {
     "name": "stdout",
     "output_type": "stream",
     "text": [
      "Fitting 5 folds for each of 10 candidates, totalling 50 fits\n",
      "[CV] max_features=0.5, max_depth=12 ..................................\n",
      "[CV] ......................... max_features=0.5, max_depth=12 - 1.3min\n",
      "[CV] max_features=0.5, max_depth=12 ..................................\n",
      "[CV] ......................... max_features=0.5, max_depth=12 - 1.3min\n",
      "[CV] max_features=0.5, max_depth=12 ..................................\n",
      "[CV] ......................... max_features=0.5, max_depth=12 - 1.3min\n",
      "[CV] max_features=0.5, max_depth=12 ..................................\n",
      "[CV] ......................... max_features=0.5, max_depth=12 - 1.3min\n",
      "[CV] max_features=0.5, max_depth=12 ..................................\n",
      "[CV] ......................... max_features=0.5, max_depth=12 - 1.2min\n",
      "[CV] max_features=0.8, max_depth=4 ...................................\n",
      "[CV] .......................... max_features=0.8, max_depth=4 -  40.9s\n",
      "[CV] max_features=0.8, max_depth=4 ...................................\n",
      "[CV] .......................... max_features=0.8, max_depth=4 -  41.3s\n",
      "[CV] max_features=0.8, max_depth=4 ...................................\n",
      "[CV] .......................... max_features=0.8, max_depth=4 -  40.4s\n",
      "[CV] max_features=0.8, max_depth=4 ...................................\n",
      "[CV] .......................... max_features=0.8, max_depth=4 -  40.9s\n",
      "[CV] max_features=0.8, max_depth=4 ...................................\n",
      "[CV] .......................... max_features=0.8, max_depth=4 -  41.1s\n",
      "[CV] max_features=0.5, max_depth=16 ..................................\n",
      "[CV] ......................... max_features=0.5, max_depth=16 - 1.6min\n",
      "[CV] max_features=0.5, max_depth=16 ..................................\n",
      "[CV] ......................... max_features=0.5, max_depth=16 - 1.5min\n",
      "[CV] max_features=0.5, max_depth=16 ..................................\n",
      "[CV] ......................... max_features=0.5, max_depth=16 - 1.6min\n",
      "[CV] max_features=0.5, max_depth=16 ..................................\n",
      "[CV] ......................... max_features=0.5, max_depth=16 - 1.6min\n",
      "[CV] max_features=0.5, max_depth=16 ..................................\n",
      "[CV] ......................... max_features=0.5, max_depth=16 - 1.5min\n",
      "[CV] max_features=0.4, max_depth=14 ..................................\n",
      "[CV] ......................... max_features=0.4, max_depth=14 - 1.1min\n",
      "[CV] max_features=0.4, max_depth=14 ..................................\n",
      "[CV] ......................... max_features=0.4, max_depth=14 - 1.1min\n",
      "[CV] max_features=0.4, max_depth=14 ..................................\n",
      "[CV] ......................... max_features=0.4, max_depth=14 - 1.1min\n",
      "[CV] max_features=0.4, max_depth=14 ..................................\n",
      "[CV] ......................... max_features=0.4, max_depth=14 - 1.1min\n",
      "[CV] max_features=0.4, max_depth=14 ..................................\n",
      "[CV] ......................... max_features=0.4, max_depth=14 - 1.1min\n",
      "[CV] max_features=0.4, max_depth=6 ...................................\n",
      "[CV] .......................... max_features=0.4, max_depth=6 -  32.2s\n",
      "[CV] max_features=0.4, max_depth=6 ...................................\n",
      "[CV] .......................... max_features=0.4, max_depth=6 -  32.7s\n",
      "[CV] max_features=0.4, max_depth=6 ...................................\n",
      "[CV] .......................... max_features=0.4, max_depth=6 -  32.2s\n",
      "[CV] max_features=0.4, max_depth=6 ...................................\n",
      "[CV] .......................... max_features=0.4, max_depth=6 -  32.4s\n",
      "[CV] max_features=0.4, max_depth=6 ...................................\n",
      "[CV] .......................... max_features=0.4, max_depth=6 -  32.5s\n",
      "[CV] max_features=0.6, max_depth=18 ..................................\n",
      "[CV] ......................... max_features=0.6, max_depth=18 - 2.0min\n",
      "[CV] max_features=0.6, max_depth=18 ..................................\n",
      "[CV] ......................... max_features=0.6, max_depth=18 - 2.0min\n",
      "[CV] max_features=0.6, max_depth=18 ..................................\n",
      "[CV] ......................... max_features=0.6, max_depth=18 - 2.0min\n",
      "[CV] max_features=0.6, max_depth=18 ..................................\n",
      "[CV] ......................... max_features=0.6, max_depth=18 - 2.0min\n",
      "[CV] max_features=0.6, max_depth=18 ..................................\n",
      "[CV] ......................... max_features=0.6, max_depth=18 - 2.0min\n",
      "[CV] max_features=0.5, max_depth=19 ..................................\n",
      "[CV] ......................... max_features=0.5, max_depth=19 - 1.7min\n",
      "[CV] max_features=0.5, max_depth=19 ..................................\n",
      "[CV] ......................... max_features=0.5, max_depth=19 - 1.7min\n",
      "[CV] max_features=0.5, max_depth=19 ..................................\n",
      "[CV] ......................... max_features=0.5, max_depth=19 - 1.7min\n",
      "[CV] max_features=0.5, max_depth=19 ..................................\n",
      "[CV] ......................... max_features=0.5, max_depth=19 - 1.7min\n",
      "[CV] max_features=0.5, max_depth=19 ..................................\n",
      "[CV] ......................... max_features=0.5, max_depth=19 - 1.7min\n",
      "[CV] max_features=0.8, max_depth=16 ..................................\n",
      "[CV] ......................... max_features=0.8, max_depth=16 - 2.3min\n",
      "[CV] max_features=0.8, max_depth=16 ..................................\n",
      "[CV] ......................... max_features=0.8, max_depth=16 - 2.3min\n",
      "[CV] max_features=0.8, max_depth=16 ..................................\n",
      "[CV] ......................... max_features=0.8, max_depth=16 - 2.4min\n",
      "[CV] max_features=0.8, max_depth=16 ..................................\n",
      "[CV] ......................... max_features=0.8, max_depth=16 - 2.3min\n",
      "[CV] max_features=0.8, max_depth=16 ..................................\n",
      "[CV] ......................... max_features=0.8, max_depth=16 - 2.3min\n",
      "[CV] max_features=0.6, max_depth=19 ..................................\n",
      "[CV] ......................... max_features=0.6, max_depth=19 - 2.4min"
     ]
    },
    {
     "name": "stderr",
     "output_type": "stream",
     "text": [
      "[Parallel(n_jobs=1)]: Done   1 jobs       | elapsed:  1.3min\n",
      "[Parallel(n_jobs=1)]: Done  41 jobs       | elapsed: 58.2min\n"
     ]
    },
    {
     "name": "stdout",
     "output_type": "stream",
     "text": [
      "\n",
      "[CV] max_features=0.6, max_depth=19 ..................................\n",
      "[CV] ......................... max_features=0.6, max_depth=19 - 2.0min\n",
      "[CV] max_features=0.6, max_depth=19 ..................................\n",
      "[CV] ......................... max_features=0.6, max_depth=19 - 2.1min\n",
      "[CV] max_features=0.6, max_depth=19 ..................................\n",
      "[CV] ......................... max_features=0.6, max_depth=19 - 2.1min\n",
      "[CV] max_features=0.6, max_depth=19 ..................................\n",
      "[CV] ......................... max_features=0.6, max_depth=19 - 2.0min\n",
      "[CV] max_features=0.7, max_depth=6 ...................................\n",
      "[CV] .......................... max_features=0.7, max_depth=6 -  55.6s\n",
      "[CV] max_features=0.7, max_depth=6 ...................................\n",
      "[CV] .......................... max_features=0.7, max_depth=6 -  57.7s\n",
      "[CV] max_features=0.7, max_depth=6 ...................................\n",
      "[CV] .......................... max_features=0.7, max_depth=6 -  55.0s\n",
      "[CV] max_features=0.7, max_depth=6 ...................................\n",
      "[CV] .......................... max_features=0.7, max_depth=6 -  55.0s\n",
      "[CV] max_features=0.7, max_depth=6 ...................................\n",
      "[CV] .......................... max_features=0.7, max_depth=6 -  55.3s\n"
     ]
    },
    {
     "name": "stderr",
     "output_type": "stream",
     "text": [
      "[Parallel(n_jobs=1)]: Done  50 out of  50 | elapsed: 71.2min finished\n"
     ]
    },
    {
     "data": {
      "text/plain": [
       "RandomizedSearchCV(cv=5, error_score='raise',\n",
       "          estimator=RandomForestClassifier(bootstrap=True, class_weight=None, criterion='gini',\n",
       "            max_depth=None, max_features='auto', max_leaf_nodes=None,\n",
       "            min_samples_leaf=1, min_samples_split=2,\n",
       "            min_weight_fraction_leaf=0.0, n_estimators=200, n_jobs=-1,\n",
       "            oob_score=False, random_state=None, verbose=0,\n",
       "            warm_start=False),\n",
       "          fit_params={}, iid=True, n_iter=10, n_jobs=1,\n",
       "          param_distributions={'max_features': array([ 0.4,  0.5,  0.6,  0.7,  0.8]), 'max_depth': [2, 3, 4, 5, 6, 7, 8, 9, 10, 11, 12, 13, 14, 15, 16, 17, 18, 19]},\n",
       "          pre_dispatch='2*n_jobs', random_state=42, refit=True,\n",
       "          scoring='roc_auc', verbose=2)"
      ]
     },
     "execution_count": 24,
     "metadata": {},
     "output_type": "execute_result"
    }
   ],
   "source": [
    "search2.fit(prob1, y_train)"
   ]
  },
  {
   "cell_type": "code",
   "execution_count": 25,
   "metadata": {
    "collapsed": false
   },
   "outputs": [
    {
     "data": {
      "text/plain": [
       "0.867722139898228"
      ]
     },
     "execution_count": 25,
     "metadata": {},
     "output_type": "execute_result"
    }
   ],
   "source": [
    "from sklearn.metrics import roc_auc_score\n",
    "pred = search2.predict_proba(prob2)[:, 1]\n",
    "roc_auc_score(y_val, pred)"
   ]
  },
  {
   "cell_type": "code",
   "execution_count": 26,
   "metadata": {
    "collapsed": false,
    "scrolled": false
   },
   "outputs": [
    {
     "name": "stdout",
     "output_type": "stream",
     "text": [
      "Processing Model 1 of 20\n",
      "Processing Model 2 of 20\n",
      "Processing Model 3 of 20\n",
      "Processing Model 4 of 20\n",
      "Processing Model 5 of 20\n",
      "Processing Model 6 of 20\n",
      "Processing Model 7 of 20\n",
      "Processing Model 8 of 20\n",
      "Processing Model 9 of 20\n",
      "Processing Model 10 of 20\n",
      "Processing Model 11 of 20\n",
      "Processing Model 12 of 20\n",
      "Processing Model 13 of 20\n",
      "Processing Model 14 of 20\n",
      "Processing Model 15 of 20\n",
      "Processing Model 16 of 20\n",
      "Processing Model 17 of 20\n",
      "Processing Model 18 of 20\n",
      "Processing Model 19 of 20\n",
      "Processing Model 20 of 20\n"
     ]
    }
   ],
   "source": [
    "prob1, prob2 = br.get_prediction_from_models(search.grid_scores_, pipe2, range(1,21), \n",
    "                                             X, y, testX, cv=5, n_class=2, print_process=True)"
   ]
  },
  {
   "cell_type": "code",
   "execution_count": 27,
   "metadata": {
    "collapsed": true
   },
   "outputs": [],
   "source": [
    "rfb = search2.best_estimator_\n",
    "rfb.fit(prob1, y)\n",
    "finalpred = rfb.predict_proba(prob2)[:,1]"
   ]
  },
  {
   "cell_type": "code",
   "execution_count": 28,
   "metadata": {
    "collapsed": true
   },
   "outputs": [],
   "source": [
    "predfinal = pd.Series(finalpred, name='Probability', index=testX.index)\n",
    "predfinal.to_csv('credit_sub_1.csv', header=True, index_label='Id')"
   ]
  },
  {
   "cell_type": "markdown",
   "metadata": {},
   "source": [
    "#(using stacking)\n",
    "#c-stat 0.867913\n",
    "#rank 62/925"
   ]
  }
 ],
 "metadata": {
  "kernelspec": {
   "display_name": "Python 2",
   "language": "python",
   "name": "python2"
  },
  "language_info": {
   "codemirror_mode": {
    "name": "ipython",
    "version": 2
   },
   "file_extension": ".py",
   "mimetype": "text/x-python",
   "name": "python",
   "nbconvert_exporter": "python",
   "pygments_lexer": "ipython2",
   "version": "2.7.9"
  }
 },
 "nbformat": 4,
 "nbformat_minor": 0
}
