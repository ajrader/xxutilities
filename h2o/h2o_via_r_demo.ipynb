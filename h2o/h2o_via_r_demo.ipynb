{
 "cells": [
  {
   "cell_type": "markdown",
   "metadata": {},
   "source": [
    "# An Intro to H2O via R\n",
    "### Author: Brad Sliz (d7oz)"
   ]
  },
  {
   "cell_type": "markdown",
   "metadata": {},
   "source": [
    "_-Hold up, is that R in a notebook?!?_\n",
    "<img src=\"https://www.r-project.org/Rlogo.png\" />\n",
    "<img src=\"https://jupyter.org/assets/main-logo.svg\" />\n",
    "_-Yes, yes that is._\n",
    "\n",
    "DAPS has made it extremely easy to set up Jupyter notebooks for R.  If you already have Anaconda set up, just run the following two commands from an R session on the PHD edge node:\n",
    "\n",
    "`source(\"/san-data/training-tools/IRkernel/setup.R\")`\n",
    "\n",
    "`IRkernel::installspec()`\n",
    "\n",
    "Then when you open a notebook, you will see R as an option for new notebook styles.  For more details about setup, check out the State Farm [R user community page](https://sfwikis.opr.statefarm.org/sites/systems/Wiki%20Pages/R%20User%20Community%20Page.aspx#Setting_x0020_up_x0020_IRKernel_x0020_in_x0020_Jupyter_0_0_3_5_0_0_0_0_0_0_0_0_0_0_0_0 for more details)."
   ]
  },
  {
   "cell_type": "markdown",
   "metadata": {},
   "source": [
    "<img src=\"http://h2o.ai/assets/images/h2o-home.png\" />\n",
    "This notebook steps through how to \n",
    "- Start H2O from R, \n",
    "- Pass data to H2O from R, \n",
    "- Run a model in H2O, \n",
    "- Interact with H2O results, \n",
    "- Run a distributed H2O job, \n",
    "- Read in data from HDFS.\n",
    "Getting started\n",
    "==="
   ]
  },
  {
   "cell_type": "code",
   "execution_count": 1,
   "metadata": {
    "collapsed": false,
    "scrolled": true
   },
   "outputs": [
    {
     "name": "stderr",
     "output_type": "stream",
     "text": [
      "Loading required package: statmod\n",
      "\n",
      "----------------------------------------------------------------------\n",
      "\n",
      "Your next step is to start H2O and get a connection object (named\n",
      "'localH2O', for example):\n",
      "    > localH2O = h2o.init()\n",
      "\n",
      "For H2O package documentation, ask for help:\n",
      "    > ??h2o\n",
      "\n",
      "After starting H2O, you can use the Web UI at http://localhost:54321\n",
      "For more information visit http://docs.h2o.ai\n",
      "\n",
      "----------------------------------------------------------------------\n",
      "\n"
     ]
    }
   ],
   "source": [
    "library(h2o)"
   ]
  },
  {
   "cell_type": "markdown",
   "metadata": {},
   "source": [
    "A call to `h2o.init()` starts an h2o virtual machine with  a specified number of cores.  The h2o vm can be accessed via an assigned R object. By specifying `nthreads = -1`, all available cores are allocated to the VM."
   ]
  },
  {
   "cell_type": "code",
   "execution_count": 2,
   "metadata": {
    "collapsed": false
   },
   "outputs": [
    {
     "name": "stdout",
     "output_type": "stream",
     "text": [
      "\n",
      "H2O is not running yet, starting it now...\n",
      "\n",
      "Note:  In case of errors look at the following log files:\n",
      "    /tmp/RtmpUL4ra5/h2o_d7oz_started_from_r.out\n",
      "    /tmp/RtmpUL4ra5/h2o_d7oz_started_from_r.err\n",
      "\n",
      "\n",
      "..Successfully connected to http://127.0.0.1:54321/ \n",
      "\n",
      "R is connected to the H2O cluster: \n",
      "    H2O cluster uptime:         1 seconds 999 milliseconds \n",
      "    H2O cluster version:        3.0.1.7 \n",
      "    H2O cluster name:           H2O_started_from_R_d7oz_aht312 \n",
      "    H2O cluster total nodes:    1 \n",
      "    H2O cluster total memory:   26.60 GB \n",
      "    H2O cluster total cores:    96 \n",
      "    H2O cluster allowed cores:  8 \n",
      "    H2O cluster healthy:        TRUE \n",
      "\n"
     ]
    }
   ],
   "source": [
    "my_h2o <- h2o.init(nthreads = 8)"
   ]
  },
  {
   "cell_type": "markdown",
   "metadata": {},
   "source": [
    "Info on your H2O cluster is returned on startup.  At any time you can re-check this info with `h2o.clusterInfo()`"
   ]
  },
  {
   "cell_type": "code",
   "execution_count": 3,
   "metadata": {
    "collapsed": false
   },
   "outputs": [
    {
     "name": "stdout",
     "output_type": "stream",
     "text": [
      "R is connected to the H2O cluster: \n",
      "    H2O cluster uptime:         2 seconds 213 milliseconds \n",
      "    H2O cluster version:        3.0.1.7 \n",
      "    H2O cluster name:           H2O_started_from_R_d7oz_aht312 \n",
      "    H2O cluster total nodes:    1 \n",
      "    H2O cluster total memory:   26.60 GB \n",
      "    H2O cluster total cores:    96 \n",
      "    H2O cluster allowed cores:  8 \n",
      "    H2O cluster healthy:        TRUE \n"
     ]
    }
   ],
   "source": [
    "h2o.clusterInfo(my_h2o)"
   ]
  },
  {
   "cell_type": "markdown",
   "metadata": {},
   "source": [
    "Pass data to H2O\n",
    "==="
   ]
  },
  {
   "cell_type": "code",
   "execution_count": 4,
   "metadata": {
    "collapsed": false
   },
   "outputs": [
    {
     "data": {
      "text/html": [
       "<table>\n",
       "<thead><tr><th></th><th scope=col>Sepal.Length</th><th scope=col>Sepal.Width</th><th scope=col>Petal.Length</th><th scope=col>Petal.Width</th><th scope=col>Species</th></tr></thead>\n",
       "<tbody>\n",
       "\t<tr><th scope=row>1</th><td>5.1</td><td>3.5</td><td>1.4</td><td>0.2</td><td>setosa</td></tr>\n",
       "\t<tr><th scope=row>2</th><td>4.9</td><td>3</td><td>1.4</td><td>0.2</td><td>setosa</td></tr>\n",
       "\t<tr><th scope=row>3</th><td>4.7</td><td>3.2</td><td>1.3</td><td>0.2</td><td>setosa</td></tr>\n",
       "\t<tr><th scope=row>4</th><td>4.6</td><td>3.1</td><td>1.5</td><td>0.2</td><td>setosa</td></tr>\n",
       "\t<tr><th scope=row>5</th><td>5</td><td>3.6</td><td>1.4</td><td>0.2</td><td>setosa</td></tr>\n",
       "\t<tr><th scope=row>6</th><td>5.4</td><td>3.9</td><td>1.7</td><td>0.4</td><td>setosa</td></tr>\n",
       "</tbody>\n",
       "</table>\n"
      ],
      "text/latex": [
       "\\begin{tabular}{r|lllll}\n",
       "  & Sepal.Length & Sepal.Width & Petal.Length & Petal.Width & Species\\\\\n",
       "\\hline\n",
       "\t1 & 5.1 & 3.5 & 1.4 & 0.2 & setosa\\\\\n",
       "\t2 & 4.9 & 3 & 1.4 & 0.2 & setosa\\\\\n",
       "\t3 & 4.7 & 3.2 & 1.3 & 0.2 & setosa\\\\\n",
       "\t4 & 4.6 & 3.1 & 1.5 & 0.2 & setosa\\\\\n",
       "\t5 & 5 & 3.6 & 1.4 & 0.2 & setosa\\\\\n",
       "\t6 & 5.4 & 3.9 & 1.7 & 0.4 & setosa\\\\\n",
       "\\end{tabular}\n"
      ],
      "text/plain": [
       "  Sepal.Length Sepal.Width Petal.Length Petal.Width Species\n",
       "1          5.1         3.5          1.4         0.2  setosa\n",
       "2          4.9         3.0          1.4         0.2  setosa\n",
       "3          4.7         3.2          1.3         0.2  setosa\n",
       "4          4.6         3.1          1.5         0.2  setosa\n",
       "5          5.0         3.6          1.4         0.2  setosa\n",
       "6          5.4         3.9          1.7         0.4  setosa"
      ]
     },
     "execution_count": 4,
     "metadata": {},
     "output_type": "execute_result"
    }
   ],
   "source": [
    "head(iris)"
   ]
  },
  {
   "cell_type": "code",
   "execution_count": 5,
   "metadata": {
    "collapsed": false
   },
   "outputs": [
    {
     "name": "stdout",
     "output_type": "stream",
     "text": [
      "\r",
      "  |                                                                            \r",
      "  |                                                                      |   0%\r",
      "  |                                                                            \r",
      "  |======================================================================| 100%\n"
     ]
    },
    {
     "data": {
      "text/html": [
       "<table>\n",
       "<thead><tr><th></th><th scope=col>Sepal.Length</th><th scope=col>Sepal.Width</th><th scope=col>Petal.Length</th><th scope=col>Petal.Width</th><th scope=col>Species</th></tr></thead>\n",
       "<tbody>\n",
       "\t<tr><th scope=row>1</th><td>5.1</td><td>3.5</td><td>1.4</td><td>0.2</td><td>setosa</td></tr>\n",
       "\t<tr><th scope=row>2</th><td>4.9</td><td>3</td><td>1.4</td><td>0.2</td><td>setosa</td></tr>\n",
       "\t<tr><th scope=row>3</th><td>4.7</td><td>3.2</td><td>1.3</td><td>0.2</td><td>setosa</td></tr>\n",
       "\t<tr><th scope=row>4</th><td>4.6</td><td>3.1</td><td>1.5</td><td>0.2</td><td>setosa</td></tr>\n",
       "\t<tr><th scope=row>5</th><td>5</td><td>3.6</td><td>1.4</td><td>0.2</td><td>setosa</td></tr>\n",
       "\t<tr><th scope=row>6</th><td>5.4</td><td>3.9</td><td>1.7</td><td>0.4</td><td>setosa</td></tr>\n",
       "</tbody>\n",
       "</table>\n"
      ],
      "text/latex": [
       "\\begin{tabular}{r|lllll}\n",
       "  & Sepal.Length & Sepal.Width & Petal.Length & Petal.Width & Species\\\\\n",
       "\\hline\n",
       "\t1 & 5.1 & 3.5 & 1.4 & 0.2 & setosa\\\\\n",
       "\t2 & 4.9 & 3 & 1.4 & 0.2 & setosa\\\\\n",
       "\t3 & 4.7 & 3.2 & 1.3 & 0.2 & setosa\\\\\n",
       "\t4 & 4.6 & 3.1 & 1.5 & 0.2 & setosa\\\\\n",
       "\t5 & 5 & 3.6 & 1.4 & 0.2 & setosa\\\\\n",
       "\t6 & 5.4 & 3.9 & 1.7 & 0.4 & setosa\\\\\n",
       "\\end{tabular}\n"
      ],
      "text/plain": [
       "  Sepal.Length Sepal.Width Petal.Length Petal.Width Species\n",
       "1          5.1         3.5          1.4         0.2  setosa\n",
       "2          4.9         3.0          1.4         0.2  setosa\n",
       "3          4.7         3.2          1.3         0.2  setosa\n",
       "4          4.6         3.1          1.5         0.2  setosa\n",
       "5          5.0         3.6          1.4         0.2  setosa\n",
       "6          5.4         3.9          1.7         0.4  setosa"
      ]
     },
     "execution_count": 5,
     "metadata": {},
     "output_type": "execute_result"
    }
   ],
   "source": [
    "iris_h2o <- as.h2o(iris)\n",
    "head(iris_h2o)"
   ]
  },
  {
   "cell_type": "markdown",
   "metadata": {},
   "source": [
    "Run a model in H2O\n",
    "==="
   ]
  },
  {
   "cell_type": "code",
   "execution_count": 6,
   "metadata": {
    "collapsed": false
   },
   "outputs": [
    {
     "name": "stdout",
     "output_type": "stream",
     "text": [
      "\r",
      "  |                                                                            \r",
      "  |                                                                      |   0%\r",
      "  |                                                                            \r",
      "  |======================================================================| 100%\n"
     ]
    },
    {
     "data": {
      "text/plain": [
       "Model Details:\n",
       "==============\n",
       "\n",
       "H2OMultinomialModel: drf\n",
       "Model ID:  DRF_model_R_1442599896107_5 \n",
       "Model Summary:\n",
       "  number_of_trees model_size_in_bytes min_depth max_depth mean_depth min_leaves\n",
       "1             150               20566         1         8    3.79333          2\n",
       "  max_leaves mean_leaves\n",
       "1         15     6.28000\n",
       "\n",
       "\n",
       "H2OMultinomialMetrics: drf\n",
       "** Reported on training data. **\n",
       "Description: Metrics reported on Out-Of-Bag training samples\n",
       "\n",
       "Training Set Metrics: \n",
       "=====================\n",
       "Metrics reported on Out-Of-Bag training samples \n",
       "\n",
       "Extract training frame with `h2o.getFrame(\"file10c4f7e01a585_csv_1.hex_2\")`\n",
       "MSE: (Extract with `h2o.mse`) 0.04025251\n",
       "R^2: (Extract with `h2o.r2`) 0.9396212\n",
       "Logloss: (Extract with `h2o.logloss`) 0.3386334\n",
       "Confusion Matrix: Extract with `h2o.confusionMatrix(<model>,train=TRUE)`)\n",
       "=========================================================================\n",
       "           setosa versicolor virginica      Error    Rate\n",
       "setosa         50          0         0 0.00000000  0 / 50\n",
       "versicolor      0         47         3 0.06000000  3 / 50\n",
       "virginica       0          4        46 0.08000000  4 / 50\n",
       "Totals         50         51        49 0.04666667 7 / 150\n",
       "\n",
       "Hit Ratio Table: Extract with `h2o.hit_ratio_table(<model>,train=TRUE)`\n",
       "=======================================================================\n",
       "Top-3 Hit Ratios:\n",
       "  k hit_ratio\n",
       "1 1  0.953333\n",
       "2 2  0.993333\n",
       "3 3  1.000000\n",
       "\n",
       "\n"
      ]
     },
     "execution_count": 6,
     "metadata": {},
     "output_type": "execute_result"
    }
   ],
   "source": [
    "vars <- colnames(iris_h2o)\n",
    "\n",
    "rf_h2o <- h2o.randomForest(y = 'Species'\n",
    "                           ,x = vars[-5]\n",
    "                           ,training_frame = iris_h2o\n",
    "                           ,seed = 71)\n",
    "\n",
    "rf_h2o"
   ]
  },
  {
   "cell_type": "markdown",
   "metadata": {},
   "source": [
    "Interact with H2O results\n",
    "===\n",
    "Even though the model was executed in the H2O vm, all of the results are still available in the R object assigned to it.  This is an S4 object, so we can access the model info via its' slots.  Generally slots are accessed via the `@` operator, and can be looked up via the function `slotNames`.  For a nice primer on S4 objects, check out [this chapter](http://adv-r.had.co.nz/S4.html) in Hadley Wickham's Advanced R book."
   ]
  },
  {
   "cell_type": "code",
   "execution_count": 7,
   "metadata": {
    "collapsed": false
   },
   "outputs": [
    {
     "data": {
      "text/html": [
       "<ol class=list-inline>\n",
       "\t<li>'conn'</li>\n",
       "\t<li>'model_id'</li>\n",
       "\t<li>'algorithm'</li>\n",
       "\t<li>'parameters'</li>\n",
       "\t<li>'allparameters'</li>\n",
       "\t<li>'model'</li>\n",
       "\t<li>'finalizers'</li>\n",
       "</ol>\n"
      ],
      "text/latex": [
       "\\begin{enumerate*}\n",
       "\\item 'conn'\n",
       "\\item 'model_id'\n",
       "\\item 'algorithm'\n",
       "\\item 'parameters'\n",
       "\\item 'allparameters'\n",
       "\\item 'model'\n",
       "\\item 'finalizers'\n",
       "\\end{enumerate*}\n"
      ],
      "text/markdown": [
       "1. 'conn'\n",
       "2. 'model_id'\n",
       "3. 'algorithm'\n",
       "4. 'parameters'\n",
       "5. 'allparameters'\n",
       "6. 'model'\n",
       "7. 'finalizers'\n",
       "\n",
       "\n"
      ],
      "text/plain": [
       "[1] \"conn\"          \"model_id\"      \"algorithm\"     \"parameters\"   \n",
       "[5] \"allparameters\" \"model\"         \"finalizers\"   "
      ]
     },
     "execution_count": 7,
     "metadata": {},
     "output_type": "execute_result"
    }
   ],
   "source": [
    "slotNames(rf_h2o)"
   ]
  },
  {
   "cell_type": "code",
   "execution_count": 8,
   "metadata": {
    "collapsed": false
   },
   "outputs": [
    {
     "ename": "ERROR",
     "evalue": "Error in vapply(seq_along(mapped), function(i) {: values must be length 1,\n but FUN(X[[1]]) result is length 0\n",
     "output_type": "error",
     "traceback": [
      "Error in vapply(seq_along(mapped), function(i) {: values must be length 1,\n but FUN(X[[1]]) result is length 0\n"
     ]
    },
    {
     "data": {
      "text/plain": [
       "$cross_validation_models\n",
       "NULL\n",
       "\n",
       "$cross_validation_predictions\n",
       "NULL\n",
       "\n",
       "$model_summary\n",
       "Model Summary:\n",
       "  number_of_trees model_size_in_bytes min_depth max_depth mean_depth min_leaves\n",
       "1             150               20566         1         8    3.79333          2\n",
       "  max_leaves mean_leaves\n",
       "1         15     6.28000\n",
       "\n",
       "$scoring_history\n",
       "Scoring History:\n",
       "            timestamp   duration number_of_trees training_MSE training_logloss\n",
       "1 2015-09-18 13:11:40  0.191 sec               1      0.04787          1.48448\n",
       "2 2015-09-18 13:11:40  0.245 sec               2      0.11515          3.33395\n",
       "3 2015-09-18 13:11:40  0.293 sec               3      0.07504          1.92775\n",
       "4 2015-09-18 13:11:40  0.339 sec               4      0.05835          1.41421\n",
       "5 2015-09-18 13:11:40  0.378 sec               5      0.05687          1.34931\n",
       "  training_classification_error\n",
       "1                       0.06383\n",
       "2                       0.12941\n",
       "3                       0.09821\n",
       "4                       0.07752\n",
       "5                       0.06618\n",
       "\n",
       "---\n",
       "             timestamp   duration number_of_trees training_MSE training_logloss\n",
       "45 2015-09-18 13:11:41  0.935 sec              45      0.04069          0.33881\n",
       "46 2015-09-18 13:11:41  0.946 sec              46      0.04067          0.33895\n",
       "47 2015-09-18 13:11:41  0.957 sec              47      0.04059          0.33948\n",
       "48 2015-09-18 13:11:41  0.969 sec              48      0.04088          0.34017\n",
       "49 2015-09-18 13:11:41  0.979 sec              49      0.04042          0.33926\n",
       "50 2015-09-18 13:11:41  0.991 sec              50      0.04025          0.33863\n",
       "   training_classification_error\n",
       "45                       0.04667\n",
       "46                       0.04667\n",
       "47                       0.04667\n",
       "48                       0.05333\n",
       "49                       0.04667\n",
       "50                       0.04667\n",
       "\n",
       "$training_metrics\n",
       "H2OMultinomialMetrics: drf\n",
       "** Reported on training data. **\n",
       "Description: Metrics reported on Out-Of-Bag training samples\n",
       "\n",
       "Training Set Metrics: \n",
       "=====================\n",
       "Metrics reported on Out-Of-Bag training samples \n",
       "\n",
       "Extract training frame with `h2o.getFrame(\"file10c4f7e01a585_csv_1.hex_2\")`\n",
       "MSE: (Extract with `h2o.mse`) 0.04025251\n",
       "R^2: (Extract with `h2o.r2`) 0.9396212\n",
       "Logloss: (Extract with `h2o.logloss`) 0.3386334\n",
       "Confusion Matrix: Extract with `h2o.confusionMatrix(<model>,train=TRUE)`)\n",
       "=========================================================================\n",
       "           setosa versicolor virginica      Error    Rate\n",
       "setosa         50          0         0 0.00000000  0 / 50\n",
       "versicolor      0         47         3 0.06000000  3 / 50\n",
       "virginica       0          4        46 0.08000000  4 / 50\n",
       "Totals         50         51        49 0.04666667 7 / 150\n",
       "\n",
       "Hit Ratio Table: Extract with `h2o.hit_ratio_table(<model>,train=TRUE)`\n",
       "=======================================================================\n",
       "Top-3 Hit Ratios:\n",
       "  k hit_ratio\n",
       "1 1  0.953333\n",
       "2 2  0.993333\n",
       "3 3  1.000000\n",
       "\n",
       "\n",
       "$validation_metrics\n",
       "NULL\n",
       "\n",
       "$cross_validation_metrics\n",
       "NULL\n",
       "\n",
       "$status\n",
       "[1] \"DONE\"\n",
       "\n",
       "$start_time\n",
       "[1] 1.4426e+12\n",
       "\n",
       "$end_time\n",
       "[1] 1.4426e+12\n",
       "\n",
       "$run_time\n",
       "[1] 1006\n",
       "\n",
       "$help\n",
       "$help$run_time\n",
       "[1] \"Runtime in milliseconds\"\n",
       "\n",
       "$help$status\n",
       "[1] \"Job status\"\n",
       "\n",
       "$help$domains\n",
       "[1] \"Domains for categorical (enum) columns\"\n",
       "\n",
       "$help$model_category\n",
       "[1] \"Category of the model (e.g., Binomial)\"\n",
       "\n",
       "$help$`__meta`\n",
       "[1] \"Metadata on this schema instance, to make it self-describing.\"\n",
       "\n",
       "$help$variable_importances\n",
       "[1] \"Variable Importances\"\n",
       "\n",
       "$help$model_summary\n",
       "[1] \"Model summary\"\n",
       "\n",
       "$help$scoring_history\n",
       "[1] \"Scoring history\"\n",
       "\n",
       "$help$help\n",
       "[1] \"Help information for output fields\"\n",
       "\n",
       "$help$end_time\n",
       "[1] \"End time in milliseconds\"\n",
       "\n",
       "$help$names\n",
       "[1] \"Column names\"\n",
       "\n",
       "$help$start_time\n",
       "[1] \"Start time in milliseconds\"\n",
       "\n",
       "$help$training_metrics\n",
       "[1] \"Training data model metrics\"\n",
       "\n",
       "$help$cross_validation_models\n",
       "[1] \"Cross-validation models (model ids)\"\n",
       "\n",
       "$help$cross_validation_metrics\n",
       "[1] \"Cross-validation model metrics\"\n",
       "\n",
       "$help$cross_validation_predictions\n",
       "[1] \"Cross-validation predictions (frame ids)\"\n",
       "\n",
       "$help$init_f\n",
       "[1] \"The Intercept term, the initial model function value to which trees make adjustments\"\n",
       "\n",
       "$help$validation_metrics\n",
       "[1] \"Validation data model metrics\"\n",
       "\n",
       "\n",
       "$variable_importances\n",
       "Variable Importances:\n",
       "      variable relative_importance scaled_importance percentage\n",
       "1  Petal.Width         2374.333740          1.000000   0.542647\n",
       "2 Petal.Length         1583.687256          0.667003   0.361947\n",
       "3 Sepal.Length          318.470398          0.134130   0.072785\n",
       "4  Sepal.Width           98.976852          0.041686   0.022621\n",
       "\n",
       "$init_f\n",
       "[1] 0\n"
      ]
     },
     "execution_count": 8,
     "metadata": {},
     "output_type": "execute_result"
    }
   ],
   "source": [
    "rf_h2o@model"
   ]
  },
  {
   "cell_type": "code",
   "execution_count": 9,
   "metadata": {
    "collapsed": false
   },
   "outputs": [
    {
     "data": {
      "text/html": [
       "<table>\n",
       "<thead><tr><th></th><th scope=col>variable</th><th scope=col>relative_importance</th><th scope=col>scaled_importance</th><th scope=col>percentage</th></tr></thead>\n",
       "<tbody>\n",
       "\t<tr><th scope=row>1</th><td>Petal.Width</td><td>2374.334</td><td>1</td><td>0.5426468</td></tr>\n",
       "\t<tr><th scope=row>2</th><td>Petal.Length</td><td>1583.687</td><td>0.6670028</td><td>0.3619469</td></tr>\n",
       "\t<tr><th scope=row>3</th><td>Sepal.Length</td><td>318.4704</td><td>0.1341304</td><td>0.07278544</td></tr>\n",
       "\t<tr><th scope=row>4</th><td>Sepal.Width</td><td>98.97685</td><td>0.04168616</td><td>0.02262086</td></tr>\n",
       "</tbody>\n",
       "</table>\n"
      ],
      "text/latex": [
       "\\begin{tabular}{r|llll}\n",
       "  & variable & relative_importance & scaled_importance & percentage\\\\\n",
       "\\hline\n",
       "\t1 & Petal.Width & 2374.334 & 1 & 0.5426468\\\\\n",
       "\t2 & Petal.Length & 1583.687 & 0.6670028 & 0.3619469\\\\\n",
       "\t3 & Sepal.Length & 318.4704 & 0.1341304 & 0.07278544\\\\\n",
       "\t4 & Sepal.Width & 98.97685 & 0.04168616 & 0.02262086\\\\\n",
       "\\end{tabular}\n"
      ],
      "text/plain": [
       "Variable Importances:\n",
       "      variable relative_importance scaled_importance percentage\n",
       "1  Petal.Width         2374.333740          1.000000   0.542647\n",
       "2 Petal.Length         1583.687256          0.667003   0.361947\n",
       "3 Sepal.Length          318.470398          0.134130   0.072785\n",
       "4  Sepal.Width           98.976852          0.041686   0.022621"
      ]
     },
     "execution_count": 9,
     "metadata": {},
     "output_type": "execute_result"
    }
   ],
   "source": [
    "rf_varimp_h2o <- rf_h2o@model$variable_importance\n",
    "\n",
    "rf_varimp_h2o"
   ]
  },
  {
   "cell_type": "markdown",
   "metadata": {},
   "source": [
    "We can do any of the typical R processes with these results (because they are captured in an R object).  For example, we can plot the variable importance."
   ]
  },
  {
   "cell_type": "code",
   "execution_count": 10,
   "metadata": {
    "collapsed": false
   },
   "outputs": [
    {
     "data": {
      "application/pdf": "[encoded data removed]",
      "image/jpeg": "[encoded data removed]",
      "image/png": "[encoded data removed]",
      "image/svg+xml": [
       "<?xml version=\"1.0\" encoding=\"UTF-8\"?>\n",
       "<svg xmlns=\"http://www.w3.org/2000/svg\" xmlns:xlink=\"http://www.w3.org/1999/xlink\" width=\"504pt\" height=\"504pt\" viewBox=\"0 0 504 504\" version=\"1.1\">\n",
       "<defs>\n",
       "<g>\n",
       "<symbol overflow=\"visible\" id=\"glyph0-0\">\n",
       "<path style=\"stroke:none;\" d=\"\"/>\n",
       "</symbol>\n",
       "<symbol overflow=\"visible\" id=\"glyph0-1\">\n",
       "<path style=\"stroke:none;\" d=\"M 2.640625 -6.796875 C 2 -6.796875 1.421875 -6.53125 1.078125 -6.046875 C 0.640625 -5.453125 0.40625 -4.546875 0.40625 -3.296875 C 0.40625 -1 1.1875 0.21875 2.640625 0.21875 C 4.078125 0.21875 4.859375 -1 4.859375 -3.234375 C 4.859375 -4.5625 4.65625 -5.4375 4.203125 -6.046875 C 3.84375 -6.53125 3.28125 -6.796875 2.640625 -6.796875 Z M 2.640625 -6.046875 C 3.546875 -6.046875 4 -5.125 4 -3.3125 C 4 -1.375 3.5625 -0.484375 2.625 -0.484375 C 1.734375 -0.484375 1.28125 -1.421875 1.28125 -3.28125 C 1.28125 -5.140625 1.734375 -6.046875 2.640625 -6.046875 Z M 2.640625 -6.046875 \"/>\n",
       "</symbol>\n",
       "<symbol overflow=\"visible\" id=\"glyph0-2\">\n",
       "<path style=\"stroke:none;\" d=\"M 1.828125 -1 L 0.828125 -1 L 0.828125 0 L 1.828125 0 L 1.828125 -1 Z M 1.828125 -1 \"/>\n",
       "</symbol>\n",
       "<symbol overflow=\"visible\" id=\"glyph0-3\">\n",
       "<path style=\"stroke:none;\" d=\"M 4.859375 -0.828125 L 1.28125 -0.828125 C 1.359375 -1.390625 1.671875 -1.75 2.5 -2.234375 L 3.46875 -2.75 C 4.40625 -3.265625 4.90625 -3.96875 4.90625 -4.8125 C 4.90625 -5.375 4.671875 -5.90625 4.265625 -6.265625 C 3.859375 -6.625 3.375 -6.796875 2.71875 -6.796875 C 1.859375 -6.796875 1.21875 -6.5 0.84375 -5.921875 C 0.609375 -5.5625 0.5 -5.125 0.484375 -4.4375 L 1.328125 -4.4375 C 1.359375 -4.90625 1.40625 -5.1875 1.53125 -5.40625 C 1.75 -5.8125 2.1875 -6.0625 2.703125 -6.0625 C 3.46875 -6.0625 4.03125 -5.515625 4.03125 -4.78125 C 4.03125 -4.25 3.71875 -3.796875 3.125 -3.4375 L 2.234375 -2.9375 C 0.8125 -2.140625 0.40625 -1.5 0.328125 0 L 4.859375 0 L 4.859375 -0.828125 Z M 4.859375 -0.828125 \"/>\n",
       "</symbol>\n",
       "<symbol overflow=\"visible\" id=\"glyph0-4\">\n",
       "<path style=\"stroke:none;\" d=\"M 4.5625 -6.796875 L 1.0625 -6.796875 L 0.546875 -3.09375 L 1.328125 -3.09375 C 1.71875 -3.5625 2.046875 -3.734375 2.578125 -3.734375 C 3.484375 -3.734375 4.0625 -3.109375 4.0625 -2.09375 C 4.0625 -1.125 3.484375 -0.53125 2.578125 -0.53125 C 1.828125 -0.53125 1.375 -0.90625 1.1875 -1.671875 L 0.328125 -1.671875 C 0.453125 -1.109375 0.546875 -0.84375 0.75 -0.59375 C 1.125 -0.078125 1.828125 0.21875 2.59375 0.21875 C 3.96875 0.21875 4.921875 -0.78125 4.921875 -2.21875 C 4.921875 -3.5625 4.03125 -4.484375 2.71875 -4.484375 C 2.25 -4.484375 1.859375 -4.359375 1.46875 -4.0625 L 1.734375 -5.96875 L 4.5625 -5.96875 L 4.5625 -6.796875 Z M 4.5625 -6.796875 \"/>\n",
       "</symbol>\n",
       "<symbol overflow=\"visible\" id=\"glyph0-5\">\n",
       "<path style=\"stroke:none;\" d=\"M 4.984375 -6.796875 L 0.4375 -6.796875 L 0.4375 -5.96875 L 4.109375 -5.96875 C 2.5 -3.65625 1.828125 -2.234375 1.328125 0 L 2.21875 0 C 2.59375 -2.171875 3.453125 -4.046875 4.984375 -6.09375 L 4.984375 -6.796875 Z M 4.984375 -6.796875 \"/>\n",
       "</symbol>\n",
       "<symbol overflow=\"visible\" id=\"glyph0-6\">\n",
       "<path style=\"stroke:none;\" d=\"M 2.484375 -4.84375 L 2.484375 0 L 3.328125 0 L 3.328125 -6.796875 L 2.765625 -6.796875 C 2.46875 -5.75 2.28125 -5.609375 0.984375 -5.453125 L 0.984375 -4.84375 L 2.484375 -4.84375 Z M 2.484375 -4.84375 \"/>\n",
       "</symbol>\n",
       "<symbol overflow=\"visible\" id=\"glyph0-7\">\n",
       "<path style=\"stroke:none;\" d=\"M 1.765625 -2.96875 L 3.96875 -2.96875 C 4.515625 -2.96875 4.9375 -3.125 5.3125 -3.46875 C 5.734375 -3.84375 5.921875 -4.296875 5.921875 -4.9375 C 5.921875 -6.25 5.140625 -7 3.765625 -7 L 0.875 -7 L 0.875 0 L 1.765625 0 L 1.765625 -2.96875 Z M 1.765625 -3.75 L 1.765625 -6.203125 L 3.625 -6.203125 C 4.484375 -6.203125 4.984375 -5.75 4.984375 -4.984375 C 4.984375 -4.21875 4.484375 -3.75 3.625 -3.75 L 1.765625 -3.75 Z M 1.765625 -3.75 \"/>\n",
       "</symbol>\n",
       "<symbol overflow=\"visible\" id=\"glyph0-8\">\n",
       "<path style=\"stroke:none;\" d=\"M 4.921875 -2.25 C 4.921875 -3.015625 4.859375 -3.46875 4.71875 -3.84375 C 4.390625 -4.671875 3.625 -5.171875 2.6875 -5.171875 C 1.28125 -5.171875 0.390625 -4.09375 0.390625 -2.453125 C 0.390625 -0.796875 1.25 0.21875 2.671875 0.21875 C 3.8125 0.21875 4.609375 -0.4375 4.8125 -1.53125 L 4.015625 -1.53125 C 3.796875 -0.859375 3.34375 -0.515625 2.703125 -0.515625 C 2.1875 -0.515625 1.75 -0.75 1.484375 -1.171875 C 1.296875 -1.453125 1.234375 -1.75 1.21875 -2.25 L 4.921875 -2.25 Z M 1.234375 -2.890625 C 1.3125 -3.828125 1.875 -4.4375 2.671875 -4.4375 C 3.46875 -4.4375 4.0625 -3.78125 4.0625 -2.953125 C 4.0625 -2.9375 4.0625 -2.921875 4.0625 -2.890625 L 1.234375 -2.890625 Z M 1.234375 -2.890625 \"/>\n",
       "</symbol>\n",
       "<symbol overflow=\"visible\" id=\"glyph0-9\">\n",
       "<path style=\"stroke:none;\" d=\"M 2.4375 -5.03125 L 1.609375 -5.03125 L 1.609375 -6.40625 L 0.8125 -6.40625 L 0.8125 -5.03125 L 0.140625 -5.03125 L 0.140625 -4.375 L 0.8125 -4.375 L 0.8125 -0.578125 C 0.8125 -0.0625 1.15625 0.21875 1.78125 0.21875 C 1.96875 0.21875 2.171875 0.203125 2.4375 0.15625 L 2.4375 -0.515625 C 2.328125 -0.484375 2.203125 -0.484375 2.046875 -0.484375 C 1.703125 -0.484375 1.609375 -0.578125 1.609375 -0.9375 L 1.609375 -4.375 L 2.4375 -4.375 L 2.4375 -5.03125 Z M 2.4375 -5.03125 \"/>\n",
       "</symbol>\n",
       "<symbol overflow=\"visible\" id=\"glyph0-10\">\n",
       "<path style=\"stroke:none;\" d=\"M 5.125 -0.46875 C 5.046875 -0.453125 5.015625 -0.453125 4.953125 -0.453125 C 4.6875 -0.453125 4.53125 -0.59375 4.53125 -0.84375 L 4.53125 -3.796875 C 4.53125 -4.6875 3.875 -5.171875 2.640625 -5.171875 C 1.90625 -5.171875 1.3125 -4.953125 0.96875 -4.578125 C 0.734375 -4.328125 0.640625 -4.03125 0.625 -3.546875 L 1.421875 -3.546875 C 1.5 -4.15625 1.859375 -4.4375 2.609375 -4.4375 C 3.328125 -4.4375 3.734375 -4.15625 3.734375 -3.6875 L 3.734375 -3.46875 C 3.734375 -3.140625 3.53125 -3 2.890625 -2.921875 C 1.765625 -2.765625 1.59375 -2.734375 1.28125 -2.609375 C 0.703125 -2.375 0.40625 -1.921875 0.40625 -1.265625 C 0.40625 -0.359375 1.03125 0.21875 2.046875 0.21875 C 2.6875 0.21875 3.1875 0 3.765625 -0.515625 C 3.8125 -0.015625 4.0625 0.21875 4.578125 0.21875 C 4.75 0.21875 4.875 0.203125 5.125 0.140625 L 5.125 -0.46875 Z M 3.734375 -1.578125 C 3.734375 -1.3125 3.65625 -1.15625 3.421875 -0.9375 C 3.09375 -0.640625 2.703125 -0.484375 2.21875 -0.484375 C 1.609375 -0.484375 1.234375 -0.78125 1.234375 -1.28125 C 1.234375 -1.8125 1.59375 -2.078125 2.453125 -2.203125 C 3.296875 -2.328125 3.46875 -2.359375 3.734375 -2.484375 L 3.734375 -1.578125 Z M 3.734375 -1.578125 \"/>\n",
       "</symbol>\n",
       "<symbol overflow=\"visible\" id=\"glyph0-11\">\n",
       "<path style=\"stroke:none;\" d=\"M 1.453125 -7 L 0.65625 -7 L 0.65625 0 L 1.453125 0 L 1.453125 -7 Z M 1.453125 -7 \"/>\n",
       "</symbol>\n",
       "<symbol overflow=\"visible\" id=\"glyph0-12\">\n",
       "<path style=\"stroke:none;\" d=\"M 1.65625 -7 L 0.765625 -7 L 0.765625 0 L 5.109375 0 L 5.109375 -0.78125 L 1.65625 -0.78125 L 1.65625 -7 Z M 1.65625 -7 \"/>\n",
       "</symbol>\n",
       "<symbol overflow=\"visible\" id=\"glyph0-13\">\n",
       "<path style=\"stroke:none;\" d=\"M 0.671875 -5.03125 L 0.671875 0 L 1.484375 0 L 1.484375 -2.765625 C 1.484375 -3.796875 2.015625 -4.46875 2.84375 -4.46875 C 3.46875 -4.46875 3.875 -4.09375 3.875 -3.484375 L 3.875 0 L 4.671875 0 L 4.671875 -3.796875 C 4.671875 -4.640625 4.046875 -5.171875 3.078125 -5.171875 C 2.328125 -5.171875 1.859375 -4.890625 1.40625 -4.1875 L 1.40625 -5.03125 L 0.671875 -5.03125 Z M 0.671875 -5.03125 \"/>\n",
       "</symbol>\n",
       "<symbol overflow=\"visible\" id=\"glyph0-14\">\n",
       "<path style=\"stroke:none;\" d=\"M 3.953125 -5.03125 L 3.953125 -4.296875 C 3.546875 -4.890625 3.0625 -5.171875 2.421875 -5.171875 C 1.140625 -5.171875 0.28125 -4.0625 0.28125 -2.421875 C 0.28125 -1.609375 0.5 -0.9375 0.90625 -0.453125 C 1.28125 -0.03125 1.828125 0.21875 2.34375 0.21875 C 2.984375 0.21875 3.421875 -0.046875 3.875 -0.6875 L 3.875 -0.421875 C 3.875 0.265625 3.796875 0.671875 3.59375 0.953125 C 3.375 1.25 2.96875 1.421875 2.46875 1.421875 C 2.109375 1.421875 1.78125 1.328125 1.5625 1.15625 C 1.375 1 1.3125 0.875 1.25 0.578125 L 0.4375 0.578125 C 0.53125 1.53125 1.265625 2.09375 2.453125 2.09375 C 3.1875 2.09375 3.84375 1.859375 4.15625 1.453125 C 4.546875 0.984375 4.6875 0.359375 4.6875 -0.828125 L 4.6875 -5.03125 L 3.953125 -5.03125 Z M 2.5 -4.4375 C 3.375 -4.4375 3.875 -3.703125 3.875 -2.453125 C 3.875 -1.25 3.359375 -0.515625 2.515625 -0.515625 C 1.640625 -0.515625 1.109375 -1.25 1.109375 -2.46875 C 1.109375 -3.6875 1.65625 -4.4375 2.5 -4.4375 Z M 2.5 -4.4375 \"/>\n",
       "</symbol>\n",
       "<symbol overflow=\"visible\" id=\"glyph0-15\">\n",
       "<path style=\"stroke:none;\" d=\"M 0.671875 -7 L 0.671875 0 L 1.46875 0 L 1.46875 -2.765625 C 1.46875 -3.796875 2 -4.46875 2.828125 -4.46875 C 3.09375 -4.46875 3.34375 -4.390625 3.546875 -4.234375 C 3.765625 -4.078125 3.859375 -3.84375 3.859375 -3.484375 L 3.859375 0 L 4.65625 0 L 4.65625 -3.796875 C 4.65625 -4.640625 4.0625 -5.171875 3.078125 -5.171875 C 2.375 -5.171875 1.9375 -4.953125 1.46875 -4.34375 L 1.46875 -7 L 0.671875 -7 Z M 0.671875 -7 \"/>\n",
       "</symbol>\n",
       "<symbol overflow=\"visible\" id=\"glyph0-16\">\n",
       "<path style=\"stroke:none;\" d=\"M 7.140625 0 L 8.90625 -7 L 7.921875 -7 L 6.625 -1.3125 L 5.03125 -7 L 4.078125 -7 L 2.515625 -1.3125 L 1.203125 -7 L 0.21875 -7 L 2 0 L 2.984375 0 L 4.546875 -5.75 L 6.15625 0 L 7.140625 0 Z M 7.140625 0 \"/>\n",
       "</symbol>\n",
       "<symbol overflow=\"visible\" id=\"glyph0-17\">\n",
       "<path style=\"stroke:none;\" d=\"M 1.4375 -5.03125 L 0.640625 -5.03125 L 0.640625 0 L 1.4375 0 L 1.4375 -5.03125 Z M 1.4375 -7 L 0.640625 -7 L 0.640625 -5.984375 L 1.4375 -5.984375 L 1.4375 -7 Z M 1.4375 -7 \"/>\n",
       "</symbol>\n",
       "<symbol overflow=\"visible\" id=\"glyph0-18\">\n",
       "<path style=\"stroke:none;\" d=\"M 4.75 -7 L 3.953125 -7 L 3.953125 -4.390625 C 3.609375 -4.90625 3.078125 -5.171875 2.40625 -5.171875 C 1.109375 -5.171875 0.25 -4.125 0.25 -2.515625 C 0.25 -0.828125 1.078125 0.21875 2.4375 0.21875 C 3.125 0.21875 3.609375 -0.03125 4.03125 -0.65625 L 4.03125 0 L 4.75 0 L 4.75 -7 Z M 2.546875 -4.421875 C 3.40625 -4.421875 3.953125 -3.65625 3.953125 -2.453125 C 3.953125 -1.296875 3.390625 -0.53125 2.546875 -0.53125 C 1.671875 -0.53125 1.078125 -1.3125 1.078125 -2.46875 C 1.078125 -3.640625 1.671875 -4.421875 2.546875 -4.421875 Z M 2.546875 -4.421875 \"/>\n",
       "</symbol>\n",
       "<symbol overflow=\"visible\" id=\"glyph0-19\">\n",
       "<path style=\"stroke:none;\" d=\"M 5.71875 -4.9375 C 5.703125 -6.3125 4.765625 -7.109375 3.15625 -7.109375 C 1.625 -7.109375 0.671875 -6.328125 0.671875 -5.0625 C 0.671875 -4.203125 1.125 -3.671875 2.046875 -3.421875 L 3.78125 -2.96875 C 4.65625 -2.734375 5.0625 -2.375 5.0625 -1.828125 C 5.0625 -1.453125 4.859375 -1.078125 4.5625 -0.859375 C 4.28125 -0.671875 3.84375 -0.5625 3.28125 -0.5625 C 2.515625 -0.5625 2 -0.75 1.671875 -1.15625 C 1.40625 -1.453125 1.296875 -1.796875 1.3125 -2.21875 L 0.453125 -2.21875 C 0.46875 -1.578125 0.59375 -1.15625 0.875 -0.78125 C 1.359375 -0.125 2.15625 0.21875 3.21875 0.21875 C 4.0625 0.21875 4.734375 0.03125 5.1875 -0.3125 C 5.65625 -0.6875 5.953125 -1.3125 5.953125 -1.921875 C 5.953125 -2.78125 5.421875 -3.421875 4.46875 -3.671875 L 2.71875 -4.140625 C 1.875 -4.375 1.5625 -4.640625 1.5625 -5.1875 C 1.5625 -5.890625 2.1875 -6.359375 3.125 -6.359375 C 4.234375 -6.359375 4.859375 -5.859375 4.875 -4.9375 L 5.71875 -4.9375 Z M 5.71875 -4.9375 \"/>\n",
       "</symbol>\n",
       "<symbol overflow=\"visible\" id=\"glyph0-20\">\n",
       "<path style=\"stroke:none;\" d=\"M 0.515625 2.09375 L 1.328125 2.09375 L 1.328125 -0.53125 C 1.75 -0.015625 2.21875 0.21875 2.875 0.21875 C 4.15625 0.21875 5.015625 -0.828125 5.015625 -2.421875 C 5.015625 -4.109375 4.1875 -5.171875 2.859375 -5.171875 C 2.171875 -5.171875 1.625 -4.859375 1.25 -4.265625 L 1.25 -5.03125 L 0.515625 -5.03125 L 0.515625 2.09375 Z M 2.71875 -4.421875 C 3.609375 -4.421875 4.1875 -3.640625 4.1875 -2.453125 C 4.1875 -1.3125 3.59375 -0.53125 2.71875 -0.53125 C 1.875 -0.53125 1.328125 -1.296875 1.328125 -2.46875 C 1.328125 -3.65625 1.875 -4.421875 2.71875 -4.421875 Z M 2.71875 -4.421875 \"/>\n",
       "</symbol>\n",
       "<symbol overflow=\"visible\" id=\"glyph1-0\">\n",
       "<path style=\"stroke:none;\" d=\"\"/>\n",
       "</symbol>\n",
       "<symbol overflow=\"visible\" id=\"glyph1-1\">\n",
       "<path style=\"stroke:none;\" d=\"M 3.421875 0 L 5.828125 -6.28125 L 4.703125 -6.28125 L 2.921875 -1.1875 L 1.25 -6.28125 L 0.125 -6.28125 L 2.328125 0 L 3.421875 0 Z M 3.421875 0 \"/>\n",
       "</symbol>\n",
       "<symbol overflow=\"visible\" id=\"glyph1-2\">\n",
       "<path style=\"stroke:none;\" d=\"M 6.421875 -0.59375 C 6.3125 -0.5625 6.265625 -0.5625 6.203125 -0.5625 C 5.859375 -0.5625 5.65625 -0.75 5.65625 -1.0625 L 5.65625 -4.75 C 5.65625 -5.875 4.84375 -6.46875 3.296875 -6.46875 C 2.390625 -6.46875 1.625 -6.203125 1.21875 -5.734375 C 0.921875 -5.40625 0.796875 -5.046875 0.78125 -4.421875 L 1.78125 -4.421875 C 1.875 -5.203125 2.328125 -5.546875 3.265625 -5.546875 C 4.15625 -5.546875 4.671875 -5.203125 4.671875 -4.609375 L 4.671875 -4.34375 C 4.671875 -3.921875 4.421875 -3.75 3.625 -3.640625 C 2.203125 -3.46875 1.984375 -3.421875 1.609375 -3.265625 C 0.875 -2.96875 0.5 -2.40625 0.5 -1.578125 C 0.5 -0.4375 1.296875 0.28125 2.5625 0.28125 C 3.359375 0.28125 4 0 4.703125 -0.640625 C 4.78125 -0.015625 5.09375 0.28125 5.734375 0.28125 C 5.9375 0.28125 6.09375 0.25 6.421875 0.171875 L 6.421875 -0.59375 Z M 4.671875 -1.984375 C 4.671875 -1.640625 4.578125 -1.4375 4.265625 -1.15625 C 3.859375 -0.796875 3.375 -0.59375 2.78125 -0.59375 C 2 -0.59375 1.546875 -0.96875 1.546875 -1.609375 C 1.546875 -2.265625 1.984375 -2.609375 3.0625 -2.765625 C 4.109375 -2.90625 4.328125 -2.953125 4.671875 -3.109375 L 4.671875 -1.984375 Z M 4.671875 -1.984375 \"/>\n",
       "</symbol>\n",
       "<symbol overflow=\"visible\" id=\"glyph1-3\">\n",
       "<path style=\"stroke:none;\" d=\"M 0.828125 -6.28125 L 0.828125 0 L 1.84375 0 L 1.84375 -3.265625 C 1.84375 -4.15625 2.0625 -4.75 2.546875 -5.09375 C 2.859375 -5.328125 3.15625 -5.40625 3.859375 -5.40625 L 3.859375 -6.4375 C 3.6875 -6.453125 3.59375 -6.46875 3.46875 -6.46875 C 2.8125 -6.46875 2.328125 -6.078125 1.75 -5.140625 L 1.75 -6.28125 L 0.828125 -6.28125 Z M 0.828125 -6.28125 \"/>\n",
       "</symbol>\n",
       "<symbol overflow=\"visible\" id=\"glyph1-4\">\n",
       "<path style=\"stroke:none;\" d=\"M 1.796875 -6.28125 L 0.796875 -6.28125 L 0.796875 0 L 1.796875 0 L 1.796875 -6.28125 Z M 1.796875 -8.75 L 0.796875 -8.75 L 0.796875 -7.484375 L 1.796875 -7.484375 L 1.796875 -8.75 Z M 1.796875 -8.75 \"/>\n",
       "</symbol>\n",
       "<symbol overflow=\"visible\" id=\"glyph1-5\">\n",
       "<path style=\"stroke:none;\" d=\"M 0.640625 -8.75 L 0.640625 0 L 1.546875 0 L 1.546875 -0.796875 C 2.03125 -0.078125 2.65625 0.28125 3.546875 0.28125 C 5.203125 0.28125 6.28125 -1.078125 6.28125 -3.171875 C 6.28125 -5.203125 5.25 -6.46875 3.59375 -6.46875 C 2.71875 -6.46875 2.109375 -6.140625 1.640625 -5.4375 L 1.640625 -8.75 L 0.640625 -8.75 Z M 3.390625 -5.53125 C 4.515625 -5.53125 5.234375 -4.5625 5.234375 -3.0625 C 5.234375 -1.625 4.484375 -0.65625 3.390625 -0.65625 C 2.34375 -0.65625 1.640625 -1.625 1.640625 -3.09375 C 1.640625 -4.578125 2.34375 -5.53125 3.390625 -5.53125 Z M 3.390625 -5.53125 \"/>\n",
       "</symbol>\n",
       "<symbol overflow=\"visible\" id=\"glyph1-6\">\n",
       "<path style=\"stroke:none;\" d=\"M 1.828125 -8.75 L 0.8125 -8.75 L 0.8125 0 L 1.828125 0 L 1.828125 -8.75 Z M 1.828125 -8.75 \"/>\n",
       "</symbol>\n",
       "<symbol overflow=\"visible\" id=\"glyph1-7\">\n",
       "<path style=\"stroke:none;\" d=\"M 6.15625 -2.8125 C 6.15625 -3.765625 6.078125 -4.34375 5.90625 -4.8125 C 5.5 -5.84375 4.53125 -6.46875 3.359375 -6.46875 C 1.609375 -6.46875 0.484375 -5.125 0.484375 -3.0625 C 0.484375 -1 1.578125 0.28125 3.34375 0.28125 C 4.78125 0.28125 5.765625 -0.546875 6.03125 -1.90625 L 5.015625 -1.90625 C 4.734375 -1.078125 4.171875 -0.640625 3.375 -0.640625 C 2.734375 -0.640625 2.203125 -0.9375 1.859375 -1.46875 C 1.625 -1.828125 1.53125 -2.1875 1.53125 -2.8125 L 6.15625 -2.8125 Z M 1.546875 -3.625 C 1.625 -4.78125 2.34375 -5.546875 3.34375 -5.546875 C 4.328125 -5.546875 5.09375 -4.734375 5.09375 -3.703125 C 5.09375 -3.671875 5.09375 -3.640625 5.078125 -3.625 L 1.546875 -3.625 Z M 1.546875 -3.625 \"/>\n",
       "</symbol>\n",
       "<symbol overflow=\"visible\" id=\"glyph2-0\">\n",
       "<path style=\"stroke:none;\" d=\"\"/>\n",
       "</symbol>\n",
       "<symbol overflow=\"visible\" id=\"glyph2-1\">\n",
       "<path style=\"stroke:none;\" d=\"M -4.53125 -5.25 C -5.765625 -5.25 -6.46875 -4.421875 -6.46875 -2.96875 C -6.46875 -1.515625 -5.71875 -0.5625 -4.546875 -0.5625 C -3.5625 -0.5625 -3.09375 -1.0625 -2.734375 -2.5625 L -2.515625 -3.484375 C -2.34375 -4.1875 -2.09375 -4.46875 -1.625 -4.46875 C -1.046875 -4.46875 -0.640625 -3.875 -0.640625 -3 C -0.640625 -2.453125 -0.796875 -2 -1.0625 -1.75 C -1.25 -1.59375 -1.421875 -1.53125 -1.875 -1.46875 L -1.875 -0.40625 C -0.421875 -0.453125 0.28125 -1.265625 0.28125 -2.921875 C 0.28125 -4.5 -0.5 -5.515625 -1.71875 -5.515625 C -2.65625 -5.515625 -3.171875 -4.984375 -3.46875 -3.734375 L -3.703125 -2.765625 C -3.890625 -1.953125 -4.15625 -1.609375 -4.59375 -1.609375 C -5.171875 -1.609375 -5.546875 -2.125 -5.546875 -2.9375 C -5.546875 -3.75 -5.203125 -4.171875 -4.53125 -4.203125 L -4.53125 -5.25 Z M -4.53125 -5.25 \"/>\n",
       "</symbol>\n",
       "<symbol overflow=\"visible\" id=\"glyph2-2\">\n",
       "<path style=\"stroke:none;\" d=\"M -4.171875 -5.65625 C -4.78125 -5.609375 -5.1875 -5.46875 -5.53125 -5.234375 C -6.125 -4.796875 -6.46875 -4.046875 -6.46875 -3.171875 C -6.46875 -1.46875 -5.125 -0.375 -3.03125 -0.375 C -1.015625 -0.375 0.28125 -1.453125 0.28125 -3.15625 C 0.28125 -4.65625 -0.625 -5.609375 -2.15625 -5.71875 L -2.15625 -4.71875 C -1.15625 -4.546875 -0.640625 -4.03125 -0.640625 -3.1875 C -0.640625 -2.078125 -1.546875 -1.421875 -3.03125 -1.421875 C -4.609375 -1.421875 -5.546875 -2.0625 -5.546875 -3.15625 C -5.546875 -4 -5.046875 -4.53125 -4.171875 -4.640625 L -4.171875 -5.65625 Z M -4.171875 -5.65625 \"/>\n",
       "</symbol>\n",
       "<symbol overflow=\"visible\" id=\"glyph2-3\">\n",
       "<path style=\"stroke:none;\" d=\"M -0.59375 -6.421875 C -0.5625 -6.3125 -0.5625 -6.265625 -0.5625 -6.203125 C -0.5625 -5.859375 -0.75 -5.65625 -1.0625 -5.65625 L -4.75 -5.65625 C -5.875 -5.65625 -6.46875 -4.84375 -6.46875 -3.296875 C -6.46875 -2.390625 -6.203125 -1.625 -5.734375 -1.21875 C -5.40625 -0.921875 -5.046875 -0.796875 -4.421875 -0.78125 L -4.421875 -1.78125 C -5.203125 -1.875 -5.546875 -2.328125 -5.546875 -3.265625 C -5.546875 -4.15625 -5.203125 -4.671875 -4.609375 -4.671875 L -4.34375 -4.671875 C -3.921875 -4.671875 -3.75 -4.421875 -3.640625 -3.625 C -3.46875 -2.203125 -3.421875 -1.984375 -3.265625 -1.609375 C -2.96875 -0.875 -2.40625 -0.5 -1.578125 -0.5 C -0.4375 -0.5 0.28125 -1.296875 0.28125 -2.5625 C 0.28125 -3.359375 0 -4 -0.640625 -4.703125 C -0.015625 -4.78125 0.28125 -5.09375 0.28125 -5.734375 C 0.28125 -5.9375 0.25 -6.09375 0.171875 -6.421875 L -0.59375 -6.421875 Z M -1.984375 -4.671875 C -1.640625 -4.671875 -1.4375 -4.578125 -1.15625 -4.265625 C -0.796875 -3.859375 -0.59375 -3.375 -0.59375 -2.78125 C -0.59375 -2 -0.96875 -1.546875 -1.609375 -1.546875 C -2.265625 -1.546875 -2.609375 -1.984375 -2.765625 -3.0625 C -2.90625 -4.109375 -2.953125 -4.328125 -3.109375 -4.671875 L -1.984375 -4.671875 Z M -1.984375 -4.671875 \"/>\n",
       "</symbol>\n",
       "<symbol overflow=\"visible\" id=\"glyph2-4\">\n",
       "<path style=\"stroke:none;\" d=\"M -8.75 -1.828125 L -8.75 -0.8125 L 0 -0.8125 L 0 -1.828125 L -8.75 -1.828125 Z M -8.75 -1.828125 \"/>\n",
       "</symbol>\n",
       "<symbol overflow=\"visible\" id=\"glyph2-5\">\n",
       "<path style=\"stroke:none;\" d=\"M -2.8125 -6.15625 C -3.765625 -6.15625 -4.34375 -6.078125 -4.8125 -5.90625 C -5.84375 -5.5 -6.46875 -4.53125 -6.46875 -3.359375 C -6.46875 -1.609375 -5.125 -0.484375 -3.0625 -0.484375 C -1 -0.484375 0.28125 -1.578125 0.28125 -3.34375 C 0.28125 -4.78125 -0.546875 -5.765625 -1.90625 -6.03125 L -1.90625 -5.015625 C -1.078125 -4.734375 -0.640625 -4.171875 -0.640625 -3.375 C -0.640625 -2.734375 -0.9375 -2.203125 -1.46875 -1.859375 C -1.828125 -1.625 -2.1875 -1.53125 -2.8125 -1.53125 L -2.8125 -6.15625 Z M -3.625 -1.546875 C -4.78125 -1.625 -5.546875 -2.34375 -5.546875 -3.34375 C -5.546875 -4.328125 -4.734375 -5.09375 -3.703125 -5.09375 C -3.671875 -5.09375 -3.640625 -5.09375 -3.625 -5.078125 L -3.625 -1.546875 Z M -3.625 -1.546875 \"/>\n",
       "</symbol>\n",
       "<symbol overflow=\"visible\" id=\"glyph2-6\">\n",
       "<path style=\"stroke:none;\" d=\"M -8.75 -5.9375 L -8.75 -4.9375 L -5.5 -4.9375 C -6.125 -4.53125 -6.46875 -3.859375 -6.46875 -3.015625 C -6.46875 -1.375 -5.15625 -0.3125 -3.15625 -0.3125 C -1.03125 -0.3125 0.28125 -1.359375 0.28125 -3.046875 C 0.28125 -3.90625 -0.046875 -4.515625 -0.828125 -5.046875 L 0 -5.046875 L 0 -5.9375 L -8.75 -5.9375 Z M -5.53125 -3.1875 C -5.53125 -4.265625 -4.578125 -4.9375 -3.078125 -4.9375 C -1.625 -4.9375 -0.65625 -4.25 -0.65625 -3.1875 C -0.65625 -2.09375 -1.625 -1.359375 -3.09375 -1.359375 C -4.5625 -1.359375 -5.53125 -2.09375 -5.53125 -3.1875 Z M -5.53125 -3.1875 \"/>\n",
       "</symbol>\n",
       "<symbol overflow=\"visible\" id=\"glyph2-7\">\n",
       "<path style=\"stroke:none;\" d=\"M 1.515625 -6.9375 L 1.515625 0.265625 L 2.109375 0.265625 L 2.109375 -6.9375 L 1.515625 -6.9375 Z M 1.515625 -6.9375 \"/>\n",
       "</symbol>\n",
       "<symbol overflow=\"visible\" id=\"glyph2-8\">\n",
       "<path style=\"stroke:none;\" d=\"M -6.28125 -1.796875 L -6.28125 -0.796875 L 0 -0.796875 L 0 -1.796875 L -6.28125 -1.796875 Z M -8.75 -1.796875 L -8.75 -0.796875 L -7.484375 -0.796875 L -7.484375 -1.796875 L -8.75 -1.796875 Z M -8.75 -1.796875 \"/>\n",
       "</symbol>\n",
       "<symbol overflow=\"visible\" id=\"glyph2-9\">\n",
       "<path style=\"stroke:none;\" d=\"M -6.28125 -0.84375 L 0 -0.84375 L 0 -1.84375 L -3.953125 -1.84375 C -4.859375 -1.84375 -5.59375 -2.515625 -5.59375 -3.328125 C -5.59375 -4.0625 -5.140625 -4.484375 -4.328125 -4.484375 L 0 -4.484375 L 0 -5.5 L -3.953125 -5.5 C -4.859375 -5.5 -5.59375 -6.15625 -5.59375 -6.96875 C -5.59375 -7.703125 -5.125 -8.140625 -4.328125 -8.140625 L 0 -8.140625 L 0 -9.140625 L -4.71875 -9.140625 C -5.84375 -9.140625 -6.46875 -8.5 -6.46875 -7.3125 C -6.46875 -6.484375 -6.21875 -5.96875 -5.515625 -5.390625 C -6.1875 -5.015625 -6.46875 -4.515625 -6.46875 -3.703125 C -6.46875 -2.859375 -6.15625 -2.296875 -5.40625 -1.765625 L -6.28125 -1.765625 L -6.28125 -0.84375 Z M -6.28125 -0.84375 \"/>\n",
       "</symbol>\n",
       "<symbol overflow=\"visible\" id=\"glyph2-10\">\n",
       "<path style=\"stroke:none;\" d=\"M 2.609375 -0.640625 L 2.609375 -1.65625 L -0.65625 -1.65625 C -0.015625 -2.1875 0.28125 -2.765625 0.28125 -3.59375 C 0.28125 -5.203125 -1.03125 -6.28125 -3.03125 -6.28125 C -5.140625 -6.28125 -6.46875 -5.25 -6.46875 -3.578125 C -6.46875 -2.71875 -6.078125 -2.046875 -5.34375 -1.578125 L -6.28125 -1.578125 L -6.28125 -0.640625 L 2.609375 -0.640625 Z M -5.53125 -3.40625 C -5.53125 -4.515625 -4.5625 -5.234375 -3.0625 -5.234375 C -1.625 -5.234375 -0.65625 -4.5 -0.65625 -3.40625 C -0.65625 -2.359375 -1.625 -1.65625 -3.09375 -1.65625 C -4.578125 -1.65625 -5.53125 -2.359375 -5.53125 -3.40625 Z M -5.53125 -3.40625 \"/>\n",
       "</symbol>\n",
       "<symbol overflow=\"visible\" id=\"glyph2-11\">\n",
       "<path style=\"stroke:none;\" d=\"M -6.46875 -3.265625 C -6.46875 -1.5 -5.203125 -0.4375 -3.09375 -0.4375 C -0.984375 -0.4375 0.28125 -1.484375 0.28125 -3.28125 C 0.28125 -5.046875 -0.984375 -6.125 -3.046875 -6.125 C -5.21875 -6.125 -6.46875 -5.078125 -6.46875 -3.265625 Z M -5.546875 -3.28125 C -5.546875 -4.40625 -4.625 -5.078125 -3.0625 -5.078125 C -1.578125 -5.078125 -0.640625 -4.375 -0.640625 -3.28125 C -0.640625 -2.15625 -1.578125 -1.46875 -3.09375 -1.46875 C -4.609375 -1.46875 -5.546875 -2.15625 -5.546875 -3.28125 Z M -5.546875 -3.28125 \"/>\n",
       "</symbol>\n",
       "<symbol overflow=\"visible\" id=\"glyph2-12\">\n",
       "<path style=\"stroke:none;\" d=\"M -6.28125 -0.828125 L 0 -0.828125 L 0 -1.84375 L -3.265625 -1.84375 C -4.15625 -1.84375 -4.75 -2.0625 -5.09375 -2.546875 C -5.328125 -2.859375 -5.40625 -3.15625 -5.40625 -3.859375 L -6.4375 -3.859375 C -6.453125 -3.6875 -6.46875 -3.59375 -6.46875 -3.46875 C -6.46875 -2.8125 -6.078125 -2.328125 -5.140625 -1.75 L -6.28125 -1.75 L -6.28125 -0.828125 Z M -6.28125 -0.828125 \"/>\n",
       "</symbol>\n",
       "<symbol overflow=\"visible\" id=\"glyph2-13\">\n",
       "<path style=\"stroke:none;\" d=\"M -6.28125 -3.046875 L -6.28125 -2.015625 L -8.015625 -2.015625 L -8.015625 -1.015625 L -6.28125 -1.015625 L -6.28125 -0.171875 L -5.46875 -0.171875 L -5.46875 -1.015625 L -0.71875 -1.015625 C -0.078125 -1.015625 0.28125 -1.453125 0.28125 -2.234375 C 0.28125 -2.46875 0.25 -2.71875 0.1875 -3.046875 L -0.640625 -3.046875 C -0.609375 -2.921875 -0.59375 -2.765625 -0.59375 -2.5625 C -0.59375 -2.140625 -0.71875 -2.015625 -1.15625 -2.015625 L -5.46875 -2.015625 L -5.46875 -3.046875 L -6.28125 -3.046875 Z M -6.28125 -3.046875 \"/>\n",
       "</symbol>\n",
       "<symbol overflow=\"visible\" id=\"glyph2-14\">\n",
       "<path style=\"stroke:none;\" d=\"M -6.28125 -0.84375 L 0 -0.84375 L 0 -1.84375 L -3.46875 -1.84375 C -4.75 -1.84375 -5.59375 -2.515625 -5.59375 -3.546875 C -5.59375 -4.34375 -5.109375 -4.84375 -4.359375 -4.84375 L 0 -4.84375 L 0 -5.84375 L -4.75 -5.84375 C -5.796875 -5.84375 -6.46875 -5.0625 -6.46875 -3.859375 C -6.46875 -2.921875 -6.109375 -2.3125 -5.234375 -1.765625 L -6.28125 -1.765625 L -6.28125 -0.84375 Z M -6.28125 -0.84375 \"/>\n",
       "</symbol>\n",
       "<symbol overflow=\"visible\" id=\"glyph3-0\">\n",
       "<path style=\"stroke:none;\" d=\"\"/>\n",
       "</symbol>\n",
       "<symbol overflow=\"visible\" id=\"glyph3-1\">\n",
       "<path style=\"stroke:none;\" d=\"M 4.84375 -3.515625 C 4.828125 -4.609375 3.984375 -5.265625 2.59375 -5.265625 C 1.28125 -5.265625 0.453125 -4.609375 0.453125 -3.546875 C 0.453125 -3.1875 0.5625 -2.890625 0.75 -2.703125 C 0.9375 -2.515625 1.09375 -2.421875 1.59375 -2.265625 L 3.1875 -1.765625 C 3.53125 -1.65625 3.640625 -1.546875 3.640625 -1.34375 C 3.640625 -1.03125 3.265625 -0.828125 2.640625 -0.828125 C 2.296875 -0.828125 2.03125 -0.90625 1.859375 -1.015625 C 1.703125 -1.125 1.65625 -1.234375 1.59375 -1.5 L 0.28125 -1.5 C 0.3125 -0.375 1.15625 0.21875 2.71875 0.21875 C 3.4375 0.21875 3.984375 0.0625 4.375 -0.234375 C 4.765625 -0.546875 4.984375 -1.03125 4.984375 -1.53125 C 4.984375 -2.203125 4.65625 -2.640625 3.96875 -2.84375 L 2.28125 -3.328125 C 1.90625 -3.4375 1.796875 -3.515625 1.796875 -3.734375 C 1.796875 -4.015625 2.109375 -4.21875 2.578125 -4.21875 C 3.21875 -4.21875 3.546875 -3.984375 3.546875 -3.515625 L 4.84375 -3.515625 Z M 4.84375 -3.515625 \"/>\n",
       "</symbol>\n",
       "<symbol overflow=\"visible\" id=\"glyph3-2\">\n",
       "<path style=\"stroke:none;\" d=\"M 5.015625 -3.25 C 4.90625 -4.515625 4.0625 -5.265625 2.765625 -5.265625 C 1.234375 -5.265625 0.328125 -4.25 0.328125 -2.484375 C 0.328125 -0.78125 1.21875 0.21875 2.75 0.21875 C 4.015625 0.21875 4.890625 -0.5625 5.015625 -1.796875 L 3.71875 -1.796875 C 3.546875 -1.125 3.28125 -0.859375 2.765625 -0.859375 C 2.078125 -0.859375 1.671875 -1.484375 1.671875 -2.484375 C 1.671875 -2.96875 1.765625 -3.4375 1.921875 -3.734375 C 2.078125 -4.03125 2.375 -4.1875 2.765625 -4.1875 C 3.3125 -4.1875 3.5625 -3.921875 3.71875 -3.25 L 5.015625 -3.25 Z M 5.015625 -3.25 \"/>\n",
       "</symbol>\n",
       "<symbol overflow=\"visible\" id=\"glyph3-3\">\n",
       "<path style=\"stroke:none;\" d=\"M 5.03125 -0.15625 C 4.78125 -0.390625 4.71875 -0.53125 4.71875 -0.796875 L 4.71875 -3.671875 C 4.71875 -4.734375 4 -5.265625 2.59375 -5.265625 C 1.203125 -5.265625 0.46875 -4.671875 0.390625 -3.46875 L 1.671875 -3.46875 C 1.75 -4.015625 1.96875 -4.1875 2.625 -4.1875 C 3.140625 -4.1875 3.40625 -4.015625 3.40625 -3.671875 C 3.40625 -3.484375 3.3125 -3.34375 3.171875 -3.265625 C 3 -3.171875 3 -3.171875 2.328125 -3.0625 L 1.796875 -2.96875 C 0.765625 -2.796875 0.265625 -2.265625 0.265625 -1.328125 C 0.265625 -0.890625 0.390625 -0.53125 0.640625 -0.265625 C 0.9375 0.03125 1.375 0.21875 1.84375 0.21875 C 2.421875 0.21875 2.9375 -0.03125 3.421875 -0.515625 C 3.421875 -0.25 3.4375 -0.15625 3.5625 0 L 5.03125 0 L 5.03125 -0.15625 Z M 3.40625 -2.078125 C 3.40625 -1.3125 3.015625 -0.859375 2.34375 -0.859375 C 1.890625 -0.859375 1.609375 -1.109375 1.609375 -1.484375 C 1.609375 -1.890625 1.828125 -2.078125 2.375 -2.203125 L 2.84375 -2.28125 C 3.1875 -2.34375 3.25 -2.375 3.40625 -2.453125 L 3.40625 -2.078125 Z M 3.40625 -2.078125 \"/>\n",
       "</symbol>\n",
       "<symbol overflow=\"visible\" id=\"glyph3-4\">\n",
       "<path style=\"stroke:none;\" d=\"M 1.984375 -7 L 0.640625 -7 L 0.640625 0 L 1.984375 0 L 1.984375 -7 Z M 1.984375 -7 \"/>\n",
       "</symbol>\n",
       "<symbol overflow=\"visible\" id=\"glyph3-5\">\n",
       "<path style=\"stroke:none;\" d=\"M 5.03125 -2.171875 C 5.03125 -2.28125 5.03125 -2.328125 5.03125 -2.390625 C 5.03125 -2.921875 4.953125 -3.390625 4.828125 -3.765625 C 4.484375 -4.703125 3.65625 -5.265625 2.609375 -5.265625 C 1.125 -5.265625 0.21875 -4.1875 0.21875 -2.453125 C 0.21875 -0.796875 1.109375 0.21875 2.578125 0.21875 C 3.734375 0.21875 4.6875 -0.4375 4.984375 -1.453125 L 3.65625 -1.453125 C 3.484375 -1.046875 3.125 -0.8125 2.625 -0.8125 C 2.25 -0.8125 1.9375 -0.96875 1.75 -1.25 C 1.625 -1.453125 1.578125 -1.671875 1.546875 -2.171875 L 5.03125 -2.171875 Z M 1.578125 -3.0625 C 1.65625 -3.84375 2 -4.234375 2.59375 -4.234375 C 2.921875 -4.234375 3.234375 -4.078125 3.421875 -3.8125 C 3.546875 -3.609375 3.609375 -3.421875 3.640625 -3.0625 L 1.578125 -3.0625 Z M 1.578125 -3.0625 \"/>\n",
       "</symbol>\n",
       "<symbol overflow=\"visible\" id=\"glyph3-6\">\n",
       "<path style=\"stroke:none;\" d=\"M 3.890625 0 L 5.234375 0 L 5.234375 -7 L 3.890625 -7 L 3.890625 -4.515625 C 3.546875 -5.03125 3.09375 -5.265625 2.453125 -5.265625 C 1.21875 -5.265625 0.28125 -4.078125 0.28125 -2.515625 C 0.28125 -1.8125 0.484375 -1.109375 0.828125 -0.609375 C 1.1875 -0.109375 1.828125 0.21875 2.453125 0.21875 C 3.09375 0.21875 3.546875 -0.015625 3.890625 -0.53125 L 3.890625 0 Z M 2.75 -4.140625 C 3.4375 -4.140625 3.890625 -3.484375 3.890625 -2.5 C 3.890625 -1.546875 3.421875 -0.90625 2.75 -0.90625 C 2.078125 -0.90625 1.625 -1.5625 1.625 -2.515625 C 1.625 -3.46875 2.078125 -4.140625 2.75 -4.140625 Z M 2.75 -4.140625 \"/>\n",
       "</symbol>\n",
       "<symbol overflow=\"visible\" id=\"glyph3-7\">\n",
       "<path style=\"stroke:none;\" d=\"M 5.546875 1.15625 L -0.21875 1.15625 L -0.21875 1.8125 L 5.546875 1.8125 L 5.546875 1.15625 Z M 5.546875 1.15625 \"/>\n",
       "</symbol>\n",
       "<symbol overflow=\"visible\" id=\"glyph3-8\">\n",
       "<path style=\"stroke:none;\" d=\"M 1.984375 -5.1875 L 0.640625 -5.1875 L 0.640625 0 L 1.984375 0 L 1.984375 -5.1875 Z M 1.984375 -7 L 0.640625 -7 L 0.640625 -5.796875 L 1.984375 -5.796875 L 1.984375 -7 Z M 1.984375 -7 \"/>\n",
       "</symbol>\n",
       "<symbol overflow=\"visible\" id=\"glyph3-9\">\n",
       "<path style=\"stroke:none;\" d=\"M 0.578125 -5.1875 L 0.578125 0 L 1.921875 0 L 1.921875 -3.109375 C 1.921875 -3.734375 2.265625 -4.125 2.84375 -4.125 C 3.296875 -4.125 3.5625 -3.859375 3.5625 -3.453125 L 3.5625 0 L 4.90625 0 L 4.90625 -3.109375 C 4.90625 -3.734375 5.25 -4.125 5.828125 -4.125 C 6.28125 -4.125 6.5625 -3.859375 6.5625 -3.453125 L 6.5625 0 L 7.90625 0 L 7.90625 -3.671875 C 7.90625 -4.671875 7.296875 -5.265625 6.25 -5.265625 C 5.609375 -5.265625 5.140625 -5.03125 4.734375 -4.5 C 4.484375 -4.984375 3.96875 -5.265625 3.328125 -5.265625 C 2.734375 -5.265625 2.34375 -5.0625 1.90625 -4.53125 L 1.90625 -5.1875 L 0.578125 -5.1875 Z M 0.578125 -5.1875 \"/>\n",
       "</symbol>\n",
       "<symbol overflow=\"visible\" id=\"glyph3-10\">\n",
       "<path style=\"stroke:none;\" d=\"M 1.90625 -5.1875 L 0.5625 -5.1875 L 0.5625 2.09375 L 1.90625 2.09375 L 1.90625 -0.609375 C 2.21875 -0.03125 2.6875 0.234375 3.34375 0.234375 C 4.578125 0.234375 5.5 -0.9375 5.5 -2.515625 C 5.5 -3.25 5.296875 -3.96875 4.953125 -4.453125 C 4.609375 -4.9375 3.96875 -5.265625 3.34375 -5.265625 C 2.6875 -5.265625 2.21875 -4.984375 1.90625 -4.40625 L 1.90625 -5.1875 Z M 3.03125 -4.140625 C 3.71875 -4.140625 4.15625 -3.484375 4.15625 -2.5 C 4.15625 -1.546875 3.6875 -0.890625 3.03125 -0.890625 C 2.359375 -0.890625 1.90625 -1.546875 1.90625 -2.515625 C 1.90625 -3.484375 2.359375 -4.140625 3.03125 -4.140625 Z M 3.03125 -4.140625 \"/>\n",
       "</symbol>\n",
       "<symbol overflow=\"visible\" id=\"glyph3-11\">\n",
       "<path style=\"stroke:none;\" d=\"M 2.890625 -5.265625 C 1.3125 -5.265625 0.328125 -4.21875 0.328125 -2.515625 C 0.328125 -0.8125 1.3125 0.21875 2.890625 0.21875 C 4.46875 0.21875 5.453125 -0.828125 5.453125 -2.484375 C 5.453125 -4.234375 4.515625 -5.265625 2.890625 -5.265625 Z M 2.890625 -4.1875 C 3.640625 -4.1875 4.109375 -3.515625 4.109375 -2.5 C 4.109375 -1.53125 3.609375 -0.859375 2.890625 -0.859375 C 2.171875 -0.859375 1.671875 -1.53125 1.671875 -2.515625 C 1.671875 -3.515625 2.171875 -4.1875 2.890625 -4.1875 Z M 2.890625 -4.1875 \"/>\n",
       "</symbol>\n",
       "<symbol overflow=\"visible\" id=\"glyph3-12\">\n",
       "<path style=\"stroke:none;\" d=\"M 0.609375 -5.1875 L 0.609375 0 L 1.953125 0 L 1.953125 -2.75 C 1.953125 -3.546875 2.34375 -3.9375 3.125 -3.9375 C 3.265625 -3.9375 3.375 -3.921875 3.546875 -3.890625 L 3.546875 -5.25 C 3.46875 -5.265625 3.421875 -5.265625 3.390625 -5.265625 C 2.765625 -5.265625 2.234375 -4.859375 1.953125 -4.15625 L 1.953125 -5.1875 L 0.609375 -5.1875 Z M 0.609375 -5.1875 \"/>\n",
       "</symbol>\n",
       "<symbol overflow=\"visible\" id=\"glyph3-13\">\n",
       "<path style=\"stroke:none;\" d=\"M 2.890625 -5.078125 L 2.140625 -5.078125 L 2.140625 -6.46875 L 0.796875 -6.46875 L 0.796875 -5.078125 L 0.140625 -5.078125 L 0.140625 -4.1875 L 0.796875 -4.1875 L 0.796875 -1 C 0.796875 -0.1875 1.234375 0.21875 2.109375 0.21875 C 2.40625 0.21875 2.640625 0.1875 2.890625 0.109375 L 2.890625 -0.828125 C 2.75 -0.8125 2.671875 -0.796875 2.578125 -0.796875 C 2.21875 -0.796875 2.140625 -0.90625 2.140625 -1.359375 L 2.140625 -4.1875 L 2.890625 -4.1875 L 2.890625 -5.078125 Z M 2.890625 -5.078125 \"/>\n",
       "</symbol>\n",
       "<symbol overflow=\"visible\" id=\"glyph3-14\">\n",
       "<path style=\"stroke:none;\" d=\"M 0.609375 -5.1875 L 0.609375 0 L 1.953125 0 L 1.953125 -3.109375 C 1.953125 -3.71875 2.375 -4.125 3.03125 -4.125 C 3.609375 -4.125 3.890625 -3.8125 3.890625 -3.1875 L 3.890625 0 L 5.234375 0 L 5.234375 -3.46875 C 5.234375 -4.609375 4.609375 -5.265625 3.5 -5.265625 C 2.796875 -5.265625 2.328125 -5.015625 1.953125 -4.4375 L 1.953125 -5.1875 L 0.609375 -5.1875 Z M 0.609375 -5.1875 \"/>\n",
       "</symbol>\n",
       "</g>\n",
       "<clipPath id=\"clip1\">\n",
       "  <path d=\"M 0 0 L 505 0 L 505 505 L 0 505 Z M 0 0 \"/>\n",
       "</clipPath>\n",
       "<clipPath id=\"clip2\">\n",
       "  <path d=\"M 49.488281 14.398438 L 371.238281 14.398438 L 371.238281 467.511719 L 49.488281 467.511719 Z M 49.488281 14.398438 \"/>\n",
       "</clipPath>\n",
       "<clipPath id=\"clip3\">\n",
       "  <path d=\"M 0 0 L 505 0 L 505 505 L 0 505 Z M 0 0 \"/>\n",
       "</clipPath>\n",
       "<clipPath id=\"clip4\">\n",
       "  <path d=\"M 0 0 L 505 0 L 505 505 L 0 505 Z M 0 0 \"/>\n",
       "</clipPath>\n",
       "<clipPath id=\"clip5\">\n",
       "  <path d=\"M 0 0 L 505 0 L 505 505 L 0 505 Z M 0 0 \"/>\n",
       "</clipPath>\n",
       "<clipPath id=\"clip6\">\n",
       "  <path d=\"M 0 0 L 505 0 L 505 505 L 0 505 Z M 0 0 \"/>\n",
       "</clipPath>\n",
       "<clipPath id=\"clip7\">\n",
       "  <path d=\"M 0 0 L 505 0 L 505 505 L 0 505 Z M 0 0 \"/>\n",
       "</clipPath>\n",
       "<clipPath id=\"clip8\">\n",
       "  <path d=\"M 0 0 L 505 0 L 505 505 L 0 505 Z M 0 0 \"/>\n",
       "</clipPath>\n",
       "<clipPath id=\"clip9\">\n",
       "  <path d=\"M 0 0 L 505 0 L 505 505 L 0 505 Z M 0 0 \"/>\n",
       "</clipPath>\n",
       "<clipPath id=\"clip10\">\n",
       "  <path d=\"M 0 0 L 505 0 L 505 505 L 0 505 Z M 0 0 \"/>\n",
       "</clipPath>\n",
       "<clipPath id=\"clip11\">\n",
       "  <path d=\"M 384.523438 203.007812 L 401.804688 203.007812 L 401.804688 289.40625 L 384.523438 289.40625 Z M 384.523438 203.007812 \"/>\n",
       "</clipPath>\n",
       "<pattern id=\"pattern0\" patternUnits=\"userSpaceOnUse\" width=\"1\" height=\"20\" patternTransform=\"matrix(17.28,0,0,4.32,384.523386,203.006693)\">\n",
       "  <image width=\"1\" height=\"20\" xlink:href=\"data:image/png;base64,iVBORw0KGgoAAAANSUhEUgAAAAEAAAAUCAYAAABMDlehAAAABmJLR0QA/wD/AP+gvaeTAAAANUlEQVQImWMI3fj9P9PfH18ZmP78+MbA9OfnNyjrL5z15yec+/M7KgtGQLi/4NxfP+DcHwwAkRU6qKsc9voAAAAASUVORK5CYII=\"/>\n",
       "</pattern>\n",
       "<clipPath id=\"clip12\">\n",
       "  <path d=\"M 0 0 L 505 0 L 505 505 L 0 505 Z M 0 0 \"/>\n",
       "</clipPath>\n",
       "<clipPath id=\"clip13\">\n",
       "  <path d=\"M 0 0 L 505 0 L 505 505 L 0 505 Z M 0 0 \"/>\n",
       "</clipPath>\n",
       "<clipPath id=\"clip14\">\n",
       "  <path d=\"M 0 0 L 505 0 L 505 505 L 0 505 Z M 0 0 \"/>\n",
       "</clipPath>\n",
       "</defs>\n",
       "<g id=\"surface0\">\n",
       "<rect x=\"0\" y=\"0\" width=\"504\" height=\"504\" style=\"fill:rgb(100%,100%,100%);fill-opacity:1;stroke:none;\"/>\n",
       "<g clip-path=\"url(#clip1)\" clip-rule=\"nonzero\">\n",
       "<path style=\"fill-rule:nonzero;fill:rgb(100%,100%,100%);fill-opacity:1;stroke-width:1.062992;stroke-linecap:round;stroke-linejoin:round;stroke:rgb(100%,100%,100%);stroke-opacity:1;stroke-miterlimit:10;\" d=\"M 0 504 L 504 504 L 504 0 L 0 0 Z M 0 504 \"/>\n",
       "</g>\n",
       "<g clip-path=\"url(#clip2)\" clip-rule=\"nonzero\">\n",
       "<path style=\" stroke:none;fill-rule:nonzero;fill:rgb(89.803922%,89.803922%,89.803922%);fill-opacity:1;\" d=\"M 49.488281 466.511719 L 370.238281 466.511719 L 370.238281 14.398438 L 49.488281 14.398438 Z M 49.488281 466.511719 \"/>\n",
       "<path style=\"fill:none;stroke-width:0.531496;stroke-linecap:butt;stroke-linejoin:round;stroke:rgb(94.901961%,94.901961%,94.901961%);stroke-opacity:1;stroke-miterlimit:10;\" d=\"M 49.488281 394.585938 L 49.488281 394.585938 L 370.238281 394.585938 \"/>\n",
       "<path style=\"fill:none;stroke-width:0.531496;stroke-linecap:butt;stroke-linejoin:round;stroke:rgb(94.901961%,94.901961%,94.901961%);stroke-opacity:1;stroke-miterlimit:10;\" d=\"M 49.488281 291.832031 L 49.488281 291.832031 L 370.238281 291.832031 \"/>\n",
       "<path style=\"fill:none;stroke-width:0.531496;stroke-linecap:butt;stroke-linejoin:round;stroke:rgb(94.901961%,94.901961%,94.901961%);stroke-opacity:1;stroke-miterlimit:10;\" d=\"M 49.488281 189.082031 L 49.488281 189.082031 L 370.238281 189.082031 \"/>\n",
       "<path style=\"fill:none;stroke-width:0.531496;stroke-linecap:butt;stroke-linejoin:round;stroke:rgb(94.901961%,94.901961%,94.901961%);stroke-opacity:1;stroke-miterlimit:10;\" d=\"M 49.488281 86.328125 L 49.488281 86.328125 L 370.238281 86.328125 \"/>\n",
       "<path style=\"fill:none;stroke-width:1.062992;stroke-linecap:butt;stroke-linejoin:round;stroke:rgb(100%,100%,100%);stroke-opacity:1;stroke-miterlimit:10;\" d=\"M 49.488281 445.960938 L 49.488281 445.960938 L 370.238281 445.960938 \"/>\n",
       "<path style=\"fill:none;stroke-width:1.062992;stroke-linecap:butt;stroke-linejoin:round;stroke:rgb(100%,100%,100%);stroke-opacity:1;stroke-miterlimit:10;\" d=\"M 49.488281 343.210938 L 49.488281 343.210938 L 370.238281 343.210938 \"/>\n",
       "<path style=\"fill:none;stroke-width:1.062992;stroke-linecap:butt;stroke-linejoin:round;stroke:rgb(100%,100%,100%);stroke-opacity:1;stroke-miterlimit:10;\" d=\"M 49.488281 240.457031 L 49.488281 240.457031 L 370.238281 240.457031 \"/>\n",
       "<path style=\"fill:none;stroke-width:1.062992;stroke-linecap:butt;stroke-linejoin:round;stroke:rgb(100%,100%,100%);stroke-opacity:1;stroke-miterlimit:10;\" d=\"M 49.488281 137.703125 L 49.488281 137.703125 L 370.238281 137.703125 \"/>\n",
       "<path style=\"fill:none;stroke-width:1.062992;stroke-linecap:butt;stroke-linejoin:round;stroke:rgb(100%,100%,100%);stroke-opacity:1;stroke-miterlimit:10;\" d=\"M 49.488281 34.949219 L 49.488281 34.949219 L 370.238281 34.949219 \"/>\n",
       "<path style=\"fill:none;stroke-width:1.062992;stroke-linecap:butt;stroke-linejoin:round;stroke:rgb(100%,100%,100%);stroke-opacity:1;stroke-miterlimit:10;\" d=\"M 95.308594 466.511719 L 95.308594 466.511719 L 95.308594 14.398438 \"/>\n",
       "<path style=\"fill:none;stroke-width:1.062992;stroke-linecap:butt;stroke-linejoin:round;stroke:rgb(100%,100%,100%);stroke-opacity:1;stroke-miterlimit:10;\" d=\"M 171.675781 466.511719 L 171.675781 466.511719 L 171.675781 14.398438 \"/>\n",
       "<path style=\"fill:none;stroke-width:1.062992;stroke-linecap:butt;stroke-linejoin:round;stroke:rgb(100%,100%,100%);stroke-opacity:1;stroke-miterlimit:10;\" d=\"M 248.046875 466.511719 L 248.046875 466.511719 L 248.046875 14.398438 \"/>\n",
       "<path style=\"fill:none;stroke-width:1.062992;stroke-linecap:butt;stroke-linejoin:round;stroke:rgb(100%,100%,100%);stroke-opacity:1;stroke-miterlimit:10;\" d=\"M 324.414062 466.511719 L 324.414062 466.511719 L 324.414062 14.398438 \"/>\n",
       "<path style=\" stroke:none;fill-rule:nonzero;fill:rgb(23.921569%,49.411765%,70.196078%);fill-opacity:1;\" d=\"M 60.941406 445.960938 L 129.671875 445.960938 L 129.671875 171.816406 L 60.941406 171.816406 Z M 60.941406 445.960938 \"/>\n",
       "<path style=\" stroke:none;fill-rule:nonzero;fill:rgb(33.333333%,69.411765%,96.862745%);fill-opacity:1;\" d=\"M 137.3125 445.960938 L 206.042969 445.960938 L 206.042969 34.949219 L 137.3125 34.949219 Z M 137.3125 445.960938 \"/>\n",
       "<path style=\" stroke:none;fill-rule:nonzero;fill:rgb(9.411765%,21.176471%,32.156863%);fill-opacity:1;\" d=\"M 213.679688 445.960938 L 282.410156 445.960938 L 282.410156 390.832031 L 213.679688 390.832031 Z M 213.679688 445.960938 \"/>\n",
       "<path style=\" stroke:none;fill-rule:nonzero;fill:rgb(7.45098%,16.862745%,26.27451%);fill-opacity:1;\" d=\"M 290.050781 445.960938 L 358.78125 445.960938 L 358.78125 428.828125 L 290.050781 428.828125 Z M 290.050781 445.960938 \"/>\n",
       "</g>\n",
       "<g clip-path=\"url(#clip3)\" clip-rule=\"nonzero\">\n",
       "<g style=\"fill:rgb(49.803922%,49.803922%,49.803922%);fill-opacity:1;\">\n",
       "  <use xlink:href=\"#glyph0-1\" x=\"23.398438\" y=\"448.608398\"/>\n",
       "  <use xlink:href=\"#glyph0-2\" x=\"28.732422\" y=\"448.608398\"/>\n",
       "  <use xlink:href=\"#glyph0-1\" x=\"31.399414\" y=\"448.608398\"/>\n",
       "  <use xlink:href=\"#glyph0-1\" x=\"36.733398\" y=\"448.608398\"/>\n",
       "</g>\n",
       "<g style=\"fill:rgb(49.803922%,49.803922%,49.803922%);fill-opacity:1;\">\n",
       "  <use xlink:href=\"#glyph0-1\" x=\"23.398438\" y=\"345.858398\"/>\n",
       "  <use xlink:href=\"#glyph0-2\" x=\"28.732422\" y=\"345.858398\"/>\n",
       "  <use xlink:href=\"#glyph0-3\" x=\"31.399414\" y=\"345.858398\"/>\n",
       "  <use xlink:href=\"#glyph0-4\" x=\"36.733398\" y=\"345.858398\"/>\n",
       "</g>\n",
       "<g style=\"fill:rgb(49.803922%,49.803922%,49.803922%);fill-opacity:1;\">\n",
       "  <use xlink:href=\"#glyph0-1\" x=\"23.398438\" y=\"243.104492\"/>\n",
       "  <use xlink:href=\"#glyph0-2\" x=\"28.732422\" y=\"243.104492\"/>\n",
       "  <use xlink:href=\"#glyph0-4\" x=\"31.399414\" y=\"243.104492\"/>\n",
       "  <use xlink:href=\"#glyph0-1\" x=\"36.733398\" y=\"243.104492\"/>\n",
       "</g>\n",
       "<g style=\"fill:rgb(49.803922%,49.803922%,49.803922%);fill-opacity:1;\">\n",
       "  <use xlink:href=\"#glyph0-1\" x=\"23.398438\" y=\"140.350586\"/>\n",
       "  <use xlink:href=\"#glyph0-2\" x=\"28.732422\" y=\"140.350586\"/>\n",
       "  <use xlink:href=\"#glyph0-5\" x=\"31.399414\" y=\"140.350586\"/>\n",
       "  <use xlink:href=\"#glyph0-4\" x=\"36.733398\" y=\"140.350586\"/>\n",
       "</g>\n",
       "<g style=\"fill:rgb(49.803922%,49.803922%,49.803922%);fill-opacity:1;\">\n",
       "  <use xlink:href=\"#glyph0-6\" x=\"23.398438\" y=\"37.59668\"/>\n",
       "  <use xlink:href=\"#glyph0-2\" x=\"28.732422\" y=\"37.59668\"/>\n",
       "  <use xlink:href=\"#glyph0-1\" x=\"31.399414\" y=\"37.59668\"/>\n",
       "  <use xlink:href=\"#glyph0-1\" x=\"36.733398\" y=\"37.59668\"/>\n",
       "</g>\n",
       "</g>\n",
       "<g clip-path=\"url(#clip4)\" clip-rule=\"nonzero\">\n",
       "<path style=\"fill:none;stroke-width:1.062992;stroke-linecap:butt;stroke-linejoin:round;stroke:rgb(49.803922%,49.803922%,49.803922%);stroke-opacity:1;stroke-miterlimit:10;\" d=\"M 45.234375 445.960938 L 45.234375 445.960938 L 49.488281 445.960938 \"/>\n",
       "<path style=\"fill:none;stroke-width:1.062992;stroke-linecap:butt;stroke-linejoin:round;stroke:rgb(49.803922%,49.803922%,49.803922%);stroke-opacity:1;stroke-miterlimit:10;\" d=\"M 45.234375 343.210938 L 45.234375 343.210938 L 49.488281 343.210938 \"/>\n",
       "<path style=\"fill:none;stroke-width:1.062992;stroke-linecap:butt;stroke-linejoin:round;stroke:rgb(49.803922%,49.803922%,49.803922%);stroke-opacity:1;stroke-miterlimit:10;\" d=\"M 45.234375 240.457031 L 45.234375 240.457031 L 49.488281 240.457031 \"/>\n",
       "<path style=\"fill:none;stroke-width:1.062992;stroke-linecap:butt;stroke-linejoin:round;stroke:rgb(49.803922%,49.803922%,49.803922%);stroke-opacity:1;stroke-miterlimit:10;\" d=\"M 45.234375 137.703125 L 45.234375 137.703125 L 49.488281 137.703125 \"/>\n",
       "<path style=\"fill:none;stroke-width:1.062992;stroke-linecap:butt;stroke-linejoin:round;stroke:rgb(49.803922%,49.803922%,49.803922%);stroke-opacity:1;stroke-miterlimit:10;\" d=\"M 45.234375 34.949219 L 45.234375 34.949219 L 49.488281 34.949219 \"/>\n",
       "</g>\n",
       "<g clip-path=\"url(#clip5)\" clip-rule=\"nonzero\">\n",
       "<path style=\"fill:none;stroke-width:1.062992;stroke-linecap:butt;stroke-linejoin:round;stroke:rgb(49.803922%,49.803922%,49.803922%);stroke-opacity:1;stroke-miterlimit:10;\" d=\"M 95.308594 470.765625 L 95.308594 470.765625 L 95.308594 466.511719 \"/>\n",
       "<path style=\"fill:none;stroke-width:1.062992;stroke-linecap:butt;stroke-linejoin:round;stroke:rgb(49.803922%,49.803922%,49.803922%);stroke-opacity:1;stroke-miterlimit:10;\" d=\"M 171.675781 470.765625 L 171.675781 470.765625 L 171.675781 466.511719 \"/>\n",
       "<path style=\"fill:none;stroke-width:1.062992;stroke-linecap:butt;stroke-linejoin:round;stroke:rgb(49.803922%,49.803922%,49.803922%);stroke-opacity:1;stroke-miterlimit:10;\" d=\"M 248.046875 470.765625 L 248.046875 470.765625 L 248.046875 466.511719 \"/>\n",
       "<path style=\"fill:none;stroke-width:1.062992;stroke-linecap:butt;stroke-linejoin:round;stroke:rgb(49.803922%,49.803922%,49.803922%);stroke-opacity:1;stroke-miterlimit:10;\" d=\"M 324.414062 470.765625 L 324.414062 470.765625 L 324.414062 466.511719 \"/>\n",
       "</g>\n",
       "<g clip-path=\"url(#clip6)\" clip-rule=\"nonzero\">\n",
       "<g style=\"fill:rgb(49.803922%,49.803922%,49.803922%);fill-opacity:1;\">\n",
       "  <use xlink:href=\"#glyph0-7\" x=\"68.308594\" y=\"479.749023\"/>\n",
       "  <use xlink:href=\"#glyph0-8\" x=\"74.708008\" y=\"479.749023\"/>\n",
       "  <use xlink:href=\"#glyph0-9\" x=\"80.041992\" y=\"479.749023\"/>\n",
       "  <use xlink:href=\"#glyph0-10\" x=\"82.708984\" y=\"479.749023\"/>\n",
       "  <use xlink:href=\"#glyph0-11\" x=\"88.042969\" y=\"479.749023\"/>\n",
       "  <use xlink:href=\"#glyph0-2\" x=\"90.172852\" y=\"479.749023\"/>\n",
       "  <use xlink:href=\"#glyph0-12\" x=\"92.839844\" y=\"479.749023\"/>\n",
       "  <use xlink:href=\"#glyph0-8\" x=\"98.173828\" y=\"479.749023\"/>\n",
       "  <use xlink:href=\"#glyph0-13\" x=\"103.507812\" y=\"479.749023\"/>\n",
       "  <use xlink:href=\"#glyph0-14\" x=\"108.841797\" y=\"479.749023\"/>\n",
       "  <use xlink:href=\"#glyph0-9\" x=\"114.175781\" y=\"479.749023\"/>\n",
       "  <use xlink:href=\"#glyph0-15\" x=\"116.842773\" y=\"479.749023\"/>\n",
       "</g>\n",
       "<g style=\"fill:rgb(49.803922%,49.803922%,49.803922%);fill-opacity:1;\">\n",
       "  <use xlink:href=\"#glyph0-7\" x=\"146.675781\" y=\"479.749023\"/>\n",
       "  <use xlink:href=\"#glyph0-8\" x=\"153.075195\" y=\"479.749023\"/>\n",
       "  <use xlink:href=\"#glyph0-9\" x=\"158.40918\" y=\"479.749023\"/>\n",
       "  <use xlink:href=\"#glyph0-10\" x=\"161.076172\" y=\"479.749023\"/>\n",
       "  <use xlink:href=\"#glyph0-11\" x=\"166.410156\" y=\"479.749023\"/>\n",
       "  <use xlink:href=\"#glyph0-2\" x=\"168.540039\" y=\"479.749023\"/>\n",
       "  <use xlink:href=\"#glyph0-16\" x=\"171.207031\" y=\"479.749023\"/>\n",
       "  <use xlink:href=\"#glyph0-17\" x=\"180.263672\" y=\"479.749023\"/>\n",
       "  <use xlink:href=\"#glyph0-18\" x=\"182.393555\" y=\"479.749023\"/>\n",
       "  <use xlink:href=\"#glyph0-9\" x=\"187.727539\" y=\"479.749023\"/>\n",
       "  <use xlink:href=\"#glyph0-15\" x=\"190.394531\" y=\"479.749023\"/>\n",
       "</g>\n",
       "<g style=\"fill:rgb(49.803922%,49.803922%,49.803922%);fill-opacity:1;\">\n",
       "  <use xlink:href=\"#glyph0-19\" x=\"219.546875\" y=\"479.749023\"/>\n",
       "  <use xlink:href=\"#glyph0-8\" x=\"225.946289\" y=\"479.749023\"/>\n",
       "  <use xlink:href=\"#glyph0-20\" x=\"231.280273\" y=\"479.749023\"/>\n",
       "  <use xlink:href=\"#glyph0-10\" x=\"236.614258\" y=\"479.749023\"/>\n",
       "  <use xlink:href=\"#glyph0-11\" x=\"241.948242\" y=\"479.749023\"/>\n",
       "  <use xlink:href=\"#glyph0-2\" x=\"244.078125\" y=\"479.749023\"/>\n",
       "  <use xlink:href=\"#glyph0-12\" x=\"246.745117\" y=\"479.749023\"/>\n",
       "  <use xlink:href=\"#glyph0-8\" x=\"252.079102\" y=\"479.749023\"/>\n",
       "  <use xlink:href=\"#glyph0-13\" x=\"257.413086\" y=\"479.749023\"/>\n",
       "  <use xlink:href=\"#glyph0-14\" x=\"262.74707\" y=\"479.749023\"/>\n",
       "  <use xlink:href=\"#glyph0-9\" x=\"268.081055\" y=\"479.749023\"/>\n",
       "  <use xlink:href=\"#glyph0-15\" x=\"270.748047\" y=\"479.749023\"/>\n",
       "</g>\n",
       "<g style=\"fill:rgb(49.803922%,49.803922%,49.803922%);fill-opacity:1;\">\n",
       "  <use xlink:href=\"#glyph0-19\" x=\"298.414062\" y=\"479.749023\"/>\n",
       "  <use xlink:href=\"#glyph0-8\" x=\"304.813477\" y=\"479.749023\"/>\n",
       "  <use xlink:href=\"#glyph0-20\" x=\"310.147461\" y=\"479.749023\"/>\n",
       "  <use xlink:href=\"#glyph0-10\" x=\"315.481445\" y=\"479.749023\"/>\n",
       "  <use xlink:href=\"#glyph0-11\" x=\"320.81543\" y=\"479.749023\"/>\n",
       "  <use xlink:href=\"#glyph0-2\" x=\"322.945312\" y=\"479.749023\"/>\n",
       "  <use xlink:href=\"#glyph0-16\" x=\"325.612305\" y=\"479.749023\"/>\n",
       "  <use xlink:href=\"#glyph0-17\" x=\"334.668945\" y=\"479.749023\"/>\n",
       "  <use xlink:href=\"#glyph0-18\" x=\"336.798828\" y=\"479.749023\"/>\n",
       "  <use xlink:href=\"#glyph0-9\" x=\"342.132812\" y=\"479.749023\"/>\n",
       "  <use xlink:href=\"#glyph0-15\" x=\"344.799805\" y=\"479.749023\"/>\n",
       "</g>\n",
       "</g>\n",
       "<g clip-path=\"url(#clip7)\" clip-rule=\"nonzero\">\n",
       "<g style=\"fill:rgb(0%,0%,0%);fill-opacity:1;\">\n",
       "  <use xlink:href=\"#glyph1-1\" x=\"188.363281\" y=\"492.634766\"/>\n",
       "  <use xlink:href=\"#glyph1-2\" x=\"194.363281\" y=\"492.634766\"/>\n",
       "  <use xlink:href=\"#glyph1-3\" x=\"201.035156\" y=\"492.634766\"/>\n",
       "  <use xlink:href=\"#glyph1-4\" x=\"205.03125\" y=\"492.634766\"/>\n",
       "  <use xlink:href=\"#glyph1-2\" x=\"207.695312\" y=\"492.634766\"/>\n",
       "  <use xlink:href=\"#glyph1-5\" x=\"214.367188\" y=\"492.634766\"/>\n",
       "  <use xlink:href=\"#glyph1-6\" x=\"221.039062\" y=\"492.634766\"/>\n",
       "  <use xlink:href=\"#glyph1-7\" x=\"223.703125\" y=\"492.634766\"/>\n",
       "</g>\n",
       "</g>\n",
       "<g clip-path=\"url(#clip8)\" clip-rule=\"nonzero\">\n",
       "<g style=\"fill:rgb(0%,0%,0%);fill-opacity:1;\">\n",
       "  <use xlink:href=\"#glyph2-1\" x=\"19.236328\" y=\"290.957031\"/>\n",
       "  <use xlink:href=\"#glyph2-2\" x=\"19.236328\" y=\"284.957031\"/>\n",
       "  <use xlink:href=\"#glyph2-3\" x=\"19.236328\" y=\"278.957031\"/>\n",
       "  <use xlink:href=\"#glyph2-4\" x=\"19.236328\" y=\"272.285156\"/>\n",
       "  <use xlink:href=\"#glyph2-5\" x=\"19.236328\" y=\"269.621094\"/>\n",
       "  <use xlink:href=\"#glyph2-6\" x=\"19.236328\" y=\"262.949219\"/>\n",
       "  <use xlink:href=\"#glyph2-7\" x=\"19.236328\" y=\"256.277344\"/>\n",
       "  <use xlink:href=\"#glyph2-8\" x=\"19.236328\" y=\"249.605469\"/>\n",
       "  <use xlink:href=\"#glyph2-9\" x=\"19.236328\" y=\"246.941406\"/>\n",
       "  <use xlink:href=\"#glyph2-10\" x=\"19.236328\" y=\"236.945312\"/>\n",
       "  <use xlink:href=\"#glyph2-11\" x=\"19.236328\" y=\"230.273438\"/>\n",
       "  <use xlink:href=\"#glyph2-12\" x=\"19.236328\" y=\"223.601562\"/>\n",
       "  <use xlink:href=\"#glyph2-13\" x=\"19.236328\" y=\"219.605469\"/>\n",
       "  <use xlink:href=\"#glyph2-3\" x=\"19.236328\" y=\"216.269531\"/>\n",
       "  <use xlink:href=\"#glyph2-14\" x=\"19.236328\" y=\"209.597656\"/>\n",
       "  <use xlink:href=\"#glyph2-2\" x=\"19.236328\" y=\"202.925781\"/>\n",
       "  <use xlink:href=\"#glyph2-5\" x=\"19.236328\" y=\"196.925781\"/>\n",
       "</g>\n",
       "</g>\n",
       "<g clip-path=\"url(#clip9)\" clip-rule=\"nonzero\">\n",
       "<path style=\" stroke:none;fill-rule:nonzero;fill:rgb(100%,100%,100%);fill-opacity:1;\" d=\"M 380.269531 293.660156 L 479.5625 293.660156 L 479.5625 187.257812 L 380.269531 187.257812 Z M 380.269531 293.660156 \"/>\n",
       "</g>\n",
       "<g clip-path=\"url(#clip10)\" clip-rule=\"nonzero\">\n",
       "<g clip-path=\"url(#clip11)\" clip-rule=\"nonzero\">\n",
       "<rect x=\"0\" y=\"0\" width=\"504\" height=\"504\" style=\"fill:url(#pattern0);stroke:none;\"/>\n",
       "</g>\n",
       "</g>\n",
       "<g clip-path=\"url(#clip12)\" clip-rule=\"nonzero\">\n",
       "<g style=\"fill:rgb(0%,0%,0%);fill-opacity:1;\">\n",
       "  <use xlink:href=\"#glyph0-1\" x=\"406.125\" y=\"272.612305\"/>\n",
       "  <use xlink:href=\"#glyph0-2\" x=\"411.458984\" y=\"272.612305\"/>\n",
       "  <use xlink:href=\"#glyph0-3\" x=\"414.125977\" y=\"272.612305\"/>\n",
       "  <use xlink:href=\"#glyph0-4\" x=\"419.459961\" y=\"272.612305\"/>\n",
       "</g>\n",
       "<g style=\"fill:rgb(0%,0%,0%);fill-opacity:1;\">\n",
       "  <use xlink:href=\"#glyph0-1\" x=\"406.125\" y=\"251.014648\"/>\n",
       "  <use xlink:href=\"#glyph0-2\" x=\"411.458984\" y=\"251.014648\"/>\n",
       "  <use xlink:href=\"#glyph0-4\" x=\"414.125977\" y=\"251.014648\"/>\n",
       "  <use xlink:href=\"#glyph0-1\" x=\"419.459961\" y=\"251.014648\"/>\n",
       "</g>\n",
       "<g style=\"fill:rgb(0%,0%,0%);fill-opacity:1;\">\n",
       "  <use xlink:href=\"#glyph0-1\" x=\"406.125\" y=\"229.413086\"/>\n",
       "  <use xlink:href=\"#glyph0-2\" x=\"411.458984\" y=\"229.413086\"/>\n",
       "  <use xlink:href=\"#glyph0-5\" x=\"414.125977\" y=\"229.413086\"/>\n",
       "  <use xlink:href=\"#glyph0-4\" x=\"419.459961\" y=\"229.413086\"/>\n",
       "</g>\n",
       "<g style=\"fill:rgb(0%,0%,0%);fill-opacity:1;\">\n",
       "  <use xlink:href=\"#glyph0-6\" x=\"406.125\" y=\"207.81543\"/>\n",
       "  <use xlink:href=\"#glyph0-2\" x=\"411.458984\" y=\"207.81543\"/>\n",
       "  <use xlink:href=\"#glyph0-1\" x=\"414.125977\" y=\"207.81543\"/>\n",
       "  <use xlink:href=\"#glyph0-1\" x=\"419.459961\" y=\"207.81543\"/>\n",
       "</g>\n",
       "</g>\n",
       "<g clip-path=\"url(#clip13)\" clip-rule=\"nonzero\">\n",
       "<g style=\"fill:rgb(0%,0%,0%);fill-opacity:1;\">\n",
       "  <use xlink:href=\"#glyph3-1\" x=\"384.523438\" y=\"197.995117\"/>\n",
       "  <use xlink:href=\"#glyph3-2\" x=\"389.857422\" y=\"197.995117\"/>\n",
       "  <use xlink:href=\"#glyph3-3\" x=\"395.191406\" y=\"197.995117\"/>\n",
       "  <use xlink:href=\"#glyph3-4\" x=\"400.525391\" y=\"197.995117\"/>\n",
       "  <use xlink:href=\"#glyph3-5\" x=\"403.192383\" y=\"197.995117\"/>\n",
       "  <use xlink:href=\"#glyph3-6\" x=\"408.526367\" y=\"197.995117\"/>\n",
       "  <use xlink:href=\"#glyph3-7\" x=\"414.387695\" y=\"197.995117\"/>\n",
       "  <use xlink:href=\"#glyph3-8\" x=\"419.72168\" y=\"197.995117\"/>\n",
       "  <use xlink:href=\"#glyph3-9\" x=\"422.388672\" y=\"197.995117\"/>\n",
       "  <use xlink:href=\"#glyph3-10\" x=\"430.917969\" y=\"197.995117\"/>\n",
       "  <use xlink:href=\"#glyph3-11\" x=\"436.779297\" y=\"197.995117\"/>\n",
       "  <use xlink:href=\"#glyph3-12\" x=\"442.640625\" y=\"197.995117\"/>\n",
       "  <use xlink:href=\"#glyph3-13\" x=\"446.373047\" y=\"197.995117\"/>\n",
       "  <use xlink:href=\"#glyph3-3\" x=\"449.567383\" y=\"197.995117\"/>\n",
       "  <use xlink:href=\"#glyph3-14\" x=\"454.901367\" y=\"197.995117\"/>\n",
       "  <use xlink:href=\"#glyph3-2\" x=\"460.762695\" y=\"197.995117\"/>\n",
       "  <use xlink:href=\"#glyph3-5\" x=\"466.09668\" y=\"197.995117\"/>\n",
       "</g>\n",
       "</g>\n",
       "<g clip-path=\"url(#clip14)\" clip-rule=\"nonzero\">\n",
       "<path style=\"fill:none;stroke-width:0.375;stroke-linecap:butt;stroke-linejoin:round;stroke:rgb(100%,100%,100%);stroke-opacity:1;stroke-miterlimit:10;\" d=\"M 384.523438 269.964844 L 387.980469 269.964844 \"/>\n",
       "<path style=\"fill:none;stroke-width:0.375;stroke-linecap:butt;stroke-linejoin:round;stroke:rgb(100%,100%,100%);stroke-opacity:1;stroke-miterlimit:10;\" d=\"M 384.523438 248.367188 L 387.980469 248.367188 \"/>\n",
       "<path style=\"fill:none;stroke-width:0.375;stroke-linecap:butt;stroke-linejoin:round;stroke:rgb(100%,100%,100%);stroke-opacity:1;stroke-miterlimit:10;\" d=\"M 384.523438 226.765625 L 387.980469 226.765625 \"/>\n",
       "<path style=\"fill:none;stroke-width:0.375;stroke-linecap:butt;stroke-linejoin:round;stroke:rgb(100%,100%,100%);stroke-opacity:1;stroke-miterlimit:10;\" d=\"M 384.523438 205.167969 L 387.980469 205.167969 \"/>\n",
       "<path style=\"fill:none;stroke-width:0.375;stroke-linecap:butt;stroke-linejoin:round;stroke:rgb(100%,100%,100%);stroke-opacity:1;stroke-miterlimit:10;\" d=\"M 398.347656 269.964844 L 401.804688 269.964844 \"/>\n",
       "<path style=\"fill:none;stroke-width:0.375;stroke-linecap:butt;stroke-linejoin:round;stroke:rgb(100%,100%,100%);stroke-opacity:1;stroke-miterlimit:10;\" d=\"M 398.347656 248.367188 L 401.804688 248.367188 \"/>\n",
       "<path style=\"fill:none;stroke-width:0.375;stroke-linecap:butt;stroke-linejoin:round;stroke:rgb(100%,100%,100%);stroke-opacity:1;stroke-miterlimit:10;\" d=\"M 398.347656 226.765625 L 401.804688 226.765625 \"/>\n",
       "<path style=\"fill:none;stroke-width:0.375;stroke-linecap:butt;stroke-linejoin:round;stroke:rgb(100%,100%,100%);stroke-opacity:1;stroke-miterlimit:10;\" d=\"M 398.347656 205.167969 L 401.804688 205.167969 \"/>\n",
       "</g>\n",
       "</g>\n",
       "</svg>\n"
      ],
      "text/plain": [
       "plot without title"
      ]
     },
     "metadata": {
      "image/svg+xml": {
       "isolated": true
      }
     },
     "output_type": "display_data"
    }
   ],
   "source": [
    "library(ggplot2)\n",
    "     \n",
    "ggplot(rf_varimp_h2o, aes(x = variable\n",
    "                          ,y = scaled_importance\n",
    "                          ,fill = scaled_importance) ) +\n",
    "geom_bar(stat = 'identity')\n"
   ]
  },
  {
   "cell_type": "code",
   "execution_count": 11,
   "metadata": {
    "collapsed": false
   },
   "outputs": [
    {
     "data": {
      "text/html": [
       "TRUE"
      ],
      "text/latex": [
       "TRUE"
      ],
      "text/markdown": [
       "TRUE"
      ],
      "text/plain": [
       "[1] TRUE"
      ]
     },
     "execution_count": 11,
     "metadata": {},
     "output_type": "execute_result"
    }
   ],
   "source": [
    "h2o.shutdown(my_h2o\n",
    "             ,prompt = F)"
   ]
  },
  {
   "cell_type": "markdown",
   "metadata": {},
   "source": [
    "Distributed H2O\n",
    "===\n",
    "Say you want to run a _distributed_ job because your data lives in HDFS, or you just need more computing resources.  This can be done, but first requires a few steps from the command line. For details on this method, check [here](https://wss.opr.statefarm.org/sites/WSS003733/wiki/Pages/0xdata%20h2o.aspx).\n",
    "\n",
    "\n",
    "Alternatively, I have created a helper script that does this for you. \n",
    "\n",
    "First, consider the memory requirements for your job, then appropriately tweak the parameters in the helper script to specify the number of nodes and size of each node.  Once you have these parameters set, save the script so it can be `source()`'d.\n",
    "\n",
    "Thanks to Hades' three-headed hellhound Kerberos, you next need to `kdestroy; kinit` on the edge node."
   ]
  },
  {
   "cell_type": "code",
   "execution_count": 12,
   "metadata": {
    "collapsed": false
   },
   "outputs": [
    {
     "name": "stderr",
     "output_type": "stream",
     "text": [
      "Warning message:\n",
      "In file.remove(\"h2o_launch.log\", showWarnings = F): cannot remove file 'h2o_launch.log', reason 'No such file or directory'Warning message:\n",
      "In file.remove(\"h2o_launch.log\", showWarnings = F): cannot remove file 'FALSE', reason 'No such file or directory'Warning message:\n",
      "In readLines(\"h2o_launch.log\"): incomplete final line found on 'h2o_launch.log'Warning message:\n",
      "In readLines(\"h2o_launch.log\"): incomplete final line found on 'h2o_launch.log'Warning message:\n",
      "In file.remove(\"h2o_launch.log\", showWarnings = F): cannot remove file 'FALSE', reason 'No such file or directory'"
     ]
    },
    {
     "name": "stdout",
     "output_type": "stream",
     "text": [
      "Successfully connected to http://10.96.242.234:54321/ \n",
      "\n",
      "R is connected to the H2O cluster: \n",
      "    H2O cluster uptime:         10 seconds 449 milliseconds \n",
      "    H2O cluster version:        3.0.1.7 \n",
      "    H2O cluster name:           H2O_51003 \n",
      "    H2O cluster total nodes:    8 \n",
      "    H2O cluster total memory:   30.67 GB \n",
      "    H2O cluster total cores:    320 \n",
      "    H2O cluster allowed cores:  320 \n",
      "    H2O cluster healthy:        TRUE \n",
      "\n"
     ]
    }
   ],
   "source": [
    "source('h2o_make_cluster.R')"
   ]
  },
  {
   "cell_type": "markdown",
   "metadata": {},
   "source": [
    "The helper script gives us an R object `my_h2o`, as before.  This time, it points at an h2o vm distributed to the specified specs across the cluster.\n",
    "Read data from HDFS\n",
    "===\n",
    "(Note that the cell below will only run if you have access to the secanlty HDFS folder.  Substitute in your own HDFS file path)"
   ]
  },
  {
   "cell_type": "code",
   "execution_count": 13,
   "metadata": {
    "collapsed": false
   },
   "outputs": [
    {
     "name": "stdout",
     "output_type": "stream",
     "text": [
      "\r",
      "  |                                                                            \r",
      "  |                                                                      |   0%\r",
      "  |                                                                            \r",
      "  |====================================                                  |  51%\r",
      "  |                                                                            \r",
      "  |======================================================================| 100%\n"
     ]
    }
   ],
   "source": [
    "h2o_data <- h2o.importFolder(my_h2o\n",
    "                             ,path = 'hdfs://10.96.242.156/data/discovery/secanlty/derived/firewall_with_action/part-m-00001'\n",
    "                             ,header = F )"
   ]
  },
  {
   "cell_type": "markdown",
   "metadata": {},
   "source": [
    "By reading data in this fashion, we bypass the R \"bottleneck\" and read directly into the distributed H2O VM."
   ]
  },
  {
   "cell_type": "code",
   "execution_count": 14,
   "metadata": {
    "collapsed": false
   },
   "outputs": [
    {
     "data": {
      "text/html": [
       "<table>\n",
       "<thead><tr><th></th><th scope=col>C1</th><th scope=col>C2</th><th scope=col>C3</th><th scope=col>C4</th><th scope=col>C5</th><th scope=col>C6</th><th scope=col>C7</th><th scope=col>C8</th><th scope=col>C9</th><th scope=col>C10</th><th scope=col>C11</th><th scope=col>C12</th><th scope=col>C13</th></tr></thead>\n",
       "<tbody>\n",
       "\t<tr><th scope=row>1</th><td>2014-09-09T12:49:06.000Z</td><td>fw74cspec</td><td>denied</td><td>udp</td><td>10.96.3.201</td><td>53</td><td>192.168.101.100</td><td>62625</td><td>dn74int00.statefarm.org.</td><td>NA</td><td>NA</td><td>dns</td><td>1</td></tr>\n",
       "\t<tr><th scope=row>2</th><td>2014-09-09T13:20:37.000Z</td><td>fw74cspec</td><td>denied</td><td>udp</td><td>10.96.3.201</td><td>53</td><td>192.168.101.100</td><td>60362</td><td>dn74int00.statefarm.org.</td><td>NA</td><td>NA</td><td>dns</td><td>1</td></tr>\n",
       "\t<tr><th scope=row>3</th><td>2014-09-02T18:36:48.000Z</td><td>fw74cspec</td><td>denied</td><td>udp</td><td>10.96.3.201</td><td>53</td><td>192.168.101.100</td><td>59533</td><td>dn74int00.statefarm.org.</td><td>NA</td><td>NA</td><td>dns</td><td>1</td></tr>\n",
       "\t<tr><th scope=row>4</th><td>2014-09-09T13:20:37.000Z</td><td>fw74cspec</td><td>denied</td><td>udp</td><td>10.96.3.201</td><td>53</td><td>192.168.101.100</td><td>55512</td><td>dn74int00.statefarm.org.</td><td>NA</td><td>NA</td><td>dns</td><td>1</td></tr>\n",
       "\t<tr><th scope=row>5</th><td>2014-09-09T12:49:07.000Z</td><td>fw74cspec</td><td>denied</td><td>udp</td><td>10.96.3.201</td><td>53</td><td>192.168.101.100</td><td>62625</td><td>dn74int00.statefarm.org.</td><td>NA</td><td>NA</td><td>dns</td><td>1</td></tr>\n",
       "\t<tr><th scope=row>6</th><td>2014-09-02T17:56:40.000Z</td><td>fw74cspec</td><td>denied</td><td>udp</td><td>10.96.3.201</td><td>53</td><td>192.168.101.100</td><td>64504</td><td>dn74int00.statefarm.org.</td><td>NA</td><td>NA</td><td>dns</td><td>1</td></tr>\n",
       "</tbody>\n",
       "</table>\n"
      ],
      "text/latex": [
       "\\begin{tabular}{r|lllllllllllll}\n",
       "  & C1 & C2 & C3 & C4 & C5 & C6 & C7 & C8 & C9 & C10 & C11 & C12 & C13\\\\\n",
       "\\hline\n",
       "\t1 & 2014-09-09T12:49:06.000Z & fw74cspec & denied & udp & 10.96.3.201 & 53 & 192.168.101.100 & 62625 & dn74int00.statefarm.org. & NA & NA & dns & 1\\\\\n",
       "\t2 & 2014-09-09T13:20:37.000Z & fw74cspec & denied & udp & 10.96.3.201 & 53 & 192.168.101.100 & 60362 & dn74int00.statefarm.org. & NA & NA & dns & 1\\\\\n",
       "\t3 & 2014-09-02T18:36:48.000Z & fw74cspec & denied & udp & 10.96.3.201 & 53 & 192.168.101.100 & 59533 & dn74int00.statefarm.org. & NA & NA & dns & 1\\\\\n",
       "\t4 & 2014-09-09T13:20:37.000Z & fw74cspec & denied & udp & 10.96.3.201 & 53 & 192.168.101.100 & 55512 & dn74int00.statefarm.org. & NA & NA & dns & 1\\\\\n",
       "\t5 & 2014-09-09T12:49:07.000Z & fw74cspec & denied & udp & 10.96.3.201 & 53 & 192.168.101.100 & 62625 & dn74int00.statefarm.org. & NA & NA & dns & 1\\\\\n",
       "\t6 & 2014-09-02T17:56:40.000Z & fw74cspec & denied & udp & 10.96.3.201 & 53 & 192.168.101.100 & 64504 & dn74int00.statefarm.org. & NA & NA & dns & 1\\\\\n",
       "\\end{tabular}\n"
      ],
      "text/plain": [
       "                        C1        C2     C3  C4          C5 C6              C7\n",
       "1 2014-09-09T12:49:06.000Z fw74cspec denied udp 10.96.3.201 53 192.168.101.100\n",
       "2 2014-09-09T13:20:37.000Z fw74cspec denied udp 10.96.3.201 53 192.168.101.100\n",
       "3 2014-09-02T18:36:48.000Z fw74cspec denied udp 10.96.3.201 53 192.168.101.100\n",
       "4 2014-09-09T13:20:37.000Z fw74cspec denied udp 10.96.3.201 53 192.168.101.100\n",
       "5 2014-09-09T12:49:07.000Z fw74cspec denied udp 10.96.3.201 53 192.168.101.100\n",
       "6 2014-09-02T17:56:40.000Z fw74cspec denied udp 10.96.3.201 53 192.168.101.100\n",
       "     C8                       C9 C10 C11 C12 C13\n",
       "1 62625 dn74int00.statefarm.org.  NA  NA dns   1\n",
       "2 60362 dn74int00.statefarm.org.  NA  NA dns   1\n",
       "3 59533 dn74int00.statefarm.org.  NA  NA dns   1\n",
       "4 55512 dn74int00.statefarm.org.  NA  NA dns   1\n",
       "5 62625 dn74int00.statefarm.org.  NA  NA dns   1\n",
       "6 64504 dn74int00.statefarm.org.  NA  NA dns   1"
      ]
     },
     "execution_count": 14,
     "metadata": {},
     "output_type": "execute_result"
    }
   ],
   "source": [
    "head(h2o_data)"
   ]
  },
  {
   "cell_type": "code",
   "execution_count": 15,
   "metadata": {
    "collapsed": false
   },
   "outputs": [
    {
     "data": {
      "text/html": [
       "<table>\n",
       "<thead><tr><th></th><th scope=col>tmStamp</th><th scope=col>firewall</th><th scope=col>action</th><th scope=col>protocol</th><th scope=col>sourceIP</th><th scope=col>sourcePort</th><th scope=col>destIP</th><th scope=col>destPort</th><th scope=col>hostName</th><th scope=col>city</th><th scope=col>country</th><th scope=col>compType</th><th scope=col>tenDot</th></tr></thead>\n",
       "<tbody>\n",
       "\t<tr><th scope=row>1</th><td>2014-09-09T12:49:06.000Z</td><td>fw74cspec</td><td>denied</td><td>udp</td><td>10.96.3.201</td><td>53</td><td>192.168.101.100</td><td>62625</td><td>dn74int00.statefarm.org.</td><td>NA</td><td>NA</td><td>dns</td><td>1</td></tr>\n",
       "\t<tr><th scope=row>2</th><td>2014-09-09T13:20:37.000Z</td><td>fw74cspec</td><td>denied</td><td>udp</td><td>10.96.3.201</td><td>53</td><td>192.168.101.100</td><td>60362</td><td>dn74int00.statefarm.org.</td><td>NA</td><td>NA</td><td>dns</td><td>1</td></tr>\n",
       "\t<tr><th scope=row>3</th><td>2014-09-02T18:36:48.000Z</td><td>fw74cspec</td><td>denied</td><td>udp</td><td>10.96.3.201</td><td>53</td><td>192.168.101.100</td><td>59533</td><td>dn74int00.statefarm.org.</td><td>NA</td><td>NA</td><td>dns</td><td>1</td></tr>\n",
       "\t<tr><th scope=row>4</th><td>2014-09-09T13:20:37.000Z</td><td>fw74cspec</td><td>denied</td><td>udp</td><td>10.96.3.201</td><td>53</td><td>192.168.101.100</td><td>55512</td><td>dn74int00.statefarm.org.</td><td>NA</td><td>NA</td><td>dns</td><td>1</td></tr>\n",
       "\t<tr><th scope=row>5</th><td>2014-09-09T12:49:07.000Z</td><td>fw74cspec</td><td>denied</td><td>udp</td><td>10.96.3.201</td><td>53</td><td>192.168.101.100</td><td>62625</td><td>dn74int00.statefarm.org.</td><td>NA</td><td>NA</td><td>dns</td><td>1</td></tr>\n",
       "\t<tr><th scope=row>6</th><td>2014-09-02T17:56:40.000Z</td><td>fw74cspec</td><td>denied</td><td>udp</td><td>10.96.3.201</td><td>53</td><td>192.168.101.100</td><td>64504</td><td>dn74int00.statefarm.org.</td><td>NA</td><td>NA</td><td>dns</td><td>1</td></tr>\n",
       "</tbody>\n",
       "</table>\n"
      ],
      "text/latex": [
       "\\begin{tabular}{r|lllllllllllll}\n",
       "  & tmStamp & firewall & action & protocol & sourceIP & sourcePort & destIP & destPort & hostName & city & country & compType & tenDot\\\\\n",
       "\\hline\n",
       "\t1 & 2014-09-09T12:49:06.000Z & fw74cspec & denied & udp & 10.96.3.201 & 53 & 192.168.101.100 & 62625 & dn74int00.statefarm.org. & NA & NA & dns & 1\\\\\n",
       "\t2 & 2014-09-09T13:20:37.000Z & fw74cspec & denied & udp & 10.96.3.201 & 53 & 192.168.101.100 & 60362 & dn74int00.statefarm.org. & NA & NA & dns & 1\\\\\n",
       "\t3 & 2014-09-02T18:36:48.000Z & fw74cspec & denied & udp & 10.96.3.201 & 53 & 192.168.101.100 & 59533 & dn74int00.statefarm.org. & NA & NA & dns & 1\\\\\n",
       "\t4 & 2014-09-09T13:20:37.000Z & fw74cspec & denied & udp & 10.96.3.201 & 53 & 192.168.101.100 & 55512 & dn74int00.statefarm.org. & NA & NA & dns & 1\\\\\n",
       "\t5 & 2014-09-09T12:49:07.000Z & fw74cspec & denied & udp & 10.96.3.201 & 53 & 192.168.101.100 & 62625 & dn74int00.statefarm.org. & NA & NA & dns & 1\\\\\n",
       "\t6 & 2014-09-02T17:56:40.000Z & fw74cspec & denied & udp & 10.96.3.201 & 53 & 192.168.101.100 & 64504 & dn74int00.statefarm.org. & NA & NA & dns & 1\\\\\n",
       "\\end{tabular}\n"
      ],
      "text/plain": [
       "                   tmStamp  firewall action protocol    sourceIP sourcePort\n",
       "1 2014-09-09T12:49:06.000Z fw74cspec denied      udp 10.96.3.201         53\n",
       "2 2014-09-09T13:20:37.000Z fw74cspec denied      udp 10.96.3.201         53\n",
       "3 2014-09-02T18:36:48.000Z fw74cspec denied      udp 10.96.3.201         53\n",
       "4 2014-09-09T13:20:37.000Z fw74cspec denied      udp 10.96.3.201         53\n",
       "5 2014-09-09T12:49:07.000Z fw74cspec denied      udp 10.96.3.201         53\n",
       "6 2014-09-02T17:56:40.000Z fw74cspec denied      udp 10.96.3.201         53\n",
       "           destIP destPort                 hostName city country compType\n",
       "1 192.168.101.100    62625 dn74int00.statefarm.org.   NA      NA      dns\n",
       "2 192.168.101.100    60362 dn74int00.statefarm.org.   NA      NA      dns\n",
       "3 192.168.101.100    59533 dn74int00.statefarm.org.   NA      NA      dns\n",
       "4 192.168.101.100    55512 dn74int00.statefarm.org.   NA      NA      dns\n",
       "5 192.168.101.100    62625 dn74int00.statefarm.org.   NA      NA      dns\n",
       "6 192.168.101.100    64504 dn74int00.statefarm.org.   NA      NA      dns\n",
       "  tenDot\n",
       "1      1\n",
       "2      1\n",
       "3      1\n",
       "4      1\n",
       "5      1\n",
       "6      1"
      ]
     },
     "execution_count": 15,
     "metadata": {},
     "output_type": "execute_result"
    }
   ],
   "source": [
    "col_names <- c('tmStamp'\n",
    "               ,'firewall'\n",
    "               ,'action'\n",
    "               ,'protocol'\n",
    "               ,'sourceIP'\n",
    "               ,'sourcePort'\n",
    "               ,'destIP'\n",
    "               ,'destPort'\n",
    "               ,'hostName'\n",
    "               ,'city'\n",
    "               ,'country'\n",
    "               ,'compType'\n",
    "               ,'tenDot')\n",
    "\n",
    "colnames(h2o_data) <- col_names \n",
    "\n",
    "head(h2o_data)"
   ]
  },
  {
   "cell_type": "code",
   "execution_count": 16,
   "metadata": {
    "collapsed": false
   },
   "outputs": [],
   "source": [
    "h2o.shutdown(my_h2o\n",
    "             ,prompt = F)"
   ]
  }
 ],
 "metadata": {
  "kernelspec": {
   "display_name": "R",
   "language": "R",
   "name": "ir"
  },
  "language_info": {
   "codemirror_mode": "r",
   "file_extension": ".r",
   "mimetype": "text/x-r-source",
   "name": "R",
   "pygments_lexer": "r",
   "version": "3.2.1"
  }
 },
 "nbformat": 4,
 "nbformat_minor": 0
}
