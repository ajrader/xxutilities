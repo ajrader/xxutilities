{
 "cells": [
  {
   "cell_type": "markdown",
   "metadata": {},
   "source": [
    "### PCADSS access from Python on Windows\n",
    "\n",
    "*Only works on Windows*"
   ]
  },
  {
   "cell_type": "markdown",
   "metadata": {},
   "source": [
    "Get temporary or permanent admin access (if you don't already have it) by filling out a workstation access form"
   ]
  },
  {
   "cell_type": "code",
   "execution_count": 1,
   "metadata": {
    "collapsed": true
   },
   "outputs": [],
   "source": [
    "!@Start iexplore \"http://notesforms002.opr.statefarm.org/sff/W0077874.nsf/docframeset?openform&sffviewcategory=http://notesforms001.opr.statefarm.org/sff/w0057840.nsf/Subject?SearchView&SearchWV=1&SearchOrder=4&Query=workstation access&parentunid=B9F74456B035682B86257ECB005C0D69\""
   ]
  },
  {
   "cell_type": "markdown",
   "metadata": {},
   "source": [
    "Install required programs. Althought the line below will work, you should fill out the [OLEX](https://olex-secure.openlogic.com/login) paperwork first. If it is your first time using OLEX, you would need to complete the open course located [here](http://sfld75sa12.opr.statefarm.org/Saba/Web/Main). Search for the Offering/Course ID: 3TR08794WB"
   ]
  },
  {
   "cell_type": "code",
   "execution_count": 1,
   "metadata": {
    "collapsed": false
   },
   "outputs": [],
   "source": [
    "!pyodbc-3.0.7.win-amd64-py2.7.exe"
   ]
  },
  {
   "cell_type": "markdown",
   "metadata": {},
   "source": [
    "Import pyodbc and pandas"
   ]
  },
  {
   "cell_type": "code",
   "execution_count": 2,
   "metadata": {
    "collapsed": true
   },
   "outputs": [],
   "source": [
    "import pyodbc\n",
    "import pandas as pd"
   ]
  },
  {
   "cell_type": "markdown",
   "metadata": {},
   "source": [
    "Make a connection to ACTDM4"
   ]
  },
  {
   "cell_type": "code",
   "execution_count": 3,
   "metadata": {
    "collapsed": true
   },
   "outputs": [],
   "source": [
    "con = pyodbc.connect(\"DSN=ACTDM4\")"
   ]
  },
  {
   "cell_type": "markdown",
   "metadata": {},
   "source": [
    "Write a SQL query"
   ]
  },
  {
   "cell_type": "code",
   "execution_count": 4,
   "metadata": {
    "collapsed": false
   },
   "outputs": [],
   "source": [
    "sql = \"\"\"SELECT case when HCODE='0108##' then 'HO-W' else 'MC' end,\n",
    "             U92.STATENAME_U(STATE),YEAR,Sum(WRITTEN_PREM) as WRITTEN_PREM\n",
    "           FROM V23.FIRE_PREM_V\n",
    "           WHERE HCODE='0108##' and STATE IN('07', '08') and YEAR = 2012\n",
    "           GROUP BY HCODE, STATE, YEAR\"\"\""
   ]
  },
  {
   "cell_type": "markdown",
   "metadata": {},
   "source": [
    "Use pandas to read the results of the query into a dataframe"
   ]
  },
  {
   "cell_type": "code",
   "execution_count": 5,
   "metadata": {
    "collapsed": false
   },
   "outputs": [
    {
     "data": {
      "text/html": [
       "<div>\n",
       "<table border=\"1\" class=\"dataframe\">\n",
       "  <thead>\n",
       "    <tr style=\"text-align: right;\">\n",
       "      <th></th>\n",
       "      <th>1</th>\n",
       "      <th>2</th>\n",
       "      <th>YEAR</th>\n",
       "      <th>WRITTEN_PREM</th>\n",
       "    </tr>\n",
       "  </thead>\n",
       "  <tbody>\n",
       "    <tr>\n",
       "      <th>0</th>\n",
       "      <td>HO-W</td>\n",
       "      <td>CONNECTICUT</td>\n",
       "      <td>2012</td>\n",
       "      <td>46688949.20</td>\n",
       "    </tr>\n",
       "    <tr>\n",
       "      <th>1</th>\n",
       "      <td>HO-W</td>\n",
       "      <td>DELAWARE</td>\n",
       "      <td>2012</td>\n",
       "      <td>44066025.43</td>\n",
       "    </tr>\n",
       "  </tbody>\n",
       "</table>\n",
       "</div>"
      ],
      "text/plain": [
       "      1            2  YEAR  WRITTEN_PREM\n",
       "0  HO-W  CONNECTICUT  2012   46688949.20\n",
       "1  HO-W     DELAWARE  2012   44066025.43"
      ]
     },
     "execution_count": 5,
     "metadata": {},
     "output_type": "execute_result"
    }
   ],
   "source": [
    "data = pd.read_sql_query(sql, con)\n",
    "data"
   ]
  },
  {
   "cell_type": "markdown",
   "metadata": {},
   "source": [
    "Optionally, write more queries"
   ]
  },
  {
   "cell_type": "code",
   "execution_count": 6,
   "metadata": {
    "collapsed": false
   },
   "outputs": [
    {
     "data": {
      "text/html": [
       "<div>\n",
       "<table border=\"1\" class=\"dataframe\">\n",
       "  <thead>\n",
       "    <tr style=\"text-align: right;\">\n",
       "      <th></th>\n",
       "      <th>1</th>\n",
       "      <th>2</th>\n",
       "      <th>YEAR</th>\n",
       "      <th>WRITTEN_PREM</th>\n",
       "    </tr>\n",
       "  </thead>\n",
       "  <tbody>\n",
       "    <tr>\n",
       "      <th>0</th>\n",
       "      <td>HO-W</td>\n",
       "      <td>DELAWARE</td>\n",
       "      <td>2014</td>\n",
       "      <td>46795593.41</td>\n",
       "    </tr>\n",
       "    <tr>\n",
       "      <th>1</th>\n",
       "      <td>HO-W</td>\n",
       "      <td>CONNECTICUT</td>\n",
       "      <td>2014</td>\n",
       "      <td>53827157.31</td>\n",
       "    </tr>\n",
       "  </tbody>\n",
       "</table>\n",
       "</div>"
      ],
      "text/plain": [
       "      1            2  YEAR  WRITTEN_PREM\n",
       "0  HO-W     DELAWARE  2014   46795593.41\n",
       "1  HO-W  CONNECTICUT  2014   53827157.31"
      ]
     },
     "execution_count": 6,
     "metadata": {},
     "output_type": "execute_result"
    }
   ],
   "source": [
    "new_sql = \"\"\"SELECT case when HCODE='0108##' then 'HO-W' else 'MC' end,\n",
    "                U92.STATENAME_U(STATE),YEAR,Sum(WRITTEN_PREM) as WRITTEN_PREM\n",
    "             FROM V23.FIRE_PREM_V\n",
    "             WHERE HCODE='0108##' and STATE IN('07', '08') and YEAR = 2014\n",
    "             GROUP BY HCODE, STATE, YEAR\"\"\"\n",
    "\n",
    "new_data = pd.read_sql_query(new_sql, con)\n",
    "new_data"
   ]
  },
  {
   "cell_type": "code",
   "execution_count": 7,
   "metadata": {
    "collapsed": false
   },
   "outputs": [
    {
     "data": {
      "text/plain": [
       "'3.0.7'"
      ]
     },
     "execution_count": 7,
     "metadata": {},
     "output_type": "execute_result"
    }
   ],
   "source": [
    "pyodbc.version"
   ]
  },
  {
   "cell_type": "code",
   "execution_count": null,
   "metadata": {
    "collapsed": true
   },
   "outputs": [],
   "source": []
  }
 ],
 "metadata": {
  "kernelspec": {
   "display_name": "Python 2",
   "language": "python",
   "name": "python2"
  },
  "language_info": {
   "codemirror_mode": {
    "name": "ipython",
    "version": 2
   },
   "file_extension": ".py",
   "mimetype": "text/x-python",
   "name": "python",
   "nbconvert_exporter": "python",
   "pygments_lexer": "ipython2",
   "version": "2.7.9"
  }
 },
 "nbformat": 4,
 "nbformat_minor": 0
}
