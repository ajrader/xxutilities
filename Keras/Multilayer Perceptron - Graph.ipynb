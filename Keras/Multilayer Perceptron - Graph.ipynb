{
 "cells": [
  {
   "cell_type": "markdown",
   "metadata": {},
   "source": [
    "<h2> Multi-layer Perceptron using Graph Model in Keras</h2>\n",
    "<p>Train a simple deep NN on the MNIST dataset. Get to 98.40% test accuracy after 20 epochs (there is *a lot* of margin for parameter tuning). 2 seconds per epoch on a K520 GPU.</p>\n",
    "\n",
    "<p>\n",
    "For this tutorial, a multilayer perceptron (MLP) is built using Keras. It is trained and tested using the MNIST handwritten digits dataset. The MLP consists of two hidden, fully connected layers, and an output layer using softmax to determine probability of each class (0-9).\n",
    "</p>\n",
    "<p>\n",
    "This example builds a MLP using a Graph model rather than a Sequential model.\n",
    "</p>"
   ]
  },
  {
   "cell_type": "code",
   "execution_count": 1,
   "metadata": {
    "collapsed": true
   },
   "outputs": [],
   "source": [
    "from __future__ import print_function\n",
    "import numpy as np"
   ]
  },
  {
   "cell_type": "code",
   "execution_count": 2,
   "metadata": {
    "collapsed": true
   },
   "outputs": [],
   "source": [
    "np.random.seed(1337)  # for reproducibility"
   ]
  },
  {
   "cell_type": "code",
   "execution_count": 3,
   "metadata": {
    "collapsed": false
   },
   "outputs": [
    {
     "name": "stdout",
     "output_type": "stream",
     "text": [
      "Using Theano backend.\n"
     ]
    }
   ],
   "source": [
    "from keras.datasets import mnist\n",
    "from keras.models import Graph\n",
    "from keras.layers.core import Dense, Dropout, Activation\n",
    "from keras.optimizers import SGD, Adam, RMSprop\n",
    "from keras.utils import np_utils"
   ]
  },
  {
   "cell_type": "code",
   "execution_count": 4,
   "metadata": {
    "collapsed": true
   },
   "outputs": [],
   "source": [
    "# Batch size for stochastic gradient descent; e.g. number of samples per run\n",
    "batch_size = 128\n",
    "# Output number of classes. MNIST has 10 possible classes: [0, 1, 2, 3, 4, 5, 6, 7, 8, 9]\n",
    "nb_classes = 10\n",
    "# Number of iterations over the entire dataset when training\n",
    "nb_epoch = 20"
   ]
  },
  {
   "cell_type": "code",
   "execution_count": 5,
   "metadata": {
    "collapsed": true
   },
   "outputs": [],
   "source": [
    "# the data, shuffled and split between tran and test sets\n",
    "(X_train, y_train), (X_test, y_test) = mnist.load_data()"
   ]
  },
  {
   "cell_type": "code",
   "execution_count": 6,
   "metadata": {
    "collapsed": false
   },
   "outputs": [
    {
     "name": "stdout",
     "output_type": "stream",
     "text": [
      "X_train shape: (60000, 28, 28)\n"
     ]
    }
   ],
   "source": [
    "print('X_train shape:', X_train.shape)"
   ]
  },
  {
   "cell_type": "code",
   "execution_count": 7,
   "metadata": {
    "collapsed": false
   },
   "outputs": [
    {
     "name": "stdout",
     "output_type": "stream",
     "text": [
      "X_train shape: (60000, 784)\n",
      "60000 train samples\n",
      "10000 test samples\n"
     ]
    }
   ],
   "source": [
    "# Reshape the datasets, flatten each image as a single dimensional vector\n",
    "X_train = X_train.reshape(60000, 784)\n",
    "X_test = X_test.reshape(10000, 784)\n",
    "X_train = X_train.astype('float32')\n",
    "X_test = X_test.astype('float32')\n",
    "# Normalize the training set to a value between 0 and 1\n",
    "X_train /= 255\n",
    "X_test /= 255\n",
    "print('X_train shape:', X_train.shape)\n",
    "print(X_train.shape[0], 'train samples')\n",
    "print(X_test.shape[0], 'test samples')"
   ]
  },
  {
   "cell_type": "code",
   "execution_count": 8,
   "metadata": {
    "collapsed": true
   },
   "outputs": [],
   "source": [
    "# convert class vectors to binary class matrices\n",
    "Y_train = np_utils.to_categorical(y_train, nb_classes)\n",
    "Y_test = np_utils.to_categorical(y_test, nb_classes)"
   ]
  },
  {
   "cell_type": "code",
   "execution_count": 9,
   "metadata": {
    "collapsed": false
   },
   "outputs": [],
   "source": [
    "# Initialize the graph model\n",
    "model = Graph()\n",
    "\n",
    "# Input layer is flattened image input, 32 x 32 image = 784\n",
    "model.add_input(name='input', input_shape=(784,))\n",
    "# Add the first hidden layer, Dense is fully connected, input is vector of size 784, and number of hidden nodes is 512\n",
    "# The number of hidden nodes is a hyperparameter to explore when testing various models\n",
    "model.add_node(Dense(512), name='hidden1', input='input')\n",
    "# For each node, sum the input x weights, and run Rectified Linear Unit (ReLu) activation function. Can also use\n",
    "# tanh, sigmoid, softplus, relu, hard_sigmoid, linear. The softmax activation is also available, but only makes sense\n",
    "# to use this activation for output, as this is probability of classification.\n",
    "model.add_node(Activation('relu'), name='activation1', input='hidden1')\n",
    "# Dropout is used as a percentage of inputs to exclude during backpropagation, gradient updates. Here, 20% of the\n",
    "# input units are \"dropped\" and not updated during backprop. This is to help prevent overfitting.\n",
    "model.add_node(Dropout(0.2), name='dropout1', input='activation1')\n",
    "# A second hidden layer, with the 512 outputs of the first hidden layer as the input to this layer. Also has 512 nodes\n",
    "model.add_node(Dense(512), name='hidden2', input='dropout1')\n",
    "# Activation function for hidden layer 2\n",
    "model.add_node(Activation('relu'), name='activation2', input='hidden2')\n",
    "# Dropout percentage for hidden layer 2\n",
    "model.add_node(Dropout(0.2), name='dropout2', input='activation2')\n",
    "# Output layer, fully connected to 10 nodes, for each possible class (0-9)\n",
    "model.add_node(Dense(10), name='output', input='activation2')\n",
    "# Softmax is an activation function that converts the values to a probability for that particular class. \n",
    "# A generalization of the logistic function \n",
    "model.add_node(Activation('softmax'), name='softmax', input='output')\n",
    "# Add model output\n",
    "model.add_output(name='outputActivation', input='softmax')"
   ]
  },
  {
   "cell_type": "code",
   "execution_count": 10,
   "metadata": {
    "collapsed": true
   },
   "outputs": [],
   "source": [
    "# Compile the model, using the RMSprop optimizer, and a the categorical cross entropy loss function.\n",
    "\n",
    "# RMSprop is a variant of stochastic gradient descent. Uses a mini-batch processing and keeps a running \n",
    "# average of previous gradients to normalize the gradients\n",
    "# Many additional optimizers available, including ability to build/write custom optimizers\n",
    "\n",
    "# Categorical_crossentropy is used with softmax to determine the N-category cross entropy of the predicted vs. \n",
    "# target variable category. Also known as multiclass logloss.\n",
    "# Many additional loss functions are available, including mean_squared_error / mse, root_mean_squared_error / rmse\n",
    "#mean_absolute_error / mae, mean_absolute_percentage_error / mape, mean_squared_logarithmic_error / msle, squared_hinge\n",
    "# hinge, binary_crossentropy: Also known as logloss., categorical_crossentropy\n",
    "model.compile(optimizer = 'rmsprop', loss = {'outputActivation':'categorical_crossentropy'})"
   ]
  },
  {
   "cell_type": "code",
   "execution_count": 18,
   "metadata": {
    "collapsed": false,
    "scrolled": true
   },
   "outputs": [
    {
     "name": "stdout",
     "output_type": "stream",
     "text": [
      "Train on 60000 samples, validate on 10000 samples\n",
      "Epoch 1/20\n",
      "60000/60000 [==============================] - 74s - loss: 0.2661 - val_loss: 0.1073\n",
      "Epoch 2/20\n",
      "60000/60000 [==============================] - 73s - loss: 0.1058 - val_loss: 0.0953\n",
      "Epoch 3/20\n",
      "60000/60000 [==============================] - 73s - loss: 0.0763 - val_loss: 0.0722\n",
      "Epoch 4/20\n",
      "60000/60000 [==============================] - 73s - loss: 0.0574 - val_loss: 0.0603\n",
      "Epoch 5/20\n",
      "60000/60000 [==============================] - 73s - loss: 0.0465 - val_loss: 0.0688\n",
      "Epoch 6/20\n",
      "60000/60000 [==============================] - 72s - loss: 0.0375 - val_loss: 0.0630\n",
      "Epoch 7/20\n",
      "60000/60000 [==============================] - 72s - loss: 0.0309 - val_loss: 0.0615\n",
      "Epoch 8/20\n",
      "60000/60000 [==============================] - 73s - loss: 0.0267 - val_loss: 0.0676\n",
      "Epoch 9/20\n",
      "60000/60000 [==============================] - 72s - loss: 0.0215 - val_loss: 0.0756\n",
      "Epoch 10/20\n",
      "60000/60000 [==============================] - 73s - loss: 0.0186 - val_loss: 0.0619\n",
      "Epoch 11/20\n",
      "60000/60000 [==============================] - 73s - loss: 0.0158 - val_loss: 0.0619\n",
      "Epoch 12/20\n",
      "60000/60000 [==============================] - 73s - loss: 0.0140 - val_loss: 0.0745\n",
      "Epoch 13/20\n",
      "60000/60000 [==============================] - 73s - loss: 0.0147 - val_loss: 0.0598\n",
      "Epoch 14/20\n",
      "60000/60000 [==============================] - 73s - loss: 0.0122 - val_loss: 0.0647\n",
      "Epoch 15/20\n",
      "60000/60000 [==============================] - 72s - loss: 0.0102 - val_loss: 0.0655\n",
      "Epoch 16/20\n",
      "60000/60000 [==============================] - 72s - loss: 0.0091 - val_loss: 0.0660\n",
      "Epoch 17/20\n",
      "60000/60000 [==============================] - 72s - loss: 0.0084 - val_loss: 0.0703\n",
      "Epoch 18/20\n",
      "60000/60000 [==============================] - 73s - loss: 0.0076 - val_loss: 0.0761\n",
      "Epoch 19/20\n",
      "60000/60000 [==============================] - 103s - loss: 0.0060 - val_loss: 0.0639\n",
      "Epoch 20/20\n",
      "60000/60000 [==============================] - 96s - loss: 0.0060 - val_loss: 0.0687\n"
     ]
    }
   ],
   "source": [
    "# Begin Training the model\n",
    "#\n",
    "# Pass the training set: input and targets\n",
    "# batch_size: size of the mini batch, or number of samples to run at once, including gradient updates, \n",
    "# rather than run the entire dataset\n",
    "# nb_epoch: number of epochs or iterations over the entire dataset\n",
    "# show_accuracy: whether or not to display the accuracy for each epoch while training\n",
    "# verbose: how much detail to display, 0 - No output, 1 - More detail, 2 - Less detail\n",
    "# validation_data: Dataset the model is validated against, the output displays the loss and accuracy \n",
    "# of the validation set\n",
    "#\n",
    "# The loss function should be minimized. Accuracy is a percentage, e.g. ~1.0 yields 100% accuracy\n",
    "#model.fit(X_train, Y_train, batch_size=batch_size, nb_epoch=nb_epoch, show_accuracy=True, verbose=1,\n",
    "#          validation_data=(X_test, Y_test))\n",
    "history = model.fit({'input':X_train, 'outputActivation':Y_train}, nb_epoch=20, batch_size=batch_size, verbose=1, \n",
    "                    validation_data=({'input':X_test, 'outputActivation':Y_test}))"
   ]
  },
  {
   "cell_type": "code",
   "execution_count": 22,
   "metadata": {
    "collapsed": false
   },
   "outputs": [
    {
     "name": "stdout",
     "output_type": "stream",
     "text": [
      "10000/10000 [==============================] - 2s     \n"
     ]
    }
   ],
   "source": [
    "# Run the trained model on the test set. For this example, the test and validation sets are the same. This function\n",
    "# is useful for running the model on a new dataset not previously seen. \n",
    "score = model.evaluate({'input': X_test, 'outputActivation': Y_test}, batch_size=batch_size, verbose=1)"
   ]
  },
  {
   "cell_type": "code",
   "execution_count": 20,
   "metadata": {
    "collapsed": false
   },
   "outputs": [
    {
     "name": "stdout",
     "output_type": "stream",
     "text": [
      "10000/10000 [==============================] - 4s     \n"
     ]
    }
   ],
   "source": [
    "# Graph model does not have an accuracy. Here, we calculate it outselves\n",
    "prediction = model.predict({'input': X_test}, batch_size=batch_size, verbose=1)\n",
    "#Calculate the abs of the differences between the predicted value and the target value. Sum all the errors, divided by\n",
    "# number of samples to get the percent of error. Accuracy is 1 - percent error.\n",
    "accuracy = 1 - np.sum(np.abs(prediction['outputActivation'] - Y_test)) / len(Y_test)"
   ]
  },
  {
   "cell_type": "code",
   "execution_count": 21,
   "metadata": {
    "collapsed": false
   },
   "outputs": [
    {
     "name": "stdout",
     "output_type": "stream",
     "text": [
      "Test score: 0.0686793830555\n",
      "Test accuracy: 0.966869349692\n"
     ]
    }
   ],
   "source": [
    "# print the categorical_crossentropy value of model run on the test set\n",
    "print('Test score:', score)\n",
    "# print the accuracy of the model run on the test set\n",
    "print('Test accuracy:', accuracy)"
   ]
  },
  {
   "cell_type": "code",
   "execution_count": null,
   "metadata": {
    "collapsed": true
   },
   "outputs": [],
   "source": []
  }
 ],
 "metadata": {
  "kernelspec": {
   "display_name": "Python 2",
   "language": "python",
   "name": "python2"
  },
  "language_info": {
   "codemirror_mode": {
    "name": "ipython",
    "version": 2
   },
   "file_extension": ".py",
   "mimetype": "text/x-python",
   "name": "python",
   "nbconvert_exporter": "python",
   "pygments_lexer": "ipython2",
   "version": "2.7.10"
  }
 },
 "nbformat": 4,
 "nbformat_minor": 0
}
